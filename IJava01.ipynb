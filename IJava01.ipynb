{
  "cells": [
    {
      "cell_type": "code",
      "execution_count": null,
      "id": "5c945a4b",
      "metadata": {
        "id": "5c945a4b",
        "outputId": "f3edf66f-5ab5-4854-82aa-e229990f4d4d"
      },
      "outputs": [
        {
          "data": {
            "text/plain": [
              "{'nbformat': 4,\n",
              " 'nbformat_minor': 0,\n",
              " 'metadata': {'colab': {'name': 'blank_notebook_with_java_kernel.ipynb',\n",
              "   'provenance': []},\n",
              "  'kernelspec': {'name': 'java', 'display_name': 'java'},\n",
              "  'language_info': {'name': 'java'}},\n",
              " 'cells': []}"
            ]
          },
          "execution_count": 1,
          "metadata": {},
          "output_type": "execute_result"
        }
      ],
      "source": [
        "{\n",
        "  \"nbformat\": 4,\n",
        "  \"nbformat_minor\": 0,\n",
        "  \"metadata\": {\n",
        "    \"colab\": {\n",
        "      \"name\": \"blank_notebook_with_java_kernel.ipynb\",\n",
        "      \"provenance\": []\n",
        "    },\n",
        "    \"kernelspec\": {\n",
        "      \"name\": \"java\",\n",
        "      \"display_name\": \"java\"\n",
        "    },\n",
        "    \"language_info\": {\n",
        "      \"name\": \"java\"\n",
        "    }\n",
        "  },\n",
        "  \"cells\": [\n",
        " \n",
        "  ]\n",
        "}"
      ]
    },
    {
      "cell_type": "code",
      "execution_count": null,
      "id": "135a90de",
      "metadata": {
        "id": "135a90de"
      },
      "outputs": [],
      "source": []
    }
  ],
  "metadata": {
    "kernelspec": {
      "display_name": "Python 3",
      "language": "python",
      "name": "python3"
    },
    "language_info": {
      "codemirror_mode": {
        "name": "ipython",
        "version": 3
      },
      "file_extension": ".py",
      "mimetype": "text/x-python",
      "name": "python",
      "nbconvert_exporter": "python",
      "pygments_lexer": "ipython3",
      "version": "3.8.8"
    },
    "colab": {
      "provenance": []
    }
  },
  "nbformat": 4,
  "nbformat_minor": 5
}