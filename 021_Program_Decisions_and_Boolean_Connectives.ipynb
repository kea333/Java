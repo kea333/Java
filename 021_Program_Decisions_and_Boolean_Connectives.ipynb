{
  "cells": [
    {
      "cell_type": "markdown",
      "id": "34f9386e-8f7f-425c-947c-493851b4603e",
      "metadata": {
        "id": "34f9386e-8f7f-425c-947c-493851b4603e"
      },
      "source": [
        "21.\n",
        "# Program Decisions and Boolean Connectives\n",
        "\n",
        "Boolean connectives refer to programming **_logical OR, logical NOT_**, and **_logical AND_**.\n",
        "Considering the exercises in Lesson 20, _if_ statements can be very long-winded depending on the task at hand. To save ourselves time and effort, as well as make programs simpler and execute faster, we can use slightly more complicated tests that use the **logical connective OR**.\n",
        "\n",
        "The OR operator is written:"
      ]
    },
    {
      "cell_type": "code",
      "execution_count": null,
      "id": "58b098c3-d148-4da1-914c-552e55547836",
      "metadata": {
        "id": "58b098c3-d148-4da1-914c-552e55547836",
        "outputId": "15f66ad2-1211-445d-8b47-d4efbc2feb83"
      },
      "outputs": [
        {
          "name": "stdout",
          "output_type": "stream",
          "text": [
            "Name a movie\n"
          ]
        },
        {
          "name": "stdin",
          "output_type": "stream",
          "text": [
            " Spiderman\n"
          ]
        },
        {
          "name": "stdout",
          "output_type": "stream",
          "text": [
            "That is a Superhero film\n",
            "Name a movie\n"
          ]
        },
        {
          "name": "stdin",
          "output_type": "stream",
          "text": [
            " Batman\n"
          ]
        },
        {
          "name": "stdout",
          "output_type": "stream",
          "text": [
            "That is a Superhero film\n",
            "Name a movie\n"
          ]
        },
        {
          "name": "stdin",
          "output_type": "stream",
          "text": [
            " Crimson Tide\n"
          ]
        },
        {
          "name": "stdout",
          "output_type": "stream",
          "text": [
            "That is not a superhero film\n"
          ]
        }
      ],
      "source": [
        "/* State what kind of movie a particular film is */\n",
        "\n",
        "public static String inputString (String message)\n",
        "{\n",
        "       Scanner scanner = new Scanner(System.in);\n",
        "       String answer;\n",
        "\n",
        "       System.out.println(message);\n",
        "       answer = scanner.nextLine();\n",
        "   \n",
        "       return answer;\n",
        "}\n",
        "\n",
        "\n",
        "public static void kindOfMovie ()\n",
        "{\n",
        "    String movie = inputString(\"Name a movie\");\n",
        "         \n",
        "    if ( movie.equals(\"Spiderman\") | movie.equals(\"Batman\") )\n",
        "    {\n",
        "        System.out.println(\"That is a Superhero film\");        \n",
        "    }   \n",
        "    else\n",
        "    {\n",
        "        System.out.println(\"That is not a superhero film\");        \n",
        "    }     \n",
        "}\n",
        "\n",
        "kindOfMovie();\n",
        "kindOfMovie();\n",
        "kindOfMovie();"
      ]
    },
    {
      "cell_type": "markdown",
      "id": "054d7361-c227-4590-a70f-8631a1f65780",
      "metadata": {
        "id": "054d7361-c227-4590-a70f-8631a1f65780"
      },
      "source": [
        "**\n",
        "\n",
        "Note that for a simple program like this, multiple calls within the same program fragment enables multiple iterations and hence multiple decisions to be made.\n",
        "\n",
        "The mathematical OR represented by a vertical bar (|) means the same in JAVA and in most programming languages. It can be used to combine two complete boolean expressions to make a new boolean expression. We can chain lots of them together, just as a series of + signs ```a + b + c + d``` to add lots of things, we can write a series of OR symbols for OR lots of tests.\n",
        "```java\n",
        "test1 | test2 | test3 | test4\n",
        "```\n",
        "\n",
        "The NOT operator is written:"
      ]
    },
    {
      "cell_type": "code",
      "execution_count": null,
      "id": "3b37270e-f123-4ee4-bfdb-4d1eefc22144",
      "metadata": {
        "id": "3b37270e-f123-4ee4-bfdb-4d1eefc22144",
        "outputId": "1b8e0e3a-f353-4bac-d859-fe3fda7c1b72"
      },
      "outputs": [
        {
          "name": "stdout",
          "output_type": "stream",
          "text": [
            "It was Cairo\n"
          ]
        }
      ],
      "source": [
        "/* Demonstrating NOT connective */\n",
        "\n",
        "String city = \"Cairo\";\n",
        "       \n",
        "if (! city.equals(\"Cairo\") )\n",
        "{\n",
        "    System.out.println(\"It was NOT Cairo\");        \n",
        "}   \n",
        "else\n",
        "{\n",
        "    System.out.println(\"It was Cairo\");\n",
        "} "
      ]
    },
    {
      "cell_type": "markdown",
      "id": "19ab2ec9-9585-4a0e-96dd-dd366acf3011",
      "metadata": {
        "id": "19ab2ec9-9585-4a0e-96dd-dd366acf3011"
      },
      "source": [
        "An exclamation mark (!) is used to mean NOT in Java.\n",
        "Here it means if the city is NOT equal to Cairo then, take the first branch, otherwise take the second.\n",
        "! negates whichever statement/expression it is put in front of. "
      ]
    },
    {
      "cell_type": "code",
      "execution_count": null,
      "id": "702ad421-a22d-43f6-9876-bc4bdbbfd7e2",
      "metadata": {
        "id": "702ad421-a22d-43f6-9876-bc4bdbbfd7e2",
        "outputId": "bd2fc751-0501-44f3-9e4c-4eabc7f4f3a4"
      },
      "outputs": [
        {
          "name": "stdout",
          "output_type": "stream",
          "text": [
            "It was NOT Cairo\n"
          ]
        }
      ],
      "source": [
        "/* Demonstrating NOT connective */\n",
        "\n",
        "String city = \"Sydney\";\n",
        "       \n",
        "if (! city.equals(\"Cairo\") )\n",
        "{\n",
        "    System.out.println(\"It was NOT Cairo\");        \n",
        "}   \n",
        "else\n",
        "{\n",
        "    System.out.println(\"It was Cairo\");\n",
        "} "
      ]
    },
    {
      "cell_type": "code",
      "execution_count": null,
      "id": "474d7b66-9815-402c-8d8e-57cb8603ff83",
      "metadata": {
        "id": "474d7b66-9815-402c-8d8e-57cb8603ff83",
        "outputId": "0738fe0f-7497-4ee6-9b49-fc70cc306253"
      },
      "outputs": [
        {
          "name": "stdout",
          "output_type": "stream",
          "text": [
            "Which city is Clary in?\n"
          ]
        },
        {
          "name": "stdin",
          "output_type": "stream",
          "text": [
            " Reykjavík\n"
          ]
        },
        {
          "name": "stdout",
          "output_type": "stream",
          "text": [
            "Which city is Tessa in?\n"
          ]
        },
        {
          "name": "stdin",
          "output_type": "stream",
          "text": [
            " Reykjavík\n"
          ]
        },
        {
          "name": "stdout",
          "output_type": "stream",
          "text": [
            "Tessa and Clary are in the same place.\n"
          ]
        }
      ],
      "source": [
        "/* Comparing two cities to see if they are the same using ! (NOT) */\n",
        "\n",
        "public static String inputString (String message)\n",
        "{\n",
        "       Scanner scanner = new Scanner(System.in);\n",
        "       String answer;\n",
        "\n",
        "       System.out.println(message);\n",
        "       answer = scanner.nextLine();\n",
        "   \n",
        "       return answer;\n",
        "}\n",
        "\n",
        "public static void compareCities6 ()\n",
        "{\n",
        "    String city1 = inputString(\"Which city is Clary in?\");\n",
        "    String city2 = inputString(\"Which city is Tessa in?\"); \n",
        "    \n",
        "    if (! city1.equals(city2))\n",
        "    {\n",
        "        System.out.println(\"Tessa and Clary are in different places.\");        \n",
        "    }   \n",
        "    else\n",
        "    {\n",
        "        System.out.println(\"Tessa and Clary are in the same place.\");\n",
        "    } \n",
        "    \n",
        "}\n",
        "\n",
        "compareCities6();"
      ]
    },
    {
      "cell_type": "markdown",
      "id": "6333beed-85e8-4411-bceb-f9b0879b35c3",
      "metadata": {
        "id": "6333beed-85e8-4411-bceb-f9b0879b35c3"
      },
      "source": [
        "***\n",
        "The third important logical connective is AND. It is used when we want to go down a branch if two (or more) connected expressions are true. The symbol for AND is \n",
        "``` & ```\n",
        "It does this by combining two (or more) separate tests. Only of both (or all) are true is the whole true."
      ]
    },
    {
      "cell_type": "code",
      "execution_count": null,
      "id": "ebd8e3fb-c9d4-4081-89c0-4a3262b1e8cb",
      "metadata": {
        "id": "ebd8e3fb-c9d4-4081-89c0-4a3262b1e8cb",
        "outputId": "f4670049-e374-4471-eb0b-41e119cf751d"
      },
      "outputs": [
        {
          "name": "stdout",
          "output_type": "stream",
          "text": [
            "What is your favourite music?\n"
          ]
        },
        {
          "name": "stdin",
          "output_type": "stream",
          "text": [
            " classical\n"
          ]
        },
        {
          "name": "stdout",
          "output_type": "stream",
          "text": [
            "Which is your favourite film genre?\n"
          ]
        },
        {
          "name": "stdin",
          "output_type": "stream",
          "text": [
            " sci-fi\n"
          ]
        },
        {
          "name": "stdout",
          "output_type": "stream",
          "text": [
            "We are NOT compatible!\n"
          ]
        }
      ],
      "source": [
        "/* Demonstrating AND connective */\n",
        "\n",
        "public static String inputString (String message)\n",
        "{\n",
        "       Scanner scanner = new Scanner(System.in);\n",
        "       String answer;\n",
        "\n",
        "       System.out.println(message);\n",
        "       answer = scanner.nextLine();\n",
        "   \n",
        "       return answer;\n",
        "}\n",
        "\n",
        "public static void areWeCompatible7 ()\n",
        "{\n",
        "    String music = inputString(\"What is your favourite music?\");\n",
        "    String films = inputString(\"Which is your favourite film genre?\"); \n",
        "    \n",
        "    if ( music.equals(\"Rock\") & films.equals(\"Horror\") )\n",
        "    {\n",
        "        System.out.println(\"We are totally compatible!\");        \n",
        "    }   \n",
        "    else\n",
        "    {\n",
        "        System.out.println(\"We are NOT compatible!\");\n",
        "    } \n",
        "    \n",
        "}\n",
        "\n",
        "areWeCompatible7();"
      ]
    },
    {
      "cell_type": "code",
      "execution_count": null,
      "id": "79eaec74-6e1e-4c57-aa0b-4d559c270e5f",
      "metadata": {
        "id": "79eaec74-6e1e-4c57-aa0b-4d559c270e5f",
        "outputId": "4ccd173c-8f48-4bee-c693-1d6153241215"
      },
      "outputs": [
        {
          "name": "stdout",
          "output_type": "stream",
          "text": [
            "What is your favourite music?\n"
          ]
        },
        {
          "name": "stdin",
          "output_type": "stream",
          "text": [
            " classical\n"
          ]
        },
        {
          "name": "stdout",
          "output_type": "stream",
          "text": [
            "Which is your favourite film genre?\n"
          ]
        },
        {
          "name": "stdin",
          "output_type": "stream",
          "text": [
            " sci-fi\n"
          ]
        },
        {
          "name": "stdout",
          "output_type": "stream",
          "text": [
            "What is your favourite sport?\n"
          ]
        },
        {
          "name": "stdin",
          "output_type": "stream",
          "text": [
            " basketball\n"
          ]
        },
        {
          "name": "stdout",
          "output_type": "stream",
          "text": [
            "We are NOT compatible!\n"
          ]
        }
      ],
      "source": [
        "/* Comparing music, film and sport to see if they are the same using & (AND) */\n",
        "\n",
        "public static String inputString (String message)\n",
        "{\n",
        "       Scanner scanner = new Scanner(System.in);\n",
        "       String answer;\n",
        "\n",
        "       System.out.println(message);\n",
        "       answer = scanner.nextLine();\n",
        "   \n",
        "       return answer;\n",
        "}\n",
        "\n",
        "public static void areWeCompatible8 ()\n",
        "{\n",
        "    String music = inputString(\"What is your favourite music?\");\n",
        "    String films = inputString(\"Which is your favourite film genre?\");\n",
        "    String sport = inputString(\"What is your favourite sport?\");\n",
        "    \n",
        "    if ( music.equals(\"Rock\") & films.equals(\"Horror\") & sport.equals(\"Tennis\"))\n",
        "    {\n",
        "        System.out.println(\"We are totally compatible!\");        \n",
        "    }   \n",
        "    else\n",
        "    {\n",
        "        System.out.println(\"We are NOT compatible!\");\n",
        "    } \n",
        "    \n",
        "}\n",
        "\n",
        "areWeCompatible8();"
      ]
    },
    {
      "cell_type": "markdown",
      "id": "06efecd3-f78c-4a4f-9906-bdfecf0fd84d",
      "metadata": {
        "id": "06efecd3-f78c-4a4f-9906-bdfecf0fd84d"
      },
      "source": [
        "We can combine logical connectives in arbitrary ways to do complex but precise tests.\n",
        "\n",
        "### **Summary** ###\n",
        "There are three main logical connectives:\n",
        "\n",
        "OR (written | ),<br>\n",
        "NOT (written ! ), and<br>\n",
        "AND (written & ).\n",
        "\n",
        "They can be used in the tests of if statements (and any other place we can write boolean expressions). They take boolean expressions and give a transformed boolean expression.\n",
        "\n",
        "Given two tests, the OP of those tests is true if at least one is.\n",
        "\n",
        "If the original test was true, NOT of that test is false, and vice versa.\n",
        "\n",
        "Given two tests, the AND of those tests is true only if both are.\n",
        "\n"
      ]
    },
    {
      "cell_type": "code",
      "execution_count": null,
      "id": "3f1b5f62-e6dd-43bd-a5db-20bad040d94f",
      "metadata": {
        "id": "3f1b5f62-e6dd-43bd-a5db-20bad040d94f"
      },
      "outputs": [],
      "source": []
    }
  ],
  "metadata": {
    "kernelspec": {
      "display_name": "Java",
      "language": "java",
      "name": "java"
    },
    "language_info": {
      "codemirror_mode": "java",
      "file_extension": ".jshell",
      "mimetype": "text/x-java-source",
      "name": "Java",
      "pygments_lexer": "java",
      "version": "11.0.8+10-LTS"
    },
    "colab": {
      "provenance": []
    }
  },
  "nbformat": 4,
  "nbformat_minor": 5
}