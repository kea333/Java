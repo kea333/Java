{
  "cells": [
    {
      "cell_type": "markdown",
      "id": "6af824ed-f71d-4c0e-9ef4-0d240bc8c6ed",
      "metadata": {
        "id": "6af824ed-f71d-4c0e-9ef4-0d240bc8c6ed"
      },
      "source": [
        "30.\n",
        "# Recursion (i.e. Repetition by Method Call)\n",
        "A _while_ loop is the most powerful kind of loop. All kinds of repetition imaginable can be done with a while loop. Other ways of doing repetition are equally powerful.\n",
        "\n",
        "In particular, there is a way to do repetition that works in a completely different way: **recursion**. It does not use a specially defined looping construct like the while loop. Instead it does repetition just by **using methods that call themselves**. It does not allow us to write programs that cannot be written with a while loop, just a new way to do the same thing. First, some revision:\n",
        "\n",
        "Q1: Code a While loop so that it adds the numbers from 1 to n for any n, testing it with the given call to sum to 6. The sum to n is just 1+2+3+ ....+n so sum to 6 is 1+2+3+4+5+6."
      ]
    },
    {
      "cell_type": "code",
      "execution_count": null,
      "id": "41f82fc9-637f-4f7f-b947-31fbd1eb78d6",
      "metadata": {
        "id": "41f82fc9-637f-4f7f-b947-31fbd1eb78d6",
        "outputId": "a2a2d4b6-b8a7-4daf-ad0f-70415f92566f"
      },
      "outputs": [
        {
          "name": "stdout",
          "output_type": "stream",
          "text": [
            "Adding the first 6 numbers gives total 21\n"
          ]
        }
      ],
      "source": [
        "/* Adding numbers from 1 to n for any n,\n",
        "   n = 6 */\n",
        "\n",
        "public static int sumton(int n)\n",
        "{\n",
        "    int countdown = n;\n",
        "    int total = 0;\n",
        "\n",
        "    while (countdown>0)\n",
        "    {\n",
        "        total = total + countdown;\n",
        "        countdown = countdown - 1;\n",
        "    }\n",
        "    \n",
        "    return total;\n",
        "}\n",
        "\n",
        "int howmany = 6;\n",
        "int total = sumton(howmany);\n",
        "System.out.println(\"Adding the first \" + howmany + \" numbers gives total \" + total);"
      ]
    },
    {
      "cell_type": "markdown",
      "id": "2f6180b2-295d-44c3-91b2-f33b545195d7",
      "metadata": {
        "id": "2f6180b2-295d-44c3-91b2-f33b545195d7"
      },
      "source": [
        "**\n",
        "\n",
        "Q2: Code a While loop so that it works out how many numbers in a given array it must add to reach the total of 100 or greater. It should start from array position 0 and work through the array until the total is reached. If it never reaches the total then it prints a suitable message.\n",
        "\n",
        "For example given the array ```{22, 37, 14, 16, 3, 33, 142, 17, 16, 12}``` it should return the answer 6, as the 6 elements: 22 + 37 + 14 + 16 + 3 + 33 are the smallest number of elements from the start of the array that add up to 100."
      ]
    },
    {
      "cell_type": "code",
      "execution_count": null,
      "id": "1a9ec092-41fb-474a-99a8-80c09ad75851",
      "metadata": {
        "id": "1a9ec092-41fb-474a-99a8-80c09ad75851",
        "outputId": "d38ba1a7-2741-44f7-a8f3-a170f3faa53a"
      },
      "outputs": [
        {
          "name": "stdout",
          "output_type": "stream",
          "text": [
            "You needed 6 entry/entries in the array to reach 100\n"
          ]
        }
      ],
      "source": [
        "/* How many numbers in a given array add to at least 100 */\n",
        "\n",
        "final int TARGET = 100;\n",
        "final int[] NUMBERS_TO_ADD = {22, 37, 14, 16, 3, 33, 14, 2, 17, 16, 12};\n",
        "int total = 0;\n",
        "int position = 0;\n",
        "\n",
        "while ((total < TARGET) & (position < NUMBERS_TO_ADD.length))\n",
        "{\n",
        "    total = total + NUMBERS_TO_ADD[position];\n",
        "    position = position + 1;\n",
        "}\n",
        "\n",
        "if (position < NUMBERS_TO_ADD.length)\n",
        "{\n",
        "    System.out.println(\"You needed \" + position + \" entry/entries in the array to reach \" + TARGET);   \n",
        "}\n",
        "else\n",
        "{\n",
        "      System.out.println(\"I ran out of numbers so never got to \" + TARGET);   \n",
        "}"
      ]
    },
    {
      "cell_type": "markdown",
      "id": "936c3cef-7483-4636-82a0-cab3227a3770",
      "metadata": {
        "id": "936c3cef-7483-4636-82a0-cab3227a3770"
      },
      "source": [
        "### General Repetition\n",
        "\n",
        "Any general form of repetition must provide three things:\n",
        "- a way to say repetition should happen\n",
        "- a way to say when to continue the repetition (and so when to end it)\n",
        "- a way to say what instructions should be repeated\n",
        "\n",
        "How is this done in the two while loop examples? \n",
        "\n",
        "#### A way to say repetition should happen\n",
        "\n",
        "The keyword **while** says something is about to be repeated.\n",
        "\n",
        "#### A way to say when to continue the repetition (and so when to end it)\n",
        "\n",
        "We give a boolean expression to act as a continue test (the negation of that test says when to leave the loop).\n",
        "\n",
        "In the first example we want to continue when countdown is greater than 0 (so end when it is less than or equal to 0). We therefore have a boolean condition to continue:\n",
        "\n",
        "```\n",
        "(countdown>0)\n",
        "```\n",
        "\n",
        "In the second example we continue while the total is less than the value of TARGET so have a boolean condition to continue:\n",
        "\n",
        "```\n",
        "(total < TARGET)\n",
        "```\n",
        "\n",
        "#### A way to say what instructions should be repeated\n",
        "\n",
        "The while statement says to repeat the statement or block of code (in ```{}```) that is immediately after the test. We also of course repeat the test.\n",
        "\n",
        "In the first example, we repeat the instructions to update the total and countdown (as well as the test):\n",
        "\n",
        "```\n",
        "{\n",
        "    total = total + countdown;\n",
        "    countdown = countdown - 1;\n",
        "}\n",
        "```\n",
        "\n",
        "In the second example, we repeat the instructions to update the total and position (as well as the test):\n",
        "\n",
        "```\n",
        "{\n",
        "    total = total + NUMBERS_TO_ADD[position];\n",
        "    position = position + 1;\n",
        "}\n",
        "```\n",
        "\n",
        "The test is also repeated as it is only checked at specific points before the body is executed again each time to decide whether it should be or not. This also means that if the repetition is to end, the body must change some variable in the test. If it does not the test will always give back the same answer."
      ]
    },
    {
      "cell_type": "markdown",
      "id": "ad09ec47-88a4-45c5-9288-695be02bf9d7",
      "metadata": {
        "id": "ad09ec47-88a4-45c5-9288-695be02bf9d7"
      },
      "source": [
        "### Recursion\n",
        "Any new way to do repetition must have the same elements as the while loop in some form. Recursion does have these elements.\n",
        "\n",
        "#### A way to say repetition should happen\n",
        "Recursion does not make use of a new invented keyword but instead uses method call. It uses a call to the method being defined to indicate repetition is to happen. Once you call the method the first time, it will call itself and that call will call itself and that call will call itself...thus the repetition just happens from the calls.\n",
        "\n",
        "Each call essentially creates a new version of the method. All but the last sleeps, remembering the values in its variables, waiting to be woken up when the one it called returns a result:"
      ]
    },
    {
      "cell_type": "code",
      "execution_count": null,
      "id": "4c0dc038-8f7c-4fd6-8a44-3410c68a58f4",
      "metadata": {
        "id": "4c0dc038-8f7c-4fd6-8a44-3410c68a58f4"
      },
      "outputs": [],
      "source": [
        "/* Demonstrating recursion that goes on forever */\n",
        "\n",
        "public static void iGoOnForever()\n",
        "{\n",
        "    iGoOnForever();\n",
        "    return;\n",
        "}\n",
        "\n",
        "iGoOnForever();\n",
        "System.out.println(\"The method calls have finished\");"
      ]
    },
    {
      "cell_type": "markdown",
      "id": "849b01ca-f832-419a-a0eb-25f1eb5f8863",
      "metadata": {
        "id": "849b01ca-f832-419a-a0eb-25f1eb5f8863"
      },
      "source": [
        "The method iGoOnFOrever will apparently do nothing but in reality it will be silently running for ever unless interrupted externally, or it runs out of memory. In practice the latter happens first, i.e. runs out of memory. The result is it crashes with an error such as:\n",
        "\n",
        "```\n",
        "java.lang.StackOverflowError: null\n",
        "\tat .iGoOnForever(#16:3)\n",
        "\tat .iGoOnForever(#16:3)\n",
        "\tat .iGoOnForever(#16:3)\n",
        "\tat .iGoOnForever(#16:3)\n",
        "    ...\n",
        "```\n",
        "\n",
        "What is happening is the method iGoOnForever has a single instruction to execute which is to call itself, followed by return. So when the command to call it the first time executes, this executes a call to itself, but all that it does is execute a call to itself .... this goes on and on. None of the calls ever return as they are too busy doing another call and the following return statement is never executed. However, eventually it crashes because each call to a method uses up a little space on the stack to set up the call and remember where the call will return to. That space is only freed when the call returns. As no return ever happens it just uses up more and more memory. The stack has a finite size, however. Eventually, all of the stack is filled with information about calls and where to return. At that point the stack runs out of memory and \"overflows\" causing the program to crash. Each line in the error message is essentially a record of a method call reporting it has crashed and passing the exception back to the previous one. All were executing the same line of iGoOnForever as noted by the number in each line of the error message.\n",
        "\n",
        "Q3: Add a test to the if statement so that it stops when the countdown gets to 0.\n",
        "\n",
        "A: By including a situation that does not do a recursive call and instead returns, we break the sequence of calls and a sequence of returns as each call executes it's return and passes back control to the version that called it.\n",
        "\n",
        "As this method just recurses (i.e. repeats) but otherwise does nothing, the only thing that visibly happens is for it to print the message after the call ```iDoNotGoOnForever(20)```. The fact that it does shows that the recursive method did do a series of calls and ultimately return:"
      ]
    },
    {
      "cell_type": "code",
      "execution_count": null,
      "id": "45172dff-59ef-4d6e-b9d1-a040c18726f5",
      "metadata": {
        "id": "45172dff-59ef-4d6e-b9d1-a040c18726f5",
        "outputId": "f86f2d82-e0dc-4cde-bcd4-8d3b03ead869"
      },
      "outputs": [
        {
          "name": "stdout",
          "output_type": "stream",
          "text": [
            "The method calls have finished.\n"
          ]
        }
      ],
      "source": [
        "/* Demonstrating recursion with a break in sequence of calls to itself */\n",
        "\n",
        "public static void iDoNotGoOnForever(int countdown)\n",
        "{\n",
        "    if (countdown <= 0)\n",
        "    {\n",
        "        return;\n",
        "    }\n",
        "    else\n",
        "    {\n",
        "        iDoNotGoOnForever(countdown-1); \n",
        "    }\n",
        "    \n",
        "    return;\n",
        "}\n",
        "\n",
        "iDoNotGoOnForever(20);\n",
        "System.out.println(\"The method calls have finished.\");"
      ]
    },
    {
      "cell_type": "markdown",
      "id": "dd65d5ed-6dc6-465e-a7a4-4c642262b6b2",
      "metadata": {
        "id": "dd65d5ed-6dc6-465e-a7a4-4c642262b6b2"
      },
      "source": [
        "**\n",
        "\n",
        "The above method does finish now as each call calls itself but with a value for countdown (the formal parameter) one less than it started. Each call thus makes it less and less. Eventually a call is made when the countdown is 0 which causes it to return as the then branch of the if statement executes. This leads to the instruction immediately after the call to be executed, but it is a return statement so a cascade of returns then happen until the original call returns. The call sequence is now:\n",
        "```\n",
        "We call iDoNotGoOnForever(5).\n",
        "\n",
        "iDoNotGoOnForever(5) calls\n",
        "iDoNotGoOnForever(4) which calls\n",
        "iDoNotGoOnForever(3) which calls\n",
        "iDoNotGoOnForever(2) which calls\n",
        "iDoNotGoOnForever(1) which calls\n",
        "iDoNotGoOnForever(0) which causes \n",
        "iDoNotGoOnForever(1) to return which causes\n",
        "iDoNotGoOnForever(2) to return which causes\n",
        "iDoNotGoOnForever(3) to return which causes\n",
        "iDoNotGoOnForever(4) to return which causes\n",
        "iDoNotGoOnForever(5) to return\n",
        "We then print the message\n",
        "The method calls have finished\n",
        "```\n",
        "\n",
        "It is important to realise that with recursion there is always this cascade of calls **followed by** a cascade of returns once the base case is reached."
      ]
    },
    {
      "cell_type": "markdown",
      "id": "c9b809be-647e-4277-b8ed-a50eff62eda3",
      "metadata": {
        "id": "c9b809be-647e-4277-b8ed-a50eff62eda3"
      },
      "source": [
        "### The base case and the step case\n",
        "The **base case** of a recursive call is the case that **stops the recursion going on forever**. It is the situation where the branch just **returns rather than doing another recursicve call**. In our method above, the base case is the case when \n",
        "\n",
        "```\n",
        "countdown <= 0\n",
        "```\n",
        "\n",
        "In this base case, the method just returns.\n",
        "\n",
        "The **step case** on the other hand is the situation where the method **does a recursive call**. In the above example, this is whenever the above is false, i.e.\n",
        "\n",
        "```\n",
        "countdown > 0\n",
        "```\n",
        "\n",
        "When this is true, it calls and waits for the return of\n",
        "\n",
        "```\n",
        "iDoNotGoOnForever(countdown-1);\n",
        "```\n",
        "\n",
        "before returning itself. It takes a **Step** towards the base case because it passes an argument that is one less than currently.\n",
        "\n",
        "***\n",
        "\n",
        "Q4: What is the call and return sequence for the following call?\n",
        "\n",
        "```\n",
        "iDoNotGoOnForever(3);\n",
        "System.out.println(\"Done!\");\n",
        "```"
      ]
    },
    {
      "cell_type": "markdown",
      "id": "c97a052c-bbb7-4cc8-a8e9-bbcba3fd1d96",
      "metadata": {
        "id": "c97a052c-bbb7-4cc8-a8e9-bbcba3fd1d96"
      },
      "source": [
        "A:\n",
        "\n",
        "```\n",
        "We call iDoNotGoOnForever(3)\n",
        "\n",
        "iDoNotGoOnForever(3) calls\n",
        "iDoNotGoOnForever(2) which calls\n",
        "iDoNotGoOnForever(1) which calls\n",
        "iDoNotGoOnForever(0) which causes \n",
        "iDoNotGoOnForever(1) to return which causes\n",
        "iDoNotGoOnForever(2) to return which causes\n",
        "iDoNotGoOnForever(3) to return\n",
        "We then print the message\n",
        "Done!\n",
        "```"
      ]
    },
    {
      "cell_type": "markdown",
      "id": "7452d3ec-aef3-4d1e-97b7-1213bbf790aa",
      "metadata": {
        "id": "7452d3ec-aef3-4d1e-97b7-1213bbf790aa"
      },
      "source": [
        "***\n",
        "\n",
        "### A way to say what instructions should be repeated\n",
        "The final aspect of repetition is to have some instructions that are repeated. Our above method did nothing useful repeatedly! Or actually it \n",
        "- repeatedly did the test; \n",
        "- repeatedly subtracted 1 from variable countdown\n",
        "- repeatedly called itself.\n",
        "\n",
        "However, what we want is for it to do something useful beyond being able to loop and terminate. For example, the code in exercise 1 adds up the first n numbers where n is the value passed as an argument. **We need the step case to do some calculation. This calculation could happen either before or after the recursive call depending on what is needed**.\n",
        "\n",
        "If the repetition is to compute a value then we can have the recursive method return a calculated value repeatedly from each call with the calculation combining the answers. We take the answer passed back from the recursive call and use it to calculate a new answer to pass back. These instructions just go in the else branch of the if statement.\n",
        "\n",
        "For example, in the exercise below, it first does a recursive call getting an answer for the recursive call, adds the current value of countdown and returns the new total. So if countdown is 6 when this happens, the recursive call calculates sumton_recursive(5) (i.e. the answer to 5+4+3+2+1 = 15). It then adds 6 to this giving 6+5+4+3+2+1 a new value 21 to return.\n",
        "\n",
        "```\n",
        "        int answersofar = sumton_recursive(countdown-1);\n",
        "        \n",
        "        int total = answersofar + countdown;\n",
        "        return total;\n",
        "```"
      ]
    },
    {
      "cell_type": "markdown",
      "id": "b7c0f083-e299-4efd-89e0-0109a384d0ef",
      "metadata": {
        "id": "b7c0f083-e299-4efd-89e0-0109a384d0ef"
      },
      "source": [
        "***\n",
        "\n",
        "Q5: From the solution to Q1 above, explain the implementation, using an example call when howmany is set to 3."
      ]
    },
    {
      "cell_type": "code",
      "execution_count": null,
      "id": "1efd3590-0200-4d91-8cf0-d3bf3f206eca",
      "metadata": {
        "id": "1efd3590-0200-4d91-8cf0-d3bf3f206eca",
        "outputId": "320f3e9d-e24b-4e59-8a02-62e5691549f3"
      },
      "outputs": [
        {
          "name": "stdout",
          "output_type": "stream",
          "text": [
            "Adding the first 3 numbers gives total 6.\n"
          ]
        }
      ],
      "source": [
        "/* Adding numbers from 1 to n for any n,\n",
        "   n = 3 */\n",
        "\n",
        "public static int sumton_recursive(int countdown)\n",
        "{\n",
        "    if (countdown <= 0)\n",
        "    {\n",
        "        return 0;\n",
        "    }\n",
        "    else\n",
        "    {\n",
        "        int answersofar = sumton_recursive(countdown-1);\n",
        "        int total = answersofar + countdown;\n",
        "        return total;\n",
        "    }\n",
        "}\n",
        "\n",
        "int howmany = 3;\n",
        "int final_total = sumton_recursive(howmany);\n",
        "System.out.println(\"Adding the first \" + howmany + \" numbers gives total \" + final_total + \".\");"
      ]
    },
    {
      "cell_type": "markdown",
      "id": "afbfc0c2-7b00-4aad-b7ac-7b8b3bef8cc6",
      "metadata": {
        "id": "afbfc0c2-7b00-4aad-b7ac-7b8b3bef8cc6"
      },
      "source": [
        "We call _sumton_recursive_ with the value 3, so it sets countdown to 3. It does the test, and countdown is not <= 0 so it does the else case. The first thing this does is call sumton_recursive(2) i.e. it does a recursive call with argument 2. What that call is doing is working out the sum to 2 (i.e. working out 2+1+0). Once it has that answer to that calculation (3) which it stores in variable _answerssofar_, it adds the current countdown value to it (also 3) to give the total 6. \n",
        "\n",
        "That means the overall calculation done so far is 3 + (2+1+0) so is the answer to the sum to 3 that we are after. It is therefore returned as the answer.\n",
        "\n",
        "But how did it work out the sum to 2? It did it in exactly the same way ... The call to sumton_recursive(2) followed exactly the same instructions. It set countdown to 2 this time (so nearer to 0) and nearer to ending than before. This was done because 2 was passed as an argument so stored in the new version of variable _countdown_.\n",
        "\n",
        "An important thing to realise is this new call declares a completely new variable called countdown. The original still exists on the stack but is only accessible to the call that declared it. The old copy still holds 3. This new copy holds 2. In fact all the variables have completely new verrsions created, with the old ones retaining their values until the call returns. At that point they are restored as the visible values of variables with those names.\n",
        "\n",
        "However, countdown being 2 still means the _else_ case is executed, and that means another recursive call. It does the recursive call sumton_recursive(1) to get the answer to sum to 1, adds it to the 2 in countdown to get total 3 and returns that total to the earlier call as noted above.\n",
        "\n",
        "So how did the call to sumton_recursive(1) return an answer? It created a new version of countdown, this one holding the value 1 that was passed as an argument this time. 1 is greater than 0 so the else case is executed. It did a recursive call to sumton_recursive(0) which returned the value 0. It was added to countdown so that the total 1 was returned as noted above.\n",
        "\n",
        "Finally we need to ask how sumton_recursive(0) calcualted the value 0. It created a new variable countdown, put the 0 in it and then checked if it was less than or equal to 0. It was, so the value 0 was just returned with no more fuss (i.e. no recursive call needed this time). That allowed sumton_recursive(1) to calculate and return its total (1), which allowed sumton_recursive(2) to calculate and return its total (3), which allowed sumton_recursive(3) to calculate and return its total (6).\n",
        "\n",
        "That answer 6 is final stored in the outer variable _final_total_ and then printed.\n",
        "\n",
        "***\n",
        "\n",
        "Q6: From your answer to the exercise above, modify your code to include \n",
        "- print statements in the THEN block that prints the value of countdown and result about to be returned, and also \n",
        "- print statements in the ELSE block that prints the values of all the variables there including the value returned in total. \n",
        "\n",
        "Run the code and see how the state (i.e. values of the variables) matches that described in your description of what happens."
      ]
    },
    {
      "cell_type": "code",
      "execution_count": null,
      "id": "1622f4e6-537d-44c6-b65b-33d22a866143",
      "metadata": {
        "id": "1622f4e6-537d-44c6-b65b-33d22a866143",
        "outputId": "84aab200-a211-4c5e-f987-69930e742121"
      },
      "outputs": [
        {
          "name": "stdout",
          "output_type": "stream",
          "text": [
            "Calling sumton_recursive (3)\n",
            "Calling sumton_recursive (2)\n",
            "Calling sumton_recursive (1)\n",
            "countdown is 0. Returning 0\n",
            "\n",
            "countdown is 1\n",
            "answersofar is 0\n",
            "total is 1\n",
            "Returning 1\n",
            "\n",
            "countdown is 2\n",
            "answersofar is 1\n",
            "total is 3\n",
            "Returning 3\n",
            "\n",
            "countdown is 3\n",
            "answersofar is 3\n",
            "total is 6\n",
            "Returning 6\n",
            "\n",
            "Adding the first 3 numbers gives total 6\n"
          ]
        }
      ],
      "source": [
        "/* Adding numbers from 1 to n for any n,\n",
        "   n = 3 */ \n",
        "\n",
        "public static int sumton_recursive(int countdown)\n",
        "{\n",
        "    if (countdown <= 0)\n",
        "    {\n",
        "        System.out.println(\"countdown is \" + countdown + \". Returning 0\");\n",
        "        return 0;\n",
        "    }\n",
        "    else\n",
        "    {\n",
        "        System.out.println(\"Calling sumton_recursive (\" + countdown + \")\");\n",
        "\n",
        "        int answersofar = sumton_recursive(countdown-1);\n",
        "        int total = answersofar + countdown;\n",
        "        \n",
        "        System.out.println();\n",
        "        System.out.println(\"countdown is \" + countdown);\n",
        "        System.out.println(\"answersofar is \" + answersofar);\n",
        "        System.out.println(\"total is \" + total);\n",
        "        System.out.println(\"Returning \" + total);\n",
        "\n",
        "        return total;\n",
        "    }\n",
        "}\n",
        "\n",
        "int howmany = 3;\n",
        "int final_total = sumton_recursive(howmany);\n",
        "\n",
        "System.out.println();\n",
        "System.out.println(\"Adding the first \" + howmany + \" numbers gives total \" + final_total);"
      ]
    },
    {
      "cell_type": "markdown",
      "id": "0bbe6258-6047-426d-be79-5a3ef82d4fff",
      "metadata": {
        "id": "0bbe6258-6047-426d-be79-5a3ef82d4fff"
      },
      "source": [
        "**\n",
        "\n",
        "It is important to realise that even though\n",
        "\n",
        "```\n",
        "countdown is 0. Returning 0\n",
        "```\n",
        "\n",
        "is printed, before that happens lots of work is being done running through the series of calls. All the work is done as each method call returns with a result that can then be used in calculating a new result and so on.\n",
        "\n",
        "Q7: What is the base case and the step case of the method in Exercise Q5?"
      ]
    },
    {
      "cell_type": "markdown",
      "id": "0a9bc445-1711-4764-a5e0-20196059f57d",
      "metadata": {
        "id": "0a9bc445-1711-4764-a5e0-20196059f57d"
      },
      "source": [
        "A: The base case is when\n",
        "\n",
        "```\n",
        "(countdown <= 0)\n",
        "```\n",
        "\n",
        "and so when 0 is returned.\n",
        "\n",
        "The step case is when\n",
        "\n",
        "```\n",
        "(countdown > 0)\n",
        "```\n",
        "\n",
        "and so when the following _else_ case is executed:\n",
        "```\n",
        "{\n",
        "    int answersofar = sumton_recursive(countdown-1);\n",
        "    int total = answersofar + countdown;\n",
        "    return total;\n",
        "}\n",
        "``` "
      ]
    },
    {
      "cell_type": "markdown",
      "id": "caeb530c-9b28-4171-9cfc-20236effa9ff",
      "metadata": {
        "id": "caeb530c-9b28-4171-9cfc-20236effa9ff"
      },
      "source": [
        "Q8: Complete the recursive method to count down in tens.\n",
        "\n",
        "HINT: You need to add a recursive call in the ELSE branch and it must have an argument closer to the base case of countdown being 0.\n",
        "\n",
        "A: The recursive call comes after the print statement as we want to do the rest of the count down after printing the current count. We need to change the countdown by 10 :"
      ]
    },
    {
      "cell_type": "code",
      "execution_count": null,
      "id": "34e5298a-7aea-4ec4-86cc-ff8c44419edb",
      "metadata": {
        "id": "34e5298a-7aea-4ec4-86cc-ff8c44419edb",
        "outputId": "daed22b6-74c9-454b-a995-cc357050d29e"
      },
      "outputs": [
        {
          "name": "stdout",
          "output_type": "stream",
          "text": [
            "100...\n",
            "90...\n",
            "80...\n",
            "70...\n",
            "60...\n",
            "50...\n",
            "40...\n",
            "30...\n",
            "20...\n",
            "10...\n",
            "0...\n",
            "Blast Off !\n"
          ]
        }
      ],
      "source": [
        "/* Recursive countdown in 10s */\n",
        "\n",
        "public static void countDown10(int countdown)\n",
        "{\n",
        "    if (countdown < 0)\n",
        "    {\n",
        "        System.out.println(\"Blast Off !\");\n",
        "    }\n",
        "    else\n",
        "    {\n",
        "        System.out.println(countdown + \"...\");\n",
        "        countDown10(countdown - 10);\n",
        "    }\n",
        "    \n",
        "    return;\n",
        "}\n",
        "\n",
        "\n",
        "int FROM = 100;\n",
        "countDown10(FROM);"
      ]
    },
    {
      "cell_type": "markdown",
      "id": "f6b98b83-1bef-4fae-b2eb-d179a7e00c3a",
      "metadata": {
        "id": "f6b98b83-1bef-4fae-b2eb-d179a7e00c3a"
      },
      "source": [
        "**\n",
        "\n",
        "Q9: Predict what happens if a recursive call is put BEFORE the print statement in the ELSE case. Then try it to see if you are right.\n",
        "\n",
        "A: If the recursive call is placed before the print statement, it prints everything in the wrong order as it does call after call, each doing nothing before another call until it gets the base case. That means Blast Off is printed first and all the other values are printed after in reverse order as each call returns and that method then continues after the recursive call to its print statement.\n",
        "\n",
        "```\n",
        "Blast Off\n",
        "0...\n",
        "10...\n",
        "20...\n",
        "30...\n",
        "40...\n",
        "50...\n",
        "60...\n",
        "70...\n",
        "80...\n",
        "90...\n",
        "100...\n",
        "```"
      ]
    },
    {
      "cell_type": "code",
      "execution_count": null,
      "id": "2faae791-a665-4cc7-9496-3ae23c77f373",
      "metadata": {
        "id": "2faae791-a665-4cc7-9496-3ae23c77f373",
        "outputId": "43449a3f-5139-4bce-9d80-558ce5359bb7"
      },
      "outputs": [
        {
          "name": "stdout",
          "output_type": "stream",
          "text": [
            "Blast Off\n",
            "0...\n",
            "10...\n",
            "20...\n",
            "30...\n",
            "40...\n",
            "50...\n",
            "60...\n",
            "70...\n",
            "80...\n",
            "90...\n",
            "100...\n"
          ]
        }
      ],
      "source": [
        "/* Recursive countdown in 10s with recursive call BEFORE print statement in the ELSE case */\n",
        "\n",
        "public static void countDown10(int countdown)\n",
        "{\n",
        "    if (countdown < 0)\n",
        "    {\n",
        "        System.out.println(\"Blast Off\");\n",
        "    }\n",
        "    else\n",
        "    {\n",
        "        countDown10(countdown - 10);\n",
        "        System.out.println(countdown + \"...\");\n",
        "    }\n",
        "    \n",
        "    return;\n",
        "}\n",
        "\n",
        "\n",
        "int FROM = 100;\n",
        "countDown10(FROM);"
      ]
    },
    {
      "cell_type": "markdown",
      "id": "c46cae77-bb32-44e7-a258-c6e75c7b5f3f",
      "metadata": {
        "id": "c46cae77-bb32-44e7-a258-c6e75c7b5f3f"
      },
      "source": [
        "**\n",
        "\n",
        "Q10: Write a recursive method that prints out the THREE times table in order up to a given value.\n",
        "\n",
        "A: To get it to print the three times table in the right order we need to do the recursive call before printing the current value:"
      ]
    },
    {
      "cell_type": "code",
      "execution_count": null,
      "id": "11ee3dbf-64de-498c-951d-de0801b8187b",
      "metadata": {
        "id": "11ee3dbf-64de-498c-951d-de0801b8187b",
        "outputId": "bec2854a-0518-4256-bd2b-9e6fd61dd86e"
      },
      "outputs": [
        {
          "name": "stdout",
          "output_type": "stream",
          "text": [
            "3 times 1 is \t3\n",
            "3 times 2 is \t6\n",
            "3 times 3 is \t9\n",
            "3 times 4 is \t12\n",
            "3 times 5 is \t15\n",
            "3 times 6 is \t18\n",
            "3 times 7 is \t21\n",
            "3 times 8 is \t24\n",
            "3 times 9 is \t27\n",
            "3 times 10 is \t30\n",
            "3 times 11 is \t33\n",
            "3 times 12 is \t36\n"
          ]
        }
      ],
      "source": [
        "/* Recursive method that prints 3 times table */\n",
        "\n",
        "public static void print3TimesTableTo (int n)\n",
        "{\n",
        "    if (n == 0)\n",
        "    {\n",
        "        return;\n",
        "    }\n",
        "    else\n",
        "    {\n",
        "        print3TimesTableTo(n-1);\n",
        "        System.out.println(\"3 times \" + n + \" is \\t\" + (3*n));\n",
        "        return;\n",
        "    }\n",
        "}\n",
        "\n",
        "print3TimesTableTo(12);"
      ]
    },
    {
      "cell_type": "markdown",
      "id": "2ce4891a-4483-4f1a-a7be-9f9fe1da4bca",
      "metadata": {
        "id": "2ce4891a-4483-4f1a-a7be-9f9fe1da4bca"
      },
      "source": [
        "**\n",
        "\n",
        "Q11: Write a recursive method that prints out the NINE times table in order up to a given value."
      ]
    },
    {
      "cell_type": "code",
      "execution_count": null,
      "id": "94845ed6-593c-4f92-bdcd-4455bc79daa4",
      "metadata": {
        "id": "94845ed6-593c-4f92-bdcd-4455bc79daa4",
        "outputId": "a3f4a665-11cd-4e71-d9eb-025d1b48c287"
      },
      "outputs": [
        {
          "name": "stdout",
          "output_type": "stream",
          "text": [
            "9 times 1 is \t9\n",
            "9 times 2 is \t18\n",
            "9 times 3 is \t27\n",
            "9 times 4 is \t36\n",
            "9 times 5 is \t45\n",
            "9 times 6 is \t54\n",
            "9 times 7 is \t63\n",
            "9 times 8 is \t72\n",
            "9 times 9 is \t81\n",
            "9 times 10 is \t90\n"
          ]
        }
      ],
      "source": [
        "/* Recursive method that prints 9 times table */\n",
        "\n",
        "public static void print9TimesTableTo (int n)\n",
        "{\n",
        "    if (n == 0)\n",
        "    {\n",
        "        return;\n",
        "    }\n",
        "    else\n",
        "    {\n",
        "        print9TimesTableTo(n-1);\n",
        "        System.out.println(\"9 times \" + n + \" is \\t\" + (9*n));\n",
        "        return;\n",
        "    }\n",
        "}\n",
        "\n",
        "print9TimesTableTo(10);"
      ]
    },
    {
      "cell_type": "markdown",
      "id": "ae36cdfe-0bcf-4d6b-b1d7-5efde5144c75",
      "metadata": {
        "id": "ae36cdfe-0bcf-4d6b-b1d7-5efde5144c75"
      },
      "source": [
        "**\n",
        "\n",
        "Q12: **Hard**: Write a recursive version of the program in Exercise 2 (Q2 above) that returns the number of entries in an array needed to get a total of 100, starting from adding from the position given in the last argument.\n",
        "\n",
        "For example given the array ```{22, 37, 14, 16, 3, 33, 142, 17, 16, 12}```, target 100 and start position 0, it should return the answer 6 as the 6 elements: 22 + 37 + 14 + 16 + 3 + 33 are the smallest number of elements from the start of the array that add up to 100.\n",
        "\n",
        "HINT: There will be two base cases with the step case taking a step closer to both."
      ]
    },
    {
      "cell_type": "code",
      "execution_count": null,
      "id": "208c9f3e-457b-447d-92e7-cea638ae15b5",
      "metadata": {
        "id": "208c9f3e-457b-447d-92e7-cea638ae15b5",
        "outputId": "872ca17c-f8b0-45e1-bf62-a3c0676f8a13"
      },
      "outputs": [
        {
          "name": "stdout",
          "output_type": "stream",
          "text": [
            "You needed 6 entry/entries in the array to reach 100\n"
          ]
        }
      ],
      "source": [
        "public static int arrayHowMany(int [] numbers, int target, int position)\n",
        "{\n",
        "    if (target <= 0)\n",
        "    {\n",
        "        return position;\n",
        "    }\n",
        "    else if (position >= numbers.length)\n",
        "    {\n",
        "        return -1;        \n",
        "    }\n",
        "    else\n",
        "    {\n",
        "        return arrayHowMany(numbers, target - NUMBERS_TO_ADD[position], position + 1);\n",
        "    }\n",
        "}\n",
        "\n",
        "\n",
        "final int TARGET = 100;\n",
        "final int[] NUMBERS_TO_ADD = {22, 37, 14, 16, 3, 33, 14, 2, 17, 16, 12};\n",
        "\n",
        "int howmany = arrayHowMany(NUMBERS_TO_ADD, TARGET, 0);\n",
        "\n",
        "if (howmany != -1)\n",
        "{\n",
        "    System.out.println(\"You needed \" + howmany + \" entry/entries in the array to reach \" + TARGET);   \n",
        "}\n",
        "else\n",
        "{\n",
        "    System.out.println(\"I ran out of numbers so never got to \" + TARGET);   \n",
        "}"
      ]
    },
    {
      "cell_type": "markdown",
      "id": "98d46a7c-bbda-4b08-b6c4-cb91b4673f59",
      "metadata": {
        "id": "98d46a7c-bbda-4b08-b6c4-cb91b4673f59"
      },
      "source": [
        "**\n",
        "\n",
        "This method has two different base cases: one for when the target is reached and one for when we run out of array - the position gets to the end of the array. The step case reduces the target at each step and increases the position (moving the argument values for the recurzive call closer to the base case condition) so makes progress towards both base cases with each recursive call.\n",
        "\n",
        "```\n",
        "arrayHowMany(numbers, target - NUMBERS_TO_ADD[position], position + 1);\n",
        "```\n",
        "\n",
        "Notice how target is reduced so is closer to the 0 its base case needs to trigger, ```(target <= 0)```\n",
        "position is increased moving closer to the end of the array, so closer to the situation where its base case triggers ```(position >= numbers.length)``` "
      ]
    },
    {
      "cell_type": "markdown",
      "id": "0a0723bb-3a72-4aa7-bc65-13e44b4d77c6",
      "metadata": {
        "id": "0a0723bb-3a72-4aa7-bc65-13e44b4d77c6"
      },
      "source": [
        "***\n",
        "\n",
        "### **Summary**\n",
        "\n",
        "Recursion provides a way to do repetition in a programming language that works by a method calling itself. **A recursive method has one or more base cases and one or more step cases. They are normally part of an if-then-else staircase of options**. \n",
        "\n",
        "The **base case is the termating case**. When the base case condition is true, no recursive call is made and the method returns with an answer to the version of the method that called it.\n",
        "\n",
        "The **step case is the recursive case** and **involves a recursive call**. The argument in the recursive call must take a step towards the base case. After a series of recursive calls, eventually the base case is arrived at and the series of calls each return in turn.\n",
        "\n",
        "So if we have a call f(8) to a recursive method f that has base case 0 and subtracts 2 from its recursive argument each time :"
      ]
    },
    {
      "cell_type": "code",
      "execution_count": null,
      "id": "6868406e-fe18-42e4-aae1-ae9de418fd50",
      "metadata": {
        "id": "6868406e-fe18-42e4-aae1-ae9de418fd50",
        "outputId": "45c77329-be60-4a19-c3e7-6795760b6ae4"
      },
      "outputs": [
        {
          "name": "stdout",
          "output_type": "stream",
          "text": [
            "Calling f(6)\n",
            "Calling f(4)\n",
            "Calling f(2)\n",
            "Calling f(0)\n",
            "Returned from call of f(0)\n",
            "Returned from call of f(2)\n",
            "Returned from call of f(4)\n",
            "Returned from call of f(6)\n"
          ]
        }
      ],
      "source": [
        "public static void f (int n)\n",
        "{\n",
        "    if (n == 0)\n",
        "    { \n",
        "        return;\n",
        "    }\n",
        "    else\n",
        "    {\n",
        "        System.out.println(\"Calling f(\" + (n-2) + \")\");\n",
        "        f(n-2);\n",
        "        System.out.println(\"Returned from call of f(\" + (n-2) + \")\");\n",
        "\n",
        "        return;\n",
        "    }\n",
        "}\n",
        "\n",
        "f(8);"
      ]
    },
    {
      "cell_type": "markdown",
      "id": "2780ef84-338f-4472-a12b-59dd0a3bfe76",
      "metadata": {
        "id": "2780ef84-338f-4472-a12b-59dd0a3bfe76"
      },
      "source": [
        "then f(8) will call f(6) which calls f(4) which calls f(2) which calls f(0). That is the base case so it does not do a recursive call and just returns control back to the call f(2). That call returns control back to the call f(4). That returns control back to the call f(6), and finally that returns control back to the original call f(8).\n",
        "\n",
        "Each separate call to f stores its own version of all the local variables that the other calls cannot access (all stored on the stack in separate stack frames). They are restored when that version of the method is returned to.\n",
        "\n",
        "Recursion is as powerful as a _while_ loop so can do any kind of repetition. However, it uses more memory due to the overhead of the method call and of storing multiple copies of all the local variables of the method on the stack. Some problems are naturally recursive, however, in which case the program can be written much more easily which is an advantage of recursion."
      ]
    },
    {
      "cell_type": "code",
      "execution_count": null,
      "id": "4622f845-373f-40be-a361-3f8292d3948b",
      "metadata": {
        "id": "4622f845-373f-40be-a361-3f8292d3948b"
      },
      "outputs": [],
      "source": []
    }
  ],
  "metadata": {
    "kernelspec": {
      "display_name": "Java",
      "language": "java",
      "name": "java"
    },
    "language_info": {
      "codemirror_mode": "java",
      "file_extension": ".jshell",
      "mimetype": "text/x-java-source",
      "name": "Java",
      "pygments_lexer": "java",
      "version": "11.0.8+10-LTS"
    },
    "colab": {
      "provenance": []
    }
  },
  "nbformat": 4,
  "nbformat_minor": 5
}