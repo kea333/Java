{
  "cells": [
    {
      "cell_type": "markdown",
      "id": "b73093dc-166a-4008-85b7-5ea125b86cb8",
      "metadata": {
        "id": "b73093dc-166a-4008-85b7-5ea125b86cb8"
      },
      "source": [
        "25.\n",
        "\n",
        "# _while_ Loops\n",
        "\n",
        "### Why another loop\n",
        "We have already seen a way to do repetition, with the counter-controlled loop. Why do we need another kind of loop? Because there are some kinds of repetition that cannot be done with a counter-controlled loop. In particular, counter-controlled loops rely on knowing how many times the loop will execute in advance - knowing what the counter is to count to. If the loop needs to **repeat an unknown number of times** (in the sense that it can't be worked out when the loop starts), then we need something else.\n",
        "\n",
        "That is what a _while_ loop is for. It is a completely general kind of loop that can do any kind of repetition possible.\n",
        "\n",
        "Q1: Write a program that prints some phrase repeatedly. After each time, it asks if you want it to do it again. If you type anything other than yes (Y), then it will immediately stop the loop and print \"OK, I will stop then. Have a nice day\" before terminating.\n",
        "\n",
        "If you type \"Y\" when asked, then it will print its message again (and ask again), continuing to do so an unlimited number of times until you type something other than \"Y\" when asked."
      ]
    },
    {
      "cell_type": "code",
      "execution_count": null,
      "id": "e23a9395-ba7b-49c0-bcef-ff9ffe1c3a67",
      "metadata": {
        "id": "e23a9395-ba7b-49c0-bcef-ff9ffe1c3a67",
        "outputId": "813d15cd-b733-497a-a3ca-29406edef615"
      },
      "outputs": [
        {
          "name": "stdout",
          "output_type": "stream",
          "text": [
            "The Moon is Made of Green Cheese\n",
            "Do you want to say it again (Y/N)?\n"
          ]
        },
        {
          "name": "stdin",
          "output_type": "stream",
          "text": [
            " Y\n"
          ]
        },
        {
          "name": "stdout",
          "output_type": "stream",
          "text": [
            "The Moon is Made of Green Cheese\n",
            "Do you want to say it again (Y/N)?\n"
          ]
        },
        {
          "name": "stdin",
          "output_type": "stream",
          "text": [
            " Y\n"
          ]
        },
        {
          "name": "stdout",
          "output_type": "stream",
          "text": [
            "The Moon is Made of Green Cheese\n",
            "Do you want to say it again (Y/N)?\n"
          ]
        },
        {
          "name": "stdin",
          "output_type": "stream",
          "text": [
            " Y\n"
          ]
        },
        {
          "name": "stdout",
          "output_type": "stream",
          "text": [
            "The Moon is Made of Green Cheese\n",
            "Do you want to say it again (Y/N)?\n"
          ]
        },
        {
          "name": "stdin",
          "output_type": "stream",
          "text": [
            " N\n"
          ]
        },
        {
          "name": "stdout",
          "output_type": "stream",
          "text": [
            "OK, I will stop then. Have a nice day.\n"
          ]
        }
      ],
      "source": [
        "/* Printing a phrase repeatedly, and asking if you want it to do it again */\n",
        "\n",
        "public static String inputString (String message)\n",
        "{\n",
        "       String answer;\n",
        "       Scanner scanner = new Scanner(System.in);\n",
        "\n",
        "       System.out.println(message);\n",
        "       answer = scanner.nextLine();\n",
        "   \n",
        "       return answer;\n",
        "}\n",
        "\n",
        "/* Keep asking until told to stop */\n",
        "\n",
        "public static void keepAsking1 ()\n",
        "{\n",
        "       String answer = \"Y\";\n",
        "       while (answer.equals(\"Y\"))\n",
        "       {\n",
        "           System.out.println(\"The Moon is Made of Green Cheese\");\n",
        "            \n",
        "           answer = inputString(\"Do you want to say it again (Y/N)?\");\n",
        "       }\n",
        "    \n",
        "       /* ending while loop */    \n",
        "       \n",
        "       System.out.println(\"OK, I will stop then. Have a nice day.\");\n",
        " \n",
        "       return;\n",
        "}\n",
        "\n",
        "keepAsking1 ();"
      ]
    },
    {
      "cell_type": "markdown",
      "id": "d523727b-5986-498a-90ba-bc5a9b32bced",
      "metadata": {
        "id": "d523727b-5986-498a-90ba-bc5a9b32bced"
      },
      "source": [
        "Q2: Explain also why this could not be done with a pure counter-controlled loop.\n",
        "\n",
        "A: This can't be done with a pure counter-controlled loop because the number of times it loops is unknown. It could loop a different number of times every time. It is therefore not possible to set up a counter and have a known amount for the counter to count to.\n",
        "\n",
        "Q3: Demonstrate the above task in your own way and explain what you did."
      ]
    },
    {
      "cell_type": "code",
      "execution_count": null,
      "id": "1344ff03-9283-4838-aa86-0e3374c574e7",
      "metadata": {
        "id": "1344ff03-9283-4838-aa86-0e3374c574e7",
        "outputId": "113bd2d7-e00c-47e9-bcd4-41f01c4b1a42"
      },
      "outputs": [
        {
          "name": "stdout",
          "output_type": "stream",
          "text": [
            "Exterminate!\n",
            "Are you still alive (Y/N)?\n"
          ]
        },
        {
          "name": "stdin",
          "output_type": "stream",
          "text": [
            " Y\n"
          ]
        },
        {
          "name": "stdout",
          "output_type": "stream",
          "text": [
            "Exterminate!\n",
            "Are you still alive (Y/N)?\n"
          ]
        },
        {
          "name": "stdin",
          "output_type": "stream",
          "text": [
            " Y\n"
          ]
        },
        {
          "name": "stdout",
          "output_type": "stream",
          "text": [
            "Exterminate!\n",
            "Are you still alive (Y/N)?\n"
          ]
        },
        {
          "name": "stdin",
          "output_type": "stream",
          "text": [
            " Y\n"
          ]
        },
        {
          "name": "stdout",
          "output_type": "stream",
          "text": [
            "Exterminate!\n",
            "Are you still alive (Y/N)?\n"
          ]
        },
        {
          "name": "stdin",
          "output_type": "stream",
          "text": [
            " Y\n"
          ]
        },
        {
          "name": "stdout",
          "output_type": "stream",
          "text": [
            "Exterminate!\n",
            "Are you still alive (Y/N)?\n"
          ]
        },
        {
          "name": "stdin",
          "output_type": "stream",
          "text": [
            " Y\n"
          ]
        },
        {
          "name": "stdout",
          "output_type": "stream",
          "text": [
            "Exterminate!\n",
            "Are you still alive (Y/N)?\n"
          ]
        },
        {
          "name": "stdin",
          "output_type": "stream",
          "text": [
            " N\n"
          ]
        },
        {
          "name": "stdout",
          "output_type": "stream",
          "text": [
            "Great. Rest in peace.\n"
          ]
        }
      ],
      "source": [
        "public static void keepAsking2 ()\n",
        "{\n",
        "       String answer = \"Y\";\n",
        "       while (answer.equals(\"Y\"))\n",
        "       {\n",
        "           System.out.println(\"Exterminate!\");\n",
        "            \n",
        "           answer = inputString(\"Are you still alive (Y/N)?\");\n",
        "       }\n",
        "       \n",
        "       System.out.println(\"Great. Rest in peace.\");\n",
        " \n",
        "       return;\n",
        "}\n",
        "\n",
        "keepAsking2 ();"
      ]
    },
    {
      "cell_type": "markdown",
      "id": "47cd986d-7d47-495e-bfd8-21abecf06705",
      "metadata": {
        "id": "47cd986d-7d47-495e-bfd8-21abecf06705"
      },
      "source": [
        "**\n",
        "\n",
        "Changed the output statements inside the loop to:\n",
        "\n",
        "System.out.println(\"Exterminate!\");\n",
        "answer = inputString(\"Are you still alive (Y/N)?\");\n",
        "System.out.println(\"Great. Rest in peace.\");\n",
        "\n",
        "That's basically it."
      ]
    },
    {
      "cell_type": "markdown",
      "id": "c7d0a54e-b831-4698-bea5-1684eafe3d6e",
      "metadata": {
        "id": "c7d0a54e-b831-4698-bea5-1684eafe3d6e"
      },
      "source": [
        "### What does a while loop do?\n",
        "\n",
        "A while loop is much simpler than a for loop. It consists of only the keyword _while_, a boolean test, and a body: \n",
        "\n",
        "```\n",
        "while(...test...)\n",
        "{\n",
        "    ...body...\n",
        "}\n",
        "```\n",
        "\n",
        "Think of it as meaning \"while the test is true do the body\".\n",
        "\n",
        "The test is checked at the start and works the same way as a for loop test. If it is true the body is executed. If it is false the whole while loop ends and whatever code is after the body is executed. The test is\n",
        "\n",
        "```answer.equals(\"Y\")```\n",
        "\n",
        "If the body is executed then after it finishes, execution jumps back up to the test again, where the process is repeated, checking the test and if it is true executing the body ... and so on over and over again until the test is false.\n",
        "\n",
        "Another way of implementing the above Q1 is:"
      ]
    },
    {
      "cell_type": "code",
      "execution_count": null,
      "id": "4ed5ff8d-2735-4a48-96c0-9fb332db848f",
      "metadata": {
        "id": "4ed5ff8d-2735-4a48-96c0-9fb332db848f",
        "outputId": "c19c9361-eaf5-42e7-e25b-38e933a48ee8"
      },
      "outputs": [
        {
          "name": "stdout",
          "output_type": "stream",
          "text": [
            "The Moon is Made of Green Cheese\n",
            "Type `YES!` if you want me to keep going.\n"
          ]
        },
        {
          "name": "stdin",
          "output_type": "stream",
          "text": [
            " YES!\n"
          ]
        },
        {
          "name": "stdout",
          "output_type": "stream",
          "text": [
            "The Moon is Made of Green Cheese\n",
            "Type `YES!` if you want me to keep going.\n"
          ]
        },
        {
          "name": "stdin",
          "output_type": "stream",
          "text": [
            " YES!\n"
          ]
        },
        {
          "name": "stdout",
          "output_type": "stream",
          "text": [
            "The Moon is Made of Green Cheese\n",
            "Type `YES!` if you want me to keep going.\n"
          ]
        },
        {
          "name": "stdin",
          "output_type": "stream",
          "text": [
            " YES!\n"
          ]
        },
        {
          "name": "stdout",
          "output_type": "stream",
          "text": [
            "The Moon is Made of Green Cheese\n",
            "Type `YES!` if you want me to keep going.\n"
          ]
        },
        {
          "name": "stdin",
          "output_type": "stream",
          "text": [
            " NO!\n"
          ]
        },
        {
          "name": "stdout",
          "output_type": "stream",
          "text": [
            "OK, I will stop then. Have a nice day.\n"
          ]
        }
      ],
      "source": [
        "public static void keepAsking3a ()\n",
        "{\n",
        "       final String KEEP_GOING = \"YES!\";\n",
        "       String answer = KEEP_GOING;\n",
        "       \n",
        "       while (answer.equals(KEEP_GOING))\n",
        "       {\n",
        "           System.out.println(\"The Moon is Made of Green Cheese\");\n",
        "            \n",
        "           answer = inputString(\"Type `\" + KEEP_GOING + \"` if you want me to keep going.\");\n",
        "       }\n",
        "       \n",
        "       System.out.println(\"OK, I will stop then. Have a nice day.\");\n",
        " \n",
        "       return;\n",
        "}\n",
        "\n",
        "keepAsking3a ();"
      ]
    },
    {
      "cell_type": "markdown",
      "id": "bc17188b-849f-4bff-b2b2-815c5e318b81",
      "metadata": {
        "id": "bc17188b-849f-4bff-b2b2-815c5e318b81"
      },
      "source": [
        "Q4: Modify your code above so that so that it keeps going whatever you say (not just \"Y\" or YES!\") until you tell it to \"SHUT UP\".\n",
        "\n",
        "Hint: you need the negation logical connective (!)"
      ]
    },
    {
      "cell_type": "code",
      "execution_count": null,
      "id": "9bf9e246-c657-4871-854c-d332c9853ae7",
      "metadata": {
        "id": "9bf9e246-c657-4871-854c-d332c9853ae7",
        "outputId": "e1d6145a-e7aa-4c52-b2ce-39062dad6aed"
      },
      "outputs": [
        {
          "name": "stdout",
          "output_type": "stream",
          "text": [
            "The Moon is Made of Green Cheese\n",
            "Your turn to say something.\n"
          ]
        },
        {
          "name": "stdin",
          "output_type": "stream",
          "text": [
            " Good things comes to those who wait\n"
          ]
        },
        {
          "name": "stdout",
          "output_type": "stream",
          "text": [
            "The Moon is Made of Green Cheese\n",
            "Your turn to say something.\n"
          ]
        },
        {
          "name": "stdin",
          "output_type": "stream",
          "text": [
            " The Lord is my Sherperd, I shall not want\n"
          ]
        },
        {
          "name": "stdout",
          "output_type": "stream",
          "text": [
            "The Moon is Made of Green Cheese\n",
            "Your turn to say something.\n"
          ]
        },
        {
          "name": "stdin",
          "output_type": "stream",
          "text": [
            " si si si, si nana ko\n"
          ]
        },
        {
          "name": "stdout",
          "output_type": "stream",
          "text": [
            "The Moon is Made of Green Cheese\n",
            "Your turn to say something.\n"
          ]
        },
        {
          "name": "stdin",
          "output_type": "stream",
          "text": [
            " ta ta bongo\n"
          ]
        },
        {
          "name": "stdout",
          "output_type": "stream",
          "text": [
            "The Moon is Made of Green Cheese\n",
            "Your turn to say something.\n"
          ]
        },
        {
          "name": "stdin",
          "output_type": "stream",
          "text": [
            " bonkuto bonkuto bonkutala pr3k3t3\n"
          ]
        },
        {
          "name": "stdout",
          "output_type": "stream",
          "text": [
            "The Moon is Made of Green Cheese\n",
            "Your turn to say something.\n"
          ]
        },
        {
          "name": "stdin",
          "output_type": "stream",
          "text": [
            " mina mina abrewa, odzi ab3bo me so\n"
          ]
        },
        {
          "name": "stdout",
          "output_type": "stream",
          "text": [
            "The Moon is Made of Green Cheese\n",
            "Your turn to say something.\n"
          ]
        },
        {
          "name": "stdin",
          "output_type": "stream",
          "text": [
            " so so fe, ya adom wa\n"
          ]
        },
        {
          "name": "stdout",
          "output_type": "stream",
          "text": [
            "The Moon is Made of Green Cheese\n",
            "Your turn to say something.\n"
          ]
        },
        {
          "name": "stdin",
          "output_type": "stream",
          "text": [
            " Alaba Nkuto Alaba Nkuto eeii\n"
          ]
        },
        {
          "name": "stdout",
          "output_type": "stream",
          "text": [
            "The Moon is Made of Green Cheese\n",
            "Your turn to say something.\n"
          ]
        },
        {
          "name": "stdin",
          "output_type": "stream",
          "text": [
            " eeii maame eeii, eeii paapa eeii, eeii bom bom fire\n"
          ]
        },
        {
          "name": "stdout",
          "output_type": "stream",
          "text": [
            "The Moon is Made of Green Cheese\n",
            "Your turn to say something.\n"
          ]
        },
        {
          "name": "stdin",
          "output_type": "stream",
          "text": [
            " maame abrewa ko soja, eja tutu she neto\n"
          ]
        },
        {
          "name": "stdout",
          "output_type": "stream",
          "text": [
            "The Moon is Made of Green Cheese\n",
            "Your turn to say something.\n"
          ]
        },
        {
          "name": "stdin",
          "output_type": "stream",
          "text": [
            " bon bon pokyeeeeeeeee !\n"
          ]
        },
        {
          "name": "stdout",
          "output_type": "stream",
          "text": [
            "The Moon is Made of Green Cheese\n",
            "Your turn to say something.\n"
          ]
        },
        {
          "name": "stdin",
          "output_type": "stream",
          "text": [
            " SHUT UP\n"
          ]
        },
        {
          "name": "stdout",
          "output_type": "stream",
          "text": [
            "OK, I will stop then. Have a nice day.\n"
          ]
        }
      ],
      "source": [
        "/* Printing a phrase repeatedly, asking repeatedly for anything until told to stop */\n",
        "\n",
        "public static void keepAsking4 ()\n",
        "{\n",
        "       String answer = \"Y\";\n",
        "       while (!answer.equals(\"SHUT UP\"))\n",
        "       {\n",
        "           System.out.println(\"The Moon is Made of Green Cheese\");\n",
        "            \n",
        "           answer = inputString(\"Your turn to say something.\");\n",
        "       }\n",
        "       \n",
        "       System.out.println(\"OK, I will stop then. Have a nice day.\");\n",
        " \n",
        "       return;\n",
        "}\n",
        "\n",
        "keepAsking4 ();"
      ]
    },
    {
      "cell_type": "markdown",
      "id": "37a64e6a-b10f-48ec-b652-7b51a3350d8a",
      "metadata": {
        "id": "37a64e6a-b10f-48ec-b652-7b51a3350d8a"
      },
      "source": [
        "Q5: Demonstrate what happens when you change the initialisation of variable 'answer' to \"N\", and explain what happens."
      ]
    },
    {
      "cell_type": "code",
      "execution_count": null,
      "id": "83cb28c2-a997-4d55-a527-d2f20c118ff3",
      "metadata": {
        "id": "83cb28c2-a997-4d55-a527-d2f20c118ff3",
        "outputId": "299b6850-4537-4cbd-8713-98c76705ca44"
      },
      "outputs": [
        {
          "name": "stdout",
          "output_type": "stream",
          "text": [
            "OK, I will stop then. Have a nice day.\n"
          ]
        }
      ],
      "source": [
        "/* Keep asking until told to stop */\n",
        "\n",
        "public static void keepAsking5 ()\n",
        "{\n",
        "       String answer = \"N\";\n",
        "       while (answer.equals(\"Y\"))\n",
        "       {\n",
        "           System.out.println(\"The Moon is Made of Green Cheese\");\n",
        "            \n",
        "           answer = inputString(\"Your turn to say something.\");\n",
        "       }\n",
        "       \n",
        "       System.out.println(\"OK, I will stop then. Have a nice day.\");\n",
        " \n",
        "       return;\n",
        "}\n",
        "\n",
        "keepAsking5 ();"
      ]
    },
    {
      "cell_type": "markdown",
      "id": "7fd61e18-4f37-405a-b036-71a17893817c",
      "metadata": {
        "id": "7fd61e18-4f37-405a-b036-71a17893817c"
      },
      "source": [
        "**\n",
        "\n",
        "The program goes round the loop zero times. It never enters the loop body so never executes its instructions. This is because on checking the test at the start, the test is false as \"N\" is not equal to \"Y\". When the test is false, the body of the loop is not entered and the code jumps to the point after the end of the loop.\n",
        "\n",
        "Q6: Demonstrate what happens when you ommit the input statement that sets the variable answer in the loop. Predict what the code will do. Run it to see what it does do. Explain what is happening.\n",
        "\n",
        "HINT: You will need to know how the user can stop a program in the middle of it running. In these notebooks you can do that by clicking on the Kernel drop down menu at the top and then choosing Interrupt"
      ]
    },
    {
      "cell_type": "code",
      "execution_count": null,
      "id": "8874b406-e7fb-4c0c-9851-08addd4f30ca",
      "metadata": {
        "id": "8874b406-e7fb-4c0c-9851-08addd4f30ca",
        "outputId": "7f02cbeb-b285-476e-9a50-053ba7b41ecc"
      },
      "outputs": [
        {
          "name": "stdout",
          "output_type": "stream",
          "text": [
            "Starting\n",
            "The Moon is Made of Green Cheese\n",
            "The Moon is Made of Green Cheese\n",
            "The Moon is Made of Green Cheese\n",
            "The Moon is Made of Green Cheese\n",
            "The Moon is Made of Green Cheese\n",
            "The Moon is Made of Green Cheese\n",
            "The Moon is Made of Green Cheese\n",
            "The Moon is Made of Green Cheese\n",
            "The Moon is Made of Green Cheese\n",
            "The Moon is Made of Green Cheese\n",
            "The Moon is Made of Green Cheese\n",
            "The Moon is Made of Green Cheese\n",
            "The Moon is Made of Green Cheese\n",
            "The Moon is Made of Green Cheese\n",
            "The Moon is Made of Green Cheese\n",
            "The Moon is Made of Green Cheese\n",
            "The Moon is Made of Green Cheese\n",
            "The Moon is Made of Green Cheese\n",
            "The Moon is Made of Green Cheese\n",
            "The Moon is Made of Green Cheese\n",
            "The Moon is Made of Green Cheese\n",
            "The Moon is Made of Green Cheese\n",
            "The Moon is Made of Green Cheese\n",
            "The Moon is Made of Green Cheese\n",
            "The Moon is Made of Green Cheese\n",
            "The Moon is Made of Green Cheese\n",
            "The Moon is Made of Green Cheese\n",
            "The Moon is Made of Green Cheese\n",
            "The Moon is Made of Green Cheese\n",
            "The Moon is Made of Green Cheese\n",
            "The Moon is Made of Green Cheese\n",
            "The Moon is Made of Green Cheese\n",
            "The Moon is Made of Green Cheese\n",
            "The Moon is Made of Green Cheese\n",
            "The Moon is Made of Green Cheese\n",
            "The Moon is Made of Green Cheese\n",
            "The Moon is Made of Green Cheese\n",
            "The Moon is Made of Green Cheese\n",
            "The Moon is Made of Green Cheese\n",
            "The Moon is Made of Green Cheese\n",
            "The Moon is Made of Green Cheese\n",
            "The Moon is Made of Green Cheese\n",
            "The Moon is Made of Green Cheese\n",
            "The Moon is Made of Green Cheese\n",
            "The Moon is Made of Green Cheese\n",
            "The Moon is Made of Green Cheese\n",
            "The Moon is Made of Green Cheese\n",
            "The Moon is Made of Green Cheese\n",
            "The Moon is Made of Green Cheese\n",
            "The Moon is Made of Green Cheese\n",
            "The Moon is Made of Green Cheese\n",
            "The Moon is Made of Green Cheese\n",
            "The Moon is Made of Green Cheese\n",
            "The Moon is Made of Green Cheese\n",
            "The Moon is Made of Green Cheese\n",
            "The Moon is Made of Green Cheese\n",
            "The Moon is Made of Green Cheese\n",
            "The Moon is Made of Green Cheese\n",
            "The Moon is Made of Green Cheese\n",
            "The Moon is Made of Green Cheese\n",
            "The Moon is Made of Green Cheese\n",
            "The Moon is Made of Green Cheese\n",
            "The Moon is Made of Green Cheese\n",
            "The Moon is Made of Green Cheese\n",
            "The Moon is Made of Green Cheese\n",
            "The Moon is Made of Green Cheese\n",
            "The Moon is Made of Green Cheese\n",
            "The Moon is Made of Green Cheese\n",
            "The Moon is Made of Green Cheese\n",
            "The Moon is Made of Green Cheese\n",
            "The Moon is Made of Green Cheese\n",
            "The Moon is Made of Green Cheese\n",
            "The Moon is Made of Green Cheese\n",
            "The Moon is Made of Green Cheese\n",
            "The Moon is Made of Green Cheese\n",
            "The Moon is Made of Green Cheese\n",
            "The Moon is Made of Green Cheese\n",
            "The Moon is Made of Green Cheese\n",
            "The Moon is Made of Green Cheese\n",
            "The Moon is Made of Green Cheese\n",
            "The Moon is Made of Green Cheese\n",
            "The Moon is Made of Green Cheese\n",
            "The Moon is Made of Green Cheese\n",
            "The Moon is Made of Green Cheese\n",
            "The Moon is Made of Green Cheese\n",
            "The Moon is Made of Green Cheese\n",
            "The Moon is Made of Green Cheese\n",
            "The Moon is Made of Green Cheese\n",
            "The Moon is Made of Green Cheese\n",
            "The Moon is Made of Green Cheese\n",
            "The Moon is Made of Green Cheese\n",
            "The Moon is Made of Green Cheese\n",
            "The Moon is Made of Green Cheese\n",
            "The Moon is Made of Green Cheese\n",
            "The Moon is Made of Green Cheese\n",
            "The Moon is Made of Green Cheese\n",
            "The Moon is Made of Green Cheese\n",
            "The Moon is Made of Green Cheese\n",
            "The Moon is Made of Green Cheese\n",
            "The Moon is Made of Green Cheese\n",
            "The Moon is Made of Green Cheese\n",
            "The Moon is Made of Green Cheese\n",
            "The Moon is Made of Green Cheese\n",
            "The Moon is Made of Green Cheese\n",
            "The Moon is Made of Green Cheese\n",
            "The Moon is Made of Green Cheese\n",
            "The Moon is Made of Green Cheese\n",
            "The Moon is Made of Green Cheese\n",
            "The Moon is Made of Green Cheese\n",
            "The Moon is Made of Green Cheese\n",
            "The Moon is Made of Green Cheese\n",
            "The Moon is Made of Green Cheese\n",
            "The Moon is Made of Green Cheese\n",
            "The Moon is Made of Green Cheese\n",
            "The Moon is Made of Green Cheese\n",
            "The Moon is Made of Green Cheese\n",
            "The Moon is Made of Green Cheese\n",
            "The Moon is Made of Green Cheese\n",
            "The Moon is Made of Green Cheese\n",
            "The Moon is Made of Green Cheese\n",
            "The Moon is Made of Green Cheese\n",
            "The Moon is Made of Green Cheese\n",
            "The Moon is Made of Green Cheese\n",
            "The Moon is Made of Green Cheese\n",
            "The Moon is Made of Green Cheese\n",
            "The Moon is Made of Green Cheese\n",
            "The Moon is Made of Green Cheese\n",
            "The Moon is Made of Green Cheese\n",
            "The Moon is Made of Green Cheese\n",
            "The Moon is Made of Green Cheese\n",
            "The Moon is Made of Green Cheese\n",
            "The Moon is Made of Green Cheese\n",
            "The Moon is Made of Green Cheese\n",
            "The Moon is Made of Green Cheese\n",
            "The Moon is Made of Green Cheese\n",
            "The Moon is Made of Green Cheese\n",
            "The Moon is Made of Green Cheese\n",
            "The Moon is Made of Green Cheese\n",
            "The Moon is Made of Green Cheese\n",
            "The Moon is Made of Green Cheese\n",
            "The Moon is Made of Green Cheese\n",
            "The Moon is Made of Green Cheese\n",
            "The Moon is Made of Green Cheese\n",
            "The Moon is Made of Green Cheese\n",
            "The Moon is Made of Green Cheese\n",
            "The Moon is Made of Green Cheese\n",
            "The Moon is Made of Green Cheese\n",
            "The Moon is Made of Green Cheese\n",
            "The Moon is Made of Green Cheese\n",
            "The Moon is Made of Green Cheese\n",
            "The Moon is Made of Green Cheese\n",
            "The Moon is Made of Green Cheese\n",
            "The Moon is Made of Green Cheese\n",
            "The Moon is Made of Green Cheese\n",
            "The Moon is Made of Green Cheese\n",
            "The Moon is Made of Green Cheese\n",
            "The Moon is Made of Green Cheese\n",
            "The Moon is Made of Green Cheese\n",
            "The Moon is Made of Green Cheese\n",
            "The Moon is Made of Green Cheese\n",
            "The Moon is Made of Green Cheese\n",
            "The Moon is Made of Green Cheese\n",
            "The Moon is Made of Green Cheese\n",
            "The Moon is Made of Green Cheese\n",
            "The Moon is Made of Green Cheese\n",
            "The Moon is Made of Green Cheese\n",
            "The Moon is Made of Green Cheese\n",
            "The Moon is Made of Green Cheese\n",
            "The Moon is Made of Green Cheese\n",
            "The Moon is Made of Green Cheese\n",
            "The Moon is Made of Green Cheese\n",
            "The Moon is Made of Green Cheese\n",
            "The Moon is Made of Green Cheese\n",
            "The Moon is Made of Green Cheese\n",
            "The Moon is Made of Green Cheese\n",
            "The Moon is Made of Green Cheese\n",
            "The Moon is Made of Green Cheese\n",
            "The Moon is Made of Green Cheese\n",
            "The Moon is Made of Green Cheese\n",
            "The Moon is Made of Green Cheese\n",
            "The Moon is Made of Green Cheese\n",
            "The Moon is Made of Green Cheese\n",
            "The Moon is Made of Green Cheese\n",
            "The Moon is Made of Green Cheese\n",
            "The Moon is Made of Green Cheese\n",
            "The Moon is Made of Green Cheese\n",
            "The Moon is Made of Green Cheese\n",
            "The Moon is Made of Green Cheese\n",
            "The Moon is Made of Green Cheese\n",
            "The Moon is Made of Green Cheese\n",
            "The Moon is Made of Green Cheese\n",
            "The Moon is Made of Green Cheese\n",
            "The Moon is Made of Green Cheese\n",
            "The Moon is Made of Green Cheese\n",
            "The Moon is Made of Green Cheese\n",
            "The Moon is Made of Green Cheese\n",
            "The Moon is Made of Green Cheese\n",
            "The Moon is Made of Green Cheese\n",
            "The Moon is Made of Green Cheese\n",
            "The Moon is Made of Green Cheese\n",
            "The Moon is Made of Green Cheese\n",
            "The Moon is Made of Green Cheese\n",
            "The Moon is Made of Green Cheese\n",
            "The Moon is Made of Green Cheese\n",
            "The Moon is Made of Green Cheese\n",
            "The Moon is Made of Green Cheese\n",
            "The Moon is Made of Green Cheese\n",
            "The Moon is Made of Green Cheese\n",
            "The Moon is Made of Green Cheese\n",
            "The Moon is Made of Green Cheese\n",
            "The Moon is Made of Green Cheese\n",
            "The Moon is Made of Green Cheese\n",
            "The Moon is Made of Green Cheese\n",
            "The Moon is Made of Green Cheese\n",
            "The Moon is Made of Green Cheese\n",
            "The Moon is Made of Green Cheese\n",
            "The Moon is Made of Green Cheese\n",
            "The Moon is Made of Green Cheese\n",
            "The Moon is Made of Green Cheese\n",
            "The Moon is Made of Green Cheese\n",
            "The Moon is Made of Green Cheese\n",
            "The Moon is Made of Green Cheese\n",
            "The Moon is Made of Green Cheese\n",
            "The Moon is Made of Green Cheese\n",
            "The Moon is Made of Green Cheese\n",
            "The Moon is Made of Green Cheese\n",
            "The Moon is Made of Green Cheese\n",
            "The Moon is Made of Green Cheese\n",
            "The Moon is Made of Green Cheese\n",
            "The Moon is Made of Green Cheese\n",
            "The Moon is Made of Green Cheese\n",
            "The Moon is Made of Green Cheese\n",
            "The Moon is Made of Green Cheese\n",
            "The Moon is Made of Green Cheese\n",
            "The Moon is Made of Green Cheese\n",
            "The Moon is Made of Green Cheese\n",
            "The Moon is Made of Green Cheese\n",
            "The Moon is Made of Green Cheese\n",
            "The Moon is Made of Green Cheese\n",
            "The Moon is Made of Green Cheese\n",
            "The Moon is Made of Green Cheese\n",
            "The Moon is Made of Green Cheese\n",
            "The Moon is Made of Green Cheese\n",
            "The Moon is Made of Green Cheese\n",
            "The Moon is Made of Green Cheese\n",
            "The Moon is Made of Green Cheese\n",
            "The Moon is Made of Green Cheese\n",
            "The Moon is Made of Green Cheese\n",
            "The Moon is Made of Green Cheese\n",
            "The Moon is Made of Green Cheese\n",
            "The Moon is Made of Green Cheese\n",
            "The Moon is Made of Green Cheese\n",
            "The Moon is Made of Green Cheese\n",
            "The Moon is Made of Green Cheese\n",
            "The Moon is Made of Green Cheese\n",
            "The Moon is Made of Green Cheese\n",
            "The Moon is Made of Green Cheese\n",
            "The Moon is Made of Green Cheese\n",
            "The Moon is Made of Green Cheese\n",
            "The Moon is Made of Green Cheese\n",
            "The Moon is Made of Green Cheese\n",
            "The Moon is Made of Green Cheese\n",
            "The Moon is Made of Green Cheese\n",
            "The Moon is Made of Green Cheese\n",
            "The Moon is Made of Green Cheese\n",
            "The Moon is Made of Green Cheese\n",
            "The Moon is Made of Green Cheese\n",
            "The Moon is Made of Green Cheese\n",
            "The Moon is Made of Green Cheese\n",
            "The Moon is Made of Green Cheese\n",
            "The Moon is Made of Green Cheese\n",
            "The Moon is Made of Green Cheese\n",
            "The Moon is Made of Green Cheese\n",
            "The Moon is Made of Green Cheese\n",
            "The Moon is Made of Green Cheese\n",
            "The Moon is Made of Green Cheese\n",
            "The Moon is Made of Green Cheese\n",
            "The Moon is Made of Green Cheese\n",
            "The Moon is Made of Green Cheese\n",
            "The Moon is Made of Green Cheese\n",
            "The Moon is Made of Green Cheese\n",
            "The Moon is Made of Green Cheese\n",
            "The Moon is Made of Green Cheese\n",
            "The Moon is Made of Green Cheese\n",
            "The Moon is Made of Green Cheese\n",
            "The Moon is Made of Green Cheese\n",
            "The Moon is Made of Green Cheese\n",
            "The Moon is Made of Green Cheese\n",
            "The Moon is Made of Green Cheese\n",
            "The Moon is Made of Green Cheese\n",
            "The Moon is Made of Green Cheese\n",
            "The Moon is Made of Green Cheese\n",
            "The Moon is Made of Green Cheese\n",
            "The Moon is Made of Green Cheese\n",
            "The Moon is Made of Green Cheese\n",
            "The Moon is Made of Green Cheese\n",
            "The Moon is Made of Green Cheese\n",
            "The Moon is Made of Green Cheese\n",
            "The Moon is Made of Green Cheese\n",
            "The Moon is Made of Green Cheese\n",
            "The Moon is Made of Green Cheese\n",
            "The Moon is Made of Green Cheese\n",
            "The Moon is Made of Green Cheese\n",
            "The Moon is Made of Green Cheese"
          ]
        },
        {
          "ename": "EvaluationInterruptedException",
          "evalue": "Evaluator was interrupted while executing: 'keepAsking6 ();'",
          "output_type": "error",
          "traceback": [
            "\u001b[1m\u001b[30m|   \u001b[1m\u001b[30mkeepAsking6 ();\u001b[0m",
            "\u001b[1m\u001b[31mEvaluation interrupted.\u001b[0m"
          ]
        },
        {
          "name": "stdout",
          "output_type": "stream",
          "text": [
            "\n",
            "The Moon is Made of Green Cheese\n",
            "The Moon is Made of Green Cheese\n",
            "The Moon is Made of Green Cheese\n",
            "The Moon is Made of Green Cheese\n",
            "The Moon is Made of Green Cheese\n",
            "The Moon is Made of Green Cheese"
          ]
        }
      ],
      "source": [
        "/* Keep asking until told to stop - faulty code */\n",
        "\n",
        "public static void keepAsking6 ()\n",
        "{\n",
        "       String answer = \"Y\";\n",
        "       System.out.println(\"Starting\");   \n",
        "       while (answer.equals(\"Y\"))\n",
        "       {\n",
        "           System.out.println(\"The Moon is Made of Green Cheese\");   \n",
        "       }\n",
        "       \n",
        "       System.out.println(\"Sorry, did it bother you? I will stop then.\");\n",
        " \n",
        "       return;\n",
        "}\n",
        "\n",
        "keepAsking6 ();"
      ]
    },
    {
      "cell_type": "markdown",
      "id": "dc0c4188-43a9-467e-9412-736004d8245f",
      "metadata": {
        "id": "dc0c4188-43a9-467e-9412-736004d8245f"
      },
      "source": [
        "This time the loop is entered because answer is initialised as \"Y\". The test is therefore true at the start so the loop body is entered and the message printed.\n",
        "\n",
        "However, the input is not done, i.e. the instruction to receive input from the user\n",
        "\n",
        "answer = inputString(\"Your turn to say something.\");\n",
        "\n",
        "has been omitted, so nothing in the loop changes the value stored in answer. There is no assignment to it. Therefore, when, at the end of the body, the loop jumps back to the test and checked it again. It has not changed. The message is printed again. However, as there is no possibility of it changing the same situation, repeats over and over again forever. The loop never terminates, unless interrupted at kernel level."
      ]
    },
    {
      "cell_type": "markdown",
      "id": "9b51cd35-68a0-4a4c-be34-82db245f54c6",
      "metadata": {
        "id": "9b51cd35-68a0-4a4c-be34-82db245f54c6"
      },
      "source": [
        "### Counter controlled loop using a _while_ loop\n",
        "\n",
        "We can turn a while loop into a counter-controlled loop. We just make the test depend on a counter. A while loop can do anything a for loop can do. It can do anything any kind of loop imaginable can do.\n",
        "\n",
        "Q7:Turn your code above into a counter-controlled loop that exectures exactly 8 times, by changing only the test."
      ]
    },
    {
      "cell_type": "code",
      "execution_count": null,
      "id": "917bb7b5-a87e-443b-a3cf-82406e7ce04f",
      "metadata": {
        "id": "917bb7b5-a87e-443b-a3cf-82406e7ce04f",
        "outputId": "c9a62174-e392-459a-d6b1-dd4f7f09434f"
      },
      "outputs": [
        {
          "name": "stdout",
          "output_type": "stream",
          "text": [
            "I've done it now.\n",
            "I've done it now.\n",
            "I've done it now.\n",
            "I've done it now.\n",
            "I've done it now.\n",
            "I've done it now.\n",
            "I've done it now.\n",
            "I've done it now.\n",
            "I will stop now.\n"
          ]
        }
      ],
      "source": [
        "/* Demonstrating counter-controlled while loop up to 8 times */\n",
        "\n",
        "public static void keepAsking7 ()\n",
        "{\n",
        "    int counter = 1;\n",
        "     \n",
        "    while (counter<=8)\n",
        "    {\n",
        "        System.out.println(\"I've done it now.\");\n",
        "        \n",
        "        counter = counter + 1;\n",
        "    }\n",
        "       \n",
        "    System.out.println(\"I will stop now.\");\n",
        "    return;\n",
        "}\n",
        "\n",
        "keepAsking7 ();"
      ]
    },
    {
      "cell_type": "markdown",
      "id": "b364ac53-a018-4ef6-8f44-246c08685ffe",
      "metadata": {
        "id": "b364ac53-a018-4ef6-8f44-246c08685ffe"
      },
      "source": [
        "***\n",
        "### Random Numbers\n",
        "Random numbers are important for many kinds of programs - in games that involve luck from throwing a dice to ones where we just want what your artificial intelligence opponent does to be unpredictable. When doing scientific modelling, we also need some randomness to simulate lots of different future worlds.\n",
        "\n",
        "We can create random numbers as below, by creating a variable of type _random_ then calling the _nextInt_ method with a number. It generates a random number from 0 up to 1 less than that number. The code below will print either 0 or 1 at random every time it is run:"
      ]
    },
    {
      "cell_type": "code",
      "execution_count": null,
      "id": "fd616f86-fb18-429b-b344-9b6276a2d5ee",
      "metadata": {
        "id": "fd616f86-fb18-429b-b344-9b6276a2d5ee",
        "outputId": "b69803cd-3458-46cc-9c6a-694837ccc3ff"
      },
      "outputs": [
        {
          "name": "stdout",
          "output_type": "stream",
          "text": [
            "0\n"
          ]
        }
      ],
      "source": [
        "/* Tossing random coin */\n",
        "\n",
        "Random coin = new Random();\n",
        "int cointoss = coin.nextInt(2);\n",
        "System.out.println(cointoss);"
      ]
    },
    {
      "cell_type": "code",
      "execution_count": null,
      "id": "41ec8e4f-59bb-42d5-ae14-663f16757ad0",
      "metadata": {
        "id": "41ec8e4f-59bb-42d5-ae14-663f16757ad0",
        "outputId": "182a465b-2a48-4d95-e85f-7cec80f3f9c9"
      },
      "outputs": [
        {
          "name": "stdout",
          "output_type": "stream",
          "text": [
            "1\n"
          ]
        }
      ],
      "source": [
        "/* Tossing random coin again */\n",
        "\n",
        "Random coin = new Random();\n",
        "int cointoss = coin.nextInt(2);\n",
        "System.out.println(cointoss);"
      ]
    },
    {
      "cell_type": "markdown",
      "id": "6a56cb04-2897-4012-bd46-50bd113add76",
      "metadata": {
        "id": "6a56cb04-2897-4012-bd46-50bd113add76"
      },
      "source": [
        "Q8: Change the number 2 in the above to get a 6-sided dice (though with numbers from 0 to 5 - just add 1 to the result if you want a normal dice)."
      ]
    },
    {
      "cell_type": "code",
      "execution_count": null,
      "id": "eb35bee2-4b30-4063-a8a0-a11f0fa6eebe",
      "metadata": {
        "id": "eb35bee2-4b30-4063-a8a0-a11f0fa6eebe",
        "outputId": "5b3c6eb2-4dbb-42ce-b205-f0c918970387"
      },
      "outputs": [
        {
          "name": "stdout",
          "output_type": "stream",
          "text": [
            "3\n"
          ]
        }
      ],
      "source": [
        "/* Rolling random dice */\n",
        "\n",
        "Random dice = new Random();\n",
        "int rollDice = dice.nextInt(6);\n",
        "System.out.println(rollDice);"
      ]
    },
    {
      "cell_type": "code",
      "execution_count": null,
      "id": "b90ede17-b29a-4a6c-9aa1-753d6845432b",
      "metadata": {
        "id": "b90ede17-b29a-4a6c-9aa1-753d6845432b",
        "outputId": "743fe6e1-5074-4473-a7dd-c1b13837a04c"
      },
      "outputs": [
        {
          "name": "stdout",
          "output_type": "stream",
          "text": [
            "0\n",
            "4\n",
            "2\n",
            "0\n",
            "2\n",
            "0\n",
            "4\n",
            "1\n",
            "Enough! I will stop now.\n"
          ]
        }
      ],
      "source": [
        "/* Rolling random dice 8 times */\n",
        "\n",
        "public static void keepRolling1 ()\n",
        "{\n",
        "    int counter = 1;\n",
        "     \n",
        "    while (counter<=8)\n",
        "    {\n",
        "        Random dice = new Random();\n",
        "        int rollDice = dice.nextInt(6);\n",
        "        System.out.println(rollDice);\n",
        "        \n",
        "        counter = counter + 1;\n",
        "    }\n",
        "       \n",
        "    System.out.println(\"Enough! I will stop now.\");\n",
        "    return;\n",
        "}\n",
        "\n",
        "keepRolling1 ();"
      ]
    },
    {
      "cell_type": "code",
      "execution_count": null,
      "id": "bf419d2f-ce89-4678-97e7-fb87b09d1e08",
      "metadata": {
        "id": "bf419d2f-ce89-4678-97e7-fb87b09d1e08",
        "outputId": "d1cb40e8-6900-4377-8c8a-a3dcf65927a6"
      },
      "outputs": [
        {
          "name": "stdout",
          "output_type": "stream",
          "text": [
            "5\n",
            "1\n",
            "2\n",
            "1\n",
            "2\n",
            "1\n",
            "4\n",
            "5\n",
            "Enough! I will stop now.\n"
          ]
        }
      ],
      "source": [
        "public static void keepRolling2 ()\n",
        "{\n",
        "    int counter = 1;\n",
        "     \n",
        "    while (counter<=8)\n",
        "    {\n",
        "        Random dice = new Random();\n",
        "        int rollDice = dice.nextInt(6);\n",
        "        System.out.println(rollDice);\n",
        "        \n",
        "        counter = counter + 1;\n",
        "    }\n",
        "       \n",
        "    System.out.println(\"Enough! I will stop now.\");\n",
        "    return;\n",
        "}\n",
        "\n",
        "keepRolling2 ();"
      ]
    },
    {
      "cell_type": "markdown",
      "id": "83c7ce07-e951-4a7d-9451-de874fb7ae71",
      "metadata": {
        "id": "83c7ce07-e951-4a7d-9451-de874fb7ae71"
      },
      "source": [
        "Q9: Write code to toss a coin until the person says they want to stop, using a while loop. It should, after the loop, print how many times it was a tail."
      ]
    },
    {
      "cell_type": "code",
      "execution_count": null,
      "id": "b4b3c1db-9260-4657-9c53-a2ec2c79110c",
      "metadata": {
        "id": "b4b3c1db-9260-4657-9c53-a2ec2c79110c",
        "outputId": "c1db0c66-8bf7-43e9-f6a3-b03197063d9d"
      },
      "outputs": [
        {
          "name": "stdout",
          "output_type": "stream",
          "text": [
            "0\n",
            "Do you want to toss again? (YES or NO).\n"
          ]
        },
        {
          "name": "stdin",
          "output_type": "stream",
          "text": [
            " YES\n"
          ]
        },
        {
          "name": "stdout",
          "output_type": "stream",
          "text": [
            "0\n",
            "Do you want to toss again? (YES or NO).\n"
          ]
        },
        {
          "name": "stdin",
          "output_type": "stream",
          "text": [
            " YES\n"
          ]
        },
        {
          "name": "stdout",
          "output_type": "stream",
          "text": [
            "1\n",
            "Do you want to toss again? (YES or NO).\n"
          ]
        },
        {
          "name": "stdin",
          "output_type": "stream",
          "text": [
            " YES\n"
          ]
        },
        {
          "name": "stdout",
          "output_type": "stream",
          "text": [
            "1\n",
            "Do you want to toss again? (YES or NO).\n"
          ]
        },
        {
          "name": "stdin",
          "output_type": "stream",
          "text": [
            " YES\n"
          ]
        },
        {
          "name": "stdout",
          "output_type": "stream",
          "text": [
            "0\n",
            "Do you want to toss again? (YES or NO).\n"
          ]
        },
        {
          "name": "stdin",
          "output_type": "stream",
          "text": [
            " YES\n"
          ]
        },
        {
          "name": "stdout",
          "output_type": "stream",
          "text": [
            "1\n",
            "Do you want to toss again? (YES or NO).\n"
          ]
        },
        {
          "name": "stdin",
          "output_type": "stream",
          "text": [
            " YES\n"
          ]
        },
        {
          "name": "stdout",
          "output_type": "stream",
          "text": [
            "0\n",
            "Do you want to toss again? (YES or NO).\n"
          ]
        },
        {
          "name": "stdin",
          "output_type": "stream",
          "text": [
            " YES\n"
          ]
        },
        {
          "name": "stdout",
          "output_type": "stream",
          "text": [
            "0\n",
            "Do you want to toss again? (YES or NO).\n"
          ]
        },
        {
          "name": "stdin",
          "output_type": "stream",
          "text": [
            " NO\n"
          ]
        },
        {
          "name": "stdout",
          "output_type": "stream",
          "text": [
            "You tossed 3 tails.\n"
          ]
        }
      ],
      "source": [
        "/* Tossing a coin where 0 means heads and 1 means tails,\n",
        "   and outputting number of tails */\n",
        "\n",
        "public static String inputString (String message)\n",
        "{\n",
        "       String answer;\n",
        "       Scanner scanner = new Scanner(System.in);\n",
        "\n",
        "       System.out.println(message);\n",
        "       answer = scanner.nextLine();\n",
        "   \n",
        "       return answer;\n",
        "}\n",
        "\n",
        "public static void headsOrTails1 ()\n",
        "{\n",
        "    Random coin = new Random();\n",
        "    final String AGAIN = \"YES\";\n",
        "    String answer = AGAIN;\n",
        "    int totalTails = 0;\n",
        "    \n",
        "    while (answer.equals(AGAIN))\n",
        "    {\n",
        "        int cointoss = coin.nextInt(2);\n",
        "        \n",
        "        System.out.println(cointoss);\n",
        "        totalTails = totalTails + cointoss;\n",
        "        answer = inputString(\"Do you want to toss again? (\" + AGAIN + \" or NO).\");\n",
        "    }\n",
        "\n",
        "    System.out.println(\"You tossed \" + totalTails + \" tails.\");\n",
        "    return;\n",
        "}\n",
        "\n",
        "headsOrTails1 ();"
      ]
    },
    {
      "cell_type": "markdown",
      "id": "080e85be-7924-4f1c-a03c-c28b84df0535",
      "metadata": {
        "id": "080e85be-7924-4f1c-a03c-c28b84df0535"
      },
      "source": [
        "Q10: Modify your code in Q9 above to toss a coin exactly 10 times using a while loop. It should, after the loop, print the number of tosses and number of times it was a tail.\n",
        "\n",
        "HINT: use a variable that keeps a running total by just adding the coin toss value on each time."
      ]
    },
    {
      "cell_type": "code",
      "execution_count": null,
      "id": "b5345e96-0cbd-4dad-88ad-58d69940fabf",
      "metadata": {
        "id": "b5345e96-0cbd-4dad-88ad-58d69940fabf",
        "outputId": "e643b829-1425-4612-9aa8-ecb89dace9f8"
      },
      "outputs": [
        {
          "name": "stdout",
          "output_type": "stream",
          "text": [
            "0\n",
            "1\n",
            "1\n",
            "0\n",
            "0\n",
            "0\n",
            "1\n",
            "1\n",
            "1\n",
            "0\n",
            "You tossed a total of 10 times.\n",
            "You tossed 5 tails.\n"
          ]
        }
      ],
      "source": [
        "/* Tossing a coin where 0 means heads and 1 means tails,\n",
        "   and outputting number of tosses and number of tails */\n",
        "\n",
        "public static void headsOrTails2 ()\n",
        "{\n",
        "    Random coin = new Random();\n",
        "    final int NUMBER_OF_TIMES = 10;\n",
        "    int total = 0;\n",
        "    int counter = 1;\n",
        "    \n",
        "    \n",
        "    while (counter <= NUMBER_OF_TIMES)\n",
        "    {\n",
        "        int cointoss = coin.nextInt(2);\n",
        "        \n",
        "        System.out.println(cointoss);\n",
        "        \n",
        "        total = total + cointoss;\n",
        "        counter = counter + 1;\n",
        "    }\n",
        "    \n",
        "    System.out.println(\"You tossed a total of \" + (counter - 1) + \" times.\");\n",
        "    System.out.println(\"You tossed \" + total + \" tails.\");\n",
        "    return;\n",
        "}\n",
        "\n",
        "headsOrTails2 ();"
      ]
    },
    {
      "cell_type": "markdown",
      "id": "e68cf7fb-5eea-40f9-a668-de81a9d886b5",
      "metadata": {
        "id": "e68cf7fb-5eea-40f9-a668-de81a9d886b5"
      },
      "source": [
        "Q11: Modify your code from Q10 above to toss a coin a 1000 times and then print the average value of the coin tosses. \n",
        "\n",
        "HINT: If the coin is fair it should come out at about 0.5"
      ]
    },
    {
      "cell_type": "code",
      "execution_count": null,
      "id": "7b85c871-ee29-49e7-bd9b-cb3636331a70",
      "metadata": {
        "id": "7b85c871-ee29-49e7-bd9b-cb3636331a70",
        "outputId": "ac838682-4c3a-412a-fcba-b1ac53701c38"
      },
      "outputs": [
        {
          "name": "stdout",
          "output_type": "stream",
          "text": [
            "The average of the tosses of your coin was 0.508\n"
          ]
        }
      ],
      "source": [
        "// Toss a coin where 0 means Heads and 1 means Tails */\n",
        "\n",
        "public static void headsOrTails11 ()\n",
        "{\n",
        "    Random coin = new Random();\n",
        "    final int NUMBER_OF_TIMES = 1000;\n",
        "    int total = 0;\n",
        "    double average;\n",
        "    int counter = 1;\n",
        "    \n",
        "    while (counter <= NUMBER_OF_TIMES)\n",
        "    {\n",
        "        int cointoss = coin.nextInt(2);\n",
        "        \n",
        "        total = total + cointoss;\n",
        "        counter = counter + 1;\n",
        "    }\n",
        "\n",
        "    average = (double) total / (double) NUMBER_OF_TIMES;\n",
        "    System.out.println(\"The average of the tosses of your coin was \" + average);\n",
        "    return;\n",
        "}\n",
        "\n",
        "headsOrTails11 ();"
      ]
    },
    {
      "cell_type": "markdown",
      "id": "02821ebb-575e-49de-8d7c-fe7a1e1347a5",
      "metadata": {
        "id": "02821ebb-575e-49de-8d7c-fe7a1e1347a5"
      },
      "source": [
        "**Note:** We are using while loops here to do a counter-controlled loop for learning purposes, but if the loop is a pure counter-controlled loop it is better to use a for loop. It is also better to create a coin toss method that abstracts away from random number."
      ]
    },
    {
      "cell_type": "markdown",
      "id": "f16c87c0-00a0-4d73-9993-00e77d42c001",
      "metadata": {
        "id": "f16c87c0-00a0-4d73-9993-00e77d42c001"
      },
      "source": [
        "***\n",
        "### **Summary**\n",
        "\n",
        "A _while_ loop is a way to repeat a block of code an unlimited number of times even when that number is not known until the test evaluates to \"false\". For example, it can allow the code to repeat until the user says they want to stop. The block of code is called the body of the loop. Continuation of the loop is controlled by a boolean test. It is tested before the body is executed each time. If the test is true the body is executed. If the test is false the loop ends and the next instruction immediately after the loop body is executed. For example:"
      ]
    },
    {
      "cell_type": "code",
      "execution_count": null,
      "id": "a4a43e54-c74a-400a-9255-1ac4b0226d7e",
      "metadata": {
        "id": "a4a43e54-c74a-400a-9255-1ac4b0226d7e",
        "outputId": "94235ee4-7317-4402-f36c-6e197c48e88a"
      },
      "outputs": [
        {
          "name": "stdout",
          "output_type": "stream",
          "text": [
            "Do the work over and over...\n",
            "Type STOP to quit. Hit RETURN to keep going\n"
          ]
        },
        {
          "name": "stdin",
          "output_type": "stream",
          "text": [
            " \n"
          ]
        },
        {
          "name": "stdout",
          "output_type": "stream",
          "text": [
            "Do the work over and over...\n",
            "Type STOP to quit. Hit RETURN to keep going\n"
          ]
        },
        {
          "name": "stdin",
          "output_type": "stream",
          "text": [
            " \n"
          ]
        },
        {
          "name": "stdout",
          "output_type": "stream",
          "text": [
            "Do the work over and over...\n",
            "Type STOP to quit. Hit RETURN to keep going\n"
          ]
        },
        {
          "name": "stdin",
          "output_type": "stream",
          "text": [
            " \n"
          ]
        },
        {
          "name": "stdout",
          "output_type": "stream",
          "text": [
            "Do the work over and over...\n",
            "Type STOP to quit. Hit RETURN to keep going\n"
          ]
        },
        {
          "name": "stdin",
          "output_type": "stream",
          "text": [
            " STOP\n"
          ]
        },
        {
          "name": "stdout",
          "output_type": "stream",
          "text": [
            "Carry on with the rest of the program ...\n"
          ]
        }
      ],
      "source": [
        "String stop = \"GO\";\n",
        "while(!stop.equals(\"STOP\"))\n",
        "{\n",
        "  System.out.println(\"Do the work over and over...\");\n",
        "  stop = inputString(\"Type STOP to quit. Hit RETURN to keep going\");\n",
        "}\n",
        "\n",
        "System.out.println(\"Carry on with the rest of the program ...\");"
      ]
    },
    {
      "cell_type": "markdown",
      "id": "7615f31d-307c-4c0f-94f4-db8e91513423",
      "metadata": {
        "id": "7615f31d-307c-4c0f-94f4-db8e91513423"
      },
      "source": [
        "^^^    ^^^   ^^^\n",
        "\n",
        "In the above code, the body is the code\n",
        "\n",
        "```\n",
        "  System.out.println(\"Do the work over and over...\");\n",
        "  stop = inputString(\"Type STOP to quit. Hit RETURN to keep going\");\n",
        "```\n",
        "\n",
        "It is what is repeated. The test, done before the above is executed is\n",
        "\n",
        "```\n",
        "!stop.equals(\"STOP\")\n",
        "```\n",
        "\n",
        "It says keep going while _stop_ does NOT equal the String \"STOP\" (notice the ! meaning NOT). This means if anything else at all is typed by the user then the loop body is executed again, and then after it has completed execution the code jumps back up to the test. If STOP is typed then the loop finishes and it continues with the rest of the program."
      ]
    },
    {
      "cell_type": "code",
      "execution_count": null,
      "id": "28f78c32-24a3-4919-82c2-434e95e3433a",
      "metadata": {
        "id": "28f78c32-24a3-4919-82c2-434e95e3433a"
      },
      "outputs": [],
      "source": []
    }
  ],
  "metadata": {
    "kernelspec": {
      "display_name": "Java",
      "language": "java",
      "name": "java"
    },
    "language_info": {
      "codemirror_mode": "java",
      "file_extension": ".jshell",
      "mimetype": "text/x-java-source",
      "name": "Java",
      "pygments_lexer": "java",
      "version": "11.0.8+10-LTS"
    },
    "colab": {
      "provenance": []
    }
  },
  "nbformat": 4,
  "nbformat_minor": 5
}