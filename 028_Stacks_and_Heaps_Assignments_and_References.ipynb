{
  "cells": [
    {
      "cell_type": "markdown",
      "id": "bb8b04db-d416-4d3e-9fc1-e3b105cca135",
      "metadata": {
        "id": "bb8b04db-d416-4d3e-9fc1-e3b105cca135"
      },
      "source": [
        "28.\n",
        "\n",
        "# Stacks and Heaps - Assignments and References\n",
        "\n",
        "This lesson enables us to explain why assignment appears to work differently between values of simple types and complex ones.\n",
        "\n",
        "### Assignments\n",
        "\n",
        "We have seen that variables are like storage boxes \n",
        "- but that can only store one thing at once, so when a new thing is stored the old thing is shredded,\n",
        "- and things are copied from them, never moved.\n",
        "\n",
        "However, there is some apparently odd behaviour of assignment that suggests something more is going on. The above is a good model of what is happening, but something else comes in to play - references. References are just pointers from one storage location in memory to another and understanding them is key to understanding the odd behaviour."
      ]
    },
    {
      "cell_type": "code",
      "execution_count": null,
      "id": "155ba5d0-d9e2-44a6-bc03-982d8511a1ff",
      "metadata": {
        "id": "155ba5d0-d9e2-44a6-bc03-982d8511a1ff",
        "outputId": "2c257120-12eb-4562-fef2-5c417eef5770"
      },
      "outputs": [
        {
          "name": "stdout",
          "output_type": "stream",
          "text": [
            "num1 holds 16\n",
            "num2 holds 32\n",
            "num1 holds 16\n",
            "num2 holds 16\n",
            "num1 holds 8\n",
            "num2 holds 16\n"
          ]
        }
      ],
      "source": [
        "/* Simple assignment and re-assignment */\n",
        "\n",
        "int num1 = 16;\n",
        "int num2 = 32;\n",
        "\n",
        "System.out.println(\"num1 holds \" + num1);\n",
        "System.out.println(\"num2 holds \" + num2);\n",
        "\n",
        "num2 = num1;\n",
        "\n",
        "System.out.println(\"num1 holds \" + num1);\n",
        "System.out.println(\"num2 holds \" + num2);\n",
        "\n",
        "num1 = 8;\n",
        "\n",
        "System.out.println(\"num1 holds \" + num1);\n",
        "System.out.println(\"num2 holds \" + num2);"
      ]
    },
    {
      "cell_type": "markdown",
      "id": "911b5f04-a8c3-46f5-9146-29393f390c3e",
      "metadata": {
        "id": "911b5f04-a8c3-46f5-9146-29393f390c3e"
      },
      "source": [
        "The code stores 16 in num1 and then 32 into num2, printing both out.\n",
        "It then makes a copy of the value in num1 and stores it in num2, leaving num1 alone.\n",
        "\n",
        "```\n",
        "num2 = num1;\n",
        "```\n",
        "\n",
        "num2 as a result now holds 16 as does num1 still.\n",
        "We then assign the value 8 to num1. That means num2 gets the value 8, losing its previous value.\n",
        "\n",
        "```\n",
        "num1 = 8;\n",
        "```\n",
        "\n",
        "As this assignment does not mention num2, num2 retains the value 16. Thus the final values printed are 8 and 16."
      ]
    },
    {
      "cell_type": "code",
      "execution_count": null,
      "id": "736835d2-2bf3-44b3-8d12-b737845c3849",
      "metadata": {
        "id": "736835d2-2bf3-44b3-8d12-b737845c3849",
        "outputId": "68f0cc16-d2bf-447c-da35-54a65380e158"
      },
      "outputs": [
        {
          "name": "stdout",
          "output_type": "stream",
          "text": [
            "numarray1 holds 16\n",
            "numarray2 holds 32\n",
            "numarray1 holds 16\n",
            "numarray2 holds 16\n",
            "numarray1 holds 8\n",
            "numarray2 holds 8\n"
          ]
        }
      ],
      "source": [
        "/* Simple assignment and re-assignment using arrays */\n",
        "\n",
        "int [] numarray1 = {16};\n",
        "int [] numarray2 = {32};\n",
        "\n",
        "System.out.println(\"numarray1 holds \" + numarray1[0]);\n",
        "System.out.println(\"numarray2 holds \" + numarray2[0]);\n",
        "\n",
        "numarray2 = numarray1;\n",
        "\n",
        "System.out.println(\"numarray1 holds \" + numarray1[0]);\n",
        "System.out.println(\"numarray2 holds \" + numarray2[0]);\n",
        "\n",
        "numarray1[0] = 8;\n",
        "\n",
        "System.out.println(\"numarray1 holds \" + numarray1[0]);\n",
        "System.out.println(\"numarray2 holds \" + numarray2[0]);"
      ]
    },
    {
      "cell_type": "markdown",
      "id": "376777b9-9130-4c23-aeb3-19ff0f9cf316",
      "metadata": {
        "id": "376777b9-9130-4c23-aeb3-19ff0f9cf316"
      },
      "source": [
        "**\n",
        "\n",
        "Despite looking essentially the same, it this time prints  a different value at the end for numarray1\n",
        "\n",
        "```\n",
        "numarray1 holds 16\n",
        "numarray2 holds 32\n",
        "numarray1 holds 16\n",
        "numarray2 holds 16\n",
        "numarray1 holds 8\n",
        "numarray2 holds 8\n",
        "```\n",
        "\n",
        "Changing the value in variable numarray1 seems to have also changed the value in numarray2 even though they are different variables so different storage spaces. It seems like the assignment\n",
        "\n",
        "```\n",
        "numarray2 = numarray1;\n",
        "```\n",
        "\n",
        "has behaved completely differently here to the equivalent looking\n",
        "\n",
        "```\n",
        "num2 = num1;\n",
        "```\n",
        "\n",
        "It _seems_ to have somehow made the two variables be the same box. It hasn't!\n",
        "\n",
        "In fact, the assignments are behaving exactly the same in the two examples of exercise 1 and 2. The difference is not due to the assignment but due to the fact that integers and arrays are stored in different ways, as we will see."
      ]
    },
    {
      "cell_type": "markdown",
      "id": "1f07f62c-5d62-44fc-9ccf-599d17b4ec33",
      "metadata": {
        "id": "1f07f62c-5d62-44fc-9ccf-599d17b4ec33"
      },
      "source": [
        "### What is happening\n",
        "\n",
        "Something odd is happening. You would expect (given what we understand about assignment from the previous lessons) for the two examples to print the same results, but they don't. In the second example, changing a value in number1 has apparently changed number2 as well even though it is not mentioned. However, they are different variables - different storage spaces that are supposedly not connected. The example seems to suggest assignment has worked differently: as a result of the assignments the two variables appear to be now connected in a strange way.\n",
        "\n",
        "**Do not jump to conclusions!**\n",
        "\n",
        "Despite what it looks like, it is NOT assignment that is working differently in the two situations. **It is the way different values are stored that causes the difference.** A variable declaration creates a storage space in memory ('a box') and the variable name is attached to that box. That is the case whatever the type of value stored.\n",
        "\n",
        "Simple values like integers are stored directly in the box. So the result of \n",
        "```java\n",
        "num1 = 16;\n",
        "```\n",
        "is to put 16 in the storage space called num1.\n",
        "\n",
        "| num1 |\n",
        "| :---: |\n",
        "| 16 |\n",
        "\n",
        "An **array is stored differently**, however. It is **stored in two parts so involves two different storage spaces, not just one**. The first storage space is similar to the one for integers. It is the place in the computer memory the variable name actually refers to. However the array value itself is not stored there. Instead a **reference** to the value is stored there. A reference is just a **pointer**. It points to the second storage space reserved for the array which is where the actual value is stored. In reality, a reference is a **memory address**: just a big number identifying a specific place in memory. Memory addresses are a bit like the index of an array but giving the position in the whole of memory, rather than just a position in an array.\n",
        "\n",
        "Below, to help illustrate what is happening, we just use @1 as a shorthand for a particular memory address. We label the second, unnamed storage space by this memory address label. In reality it is just a memory address number.\n",
        "\n",
        "\n",
        "| numarray1 | \n",
        "| :---: | \n",
        "| @1 |\n",
        "\n",
        "<center>I</center>\n",
        "\n",
        "<center>I</center>\n",
        "\n",
        "<center>I</center>\n",
        "\n",
        "<center>V</center>\n",
        "    \n",
        "\n",
        "| @1 | \n",
        "| :---: | \n",
        "| 16 |\n",
        "\n",
        "\n",
        "The arrow shows how the stored memory address points to the other storage space."
      ]
    },
    {
      "cell_type": "markdown",
      "id": "d5e68487-96b1-498a-979d-fb1fea35052e",
      "metadata": {
        "id": "d5e68487-96b1-498a-979d-fb1fea35052e"
      },
      "source": [
        "### How does the way arrays are stored affect assignment?\n",
        "\n",
        "When we assign a value to a variable such as\n",
        "\n",
        "```\n",
        "num1 = 16;\n",
        "```\n",
        "\n",
        "We are just putting a value in the named storage space.\n",
        "\n",
        "When we refer to a variable in an expression such as on the right hand side of\n",
        "an assignment, we get a value out of the named storage space. Therefore,\n",
        "\n",
        "```\n",
        "num2 = num1;\n",
        "```\n",
        "\n",
        "gets the value out of the storage space num1 and puts it in num2.\n",
        "\n",
        "Exactly the same thing happens with array assignment except this time what is in those storage spaces refered to by the variable name are not the data itself but a reference.\n",
        "\n",
        "This means that when we assign a value to a variable such as\n",
        "\n",
        "```\n",
        "numarray2 = numarray1;\n",
        "```\n",
        "\n",
        "the right hand side evaluates to give us a copy of the value in numarray1 - and that value is the **reference** that is stored in numarray1. The assignment then stores that reference into numarray2. We have copied a memory address from one place to the other. This means that we are changing where the variable numarray2 is pointing to. \n",
        "numarray2 now points to the same block of memory as numarray1. It now holds a new address.\n",
        "The actual data the two array variables are pointing to is untouched by the assignment.\n",
        "\n",
        "Both variables now point to the same storage space - the storage space that was originally set up for numarray1. The original storage space numarray2 was pointing to is lost (unless a copy of it was made). The memory concerned is eventually freed up to be used again.\n",
        "\n",
        "When we then do an assignment to change an entry in the array, we change the information at the place both variables are pointing to.\n",
        "\n",
        "So\n",
        "\n",
        "```\n",
        "numarray1[0] = 8;\n",
        "```\n",
        "\n",
        "changes the value in the 0th position after that pointed to from numarray1 to 8. However, numarray2 is now pointing to the same place, so when we follow its pointer and look at it ```numarray2[0]``` it goes now to the same storage location and so gives us back the same value.  Printing the values in both arrays does the same thing. \n",
        "\n",
        "The upshot of this is that when we give an array variable name it access the variable value as\n",
        "with any other value. However, what it finds there is a reference not the data. Assignment always\n",
        "does the same thing copying and storing new values in the named storage spaces,\n",
        "but the values in those storage spaces being manipulated are references in the case of an array."
      ]
    },
    {
      "cell_type": "code",
      "execution_count": null,
      "id": "2e96c564-66d2-44e1-b713-fb4f3f0bf069",
      "metadata": {
        "id": "2e96c564-66d2-44e1-b713-fb4f3f0bf069",
        "outputId": "9ae6a8fc-6637-47a8-ff31-0b50447df5b4"
      },
      "outputs": [
        {
          "name": "stdout",
          "output_type": "stream",
          "text": [
            "[I@3494c411\n",
            "16\n"
          ]
        }
      ],
      "source": [
        "/* Printing the reference of an array */\n",
        "\n",
        "int [] numarray1 = {16};\n",
        "System.out.println(numarray1);\n",
        "System.out.println(numarray1[0]);"
      ]
    },
    {
      "cell_type": "markdown",
      "id": "b40246cc-73c6-444f-b475-70b73bf615e5",
      "metadata": {
        "id": "b40246cc-73c6-444f-b475-70b73bf615e5"
      },
      "source": [
        "The code first creates an array variable, numarray1 storing in it a reference to another storage space\n",
        "where the 16 is stored. When we print **numarray1 itself** and not one cell of it like ```numarray1[0]``` but the whole thing as in\n",
        "```\n",
        "System.out.println(numarray1);\n",
        "```\n",
        "the reference is printed.\n",
        "\n",
        "We are not actually printing the data here. We are printing the reference that is stored in the\n",
        "storage space numarray1 itself - a memory address (so essentially a big number). It is printed in hexadecimal (base 16) whose 16 digits contain letters a-f as the extra digits that come after 9. Each time you run it a different place in memory will be **allocated** for the array storage and so the address will be different each time. That is why the hexadecimal number printed is different each time it is run.\n",
        "\n",
        "By contrast, when we print ```numarray1[0]``` as in\n",
        "```\n",
        "System.out.println(numarray1[0]);\n",
        "```\n",
        "we are going to that memory address and printing the value stored there. It is where the 16 was put so\n",
        "that is what we print. You can think of the square brackets **[ ]** as meaning **follow the pointer**."
      ]
    },
    {
      "cell_type": "markdown",
      "id": "453f3654-00c1-4bbf-9948-d003950b0290",
      "metadata": {
        "id": "453f3654-00c1-4bbf-9948-d003950b0290"
      },
      "source": [
        "### Following references\n",
        "\n",
        "When we give an index to an array variable (eg ```numarray1[0]```) we are telling the computer to follow the pointer. \n",
        "You can think of a reference as being a signpost telling you how to get\n",
        "to the real storage location. Then treat the ```[]``` as meaning \" **follow the signpost and go to\n",
        "where it is pointing to find the actual data** .\"\n",
        "\n",
        "So ```numarray1[0]``` says go to numarray1 and note the reference stored there, then \"follow the signpost\", i.e. go to the block of storage at the given memory address. The ```[0]``` says once you get there go to the 0th place on from that. \n",
        "\n",
        "An expression ```a[5]```\n",
        " says look at the reference in a, then go to that storage space it points to, but then go on 5 places further from that point to find the actual data. The value found there is what ```a[5]``` evaluates to.\n",
        "\n",
        "The print statement:\n",
        "\n",
        "```\n",
        "System.out.println(numarray1[0]);\n",
        "```\n",
        "\n",
        "thus prints the value stored in the location where numarray1 is pointing. 16 is stored there \n",
        "so 16 is passed to the print method to be printed."
      ]
    },
    {
      "cell_type": "markdown",
      "id": "0c6edfd4-40a0-4ab1-95ce-b34e7b57e2f8",
      "metadata": {
        "id": "0c6edfd4-40a0-4ab1-95ce-b34e7b57e2f8"
      },
      "source": [
        "Q: Edit the code so that the two arrays have length 2 so store two values. Run it to check that the same thing happens when the other values in the array are accessed."
      ]
    },
    {
      "cell_type": "code",
      "execution_count": null,
      "id": "a26b40c7-41c3-4616-bb77-4030aa510d93",
      "metadata": {
        "id": "a26b40c7-41c3-4616-bb77-4030aa510d93",
        "outputId": "8cee0171-7f69-429a-c62d-b88dd2c681d3"
      },
      "outputs": [
        {
          "name": "stdout",
          "output_type": "stream",
          "text": [
            "numarray1 holds 16,17\n",
            "numarray2 holds 32,33\n",
            "numarray1 holds 8,9\n",
            "numarray2 holds 8,9\n"
          ]
        }
      ],
      "source": [
        "/* Demonstrating array assignment to pointers */\n",
        "\n",
        "int [] numarray1 = {16, 17};\n",
        "int [] numarray2 = {32, 33};\n",
        "\n",
        "System.out.println(\"numarray1 holds \" + numarray1[0] + \",\" + numarray1[1]);\n",
        "System.out.println(\"numarray2 holds \" + numarray2[0] + \",\" + numarray2[1]);\n",
        "\n",
        "numarray2 = numarray1;\n",
        "\n",
        "numarray1[0] = 8;\n",
        "numarray1[1] = 9;\n",
        "\n",
        "System.out.println(\"numarray1 holds \" + numarray1[0] + \",\" + numarray1[1]);\n",
        "System.out.println(\"numarray2 holds \" + numarray2[0] + \",\" + numarray2[1]);"
      ]
    },
    {
      "cell_type": "markdown",
      "id": "f1578ba0-7eee-4192-be77-e90e81420cb4",
      "metadata": {
        "id": "f1578ba0-7eee-4192-be77-e90e81420cb4"
      },
      "source": [
        "The same thing does happen all values in numarray1 and numarray2 are changed - all values in the array are accessed by following where the reference / pointers so once the variable is pointing to a different place all the array locations are affected."
      ]
    },
    {
      "cell_type": "code",
      "execution_count": null,
      "id": "f54ce671-49a9-478d-a660-e5a1a152c8f7",
      "metadata": {
        "id": "f54ce671-49a9-478d-a660-e5a1a152c8f7",
        "outputId": "b620f4e0-468a-48eb-aa6a-d20fb435d0bc"
      },
      "outputs": [
        {
          "name": "stdout",
          "output_type": "stream",
          "text": [
            "variable1 holds cow\n",
            "variable2 holds cow\n"
          ]
        }
      ],
      "source": [
        "/* Demonstrating array assignment to pointers */\n",
        "\n",
        "class Animal\n",
        "{\n",
        "   String name;\n",
        "}\n",
        "\n",
        "\n",
        "Animal variable1 = new Animal();\n",
        "Animal variable2 = new Animal();\n",
        "\n",
        "variable1.name = \"cat\";\n",
        "variable2.name = \"dog\";\n",
        "\n",
        "variable2 = variable1;\n",
        "\n",
        "variable1.name = \"cow\";\n",
        "\n",
        "System.out.println(\"variable1 holds \" + variable1.name);\n",
        "System.out.println(\"variable2 holds \" + variable2.name);"
      ]
    },
    {
      "cell_type": "markdown",
      "id": "355354a3-7e2f-4603-81c2-7d0329d731d6",
      "metadata": {
        "id": "355354a3-7e2f-4603-81c2-7d0329d731d6"
      },
      "source": [
        "**\n",
        "\n",
        "so even though we only changed variable1's field to cow, variable2's field has changed too.\n",
        "\n",
        "This means that, **like arrays, records are stored** (and objects) **as references to the actual record** .\n",
        "\n",
        "Refer to the copy of the program below. It declares a new type of animal with a single field - it's name. Two variables of type animal are created, one storing the String \"cat\" and the other storing the String \"dog\". However, the two variables actually just store references to other storage spaces in memory where \"cat\" and \"dog\" are stored. The references stored in the record (and object) variables indicate where. \n",
        "\n",
        "The assignment\n",
        "```\n",
        "variable2 = variable1;\n",
        "```\n",
        "makes a copy of the reference that was in variable1 (which points to the storage holding \"cat\") and puts it in variable2. At this point both variables point to the same place - where \"cat\" is stored.\n",
        "\n",
        "The next instruction:\n",
        "The assignment\n",
        "```\n",
        "variable1.name = \"cow\";\n",
        "```\n",
        "says go to variable1 and follow the reference you find there. Where you end up you find a record with a single field called name. Go into that field and put the String \"cow\" there.\n",
        "\n",
        "Now beecause variable2 contains the same reference as variable1, it is pointing at the same storage space where \"cat\" *was* stored, but where now \"cow\" is stored. That means when we print the name field of either variable1 or variable2, it is now \"cow\". Both variables point to the same storage location so both hold the same values."
      ]
    },
    {
      "cell_type": "markdown",
      "id": "10cdafbc-d40e-45e5-82ae-62f54dbaede1",
      "metadata": {
        "id": "10cdafbc-d40e-45e5-82ae-62f54dbaede1"
      },
      "source": [
        "Q: Convert the following code so that the variables are of type char and store single characters in them (i.e. values 'a', 'b' and 'c').\n",
        "\n",
        "Based on the results, are single characters stored like integers in the named storage space or as references like arrays?"
      ]
    },
    {
      "cell_type": "code",
      "execution_count": null,
      "id": "1b89d87c-0edd-496f-beaf-9d846bdc83b8",
      "metadata": {
        "id": "1b89d87c-0edd-496f-beaf-9d846bdc83b8",
        "outputId": "b52cd097-6ed9-47a6-99f0-d518d6147fb7"
      },
      "outputs": [
        {
          "name": "stdout",
          "output_type": "stream",
          "text": [
            "variable1 holds 16\n",
            "variable2 holds 32\n",
            "variable1 holds 8\n",
            "variable2 holds 16\n"
          ]
        }
      ],
      "source": [
        "/* Ordinary variable (non-array) assignment of integers */\n",
        "\n",
        "int variable1 = 16;\n",
        "int variable2 = 32;\n",
        "\n",
        "System.out.println(\"variable1 holds \" + variable1);\n",
        "System.out.println(\"variable2 holds \" + variable2);\n",
        "\n",
        "variable2 = variable1;\n",
        "\n",
        "variable1 = 8;\n",
        "\n",
        "System.out.println(\"variable1 holds \" + variable1);\n",
        "System.out.println(\"variable2 holds \" + variable2);"
      ]
    },
    {
      "cell_type": "markdown",
      "id": "b8fe35b6-b70e-4f45-90df-4342c87d32a2",
      "metadata": {
        "id": "b8fe35b6-b70e-4f45-90df-4342c87d32a2"
      },
      "source": [
        "**\n",
        "\n",
        "The last assignment to variable1 does not change the value printed when variable2 is printed, so they are NOT storing references.\n",
        "\n",
        "This means the final assignment only affects variable1 not variable2, so only variable1 gets the new value of the character 'c'\n",
        "\n",
        "Q: Change the types to _char_ and make the three values assigned to them are different. Print the results."
      ]
    },
    {
      "cell_type": "code",
      "execution_count": null,
      "id": "2539c616-0263-4b5a-93a0-a88b9f3d4ea4",
      "metadata": {
        "id": "2539c616-0263-4b5a-93a0-a88b9f3d4ea4",
        "outputId": "795d2d19-b302-469e-abac-610eeea36e7c"
      },
      "outputs": [
        {
          "name": "stdout",
          "output_type": "stream",
          "text": [
            "variable1 holds a\n",
            "variable2 holds b\n",
            "variable1 holds c\n",
            "variable2 holds a\n"
          ]
        }
      ],
      "source": [
        "/* Ordinary variable (non-array) assignment of characters */\n",
        "\n",
        "char variable1 = 'a';\n",
        "char variable2 = 'b';\n",
        "\n",
        "System.out.println(\"variable1 holds \" + variable1);\n",
        "System.out.println(\"variable2 holds \" + variable2);\n",
        "\n",
        "variable2 = variable1;\n",
        "\n",
        "variable1 = 'c';\n",
        "\n",
        "System.out.println(\"variable1 holds \" + variable1);\n",
        "System.out.println(\"variable2 holds \" + variable2);"
      ]
    },
    {
      "cell_type": "markdown",
      "id": "5114eae0-8da1-41d0-bd4c-ef29d1561e3d",
      "metadata": {
        "id": "5114eae0-8da1-41d0-bd4c-ef29d1561e3d"
      },
      "source": [
        "**\n",
        "\n",
        "Characters are stored like integers, actually in the named variable storage space, not as references, as are the other basic types such as booleans and doubles.\n",
        "\n",
        "This means the final assignment only affects variable1 not variable2, so only variable1 gets the new value of the character 'c'"
      ]
    },
    {
      "cell_type": "markdown",
      "id": "30078ab7-7739-48fd-be50-1513e14682e8",
      "metadata": {
        "id": "30078ab7-7739-48fd-be50-1513e14682e8"
      },
      "source": [
        "### Strings\n",
        "Strings are more complicated. **They are actually stored as references**, but in a way that hides the fact (basically they are defined as an abstract data type hiding the reference implementation). The key difference is **String values cannot be changed once creaated**.  Each new String value is stored in a different storage place. When you store a new String value in a variable you are creating a completely new sequence of characters stored on the **heap** first and then making a reference point to it, stored in the variable. When you concatenate two strings like \n",
        "```\n",
        "\"hello \" + \"Paul\"\n",
        "```\n",
        "to create the String ```\"hello Paul\"``` you are making a completely new string not changing either\n",
        " ```\"hello \"```  or  ```\"Paul\"```. Hence:"
      ]
    },
    {
      "cell_type": "markdown",
      "id": "9da6b1de-dd27-4fd5-9876-ca844c97e302",
      "metadata": {
        "id": "9da6b1de-dd27-4fd5-9876-ca844c97e302"
      },
      "source": [
        "Strings are stored as references. However, each separate string value (\"cat\", \"dog\" and \"ant\") are allocated their own specific storage space on the heap that does not change. \n",
        "\n",
        "The initialisations make the two variable point to different places. The assignment\n",
        "```\n",
        "variable2 = variable1;\n",
        "```\n",
        "stores a copy of the reference from variable1 into variable2. That makes them both point to the same memory address so the same sequence of characters i.e. \"cat\".\n",
        "\n",
        "When we do the final assignment, because String assignment of ordinary variables \n",
        "```\n",
        "variable2 = \"ant\";\n",
        "```\n",
        "we are creating a completely new string \"ant\" at another place in memory. The reference to that address is then stored in the variable variable2.\n",
        "\n",
        "Notice here all the assignments to variables are concerned with the variable itself. With arrays and records, the last assignment did not change the memory address value stored in the variable, but followed the reference and changed a value in the place pointed to ... \n",
        "\n",
        "With arrays we follow the reference by giving an index as in ```a[1]```. \n",
        "\n",
        "With records we follow the reference by giving a field name as in ```b.name```\n",
        "\n",
        "The final assignment in the String example is following a reference, but the reference is overwriten with a new one pointing to a new location."
      ]
    },
    {
      "cell_type": "markdown",
      "id": "936af1d5-bc0d-46c0-8dd9-ea3a46ae212b",
      "metadata": {
        "id": "936af1d5-bc0d-46c0-8dd9-ea3a46ae212b"
      },
      "source": [
        "***\n",
        "\n",
        "### The heap and the stack\n",
        "\n",
        "When a Java program runs, the memory it uses is divided into two areas called the **stack** and the **heap** that are both organised and used differently. All declared variables are allocated a place on the stack in the next free space there. Variables thus refer to the stack. It is thus a very organised area of memory in a way that supports localisation.\n",
        "\n",
        "For variables of simple types like integers and characters, the variable is a place on the stack. When values are stored in a variable they are stored in that place on the stack. So a declaration like\n",
        "\n",
        "```\n",
        "int count = 1;\n",
        "```\n",
        "\n",
        "creates a storage space on the stack, labels it 'count' and the value 1 is stored in that position on the stack.\n",
        "\n",
        "For variables holding reference types like arrays, records and Strings, the variable also corresponds to a place on the stack. However, the value stored there on the stack is the reference. All references then point to storage locations on the heap.\n",
        "\n",
        "Therefore, in a declaration like\n",
        "\n",
        "```\n",
        "int [] ages = {1,2,3};\n",
        "```\n",
        "\n",
        "one storage space is created on the stack. It is labelled ages, and it holds a reference. The values 1, 2 and 3 are stored together on the heap. The reference stored on the stack points to that new place on the heap.\n",
        "\n",
        "The heap can hold references too, pointing to other places on the heap. If we declare an array of Strings, then all the values stored in the array (on the heap) are Strings. However, those Strings are stored as references themselves, so what the values in the array are, are just references to other places on the heap.\n",
        "\n",
        "### _new_\n",
        "\n",
        "Given the above explanation of references, the stack and the heap, we can now start to understand what **new** does: it just allocates storage space on the heap."
      ]
    },
    {
      "cell_type": "code",
      "execution_count": null,
      "id": "5271097c-2c84-4c29-98e8-7250f55286cc",
      "metadata": {
        "id": "5271097c-2c84-4c29-98e8-7250f55286cc",
        "outputId": "3033baab-d09f-4828-8060-caff64466594"
      },
      "outputs": [
        {
          "name": "stdout",
          "output_type": "stream",
          "text": [
            "50\n"
          ]
        }
      ],
      "source": [
        "/* The 'new' command */\n",
        "\n",
        "int myage = 50;\n",
        "\n",
        "int[] ages;\n",
        "ages = new int[5];\n",
        "ages[3] = myage;\n",
        "System.out.println(ages[3]);"
      ]
    },
    {
      "cell_type": "markdown",
      "id": "e13b9735-69ff-4213-940d-73c90144d9cd",
      "metadata": {
        "id": "e13b9735-69ff-4213-940d-73c90144d9cd"
      },
      "source": [
        "**\n",
        "\n",
        "```\n",
        "int myage = 50;\n",
        "```\n",
        "\n",
        "This creates a storage space on the stack, labels it my age and stores the value 50 in that place on the stack.\n",
        "\n",
        "```\n",
        "int[] ages;\n",
        "```\n",
        "\n",
        "This creates a storage space on the stack and labels it my ages. Nothing is explicitly stored in it - no reference - so a null pointer (a pointer that points nowhere) is stored in it. \n",
        "\n",
        "```\n",
        "ages = new int[5];\n",
        "```\n",
        "\n",
        "The _new_ command finds and allocates a new block of memory on the heap, that is big enough to store an array of integers. It is reserved so will not be allocated to anything else. The storage spaces in memory are also initialised with default values (0 for integers). _new_ returns the reference to it (its memory address) and that memory address is stored by the assignment into the storage location labelled 'ages' on the stack.\n",
        "\n",
        "So after it is executed, the variable 'ages' (on the stack) is now pointing to the new block of memory (on the heap) and in that block of memory, five 0 values are stored.\n",
        "\n",
        "```\n",
        "ages[3] = myage;\n",
        "```\n",
        "\n",
        "This goes to myage which is on the stack and takes a copy of the value (50) stored there. It then goes to the variable ages (also on the stack) follows the reference to the heap and counts on 3 memory locations (staying on the heap) to get to the position which ```ages[3]``` refers to. The value 50 is stored in that storage location (on the heap).\n",
        "\n",
        "```\n",
        "System.out.println(ages[3]);\n",
        "```\n",
        "\n",
        "This \n",
        "- goes to the stack where ages is stored, \n",
        "- follows the reference from there to the heap, \n",
        "- goes on 3 places further\n",
        "- pulls out the value from that location (the value 50) and \n",
        "- prints that value 50."
      ]
    },
    {
      "cell_type": "code",
      "execution_count": null,
      "id": "41c40879-e4b3-4469-87a2-09c1f98a6f1f",
      "metadata": {
        "id": "41c40879-e4b3-4469-87a2-09c1f98a6f1f",
        "outputId": "4886a89b-c508-4c3f-aa7f-5315c04674ee"
      },
      "outputs": [
        {
          "name": "stdout",
          "output_type": "stream",
          "text": [
            "[I@2c73345a\n"
          ]
        }
      ],
      "source": [
        "System.out.println(new int[3]);"
      ]
    },
    {
      "cell_type": "markdown",
      "id": "d04c3a59-632e-4028-962b-be59d3f4b970",
      "metadata": {
        "id": "d04c3a59-632e-4028-962b-be59d3f4b970"
      },
      "source": [
        "The printed reference hexadecimal like\n",
        "\n",
        "```\n",
        "[I@4971bf88\n",
        "```\n",
        "\n",
        "changes each time. \n",
        "\n",
        "_new_ returns the memory address (a reference) to a new area of memory that has been allocated. Therefore, if we print the result of new being called we print the memory address. A similar thing happens if we call _new_ when declaring a new record variable."
      ]
    },
    {
      "cell_type": "markdown",
      "id": "7fa56a28-2b3f-4b34-88d2-f2120ade022b",
      "metadata": {
        "id": "7fa56a28-2b3f-4b34-88d2-f2120ade022b"
      },
      "source": [
        "***\n",
        "\n",
        "### Summary\n",
        "\n",
        "Memory is divided into the stack and the heap. Whenever a variable is declared, whatever the type, space is allocated for it on the stack. The variable's storage space resides on the stack. For simple values like integers, booleans e.t.c., that is the only memory used to store the value. For complex values of array, record and String type, however, what is stored there is a reference to a second storage space. That second storage space is on the heap. It is allocated when new is executed, whether explicitly as in \n",
        "\n",
        "```\n",
        "int [] a = new int [100];\n",
        "```\n",
        "\n",
        "or implicitly as in\n",
        "\n",
        "```\n",
        "int [] b = {1,2,3};\n",
        "```\n",
        "\n",
        "The latter is just shorthand for a more complex expression of _new_. new is also called implicitly whenever a String value is created.\n",
        "\n",
        "The above declaration of int array variable 'a', first creates an array variable and then initialises it with a reference to the new storage space allocated on the heap.\n",
        "\n",
        "This has consequences for assignment. An assignment to a variable always changes the storage space on the stack whatever the type. For variables storing values with reference types this means it changes the reference stored there so it points to a new place. This means it is possible to have two variables pointing to the same place on the heap. Then changing one value changes the other. The two variable names end up being aliases of the same array value. This can lead to very hard to understand programs, with very subtle bugs, so should be used with great care if at all.\n",
        "\n",
        "To change the value on the heap you have to indicate in some way what the value on the heap is meant by giving for example an index into an array or a filed name.\n",
        "\n",
        "It also has consequences for tests of equality and method call."
      ]
    },
    {
      "cell_type": "code",
      "execution_count": null,
      "id": "a4138b7f-98c8-4e3f-8cb9-1ac0b8d05693",
      "metadata": {
        "id": "a4138b7f-98c8-4e3f-8cb9-1ac0b8d05693"
      },
      "outputs": [],
      "source": []
    }
  ],
  "metadata": {
    "kernelspec": {
      "display_name": "Java",
      "language": "java",
      "name": "java"
    },
    "language_info": {
      "codemirror_mode": "java",
      "file_extension": ".jshell",
      "mimetype": "text/x-java-source",
      "name": "Java",
      "pygments_lexer": "java",
      "version": "11.0.8+10-LTS"
    },
    "colab": {
      "provenance": []
    }
  },
  "nbformat": 4,
  "nbformat_minor": 5
}