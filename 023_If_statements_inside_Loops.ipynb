{
  "cells": [
    {
      "cell_type": "markdown",
      "id": "28a859de-8c51-4704-9703-1f5864fd8e86",
      "metadata": {
        "id": "28a859de-8c51-4704-9703-1f5864fd8e86"
      },
      "source": [
        "23.\n",
        "\n",
        "# **_if_ statements inside Loops**\n",
        "\n",
        "In this lesson I look at _if_ statements inside loops. A Java _for_ loop looks like this:"
      ]
    },
    {
      "cell_type": "code",
      "execution_count": null,
      "id": "4c2fd81a-c66d-48ad-8d7d-352fed95e956",
      "metadata": {
        "id": "4c2fd81a-c66d-48ad-8d7d-352fed95e956",
        "outputId": "d5941d9c-67b3-4be2-cbc5-02dd579b09fd"
      },
      "outputs": [
        {
          "name": "stdout",
          "output_type": "stream",
          "text": [
            "Name a snake\n"
          ]
        },
        {
          "name": "stdin",
          "output_type": "stream",
          "text": [
            " cobra\n"
          ]
        },
        {
          "name": "stdout",
          "output_type": "stream",
          "text": [
            "You said cobra is a snake.\n",
            "Name a snake\n"
          ]
        },
        {
          "name": "stdin",
          "output_type": "stream",
          "text": [
            " mamba\n"
          ]
        },
        {
          "name": "stdout",
          "output_type": "stream",
          "text": [
            "You said mamba is a snake.\n",
            "Name a snake\n"
          ]
        },
        {
          "name": "stdin",
          "output_type": "stream",
          "text": [
            " common grass snake\n"
          ]
        },
        {
          "name": "stdout",
          "output_type": "stream",
          "text": [
            "You said common grass snake is a snake.\n",
            "Name a snake\n"
          ]
        },
        {
          "name": "stdin",
          "output_type": "stream",
          "text": [
            " rattlesnake\n"
          ]
        },
        {
          "name": "stdout",
          "output_type": "stream",
          "text": [
            "You said rattlesnake is a snake.\n",
            "Name a snake\n"
          ]
        },
        {
          "name": "stdin",
          "output_type": "stream",
          "text": [
            " puff adder\n"
          ]
        },
        {
          "name": "stdout",
          "output_type": "stream",
          "text": [
            "You said puff adder is a snake.\n"
          ]
        }
      ],
      "source": [
        "/* Illustrating a general for loop */\n",
        "\n",
        "public static String inputString (String message)\n",
        "{\n",
        "       String answer;\n",
        "       Scanner scanner = new Scanner(System.in);\n",
        "\n",
        "       System.out.println(message);\n",
        "       answer = scanner.nextLine();\n",
        "   \n",
        "       return answer;\n",
        "}\n",
        "\n",
        "public static void nameSnakes ()      /* Naming 5 snakes */\n",
        "{\n",
        "    final int SNAKES_TO_NAME = 5;\n",
        "    \n",
        "    for (int i=1; i<=SNAKES_TO_NAME; i++)\n",
        "    {\n",
        "        String snake = inputString(\"Name a snake\");\n",
        "        \n",
        "        System.out.println(\"You said \" + snake + \" is a snake.\");\n",
        "    }\n",
        "}\n",
        "\n",
        "nameSnakes();"
      ]
    },
    {
      "cell_type": "markdown",
      "id": "e893bb14-59cf-425a-92b1-891c38cbd810",
      "metadata": {
        "id": "e893bb14-59cf-425a-92b1-891c38cbd810"
      },
      "source": [
        "**\n",
        "\n",
        "The body of the for loop (inside its curly brackets) is just a normal block of code which can contain any kind of statement and not just declarations, assignments and print statements. In particular, it can include _if_ statements (and other loops) too. Common programming tasks sometimes require doing something a fixed number of times (_for_ loops), but also sometimes simultaneously doing something slightly different depending on the value input. This leads to a common pattern of code of this general form:"
      ]
    },
    {
      "cell_type": "code",
      "execution_count": null,
      "id": "bdb9a4a7-4899-45a1-8ed6-fbb224927e13",
      "metadata": {
        "id": "bdb9a4a7-4899-45a1-8ed6-fbb224927e13"
      },
      "outputs": [],
      "source": [
        "   for (int i=1; i<=N_TIMES; i++)\n",
        "    {\n",
        "        String answer = inputString(\"Give me an answer\");\n",
        "\n",
        "        if ((answer.equals(\"SOMETHING\")))\n",
        "        {\n",
        "            System.out.println(\"DO ONE THING);\n",
        "        }\n",
        "        else\n",
        "        {\n",
        "            System.out.println(\"DO SOMETHING ELSE\");\n",
        "        }\n",
        "    }"
      ]
    },
    {
      "cell_type": "markdown",
      "id": "14fc4c2d-7bfc-4cac-ab3e-995cc0b847f2",
      "metadata": {
        "id": "14fc4c2d-7bfc-4cac-ab3e-995cc0b847f2"
      },
      "source": [
        "Each time the loop body runs, it inputs a value and tests that value. An If statement then does the appropriate thing (i.e. goes through the appropriate branch) depending on the value input in that iteration of the loop.\n",
        "\n",
        "Q1: Wrap a for loop around a version of the above nameSnakes code to make it ask for a snake and tell you if it is venomous or not THREE TIMES. When testing it make sure it works both for known and unknown snakes.\n",
        "\n",
        "HINT: Make sure the curly brackets enclose the whole of the body and nothing else. Use consistent indentation (tabs) to clearly show what is inside (and what outside) curly brackets.\n",
        "\n",
        "HINT: Remember you need InputString compiled for this to work."
      ]
    },
    {
      "cell_type": "code",
      "execution_count": null,
      "id": "3549dda7-387f-4376-b988-db805a1cf86e",
      "metadata": {
        "id": "3549dda7-387f-4376-b988-db805a1cf86e",
        "outputId": "95670502-c8fe-4324-d36a-3e9fd86551dc"
      },
      "outputs": [
        {
          "name": "stdout",
          "output_type": "stream",
          "text": [
            "Name a snake and I will tell you if it is venomous\n"
          ]
        },
        {
          "name": "stdin",
          "output_type": "stream",
          "text": [
            " boa constrictor\n"
          ]
        },
        {
          "name": "stdout",
          "output_type": "stream",
          "text": [
            "The boa constrictor is NOT venomous.\n",
            "Name a snake and I will tell you if it is venomous\n"
          ]
        },
        {
          "name": "stdin",
          "output_type": "stream",
          "text": [
            " anaconda\n"
          ]
        },
        {
          "name": "stdout",
          "output_type": "stream",
          "text": [
            "The anaconda is NOT venomous.\n",
            "Name a snake and I will tell you if it is venomous\n"
          ]
        },
        {
          "name": "stdin",
          "output_type": "stream",
          "text": [
            " Tafo onanka\n"
          ]
        },
        {
          "name": "stdout",
          "output_type": "stream",
          "text": [
            "I have not heard of the Tafo onanka so assume it is venomous.\n"
          ]
        }
      ],
      "source": [
        "/* Illustrating if statement inside for loop */\n",
        "\n",
        "public static String inputString (String message)\n",
        "{\n",
        "       String answer;\n",
        "       Scanner scanner = new Scanner(System.in);\n",
        "\n",
        "       System.out.println(message);\n",
        "       answer = scanner.nextLine();\n",
        "   \n",
        "       return answer;\n",
        "}\n",
        "\n",
        "for(int i = 1; i<=3; i++)\n",
        "{\n",
        "    String snake = inputString(\"Name a snake and I will tell you if it is venomous\");\n",
        "        \n",
        "    if (snake.equals(\"boa constrictor\"))\n",
        "    {\n",
        "        System.out.println(\"The \" + snake + \" is NOT venomous.\");\n",
        "    }\n",
        "    else if (snake.equals(\"anaconda\"))\n",
        "    {\n",
        "        System.out.println(\"The \" + snake + \" is NOT venomous.\");\n",
        "    }\n",
        "    else\n",
        "    {\n",
        "        System.out.println(\"I have not heard of the \" + snake + \" so assume it is venomous.\");\n",
        "    }\n",
        "}"
      ]
    },
    {
      "cell_type": "markdown",
      "id": "fd10ab04-3d83-4387-9c8d-ef58ccec3aa2",
      "metadata": {
        "id": "fd10ab04-3d83-4387-9c8d-ef58ccec3aa2"
      },
      "source": [
        "Q2: Code the task in Q1 above utilising the OR connective:"
      ]
    },
    {
      "cell_type": "code",
      "execution_count": null,
      "id": "6a2295f5-2686-4c55-8866-84d05e14c662",
      "metadata": {
        "id": "6a2295f5-2686-4c55-8866-84d05e14c662",
        "outputId": "eee22837-d1bc-4a58-e362-9d80d39348f7"
      },
      "outputs": [
        {
          "name": "stdout",
          "output_type": "stream",
          "text": [
            "Name a snake and I will tell you if it is venomous\n"
          ]
        },
        {
          "name": "stdin",
          "output_type": "stream",
          "text": [
            " anaconda\n"
          ]
        },
        {
          "name": "stdout",
          "output_type": "stream",
          "text": [
            "The anaconda is NOT venomous.\n",
            "Name a snake and I will tell you if it is venomous\n"
          ]
        },
        {
          "name": "stdin",
          "output_type": "stream",
          "text": [
            " boa constrictor\n"
          ]
        },
        {
          "name": "stdout",
          "output_type": "stream",
          "text": [
            "The boa constrictor is NOT venomous.\n",
            "Name a snake and I will tell you if it is venomous\n"
          ]
        },
        {
          "name": "stdin",
          "output_type": "stream",
          "text": [
            " Gomoa ehurutsia\n"
          ]
        },
        {
          "name": "stdout",
          "output_type": "stream",
          "text": [
            "I have not heard of the Gomoa ehurutsia so assume it is venomous.\n"
          ]
        }
      ],
      "source": [
        "/* Illustrating if statement inside for loop using OR connective */\n",
        "\n",
        "public static String inputString (String message)\n",
        "{\n",
        "       String answer;\n",
        "       Scanner scanner = new Scanner(System.in);\n",
        "\n",
        "       System.out.println(message);\n",
        "       answer = scanner.nextLine();\n",
        "   \n",
        "       return answer;\n",
        "}\n",
        "\n",
        "for(int i = 1; i<=3; i++)\n",
        "{\n",
        "    String snake = inputString(\"Name a snake and I will tell you if it is venomous\");\n",
        "        \n",
        "    if (snake.equals(\"boa constrictor\") | snake.equals(\"anaconda\") )\n",
        "    {\n",
        "        System.out.println(\"The \" + snake + \" is NOT venomous.\");\n",
        "    }\n",
        "    else\n",
        "    {\n",
        "        System.out.println(\"I have not heard of the \" + snake + \" so assume it is venomous.\");\n",
        "    }\n",
        "}"
      ]
    },
    {
      "cell_type": "markdown",
      "id": "6dcf4f2d-3744-47c9-945c-6c4ff91ecd36",
      "metadata": {
        "id": "6dcf4f2d-3744-47c9-945c-6c4ff91ecd36"
      },
      "source": [
        "Q3: Code the task in Q1 above using multiple OR connectives:"
      ]
    },
    {
      "cell_type": "code",
      "execution_count": null,
      "id": "2c1c264e-f0ce-4e06-8379-b61edf00f2bf",
      "metadata": {
        "id": "2c1c264e-f0ce-4e06-8379-b61edf00f2bf",
        "outputId": "695b212f-471d-46e7-9e60-a62b00bef5f5"
      },
      "outputs": [
        {
          "name": "stdout",
          "output_type": "stream",
          "text": [
            "Name a snake and I will tell you if it is venomous\n"
          ]
        },
        {
          "name": "stdin",
          "output_type": "stream",
          "text": [
            " racer\n"
          ]
        },
        {
          "name": "stdout",
          "output_type": "stream",
          "text": [
            "The racer is NOT venomous.\n",
            "Name a snake and I will tell you if it is venomous\n"
          ]
        },
        {
          "name": "stdin",
          "output_type": "stream",
          "text": [
            " boa constrictor\n"
          ]
        },
        {
          "name": "stdout",
          "output_type": "stream",
          "text": [
            "The boa constrictor is NOT venomous.\n",
            "Name a snake and I will tell you if it is venomous\n"
          ]
        },
        {
          "name": "stdin",
          "output_type": "stream",
          "text": [
            " hognose\n"
          ]
        },
        {
          "name": "stdout",
          "output_type": "stream",
          "text": [
            "The hognose is NOT venomous.\n",
            "Name a snake and I will tell you if it is venomous\n"
          ]
        },
        {
          "name": "stdin",
          "output_type": "stream",
          "text": [
            " anaconda\n"
          ]
        },
        {
          "name": "stdout",
          "output_type": "stream",
          "text": [
            "The anaconda is NOT venomous.\n",
            "Name a snake and I will tell you if it is venomous\n"
          ]
        },
        {
          "name": "stdin",
          "output_type": "stream",
          "text": [
            " cobra\n"
          ]
        },
        {
          "name": "stdout",
          "output_type": "stream",
          "text": [
            "The cobra IS venomous.\n",
            "Name a snake and I will tell you if it is venomous\n"
          ]
        },
        {
          "name": "stdin",
          "output_type": "stream",
          "text": [
            " Yamoransa aboatsena\n"
          ]
        },
        {
          "name": "stdout",
          "output_type": "stream",
          "text": [
            "I have not heard of the Yamoransa aboatsena so assume it is venomous.\n"
          ]
        }
      ],
      "source": [
        "/* Illustrating if statement inside for loop using multiple OR connective */\n",
        "\n",
        "public static String inputString (String message)\n",
        "{\n",
        "       String answer;\n",
        "       Scanner scanner = new Scanner(System.in);\n",
        "\n",
        "       System.out.println(message);\n",
        "       answer = scanner.nextLine();\n",
        "   \n",
        "       return answer;\n",
        "}\n",
        "\n",
        "for(int i = 1; i<=6; i++)\n",
        "{\n",
        "    String snake = inputString(\"Name a snake and I will tell you if it is venomous\");\n",
        "        \n",
        "    if (snake.equals(\"boa constrictor\") | snake.equals(\"anaconda\")  | snake.equals(\"racer\") | snake.equals(\"hognose\"))\n",
        "    {\n",
        "        System.out.println(\"The \" + snake + \" is NOT venomous.\");\n",
        "    }\n",
        "    else if (snake.equals(\"cobra\"))\n",
        "    {\n",
        "        System.out.println(\"The \" + snake + \" IS venomous.\");\n",
        "    }\n",
        "    else\n",
        "    {\n",
        "        System.out.println(\"I have not heard of the \" + snake + \" so assume it is venomous.\");\n",
        "    }\n",
        "}"
      ]
    },
    {
      "cell_type": "markdown",
      "id": "ff0a7cd0-6dca-4584-9a57-80f32b52789a",
      "metadata": {
        "id": "ff0a7cd0-6dca-4584-9a57-80f32b52789a"
      },
      "source": [
        "***\n",
        "### **Filtering** Tasks\n",
        "\n",
        "A similar pattern of loop containing an if statement is used to filter based on numbers (calculated values rather than input ones). For example the **modulus** operator **%** can be used to code for tasks that need to do something different after every _x_ iterations. It is equivalent to asking if a number _n_ is divisible by a given number (here divisible by _x_, e.g. say 3).\n",
        "\n",
        "If (n % 3) is 0 then that means n is divisible by 3. Modulus acts as a clock-like counter resetting to 0 when it reaches the given number.\n",
        "\n",
        "So\n",
        "```\n",
        "(0 % 3) = 0\n",
        "(1 % 3) = 1\n",
        "(2 % 3) = 2\n",
        "(3 % 3) = 0\n",
        "(4 % 3) = 1\n",
        "(5 % 3) = 2\n",
        "(6 % 3) = 0\n",
        "etc\n",
        "```\n",
        "0, 3 and 6 are the numbers exactly divisible by three. The other numbers have remainders.\n",
        "\n",
        "So if we want to do something different every 10 times round a loop, say, then use a test based on the the number % 10.\n",
        "\n",
        "Q4: Write a script that runs a loop that counts from 1 to 21, and the body of the loop just prints that number. This means the numbers from 1 to 21 are printed. However the number is printed differently depending on whether the loop counter i is divisible by 3 or not. Whenever it is, the number is printed followed by a newline. If it is not, then no newline is printed and instead a tab character is printed. This means the numbers are split by tabs but start on a newline every third one.\n",
        "\n",
        "It, therefore, overall prints the numbers in a rectangle 3 columns wide and 7 rows deep."
      ]
    },
    {
      "cell_type": "code",
      "execution_count": null,
      "id": "1e99c78c-a7c6-451d-82c3-cc93cf0f9967",
      "metadata": {
        "id": "1e99c78c-a7c6-451d-82c3-cc93cf0f9967",
        "outputId": "707c7547-cb74-4ed4-aed5-2ee08f772539"
      },
      "outputs": [
        {
          "name": "stdout",
          "output_type": "stream",
          "text": [
            "1\t2\t3\n",
            "4\t5\t6\n",
            "7\t8\t9\n",
            "10\t11\t12\n",
            "13\t14\t15\n",
            "16\t17\t18\n",
            "19\t20\t21\n"
          ]
        }
      ],
      "source": [
        "/*  Demonstrating filtering task */\n",
        "\n",
        "public static void rectangleOfThree ()\n",
        "{\n",
        "    for (int i=1; i<=21; i++)\n",
        "    {\n",
        "        if (i % 3 == 0)             /* check if divisible by 3 */\n",
        "        {\n",
        "            System.out.println(i);\n",
        "        }\n",
        "        else\n",
        "        {\n",
        "            System.out.print(i + \"\\t\");\n",
        "        }\n",
        "    }\n",
        "}\n",
        "\n",
        "rectangleOfThree ();"
      ]
    },
    {
      "cell_type": "markdown",
      "id": "064033b5-52c4-47da-92f2-49f8e6ce3b4e",
      "metadata": {
        "id": "064033b5-52c4-47da-92f2-49f8e6ce3b4e"
      },
      "source": [
        "Q5: Write a script to print all the numbers from 1 to 100 in a 10 by 10 square."
      ]
    },
    {
      "cell_type": "code",
      "execution_count": null,
      "id": "f35da393-76c0-45b5-a23b-833723f54f22",
      "metadata": {
        "id": "f35da393-76c0-45b5-a23b-833723f54f22",
        "outputId": "92822647-3fac-4f39-8bd7-f40b4fd3a6a3"
      },
      "outputs": [
        {
          "name": "stdout",
          "output_type": "stream",
          "text": [
            "1\t2\t3\t4\t5\t6\t7\t8\t9\t10\n",
            "11\t12\t13\t14\t15\t16\t17\t18\t19\t20\n",
            "21\t22\t23\t24\t25\t26\t27\t28\t29\t30\n",
            "31\t32\t33\t34\t35\t36\t37\t38\t39\t40\n",
            "41\t42\t43\t44\t45\t46\t47\t48\t49\t50\n",
            "51\t52\t53\t54\t55\t56\t57\t58\t59\t60\n",
            "61\t62\t63\t64\t65\t66\t67\t68\t69\t70\n",
            "71\t72\t73\t74\t75\t76\t77\t78\t79\t80\n",
            "81\t82\t83\t84\t85\t86\t87\t88\t89\t90\n",
            "91\t92\t93\t94\t95\t96\t97\t98\t99\t100\n"
          ]
        }
      ],
      "source": [
        "/* Demonstrating filtering task */\n",
        "\n",
        "public static void squareOfTen ()\n",
        "{\n",
        "    for (int i=1; i<=100; i++)\n",
        "    {\n",
        "        if (i % 10 == 0)             /* check if divisible by 10 */\n",
        "        {\n",
        "            System.out.println(i);\n",
        "        }\n",
        "        else\n",
        "        {\n",
        "            System.out.print(i + \"\\t\");\n",
        "        }\n",
        "    }\n",
        "}\n",
        "\n",
        "squareOfTen ();"
      ]
    },
    {
      "cell_type": "markdown",
      "id": "80bbda36-ea38-46ae-a64b-37c740076f97",
      "metadata": {
        "id": "80bbda36-ea38-46ae-a64b-37c740076f97"
      },
      "source": [
        "Q6: Write a script to call the inputInt method and ask the user for a number, and then print a square of numbers of that size. So if they input 5 it should print 25 numbers (5*5) in a 5 by 5 square."
      ]
    },
    {
      "cell_type": "code",
      "execution_count": null,
      "id": "c8caf12f-172c-425b-9eb3-cac171b70932",
      "metadata": {
        "id": "c8caf12f-172c-425b-9eb3-cac171b70932",
        "outputId": "d22fc9ea-887d-41fa-b278-d83aff2cbeb3"
      },
      "outputs": [
        {
          "name": "stdout",
          "output_type": "stream",
          "text": [
            "How big a square of numbers do you want?\n"
          ]
        },
        {
          "name": "stdin",
          "output_type": "stream",
          "text": [
            " 3\n"
          ]
        },
        {
          "name": "stdout",
          "output_type": "stream",
          "text": [
            "1\t2\t3\n",
            "4\t5\t6\n",
            "7\t8\t9\n",
            "How big a square of numbers do you want?\n"
          ]
        },
        {
          "name": "stdin",
          "output_type": "stream",
          "text": [
            " 6\n"
          ]
        },
        {
          "name": "stdout",
          "output_type": "stream",
          "text": [
            "1\t2\t3\t4\t5\t6\n",
            "7\t8\t9\t10\t11\t12\n",
            "13\t14\t15\t16\t17\t18\n",
            "19\t20\t21\t22\t23\t24\n",
            "25\t26\t27\t28\t29\t30\n",
            "31\t32\t33\t34\t35\t36\n",
            "How big a square of numbers do you want?\n"
          ]
        },
        {
          "name": "stdin",
          "output_type": "stream",
          "text": [
            " 9\n"
          ]
        },
        {
          "name": "stdout",
          "output_type": "stream",
          "text": [
            "1\t2\t3\t4\t5\t6\t7\t8\t9\n",
            "10\t11\t12\t13\t14\t15\t16\t17\t18\n",
            "19\t20\t21\t22\t23\t24\t25\t26\t27\n",
            "28\t29\t30\t31\t32\t33\t34\t35\t36\n",
            "37\t38\t39\t40\t41\t42\t43\t44\t45\n",
            "46\t47\t48\t49\t50\t51\t52\t53\t54\n",
            "55\t56\t57\t58\t59\t60\t61\t62\t63\n",
            "64\t65\t66\t67\t68\t69\t70\t71\t72\n",
            "73\t74\t75\t76\t77\t78\t79\t80\t81\n"
          ]
        }
      ],
      "source": [
        "/* Demonstrating filtering task */\n",
        "\n",
        "public static int inputInt (String message)\n",
        "{\n",
        "       String answer = inputString(message);    /* receive input as String */\n",
        "   \n",
        "       return Integer.parseInt(answer);         /* parse input String to Integer */\n",
        "}\n",
        "\n",
        "public static void squareOfNumbers ()\n",
        "{\n",
        "    int size = inputInt(\"How big a square of numbers do you want?\");\n",
        "    \n",
        "    for (int i=1; i<=(size*size); i++)          /* iterate at increments of 1 up to square of input */\n",
        "    {\n",
        "        if (i % size == 0)                      /* check if divisible by input */\n",
        "        {\n",
        "            System.out.println(i);\n",
        "        }\n",
        "        else\n",
        "        {\n",
        "            System.out.print(i + \"\\t\");\n",
        "        }\n",
        "    }\n",
        "}\n",
        "\n",
        "/* implement entire code 3 times */\n",
        "squareOfNumbers ();\n",
        "squareOfNumbers ();\n",
        "squareOfNumbers ();"
      ]
    },
    {
      "cell_type": "markdown",
      "id": "c8cb199b-7b24-4369-b2e7-7e53bfca661e",
      "metadata": {
        "id": "c8cb199b-7b24-4369-b2e7-7e53bfca661e"
      },
      "source": [
        "Notice that here input is received as String and converted to Integer.\n",
        "\n",
        "Q7: Write a script to print out a 10 by 10 square of numbers, but only print the number if it is in the three times table, otherwise print a dot/full stop (i.e. \".\").\n",
        "\n",
        "HINT: 30, 60 and 90 are a bit tricky to get right (you might want to use the AND (&) logical connective). Get a version working for everything else first, then worry about modifying it to get those right."
      ]
    },
    {
      "cell_type": "code",
      "execution_count": null,
      "id": "dd6bfbad-9e0d-4f85-9307-fafd21824c99",
      "metadata": {
        "id": "dd6bfbad-9e0d-4f85-9307-fafd21824c99",
        "outputId": "450d5075-9ade-43a8-ff59-7f7237453d28"
      },
      "outputs": [
        {
          "name": "stdout",
          "output_type": "stream",
          "text": [
            ".\t.\t3\t.\t.\t6\t.\t.\t9\t.\n",
            ".\t12\t.\t.\t15\t.\t.\t18\t.\t.\n",
            "21\t.\t.\t24\t.\t.\t27\t.\t.\t30\n",
            ".\t.\t33\t.\t.\t36\t.\t.\t39\t.\n",
            ".\t42\t.\t.\t45\t.\t.\t48\t.\t.\n",
            "51\t.\t.\t54\t.\t.\t57\t.\t.\t60\n",
            ".\t.\t63\t.\t.\t66\t.\t.\t69\t.\n",
            ".\t72\t.\t.\t75\t.\t.\t78\t.\t.\n",
            "81\t.\t.\t84\t.\t.\t87\t.\t.\t90\n",
            ".\t.\t93\t.\t.\t96\t.\t.\t99\t.\n"
          ]
        }
      ],
      "source": [
        "/* Demonstrating harder filtering task */\n",
        "\n",
        "public static void threeTimesTable ()\n",
        "{\n",
        "    for (int i=1; i<=100; i++)                     /* iterate at increments of 1 up to 100 */\n",
        "    {\n",
        "        if ((i % 10) == 0 & (i % 3 == 0))          /* check if divisible by 10 AND also by 3 */\n",
        "        {\n",
        "            System.out.println(i);\n",
        "        }\n",
        "        else if ((i % 10) == 0)\n",
        "        {\n",
        "            System.out.println(\".\");\n",
        "        }\n",
        "        else if (i % 3 == 0)\n",
        "        {\n",
        "            System.out.print(i + \"\\t\");\n",
        "        }\n",
        "        else \n",
        "        {\n",
        "            System.out.print(\".\\t\");\n",
        "        }\n",
        "    }\n",
        "}\n",
        "\n",
        "threeTimesTable ();"
      ]
    },
    {
      "cell_type": "markdown",
      "id": "8942680d-157f-4ea3-a66d-0da99c5d1ecf",
      "metadata": {
        "id": "8942680d-157f-4ea3-a66d-0da99c5d1ecf"
      },
      "source": [
        "Q8: Use Boolean test methods to make the above Q7 program more human readable by creating methods for specific operations, such as checking if a number is divisible by three or checking we are at the end of the row. The name of the method should then tell us what it does."
      ]
    },
    {
      "cell_type": "code",
      "execution_count": null,
      "id": "2c8fcd9f-7ef5-4b4a-95c5-8c4f9a11358d",
      "metadata": {
        "id": "2c8fcd9f-7ef5-4b4a-95c5-8c4f9a11358d",
        "outputId": "d9cc74aa-1734-4039-f571-72da2db9b4c9"
      },
      "outputs": [
        {
          "name": "stdout",
          "output_type": "stream",
          "text": [
            ".\t.\t3\t.\t.\t6\t.\t.\t9\t.\n",
            ".\t12\t.\t.\t15\t.\t.\t18\t.\t.\n",
            "21\t.\t.\t24\t.\t.\t27\t.\t.\t30\n",
            ".\t.\t33\t.\t.\t36\t.\t.\t39\t.\n",
            ".\t42\t.\t.\t45\t.\t.\t48\t.\t.\n",
            "51\t.\t.\t54\t.\t.\t57\t.\t.\t60\n",
            ".\t.\t63\t.\t.\t66\t.\t.\t69\t.\n",
            ".\t72\t.\t.\t75\t.\t.\t78\t.\t.\n",
            "81\t.\t.\t84\t.\t.\t87\t.\t.\t90\n",
            ".\t.\t93\t.\t.\t96\t.\t.\t99\t.\n"
          ]
        }
      ],
      "source": [
        "/* Demonstrating harder filtering task by using Boolean test methods */\n",
        "\n",
        "public static boolean dividesBy10(int i)          /* Checking if i is divisible by 10 */\n",
        "{\n",
        "    boolean result = (i % 10 == 0);\n",
        "    \n",
        "    return result;\n",
        "}\n",
        "\n",
        "public static boolean dividesBy3(int i)           /* Checking if i is divisible by 3 */\n",
        "{\n",
        "    boolean result = (i % 3 == 0);\n",
        "    \n",
        "    return result;\n",
        "}\n",
        "\n",
        "public static void threeTimesTable2 ()            /* Printing the three times table in a 10 x 10 square format */\n",
        "{\n",
        "    final int TABLE_SIZE = 100;\n",
        "\n",
        "    for (int i=1; i<=TABLE_SIZE; i++)\n",
        "    {\n",
        "        if (dividesBy10(i) & dividesBy3(i)) \n",
        "        {\n",
        "            System.out.println(i);\n",
        "        }\n",
        "        else if (dividesBy10(i))\n",
        "        {\n",
        "            System.out.println(\".\");\n",
        "        }\n",
        "        else if (dividesBy3(i))\n",
        "        {\n",
        "            System.out.print(i + \"\\t\");\n",
        "        }\n",
        "        else \n",
        "        {\n",
        "            System.out.print(\".\\t\");\n",
        "        }\n",
        "    }\n",
        "}\n",
        "\n",
        "threeTimesTable2 ();"
      ]
    },
    {
      "cell_type": "raw",
      "id": "c0cb1ce0-daa5-4628-80eb-d18c2f88a426",
      "metadata": {
        "id": "c0cb1ce0-daa5-4628-80eb-d18c2f88a426"
      },
      "source": [
        "Hey! Awesome stuff! I'm alright :)"
      ]
    },
    {
      "cell_type": "markdown",
      "id": "5498bcda-cff3-4efd-b6ea-4f405d9674ef",
      "metadata": {
        "id": "5498bcda-cff3-4efd-b6ea-4f405d9674ef"
      },
      "source": [
        "***\n",
        "### **Further Generalisation and Abstraction**\n",
        "\n",
        "When we have several methods doing a very similar thing, it is better to write one method that does the job for all. This is called **generalisation** and it is one of the things methods are very good for, that makes programs easier to read and to modify. In the above our methods divideby10 and divideby3 do very similar things.\n",
        "\n",
        "When we have a general method it can also be good to then create bespoke methods that use the general method, with names that fit the purpose. For example, when we divide by 10 in the above program, it is to find the end of the row. It is therefore a good idea to create a method with a name that says that point is to find the end of the row. It can still call the general method to get the job done. This is an example of **abstraction**."
      ]
    },
    {
      "cell_type": "markdown",
      "id": "0dc850f4-499c-4f72-8ac2-7b3e838ec5e1",
      "metadata": {
        "id": "0dc850f4-499c-4f72-8ac2-7b3e838ec5e1"
      },
      "source": [
        "Q9: With the aim of Q8 above in mind, modify your code to create a method 'dividesbyN' that returns true or false if its first argument divides by its second. It should replace both dividesby10 and dividesby3. Use it for both to check for the end of the row and to check whether the number should be printed or not. Make sure it works.\n",
        "\n",
        "Further modify this to create additional methods 'isEndOfRow' and 'isInTimesTable' that call it. Make sure it still works.\n",
        "\n",
        "Have the program allow the user to input which times table is to be printed then print out a 10 by 10 square of numbers as above using dots for those numbers not in the given times table.\n",
        "\n",
        "HINT: Make the changes in stages and make sure everything works before making the next change."
      ]
    },
    {
      "cell_type": "code",
      "execution_count": null,
      "id": "c2dbc4de-60e9-4725-a713-f465841fae80",
      "metadata": {
        "id": "c2dbc4de-60e9-4725-a713-f465841fae80",
        "outputId": "fda0995f-03ad-44d2-da27-9b8897cfe5cb"
      },
      "outputs": [
        {
          "name": "stdout",
          "output_type": "stream",
          "text": [
            "Which times table should I print\n"
          ]
        },
        {
          "name": "stdin",
          "output_type": "stream",
          "text": [
            " 4\n"
          ]
        },
        {
          "name": "stdout",
          "output_type": "stream",
          "text": [
            ".\t.\t.\t4\t.\t.\t.\t8\t.\t.\n",
            ".\t12\t.\t.\t.\t16\t.\t.\t.\t20\n",
            ".\t.\t.\t24\t.\t.\t.\t28\t.\t.\n",
            ".\t32\t.\t.\t.\t36\t.\t.\t.\t40\n",
            ".\t.\t.\t44\t.\t.\t.\t48\t.\t.\n",
            ".\t52\t.\t.\t.\t56\t.\t.\t.\t60\n",
            ".\t.\t.\t64\t.\t.\t.\t68\t.\t.\n",
            ".\t72\t.\t.\t.\t76\t.\t.\t.\t80\n",
            ".\t.\t.\t84\t.\t.\t.\t88\t.\t.\n",
            ".\t92\t.\t.\t.\t96\t.\t.\t.\t100\n"
          ]
        }
      ],
      "source": [
        "/* Demonstrating harder filtering task by using generalisation and abstraction */\n",
        "\n",
        "public static boolean dividesByN(int i, int n)  /* Checking if first argument divides by the second */\n",
        "{\n",
        "    boolean result = (i % n == 0);\n",
        "    \n",
        "    return result;\n",
        "}\n",
        "\n",
        "public static boolean isEndOfRow(int i)  /* Checking if it's time to go on to a new line i.e. every 10th number */\n",
        "{\n",
        "    return dividesByN(i,10);\n",
        "}\n",
        "\n",
        "public static boolean isInTimesTable(int i, int n)  /* Checking if first arg is in times table of second arg */\n",
        "{\n",
        "    return dividesByN(i,n);\n",
        "}\n",
        "\n",
        "public static void nTimesTable ()     /* Printing n times table in a 10 x 10 square format */\n",
        "{\n",
        "    final int TABLE_SIZE = 100;\n",
        "    int timestable = inputInt(\"Which times table should I print\");\n",
        "    \n",
        "    for (int i=1; i<=TABLE_SIZE; i++)\n",
        "    {\n",
        "        if (isEndOfRow(i) & isInTimesTable(i, timestable)) \n",
        "        {\n",
        "            System.out.println(i);\n",
        "        }\n",
        "        else if (isEndOfRow(i))\n",
        "        {\n",
        "            System.out.println(\".\");\n",
        "        }\n",
        "        else if (isInTimesTable(i, timestable))\n",
        "        {\n",
        "            System.out.print(i + \"\\t\");\n",
        "        }\n",
        "        else \n",
        "        {\n",
        "            System.out.print(\".\\t\");\n",
        "        }\n",
        "    }\n",
        "}\n",
        "\n",
        "nTimesTable ();"
      ]
    },
    {
      "cell_type": "markdown",
      "id": "4225a749-4bc3-4c07-8be0-47367ee01bf7",
      "metadata": {
        "id": "4225a749-4bc3-4c07-8be0-47367ee01bf7"
      },
      "source": [
        "***\n",
        "Q: Write the full Java program for above lesson."
      ]
    },
    {
      "cell_type": "code",
      "execution_count": null,
      "id": "2dcbd5ed-4c89-4a60-b3fd-6d200c5a3071",
      "metadata": {
        "id": "2dcbd5ed-4c89-4a60-b3fd-6d200c5a3071"
      },
      "outputs": [],
      "source": [
        "/* *****************************************\n",
        "    A program to illustrate if statements inside loops.\n",
        "\n",
        "    Prints warnings about snakes and whether venomous, harmless, constrictors or unknown.\n",
        "******************************************** */\n",
        "\n",
        "import java.util.Scanner; /* Importing dependency */\n",
        "\n",
        "class SnakeWarnings\n",
        "{\n",
        "    public static void main(String[] p)\n",
        "    {\n",
        "\n",
        "        snakeWarnings ();\n",
        "        \n",
        "        System.exit(0);\n",
        "    }\n",
        "    \n",
        "    public static void snakeWarnings ()  /* Print warnings about snakes - harmless? Crush you? Venomous? or unknown? */\n",
        "    {    \n",
        "        for(int i = 1; i<=4; i++)\n",
        "        {\n",
        "            String snake = inputString(\"Name a snake and I will tell you if it is venomous\");\n",
        "            \n",
        "            if (snake.equals(\"Python\") | snake.equals(\"Anaconda\") )\n",
        "            {\n",
        "                System.out.println(\"The \" + snake + \" is NOT venomous. However, it can crush you to death.\");\n",
        "            }\n",
        "            else if (snake.equals(\"Cobra\"))\n",
        "            {\n",
        "                System.out.println(\"The \" + snake + \" IS venomous.\");\n",
        "            }\n",
        "            else if (snake.equals(\"Grass Snake\"))\n",
        "            {\n",
        "                System.out.println(\"The \" + snake + \" is harmless.\");\n",
        "            }\n",
        "            else\n",
        "            {\n",
        "                System.out.println(\"I have not heard of the \" + snake + \" so assume it is dangerous.\");\n",
        "            }\n",
        "        }\n",
        "    }    \n",
        "    \n",
        "    \n",
        "    public static String inputString (String message)   /* Input a String */\n",
        "    {\n",
        "       String answer;\n",
        "       Scanner scanner = new Scanner(System.in);\n",
        "\n",
        "       System.out.println(message);\n",
        "       answer = scanner.nextLine();\n",
        "   \n",
        "       return answer;\n",
        "    }\n",
        "}"
      ]
    },
    {
      "cell_type": "markdown",
      "id": "948fa5fa-a67e-41b4-b1f5-cb9d2b9d367f",
      "metadata": {
        "id": "948fa5fa-a67e-41b4-b1f5-cb9d2b9d367f"
      },
      "source": [
        "Note: Running the full program in this notebook returns no output.\n",
        "A full program requires a text editor (e.g. Notepad), or a code editor (e.g. VSCode), or an IDE (e.g. jre), not this notebook. We save it as a Java file ( .java) called say factsaboutbirds.java, and then compile it (to .class) into factsaboutbirds.class as a full program, which we can run or execute."
      ]
    },
    {
      "cell_type": "code",
      "execution_count": null,
      "id": "95203f2c-9abe-4948-b6bf-f4bc346d12cc",
      "metadata": {
        "id": "95203f2c-9abe-4948-b6bf-f4bc346d12cc"
      },
      "outputs": [],
      "source": []
    }
  ],
  "metadata": {
    "kernelspec": {
      "display_name": "Java",
      "language": "java",
      "name": "java"
    },
    "language_info": {
      "codemirror_mode": "java",
      "file_extension": ".jshell",
      "mimetype": "text/x-java-source",
      "name": "Java",
      "pygments_lexer": "java",
      "version": "11.0.8+10-LTS"
    },
    "colab": {
      "provenance": []
    }
  },
  "nbformat": 4,
  "nbformat_minor": 5
}