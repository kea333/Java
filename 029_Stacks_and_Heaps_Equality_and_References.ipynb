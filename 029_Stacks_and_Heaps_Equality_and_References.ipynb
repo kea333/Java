{
  "cells": [
    {
      "cell_type": "markdown",
      "id": "d1771b93-bb9f-456c-9be3-33a32a95e817",
      "metadata": {
        "id": "d1771b93-bb9f-456c-9be3-33a32a95e817"
      },
      "source": [
        "29.\n",
        "\n",
        "# Stacks and Heaps - Equality and References\n",
        "\n",
        "This lesson enables us\n",
        "- explain why there are two different kinds of equality.\n",
        "- be able to write programs that correctly test for equality of two values.\n",
        "\n",
        "Simple values and more complex compound values are stored differently. Memory is divided into two parts: the stack and the heap. Variable are allocated space on the stack, in the next free space. Some kinds of data are just stored there. Others are allocated space there but also need to be given space on the heap. The variable on the stack then just holds a reference (or pointer) to the heap where the actual data is found. Values on the heap could also just be references to other values elsewhere on the heap.\n",
        "\n",
        "Values such as integers, booleans and characters are stored directly in the named storage place on the stack. A declaration and initialisation such as\n",
        "\n",
        "```\n",
        "count = 0;\n",
        "```\n",
        "\n",
        "allocates the next free storage space on the stack and stores the 0 there.\n",
        "\n",
        "\n",
        "| count |\n",
        "| :---: |\n",
        "| 0 |\n",
        "\n",
        "More complex values including Strings, arrays and records are stored using both the stack and heap. So, the following statements\n",
        "\n",
        "```\n",
        "Student s = new Student();\n",
        "s.name = \"kweku\";\n",
        "s.mark = 99;\n",
        "```\n",
        "\n",
        "leads to the following situation, where s labels a position on the stack but @1 is a memory location on the heap.\n",
        "\n",
        "\n",
        "| s | \n",
        "| :---: | \n",
        "| @1 |\n",
        "\n",
        "<center>I</center>\n",
        "\n",
        "<center>I</center>\n",
        "\n",
        "<center>I</center>\n",
        "\n",
        "<center>V</center>\n",
        "    \n",
        "\n",
        "| @1 | | \n",
        "| :---: | :---: | \n",
        "| Kweku | 99  | \n",
        "\n",
        "Above, to help illustrate what is happening, we just use @1 as a shorthand for a particular memory address. In reality it is a big number normally printed in hexadecimal code. We label the second, unnamed storage space by this memory address label. In reality it is just a memory address number.\n",
        "\n",
        "The arrow shows how the stored memory address points to the other storage space."
      ]
    },
    {
      "cell_type": "code",
      "execution_count": null,
      "id": "40fd3e2e-687a-4eca-a2ad-fd5dedf3f72f",
      "metadata": {
        "id": "40fd3e2e-687a-4eca-a2ad-fd5dedf3f72f",
        "outputId": "87bea95f-714e-43b6-c88c-a6e4f96c789f"
      },
      "outputs": [
        {
          "name": "stdout",
          "output_type": "stream",
          "text": [
            "s itself is REPL.$JShell$13$Student@77a5233d\n",
            "s.name is Kweku\n",
            "s.mark is 99\n"
          ]
        }
      ],
      "source": [
        "/* Simple class */\n",
        "\n",
        "class Student\n",
        "{\n",
        "    String name;\n",
        "    int mark;\n",
        "}\n",
        "\n",
        "Student s = new Student();\n",
        "s.name = \"Kweku\";\n",
        "s.mark = 99;\n",
        "\n",
        "System.out.println(\"s itself is \" + s);\n",
        "System.out.println(\"s.name is \" + s.name);\n",
        "System.out.println(\"s.mark is \" + s.mark);"
      ]
    },
    {
      "cell_type": "markdown",
      "id": "2aa69a9d-2419-46ea-b0c3-08029e0c6361",
      "metadata": {
        "id": "2aa69a9d-2419-46ea-b0c3-08029e0c6361"
      },
      "source": [
        "**\n",
        "\n",
        "The value printed for s changes each time.\n",
        "\n",
        "When s is printed we are printing what is stored in the variable on the stack. That variable holds a Reference to the data and it is the reference (a memory address) that is printed. It will change each time.\n",
        "\n",
        "When we use the dot notation we are following the reference to get to the memory locations where the actual data resides. It is therefore printing the actual values in the record rather than the References to them.\n",
        "\n",
        "### What does == do?\n",
        "\n",
        "The boolean operator == takes two expressions and **evaluates them before checking if they are the same value**. However, which value does it check? With Strings, arrays and records there is both the actual value (on the heap) and a reference to it (that could be on the heap or the stack)."
      ]
    },
    {
      "cell_type": "markdown",
      "id": "3e5b1e62-00e1-4ad0-baa0-7e064bafe00c",
      "metadata": {
        "id": "3e5b1e62-00e1-4ad0-baa0-7e064bafe00c"
      },
      "source": [
        "Q: The following code compares two integers using ==. Predict what it prints. Run it to check, and explain what is happening."
      ]
    },
    {
      "cell_type": "code",
      "execution_count": null,
      "id": "69141dcb-0ea2-4bc8-855b-e3ec393c4dfe",
      "metadata": {
        "id": "69141dcb-0ea2-4bc8-855b-e3ec393c4dfe",
        "outputId": "fc1f3863-9baa-40f2-c62a-20a691650f77"
      },
      "outputs": [
        {
          "name": "stdout",
          "output_type": "stream",
          "text": [
            "The distances 20 and 20 are equal\n"
          ]
        }
      ],
      "source": [
        "int distance1 = 16;\n",
        "int distance2 = 4;\n",
        "int distance3 = 20;\n",
        "\n",
        "if (distance1 + distance2 == distance3)\n",
        "{\n",
        "    System.out.println(\"The distances \" + (distance1 + distance2) + \" and \" + distance3 + \" are equal\");\n",
        "}\n",
        "else\n",
        "{\n",
        "    System.out.println(\"The distances \" + (distance1 + distance2) + \" and \" + distance3 + \" are NOT equal\");\n",
        "}    "
      ]
    },
    {
      "cell_type": "markdown",
      "id": "32d98317-95de-4ecf-b334-3aed958e4bba",
      "metadata": {
        "id": "32d98317-95de-4ecf-b334-3aed958e4bba"
      },
      "source": [
        "**\n",
        "\n",
        "== is checking the values of the integers as result from evaluating the expressions. The sum evaluates to the single value 20. The variable evaluates to the value that it stores, also 20. As the two values compared are the same value == returns true and so prints the first branch of the if statement printing a message that they are the same.\n",
        "\n",
        "Q: The following code compares two Strings using ==. Predict what it prints, and explain what is happening."
      ]
    },
    {
      "cell_type": "code",
      "execution_count": null,
      "id": "07fc8939-42f7-4aa9-8a1f-f9ae304a83d0",
      "metadata": {
        "id": "07fc8939-42f7-4aa9-8a1f-f9ae304a83d0",
        "outputId": "04f17a24-8ab6-4de0-d0a7-8b36b7f53f5d"
      },
      "outputs": [
        {
          "name": "stdout",
          "output_type": "stream",
          "text": [
            "The towns LondonDerry and LondonDerry are NOT the same\n"
          ]
        }
      ],
      "source": [
        "String town1 = \"London\";\n",
        "String town2 = \"Derry\";\n",
        "String town3 = \"LondonDerry\";\n",
        "\n",
        "if ((town1 + town2) == town3)\n",
        "{\n",
        "    System.out.println(\"The towns \" + (town1+town2) + \" and \" + town3 + \" are the same\");\n",
        "}\n",
        "else\n",
        "{\n",
        "    System.out.println(\"The towns \" + (town1+town2) + \" and \" + town3 + \" are NOT the same\");\n",
        "}    "
      ]
    },
    {
      "cell_type": "markdown",
      "id": "83851a13-37b4-4e9f-b262-0287fc1c10fa",
      "metadata": {
        "id": "83851a13-37b4-4e9f-b262-0287fc1c10fa"
      },
      "source": [
        "**\n",
        "\n",
        "It prints\n",
        "\n",
        "```\n",
        "The towns LondonDerry and LondonDerry are NOT the same\n",
        "```\n",
        "\n",
        "suggesting they are different when they are exactly the same sequence of characters. This is because == is not comparing the Strings themselves (in the sense of checking if the sequence of characters are the same). It is comparing the _References_ to the Strings. All String values are represented by the combination of a Reference to the heap and the actual value (the sequence of characters) at that place on the heap.\n",
        "\n",
        "The critical code is\n",
        "\n",
        "```\n",
        "String town1 = \"London\";\n",
        "String town2 = \"Derry\";\n",
        "String town3 = \"LondonDerry\";\n",
        "\n",
        "if ((town1 + town2) == town3) ...\n",
        "```\n",
        "\n",
        "town3 holds a reference to a place where the first \"LondonDerry\" is stored. When the code executes it looks in town1 and pulls out \"London\". It then looks in town2 and pulls out \"Derry\". It then creates a new String in a new place by concatenating copies of them together, and stores it on the heap, representing it with its Reference. As this new copy is stored in a different place on the heap to the origianl, the Reference for this new version and the Reference stored in town3 are different. It is these references that == is comparing so it evaluates to false. The if statement therefore says they are different.\n",
        "\n",
        "Q: The following code compares two Strings using ==. Predict what it prints. Run it to check, and explain what is happening."
      ]
    },
    {
      "cell_type": "code",
      "execution_count": null,
      "id": "ab30a139-04c7-47b5-bc71-81111bedd482",
      "metadata": {
        "id": "ab30a139-04c7-47b5-bc71-81111bedd482",
        "outputId": "d5f0be84-6fe4-4907-c79d-113fbe90c7eb"
      },
      "outputs": [
        {
          "name": "stdout",
          "output_type": "stream",
          "text": [
            "The towns LondonDerry and LondonDerry are the same\n"
          ]
        }
      ],
      "source": [
        "String town1 = \"LondonDerry\";\n",
        "String town2 = \"London\" + \"Derry\";\n",
        "\n",
        "if (town1 == town2)\n",
        "{\n",
        "    System.out.println(\"The towns \" + town1 + \" and \" + town2 + \" are the same\");\n",
        "}\n",
        "else\n",
        "{\n",
        "    System.out.println(\"The towns \" + town1 + \" and \" + town2 + \" are NOT the same\");\n",
        "}"
      ]
    },
    {
      "cell_type": "markdown",
      "id": "0c6c9354-f3a4-4899-ba5b-0aef310d038b",
      "metadata": {
        "id": "0c6c9354-f3a4-4899-ba5b-0aef310d038b"
      },
      "source": [
        "**\n",
        "\n",
        "Here == was still being used to compare two Strings but unlike in the previous exercise this time it prints\n",
        "\n",
        "```\n",
        "The towns LondonDerry and LondonDerry are the same\n",
        "```\n",
        "\n",
        "As == is comparing references and the equality test evaluated to true this suggests it found the same Reference values. This means the two String values being compared MUST be stored in the same place. We were comparing town1 and town2 using\n",
        "\n",
        "\n",
        "```\n",
        "if (town1 == town2)\n",
        "```\n",
        "\n",
        "So even though town1 and town2 are two different variables with different locations on the stack, they hold references and those references are the same. That means they point to the same place. This time the two copies of String \"LondonDerry\" are actually stored in the same place! How did that happen?\n",
        "\n",
        "One way this could have occured is if we had assigned one to the other before the if statement as in\n",
        "\n",
        "```\n",
        "String town1 = \"LondonDerry\";\n",
        "String town2 = town1;\n",
        "```\n",
        "\n",
        "That would have just copied the reference from town1 into town2 so of course they would then be pointing to the same place. (As an extra exercise, check this is the case.)\n",
        "\n",
        "However, we created the Strings separately and even built the second one up from two parts:\n",
        "\n",
        "```\n",
        "String town1 = \"LondonDerry\";\n",
        "String town2 = \"London\" + \"Derry\";\n",
        "```\n",
        "\n",
        "This is because the right hand sides are expressions that do not contain variables. They evaluate to the same constant value and this evaluation can be done at compile time (just once). The running program does not need to waste time evaluating \"London\" + \"Derry\". Therefore, the compiler evaluates the expression and silently changes the second line in to the equivalent of\n",
        "\n",
        "```\n",
        "String town2 = \"LondonDerry\";\n",
        "```\n",
        "\n",
        "before it does anything else.\n",
        "\n",
        "When the compiler comes across a String value to compile it also checks to see if it created that value before, and if so it just uses the existing one. In our case, having pre-evaluated the concatenation it finds it already has a copy of String \"LondonDerry\" on the heap and so returns a reference to it, rather than creating a new copy. The result is in this case the two variables are pointing to the same copy.\n",
        "\n",
        "On the other hand, String values created at runtime are stored separately as it would be very time consuming to check each with every String value manipulated to see if it was the same as an earlier one.\n",
        "\n",
        "Q: The following code compares two Strings using .equals. Predict what it prints. Run it to check, and explain what is happening."
      ]
    },
    {
      "cell_type": "code",
      "execution_count": null,
      "id": "24244c49-7206-480b-a0c8-63465fb44289",
      "metadata": {
        "id": "24244c49-7206-480b-a0c8-63465fb44289",
        "outputId": "a354342b-7c8b-445f-999a-db9dd9075637"
      },
      "outputs": [
        {
          "name": "stdout",
          "output_type": "stream",
          "text": [
            "The towns LondonDerry and LondonDerry are the same\n"
          ]
        }
      ],
      "source": [
        "String town1 = \"London\";\n",
        "String town2 = \"Derry\";\n",
        "String town3 = \"LondonDerry\";\n",
        "\n",
        "if ((town1 + town2).equals(town3))\n",
        "{\n",
        "    System.out.println(\"The towns \" + (town1 + town2) + \" and \" + town3 + \" are the same\");\n",
        "}\n",
        "else\n",
        "{\n",
        "    System.out.println(\"The towns \" + (town1 + town2) + \" and \" + town3 + \" are NOT the same\");\n",
        "}"
      ]
    },
    {
      "cell_type": "markdown",
      "id": "7b041698-1012-4289-8c94-2d30008143e5",
      "metadata": {
        "id": "7b041698-1012-4289-8c94-2d30008143e5"
      },
      "source": [
        "**\n",
        "\n",
        "In this version we compare the Strings with .equals. It doesn't compare references but follows the references to check each character is the same as the corresponding one in the other string. If any are different it returns false. If both are the same length AND it gets to the end of both without finding a difference, then they are the same and it returns true.\n",
        "\n",
        "Q: The following code compares two Strings using !=. Predict what it prints. Run it to check, and explain what is happening."
      ]
    },
    {
      "cell_type": "code",
      "execution_count": null,
      "id": "4c08d004-b5e6-4710-bfb6-f53a37b054d7",
      "metadata": {
        "id": "4c08d004-b5e6-4710-bfb6-f53a37b054d7",
        "outputId": "49c77941-85ca-4c7b-9385-038fceb4b8b2"
      },
      "outputs": [
        {
          "name": "stdout",
          "output_type": "stream",
          "text": [
            "The towns LondonDerry and LondonDerry are NOT the same\n"
          ]
        }
      ],
      "source": [
        "String town1 = \"London\";\n",
        "String town2 = \"Derry\";\n",
        "String town3 = \"LondonDerry\";\n",
        "\n",
        "if ((town1 + town2) != town3)\n",
        "{\n",
        "   System.out.println(\"The towns \" + (town1 + town2) + \" and \" + town3 + \" are NOT the same\");\n",
        "\n",
        "}\n",
        "else\n",
        "{\n",
        "    System.out.println(\"The towns \" + (town1 + town2) + \" and \" + town3 + \" are the same\");\n",
        "}"
      ]
    },
    {
      "cell_type": "markdown",
      "id": "96e0ef3b-99dc-4239-b3ff-5d0b35e0036f",
      "metadata": {
        "id": "96e0ef3b-99dc-4239-b3ff-5d0b35e0036f"
      },
      "source": [
        "**\n",
        "\n",
        "It prints\n",
        "\n",
        "```\n",
        "The towns LondonDerry and LondonDerry are NOT the same\n",
        "```\n",
        "\n",
        "This shows that != is comparing References just like ==. If we want to check if two strings are not equal we need to write\n",
        "\n",
        "```\n",
        "! (s1.equals(s2))\n",
        "```\n",
        "\n",
        "i.e. check if they are equal using .equals and then negate the answer.\n",
        "\n",
        "Q: Add an if statement inside a loop to complete a method to compare two Strings for equality just like .equals.\n",
        "\n",
        "Create and check test code if it prints the correct answers."
      ]
    },
    {
      "cell_type": "code",
      "execution_count": null,
      "id": "387c69cc-a3d5-4eac-82a9-5ec1370d7d9d",
      "metadata": {
        "id": "387c69cc-a3d5-4eac-82a9-5ec1370d7d9d",
        "outputId": "9832c69b-4c83-45cc-da27-de812da9385f"
      },
      "outputs": [
        {
          "name": "stdout",
          "output_type": "stream",
          "text": [
            "false\n",
            "false\n",
            "true\n",
            "true\n",
            "The Strings cat and cat are the same\n"
          ]
        }
      ],
      "source": [
        "public static boolean stringEquals (String s1, String s2)\n",
        "{    \n",
        "    if (s1.length() != s2.length())\n",
        "    {\n",
        "        return false;\n",
        "    }\n",
        "    else\n",
        "    {\n",
        "        for(int i = 0; i < s1.length(); i++)\n",
        "        {\n",
        "            if(s1.charAt(i) != s2.charAt(i))\n",
        "                 return false;\n",
        "        }\n",
        "    }\n",
        "\n",
        "    return true;\n",
        "}\n",
        "\n",
        "/* Test code should print:\n",
        "   false\n",
        "   false\n",
        "   true\n",
        "   true\n",
        "   The Strings cat and cat are the same */\n",
        "\n",
        "String ca = \"ca\";\n",
        "String t = \"t\";\n",
        "System.out.println(stringEquals(\"cat\", \"cats\"));\n",
        "System.out.println(stringEquals(\"cat\", \"dog\"));\n",
        "System.out.println(stringEquals(\"cat\", \"cat\"));\n",
        "System.out.println(stringEquals(\"cat\", ca + t));\n",
        "\n",
        "if (stringEquals(\"cat\", ca + t))\n",
        "{\n",
        "   System.out.println(\"The Strings \" + \"cat\" + \" and \" + (ca + t) + \" are the same\");\n",
        "\n",
        "}\n",
        "else\n",
        "{\n",
        "    System.out.println(\"The Strings \" + \"cat\" + \" and \" + (ca + t) + \" are NOT the same.\");\n",
        "}"
      ]
    },
    {
      "cell_type": "markdown",
      "id": "fd9df290-f897-446f-ad52-60286706f376",
      "metadata": {
        "id": "fd9df290-f897-446f-ad52-60286706f376"
      },
      "source": [
        "**\n",
        "\n",
        "We add the if statement\n",
        "\n",
        "```\n",
        "            if(s1.charAt(i) != s2.charAt(i))\n",
        "                 return false;\n",
        "```\n",
        "\n",
        "The given for loop is scanning down the two strings a character at the time.\n",
        "The if statement checks pairs of characters at the same position in the two strings.\n",
        "If it ever finds a pair that are different then it immmediately knows that the two Strings as a whole must be different and so returns false to indicate that they are not the same.\n",
        "\n",
        "Q: Modify your code so that town1 and town2 are String arrays with single element \"York\", to see if comparing arrays with == works."
      ]
    },
    {
      "cell_type": "markdown",
      "id": "a90a7190-8d58-432a-8c34-c28ed84c9b12",
      "metadata": {
        "id": "a90a7190-8d58-432a-8c34-c28ed84c9b12"
      },
      "source": [
        "The code is as below. The types are changed to array types and the values to arrays of length 1.\n",
        "It prints something like:\n",
        "\n",
        "```\n",
        "The towns [Ljava.lang.String;@8ec732 and [Ljava.lang.String;@e492953 are NOT the same\n",
        "```\n",
        "\n",
        "== is again comparing the references as printed. Those references are different so the equality test returns false.\n",
        "\n",
        "Note that, suprisingly perhaps, if we try using .equals instead for arrays as shown in the second block of code below, it also fails to work. **NEVER use .equals with arrays!** It isn't broken as such but it does NOT do what we expect! :"
      ]
    },
    {
      "cell_type": "code",
      "execution_count": null,
      "id": "7e8c394d-45b4-4a68-afd4-ce95e6981da9",
      "metadata": {
        "id": "7e8c394d-45b4-4a68-afd4-ce95e6981da9",
        "outputId": "55950344-758a-4ca4-d0b6-92d2b3442e40"
      },
      "outputs": [
        {
          "name": "stdout",
          "output_type": "stream",
          "text": [
            "The towns [Ljava.lang.String;@12e7646a and [Ljava.lang.String;@1c209846 are NOT the same\n"
          ]
        }
      ],
      "source": [
        "/* Does comparing arrays with == work? */\n",
        "\n",
        "String [] town1 = {\"York\"};\n",
        "String [] town2 = {\"York\"};\n",
        "\n",
        "if (town1==town2)\n",
        "{\n",
        "    System.out.println(\"The towns \" + town1 + \" and \" + town2 + \" are the same\");\n",
        "}\n",
        "else\n",
        "{\n",
        "    System.out.println(\"The towns \" + town1 + \" and \" + town2 + \" are NOT the same\");\n",
        "}"
      ]
    },
    {
      "cell_type": "code",
      "execution_count": null,
      "id": "6759bd7d-cd96-43d9-99b5-f8ee23463389",
      "metadata": {
        "id": "6759bd7d-cd96-43d9-99b5-f8ee23463389",
        "outputId": "7ac04540-b69e-495a-bb00-d7589ed1ad17"
      },
      "outputs": [
        {
          "name": "stdout",
          "output_type": "stream",
          "text": [
            "The towns [Ljava.lang.String;@181f0f1a and [Ljava.lang.String;@5d1d927d are NOT the same\n"
          ]
        }
      ],
      "source": [
        "/* Does comparing arrays with .equals work? */\n",
        "\n",
        "String [] town1 = {\"York\"};\n",
        "String [] town2 = {\"York\"};\n",
        "\n",
        "if (town1.equals(town2))\n",
        "{\n",
        "    System.out.println(\"The towns \" + town1 + \" and \" + town2 + \" are the same\");\n",
        "}\n",
        "else\n",
        "{\n",
        "    System.out.println(\"The towns \" + town1 + \" and \" + town2 + \" are NOT the same\");\n",
        "}"
      ]
    },
    {
      "cell_type": "markdown",
      "id": "65652051-f901-4a75-9b5f-1718067b1afd",
      "metadata": {
        "id": "65652051-f901-4a75-9b5f-1718067b1afd"
      },
      "source": [
        "**\n",
        "\n",
        "Q: Write a method called StringArrayEquals that compares two arrays of Strings passed as arguments. It will be similar to that to compare Strings you wrote above. Test it with test calls and check that they give the correct answers."
      ]
    },
    {
      "cell_type": "code",
      "execution_count": null,
      "id": "7c5a243e-4657-482b-89ae-9f5c39f3a1d6",
      "metadata": {
        "id": "7c5a243e-4657-482b-89ae-9f5c39f3a1d6",
        "outputId": "b7c82c8a-80c5-41ac-e601-d569f1bc2d58"
      },
      "outputs": [
        {
          "name": "stdout",
          "output_type": "stream",
          "text": [
            "true\n",
            "false\n",
            "false\n",
            "The towns stored at[Ljava.lang.String;@54f950a6 and [Ljava.lang.String;@5a3eb449 are the same\n"
          ]
        }
      ],
      "source": [
        "/* Code to compare arrays of Strings */\n",
        "\n",
        "public static boolean StringArrayEquals (String[]s1, String[] s2)\n",
        "{\n",
        "    if (s1.length != s2.length)\n",
        "    {\n",
        "        return false;\n",
        "    }\n",
        "    else // We know the lengths are the same\n",
        "    {\n",
        "        for(int i = 0; i < s1.length; i++)\n",
        "        {\n",
        "            if (! (s1[i].equals(s2[i])))\n",
        "                return false;\n",
        "        }\n",
        "    }\n",
        "\n",
        "    return true;\n",
        "\n",
        "}\n",
        "\n",
        "\n",
        "// Test code for your method- should print: \n",
        "// true\n",
        "// false\n",
        "// false\n",
        "// It should then print that the twons are the same even though the References printed are different.\n",
        "\n",
        "String [] s1 = {\"cat\",\"sat\",\"mat\"};\n",
        "String [] s2 = {\"cat\",\"sat\",\"mat\"};\n",
        "String [] s3 = {\"cat\",\"sat\",\"hat\"};\n",
        "String [] s4 = {\"cat\",\"sat\",\"on\", \"mat\"};\n",
        "System.out.println(StringArrayEquals (s1, s2));\n",
        "System.out.println(StringArrayEquals (s1, s3));\n",
        "System.out.println(StringArrayEquals (s1, s4));\n",
        "\n",
        "\n",
        "String [] town1 = {\"York\"};\n",
        "String [] town2 = {\"York\"};\n",
        "\n",
        "if (StringArrayEquals(town1,town2))\n",
        "{\n",
        "    System.out.println(\"The towns stored at\" + town1 + \" and \" + town2 + \" are the same\");\n",
        "}\n",
        "else\n",
        "{\n",
        "    System.out.println(\"The towns stored at\" + town1 + \" and \" + town2 + \" are NOT the same\");\n",
        "}"
      ]
    },
    {
      "cell_type": "markdown",
      "id": "56675cec-b3ef-4732-9527-47b9db3d2859",
      "metadata": {
        "id": "56675cec-b3ef-4732-9527-47b9db3d2859"
      },
      "source": [
        "**\n",
        "\n",
        "Q: Predict what the following code will print. Then run it to see what happens. What does == do with Records?\n",
        "\n",
        "```\n",
        "class City\n",
        "{\n",
        "    String name;\n",
        "    int distance;\n",
        "}\n",
        "\n",
        "City city1 = new City();\n",
        "city1.name = \"Derry\";\n",
        "city1.distance = 198;\n",
        "\n",
        "City city2 = new City();\n",
        "city2.name = \"Derry\";\n",
        "city2.distance = 198;\n",
        "\n",
        "if (city1==city2)\n",
        "{\n",
        "    System.out.println(\"The cities \" + city1.name + \" and \" + city2.name + \" are the same\");\n",
        "}\n",
        "else\n",
        "{\n",
        "    System.out.println(\"The cities \" + city1.name + \" and \" + city1.name + \" are NOT the same\");\n",
        "}\n",
        "```\n"
      ]
    },
    {
      "cell_type": "markdown",
      "id": "0de91cac-8ba7-4fe1-ae05-0b4c26c10541",
      "metadata": {
        "id": "0de91cac-8ba7-4fe1-ae05-0b4c26c10541"
      },
      "source": [
        "A: It should print ```The cities Derry and Derry are NOT the same``` :"
      ]
    },
    {
      "cell_type": "code",
      "execution_count": null,
      "id": "f9a651ae-1514-4b2e-a482-ddd4d32f2098",
      "metadata": {
        "id": "f9a651ae-1514-4b2e-a482-ddd4d32f2098",
        "outputId": "0a86d8c6-16c5-4f6b-dced-2ed61b1246bd"
      },
      "outputs": [
        {
          "name": "stdout",
          "output_type": "stream",
          "text": [
            "The cities Derry and Derry are NOT the same\n"
          ]
        }
      ],
      "source": [
        "class City\n",
        "{\n",
        "    String name;\n",
        "    int distance;\n",
        "}\n",
        "\n",
        "City city1 = new City();\n",
        "city1.name = \"Derry\";\n",
        "city1.distance = 198;\n",
        "\n",
        "City city2 = new City();\n",
        "city2.name = \"Derry\";\n",
        "city2.distance = 198;\n",
        "\n",
        "if (city1==city2)\n",
        "{\n",
        "    System.out.println(\"The cities \" + city1.name + \" and \" + city2.name + \" are the same\");\n",
        "}\n",
        "else\n",
        "{\n",
        "    System.out.println(\"The cities \" + city1.name + \" and \" + city1.name + \" are NOT the same\");\n",
        "}"
      ]
    },
    {
      "cell_type": "markdown",
      "id": "b782a579-b94b-4483-b272-9fe9f814753f",
      "metadata": {
        "id": "b782a579-b94b-4483-b272-9fe9f814753f"
      },
      "source": [
        "With records, as they are reference types, == compares the references not the actual values.\n",
        "\n",
        "Q: Write a method that compares two cites as defined by the above class definition. Two cities are the same only if they have the same name AND are the same distance from Dublin.\n",
        "\n",
        "Test your method with city1 and city2 as defined above as well as with a third city Limerick which is a distance of 175 km from Dublin. Further check if that Limerick is treated the same as the Limerick in Maine, USA that is 2800km from Dublin."
      ]
    },
    {
      "cell_type": "code",
      "execution_count": null,
      "id": "21c9b957-e9f7-4269-838f-99c2016ccd86",
      "metadata": {
        "id": "21c9b957-e9f7-4269-838f-99c2016ccd86",
        "outputId": "462e2a9d-0482-4c62-ed0d-c65b92ae6d7b"
      },
      "outputs": [
        {
          "name": "stdout",
          "output_type": "stream",
          "text": [
            "true\n",
            "false\n",
            "false\n",
            "The cities stored at REPL.$JShell$12$City@919660d and REPL.$JShell$12$City@7f36b94e are the same\n"
          ]
        }
      ],
      "source": [
        "/* Comparing two cities and testing with 3rd city */\n",
        "\n",
        "class City\n",
        "{\n",
        "    String name;\n",
        "    int distance;\n",
        "}\n",
        "\n",
        "public static boolean CityEquals(City c1, City c2)\n",
        "{\n",
        "    if ((c1.name.equals(c2.name)) & (c1.distance == c2.distance))\n",
        "        return true;\n",
        "    else\n",
        "        return false;\n",
        "}\n",
        "\n",
        "\n",
        "City city1 = new City();\n",
        "city1.name = \"Derry\";\n",
        "city1.distance = 198;\n",
        "\n",
        "City city2 = new City();\n",
        "city2.name = \"Derry\";\n",
        "city2.distance = 198;\n",
        "\n",
        "City city3 = new City();\n",
        "city3.name = \"Limerick\";\n",
        "city3.distance = 175;\n",
        "\n",
        "City city4 = new City();\n",
        "city4.name = \"Limerick\";\n",
        "city4.distance = 2800;\n",
        "\n",
        "// It should print\n",
        "// true\n",
        "// false\n",
        "// false\n",
        "\n",
        "\n",
        "System.out.println(CityEquals(city1, city2));\n",
        "System.out.println(CityEquals(city1, city3));\n",
        "System.out.println(CityEquals(city3, city4));\n",
        "\n",
        "if (CityEquals(city1, city2))\n",
        "{\n",
        "    System.out.println(\"The cities stored at \" + city1 + \" and \" + city2 + \" are the same\");\n",
        "}\n",
        "else\n",
        "{\n",
        "    System.out.println(\"The cities stored at \" + city1 + \" and \" + city2 + \" are NOT the same\");\n",
        "}"
      ]
    },
    {
      "cell_type": "markdown",
      "id": "94c57606-0c2f-4f50-b8b0-39189f49c585",
      "metadata": {
        "id": "94c57606-0c2f-4f50-b8b0-39189f49c585"
      },
      "source": [
        "***\n",
        "\n",
        "### **Summary**\n",
        "\n",
        "The operator == compares the immediate values stored in a variable. That is the actual value for simple types like integers and characters so in these cases it does as expected, telling you if the values are the same. \n",
        "\n",
        "For reference types (Strings, arrays and records) the value stored in the variable on the stack (and the immediate result of evaluating an expression that gives such a value) is the reference to where the data is stored. Therefore == just checks the references and so whether they are pointing to the same storage space on the stack. It does not look at the actual values. Sometimes two variables holding the same values can point to the same copy of the value, but at other times they may not. == cannot therefore be relied on to compare string values unless you want to know where they are stored. \n",
        "\n",
        "Instead, for Strings, .equals must be used, though .equals also does not work as expected for arrays or records. You can define your own equality operators that do follow the references and so compare the actual values. Do this for any record type that you need to compare values. In some situations you want to compare all the values of a record for equality. At other times you may just be trying to match particular fields such as a name field or an ID field. Which you need depends on the task at hand. "
      ]
    },
    {
      "cell_type": "code",
      "execution_count": null,
      "id": "852656bc-b059-46fe-b603-bc23e34d0716",
      "metadata": {
        "id": "852656bc-b059-46fe-b603-bc23e34d0716"
      },
      "outputs": [],
      "source": []
    }
  ],
  "metadata": {
    "kernelspec": {
      "display_name": "Java",
      "language": "java",
      "name": "java"
    },
    "language_info": {
      "codemirror_mode": "java",
      "file_extension": ".jshell",
      "mimetype": "text/x-java-source",
      "name": "Java",
      "pygments_lexer": "java",
      "version": "11.0.8+10-LTS"
    },
    "colab": {
      "provenance": []
    }
  },
  "nbformat": 4,
  "nbformat_minor": 5
}