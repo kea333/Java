{
  "cells": [
    {
      "cell_type": "markdown",
      "id": "137c0a06-0628-49f6-a92c-32d05a8865f0",
      "metadata": {
        "id": "137c0a06-0628-49f6-a92c-32d05a8865f0"
      },
      "source": [
        "16.\n",
        "\n",
        "Having now covered in considerable detail the concepts of OOP - Classes, Objects, Methods, Encapsulation, Abstraction, and Inheritance in Lessons 1 to 15, the next series of lessons and exercises illustrate the versatility of the Java language by using it to cover the concepts of _**procedural programming**_ .\n",
        "# Real Programs and Record Data Types\n",
        "### Differences between code fragments and a real program\n",
        "The differences in a real program are all about structuring LARGE programs to make them easier to maintain. \n",
        "\n",
        "There are several big differences in the whole program to the fragments used.\n",
        "1. EVERYTHING (all executable code and specifically procedure calls) are in a method!\n",
        "2. All methods are in a class\n",
        "3. You may need to load libraries of code\n",
        "\n",
        "### EVERYTHING (all procedure calls) are in a method!\n",
        "Perhaps the most important thing to notice now is that in the real Java program, their are 2 or more procedures.\n",
        "The first difference in a real program is that the call to our method (ie ```helloMessage();``` ) is itself INSIDE a method definition.\n",
        "\n",
        "### All programs have a method called main\n",
        "\n",
        "All Java programs have a method called main. When you run a program it finds main and executes those instructions. The method main will then call other methods to get things done. Here main has two instructions, one to call our method helloMessage, and one to exit (ie end) the program. **The main method of every program should have such an exit statement**. Aside from the way it ends, main is just a method like any other. It is just the method that is called automatically when you run a program.\n",
        "\n",
        "### All methods are in a class\n",
        "\n",
        "The second thing is that all methods are inside a **class**. \n",
        "```jav\n",
        "class hello  \n",
        "{\n",
        "    <method definitions go here>\n",
        "}\n",
        "```\n",
        "The curly brackets group all the methods into one class and give it the name hello.\n",
        "\n",
        "\n",
        "### You may need to load libraries of code\n",
        "Finally in a real program you will likely load in libraries. A library is just a collection of generally useful methods and other code written by someone else. By including a library you avoid rewriting methods someone else already wrote.  We do not have to worry about this yet as the above code does not need a library. However, to use the input scanners and methods, for example, you would need to import the scanner library so add to the very start of your code (just before the class\n",
        "```java\n",
        "import java.util.Scanner;\n",
        "```\n",
        "i.e the program would need start something like this...\n",
        "\n",
        "```java\n",
        "/** Demo libraries\n",
        "**/\n",
        "\n",
        "import java.util.Scanner;\n",
        "\n",
        "class HelloInput\n",
        "{\n",
        "    \n",
        "  //  <methods here> \n",
        "}\n",
        "```"
      ]
    },
    {
      "cell_type": "markdown",
      "id": "75d0f477-3906-40ab-be13-4396d0c6f0e6",
      "metadata": {
        "id": "75d0f477-3906-40ab-be13-4396d0c6f0e6"
      },
      "source": [
        "***\n",
        "## Data Types\n",
        "Revise earlier _primitive data types_ if necessary before this section. Java uses _data types_ for values and variables. Data types just say what kind of data the variable can hold. It collects values into groups that have the same properties, such as all being whole numbers or all text or true/false values. Data types are stored in a different way to each other.\n",
        "\n",
        "A **strong data type system** where those types are enforced is important in a language as it\n",
        "\n",
        "- tells the compiler what values you (the programmer) intend to be allowable in a variable. With that information, the compiler can catch your mistakes\n",
        "    - eg if you said a variable was to hold a number then write an instruction that puts a word in it.\n",
        "    \n",
        "- allows the system to allocate the right space to store the values \n",
        "    - eg a string needs more space than an integer.\n",
        "    \n",
        "- tells the compiler what operations make sense so it can catch your mistakes\n",
        "    - eg if you said a variable was to hold a string but then try to multiply it by 10 you are confused as multiplication only applies to numbers, and it can tell you.\n",
        "\n",
        "A good data type system is an important part of defensive programming: they help prevent buggy programs.\n",
        "\n",
        "A built-in method Integer.parseInt takes strings (of numbers) and converts them to numbers, i.e. _double_ or _float (floating point)_."
      ]
    },
    {
      "cell_type": "code",
      "execution_count": null,
      "id": "6c038709-4389-4af4-a684-030147bbb4ea",
      "metadata": {
        "id": "6c038709-4389-4af4-a684-030147bbb4ea",
        "outputId": "c79859e9-be8f-452b-9640-04d4a0255fd9"
      },
      "outputs": [
        {
          "name": "stdout",
          "output_type": "stream",
          "text": [
            "Input a number\n"
          ]
        },
        {
          "name": "stdin",
          "output_type": "stream",
          "text": [
            " 486\n"
          ]
        },
        {
          "name": "stdout",
          "output_type": "stream",
          "text": [
            "You typed 486\n",
            "Which is the integer 486\n",
            "You can do arithmetic on an integer (not on a string) so n plus 1 is 487\n"
          ]
        }
      ],
      "source": [
        "/* Demonstrating parseInt */\n",
        "\n",
        "Scanner scanner = new Scanner(System.in);\n",
        "\n",
        "String text_input;\n",
        "int n;\n",
        "int plus1;\n",
        "\n",
        "System.out.println(\"Input a number\");\n",
        "text_input = scanner.nextLine();\n",
        "n = Integer.parseInt(text_input);\n",
        "\n",
        "\n",
        "System.out.println(\"You typed \" + text_input);\n",
        "System.out.println(\"Which is the integer \" + n);\n",
        "plus1 = n+1;\n",
        "System.out.println(\"You can do arithmetic on an integer (not on a string) so n plus 1 is \" + plus1);"
      ]
    },
    {
      "cell_type": "code",
      "execution_count": null,
      "id": "8292a1ff-34cf-4780-9f5d-31df5b7fe644",
      "metadata": {
        "id": "8292a1ff-34cf-4780-9f5d-31df5b7fe644",
        "outputId": "13baef81-7324-463a-d356-46dab6ea1c3e"
      },
      "outputs": [
        {
          "name": "stdout",
          "output_type": "stream",
          "text": [
            "Input a number\n"
          ]
        },
        {
          "name": "stdin",
          "output_type": "stream",
          "text": [
            " 694\n"
          ]
        },
        {
          "name": "stdout",
          "output_type": "stream",
          "text": [
            "You typed 694\n",
            "Which is the integer 694\n",
            "You can do arithmetic on an integer (not on a string) so n plus 1 is 695\n",
            "6941\n"
          ]
        }
      ],
      "source": [
        "/* Demonstrating parseInt with text_input +1 added at the end */\n",
        "\n",
        "Scanner scanner = new Scanner(System.in);\n",
        "\n",
        "String text_input;\n",
        "int n;\n",
        "int plus1;\n",
        "\n",
        "System.out.println(\"Input a number\");\n",
        "text_input = scanner.nextLine();\n",
        "n = Integer.parseInt(text_input);\n",
        "\n",
        "\n",
        "System.out.println(\"You typed \" + text_input);\n",
        "System.out.println(\"Which is the integer \" + n);\n",
        "plus1 = n+1;\n",
        "System.out.println(\"You can do arithmetic on an integer (not on a string) so n plus 1 is \" + plus1);\n",
        "\n",
        "System.out.println(text_input + 1);"
      ]
    },
    {
      "cell_type": "markdown",
      "id": "7aa83f77-e932-47c3-9937-ca58effbca55",
      "metadata": {
        "id": "7aa83f77-e932-47c3-9937-ca58effbca55"
      },
      "source": [
        "## Record Definitions\n",
        "In addition to premitive data types we can create user-defined data types. One kind involves creating what are called **records**. They give a way to create new data types from existing ones.\n",
        "\n",
        "Just as we think of a String as a single thing not just lots of characters, if we are writing a program for bird spotters it would be nice to think of a bird as a single thing: something with a name, a length and a wing span, perhaps. It would be nice to be able to create a single variable that holds everything we want to know about each bird we record rather than needing lots of variables to hold all the separate information about each bird.\n",
        "\n",
        "A record is a new type made by grouping together existing types and giving each a **field** name.\n",
        "\n",
        "_Classes_ (and by extention _objects_) in Java are records, you can create records, or record data types. \n",
        "\n",
        "Before you can use a new record type, you have to define the record. You must \n",
        "- give it a name (what are you going to call the type) and \n",
        "- say what its component types are (the types of the fields) \n",
        "- give each field a name (i.e. class or object _attributes_)."
      ]
    },
    {
      "cell_type": "code",
      "execution_count": null,
      "id": "263cc993-0a4c-4bf2-b623-2959c00a8d8a",
      "metadata": {
        "id": "263cc993-0a4c-4bf2-b623-2959c00a8d8a"
      },
      "outputs": [],
      "source": [
        "/* Example of a record data type */\n",
        "\n",
        "class Bird\n",
        "{\n",
        "    String name;\n",
        "    int wing_span;\n",
        "    int length;\n",
        "}"
      ]
    },
    {
      "cell_type": "code",
      "execution_count": null,
      "id": "7eaae471-bef1-4a0e-b24a-8094126febbf",
      "metadata": {
        "id": "7eaae471-bef1-4a0e-b24a-8094126febbf"
      },
      "outputs": [],
      "source": [
        "/* Intantiating 3 objects of the Bird class */\n",
        "\n",
        "Bird albatross = new Bird();\n",
        "Bird kite = new Bird();\n",
        "Bird robin = new Bird();"
      ]
    },
    {
      "cell_type": "raw",
      "id": "dac651b2-1fa9-4595-b754-1a8c51a436e2",
      "metadata": {
        "id": "dac651b2-1fa9-4595-b754-1a8c51a436e2"
      },
      "source": [
        "Each of these objects automatically has fields (sub-compartments) or attributes of:\n",
        "robin.name\n",
        "robin.wing_span\n",
        "robin.length\n",
        "\n",
        "Using record types provides convenience as we now only have one variable for each bird instead of several. We are now keeping all the information about one bird together in one place, so mix-ups when we write the code are less likely. When records get bigger with more fields this becomes even more important. It lays the groundwork for some even more elegant things."
      ]
    },
    {
      "cell_type": "code",
      "execution_count": null,
      "id": "d0252761-790f-416d-ac84-4872eb4eae49",
      "metadata": {
        "id": "d0252761-790f-416d-ac84-4872eb4eae49",
        "outputId": "3adf17b4-a4ee-4349-92f6-ac55c0a3e872"
      },
      "outputs": [
        {
          "name": "stdout",
          "output_type": "stream",
          "text": [
            "The Red Kite is of length 66cm\n",
            "and has a wing span of 165cm.\n"
          ]
        }
      ],
      "source": [
        "/* Demonstrating record use */\n",
        "\n",
        "kite.name = \"Red Kite\";\n",
        "kite.wing_span = 165;\n",
        "kite.length = 66;\n",
        "\n",
        "System.out.println(\"The \" + kite.name + \" is of length \" + kite.length + \"cm\");\n",
        "System.out.println(\"and has a wing span of \" + kite.wing_span + \"cm.\");"
      ]
    },
    {
      "cell_type": "code",
      "execution_count": null,
      "id": "431cefa9-59ea-43e5-a3e7-27add7304567",
      "metadata": {
        "id": "431cefa9-59ea-43e5-a3e7-27add7304567",
        "outputId": "61b70f75-e5f8-44c2-9d49-3364de0ecd50"
      },
      "outputs": [
        {
          "name": "stdout",
          "output_type": "stream",
          "text": [
            "The Wandering Albatross is of length 135cm\n",
            "and has a wing span of 305cm.\n",
            "It is coloured white with black wing tips.\n",
            "\n"
          ]
        }
      ],
      "source": [
        "/* Demonstrating record use */\n",
        "\n",
        "class Bird\n",
        "{\n",
        "    String name;\n",
        "    int wing_span;\n",
        "    int length;\n",
        "    String colour;\n",
        "}\n",
        "\n",
        "public static void birdDetails1()\n",
        "{\n",
        "    Bird albatross = new Bird();\n",
        "        \n",
        "    albatross.name = \"Wandering Albatross\";\n",
        "    albatross.wing_span = 305;\n",
        "    albatross.length = 135;\n",
        "    albatross.colour = \"white with black wing tips\";\n",
        "     \n",
        "    \n",
        "    System.out.println(\"The \" + albatross.name + \" is of length \" + albatross.length + \"cm\");\n",
        "    System.out.println(\"and has a wing span of \" + albatross.wing_span + \"cm.\");\n",
        "    System.out.println(\"It is coloured \" + albatross.colour + \".\");\n",
        "    System.out.println();\n",
        "\n",
        "    return;\n",
        "}\n",
        "\n",
        "birdDetails1();"
      ]
    },
    {
      "cell_type": "markdown",
      "id": "3cb94986-f355-4b82-8e28-16a0d9d86970",
      "metadata": {
        "id": "3cb94986-f355-4b82-8e28-16a0d9d86970"
      },
      "source": [
        "**\n",
        "\n",
        "Note there is one subtle difference between this and a full program to bear in mind. In a full program the new class definition has to be outside the class definition holding our methods.\n",
        "\n",
        "Whenever we seem to be writing the same code out multiple times, it is time to think of GENERALISING the code. Can we write a procedure that packages up what we are doing, so we can write the code once in a procedure and then call it when needed?\n",
        "\n",
        "There is an opportunity (or two) here. We are writing the same code for printing the details of a bird, whether kite, albatross or something else. The only thing that changes is which bird (and so which variable of type Bird) we want to print the details of."
      ]
    },
    {
      "cell_type": "code",
      "execution_count": null,
      "id": "89bb562e-7866-4c90-9770-0900d9eb7052",
      "metadata": {
        "id": "89bb562e-7866-4c90-9770-0900d9eb7052",
        "outputId": "6f4d7bbb-a6a7-45cf-b9c7-03cdc5d20a26"
      },
      "outputs": [
        {
          "name": "stdout",
          "output_type": "stream",
          "text": [
            "The Wandering Albatross is of length 135cm\n",
            "and has a wing span of 305cm.\n",
            "It is coloured white with black wing tips.\n",
            "\n"
          ]
        }
      ],
      "source": [
        "/* Demonstrating generalisation */\n",
        "\n",
        "public static void printBirdDetails(Bird b)\n",
        "{\n",
        "    System.out.println(\"The \" + b.name + \" is of length \" + b.length + \"cm\");\n",
        "    System.out.println(\"and has a wing span of \" + b.wing_span + \"cm.\");\n",
        "    System.out.println(\"It is coloured \" + b.colour + \".\");\n",
        "    System.out.println();\n",
        "\n",
        "    return;\n",
        "}\n",
        "\n",
        "public static void birdDetails3()\n",
        "{\n",
        "    Bird albatross = new Bird();\n",
        "        \n",
        "    albatross.name = \"Wandering Albatross\";\n",
        "    albatross.wing_span = 305;\n",
        "    albatross.length = 135;\n",
        "    albatross.colour = \"white with black wing tips\";\n",
        "     \n",
        "    \n",
        "    printBirdDetails(albatross);\n",
        "\n",
        "    return;\n",
        "}\n",
        "\n",
        "birdDetails3();"
      ]
    },
    {
      "cell_type": "markdown",
      "id": "f28ae2d2-3870-4f8c-b8f7-2ac5ce178ef3",
      "metadata": {
        "id": "f28ae2d2-3870-4f8c-b8f7-2ac5ce178ef3"
      },
      "source": [
        "The advantage of using procedures like this is that\n",
        "\n",
        "- we only write the code once, not every time we print out the details of a bird;\n",
        "\n",
        "- once written we don't have to worry about how it works, just what it is called and what it does;\n",
        "\n",
        "- we ensure consistency. Every time we print details of a bird they use the same format.\n",
        "\n",
        "- to change the way we print the details, we only have to change it in one place and can be sure it is changed consistently everywhere.\n",
        "\n",
        "We can create a record and store values too all into one procedure, using arguments:"
      ]
    },
    {
      "cell_type": "code",
      "execution_count": null,
      "id": "b417f898-2c3f-458d-837e-123665fe487f",
      "metadata": {
        "id": "b417f898-2c3f-458d-837e-123665fe487f",
        "outputId": "e0eee6b1-a7ae-414e-b76c-cc78e31d0147"
      },
      "outputs": [
        {
          "name": "stdout",
          "output_type": "stream",
          "text": [
            "The Wandering Albatross is of length 135cm\n",
            "and has a wing span of 305cm.\n",
            "It is coloured white with black wing tips.\n",
            "\n"
          ]
        }
      ],
      "source": [
        "/* Creating bird record and attributes and returning the completed record values using arguments */\n",
        "\n",
        "public static Bird createBird(String given_name, int given_wing_span, int given_length, String given_colour)\n",
        "{\n",
        "    Bird b = new Bird();\n",
        "        \n",
        "    b.name = given_name;\n",
        "    b.wing_span = given_wing_span;\n",
        "    b.length = given_length;\n",
        "    b.colour = given_colour;\n",
        "\n",
        "    return b;\n",
        "}\n",
        "\n",
        "public static void birdDetails4()\n",
        "{\n",
        "    Bird albatross = createBird(\"Wandering Albatross\", 305, 135, \"white with black wing tips\");     \n",
        "    \n",
        "    printBirdDetails(albatross);\n",
        "\n",
        "    return;\n",
        "}\n",
        "\n",
        "birdDetails4();"
      ]
    },
    {
      "cell_type": "code",
      "execution_count": null,
      "id": "99b03535-ced2-4fde-ac1e-363478294db6",
      "metadata": {
        "id": "99b03535-ced2-4fde-ac1e-363478294db6",
        "outputId": "1103a3be-f774-4351-f656-a43a0714789f"
      },
      "outputs": [
        {
          "name": "stdout",
          "output_type": "stream",
          "text": [
            "The Wandering Albatross is of length 135cm\n",
            "and has a wing span of 305cm.\n",
            "It is coloured white with black wing tips.\n",
            "\n"
          ]
        }
      ],
      "source": [
        "/* Creating bird record and attributes and returning the completed record values using arguments,\n",
        "   a better program fragment */\n",
        "\n",
        "public static void birdDetails5()\n",
        "{\n",
        "    Bird albatross = createBird(\"Wandering Albatross\", 305, 135, \"white with black wing tips\");     \n",
        "    \n",
        "    printBirdDetails(albatross);\n",
        "\n",
        "    return;\n",
        "}\n",
        "\n",
        "birdDetails5();"
      ]
    },
    {
      "cell_type": "markdown",
      "id": "db52b200-3c3c-4f6c-aa95-2d88f0fe6856",
      "metadata": {
        "id": "db52b200-3c3c-4f6c-aa95-2d88f0fe6856"
      },
      "source": [
        "## Putting it all together into a program\n",
        "\n",
        "The really important thing to realise when writing a full program is that the record definition (starting class) is not inside the class representing the program but outside it as below. \n",
        "\n",
        "Notice how one class follows the other (the order doesn't matter) and in particular that the close curly bracket of the first ends it before the next class starts. **Notice also how ALL the methods are in the same class as main.** The record definition does not contain any methods.\n",
        "\n",
        "This is a different style to that used when doing object-oriented programming in Java, but in these set of exercises using Java in procedural programming, and this style mirrors the style used in pure procedural programming languages.\n",
        "\n",
        "Q: Write the full Java program for above lesson."
      ]
    },
    {
      "cell_type": "code",
      "execution_count": null,
      "id": "e7eb0e3c-de99-4920-ad49-ae3048f01220",
      "metadata": {
        "id": "e7eb0e3c-de99-4920-ad49-ae3048f01220"
      },
      "outputs": [],
      "source": [
        "/* *****************************************\n",
        "    A program to illustrate Simple use of records \n",
        "    including use of procedures and functions.\n",
        "\n",
        "    Stores details about birds and then print them in a consistent format.\n",
        "******************************************** */\n",
        "\n",
        "\n",
        "/* Creating a new type Bird to hold details of different birds. */\n",
        "class Bird\n",
        "{\n",
        "    String name;\n",
        "    int wing_span;\n",
        "    int length;\n",
        "    String colour;\n",
        "}\n",
        "\n",
        "/* Defining main method */\n",
        "\n",
        "class factsaboutbirds\n",
        "{\n",
        "    public static void main(String[] p)\n",
        "    {\n",
        "\n",
        "        birdDetails();\n",
        "        \n",
        "        System.exit(0);\n",
        "    }\n",
        "\n",
        "    public static void birdDetails()\n",
        "    {\n",
        "        Bird albatross = createBird(\"Wandering Albatross\", 305, 135, \"white with black wing tips\");     \n",
        "        Bird kite = createBird(\"Red Kite\", 165, 66, \"rust red\");\n",
        "                \n",
        "        printBirdDetails(albatross);\n",
        "        printBirdDetails(kite);\n",
        "\n",
        "        return;\n",
        "    }\n",
        "       \n",
        "    public static void printBirdDetails(Bird b)\n",
        "    {\n",
        "        System.out.println(\"The \" + b.name + \" is of length \" + b.length + \"cm\");\n",
        "        System.out.println(\"and has a wing span of \" + b.wing_span + \"cm.\");\n",
        "        System.out.println(\"It is coloured \" + b.colour + \".\");\n",
        "        System.out.println();\n",
        "\n",
        "        return;\n",
        "    }\n",
        "\n",
        "    public static Bird createBird(String given_name, int given_wing_span, int given_length, String given_colour)\n",
        "    {\n",
        "        Bird b = new Bird();\n",
        "        \n",
        "        b.name = given_name;\n",
        "        b.wing_span = given_wing_span;\n",
        "        b.length = given_length;\n",
        "        b.colour = given_colour;\n",
        "\n",
        "        return b;\n",
        "    }\n",
        "\n",
        "}"
      ]
    },
    {
      "cell_type": "markdown",
      "id": "86f3c4d5-ac7a-468f-ade7-1cf8e47dc96e",
      "metadata": {
        "id": "86f3c4d5-ac7a-468f-ade7-1cf8e47dc96e"
      },
      "source": [
        "**Note:** Running the full program in this notebook returns no output.\n",
        "A full program requires a text editor (e.g. Notepad), or a code editor (e.g. VSCode), or an IDE (e.g. jre), not this notebook. We save it as a Java file ( .java) called say factsaboutbirds.java, and then compile it (to .class) into factsaboutbirds.class as a full program, which we can run or execute."
      ]
    },
    {
      "cell_type": "code",
      "execution_count": null,
      "id": "ac45601f-9db5-4bca-b431-86e5c1229525",
      "metadata": {
        "id": "ac45601f-9db5-4bca-b431-86e5c1229525"
      },
      "outputs": [],
      "source": []
    }
  ],
  "metadata": {
    "kernelspec": {
      "display_name": "Java",
      "language": "java",
      "name": "java"
    },
    "language_info": {
      "codemirror_mode": "java",
      "file_extension": ".jshell",
      "mimetype": "text/x-java-source",
      "name": "Java",
      "pygments_lexer": "java",
      "version": "11.0.8+10-LTS"
    },
    "colab": {
      "provenance": []
    }
  },
  "nbformat": 4,
  "nbformat_minor": 5
}