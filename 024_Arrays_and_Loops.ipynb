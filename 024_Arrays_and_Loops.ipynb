{
  "cells": [
    {
      "cell_type": "markdown",
      "id": "2b3d6818-3b68-4433-81b5-857c80960f39",
      "metadata": {
        "id": "2b3d6818-3b68-4433-81b5-857c80960f39"
      },
      "source": [
        "24.\n",
        "\n",
        "# **Arrays**\n",
        "\n",
        "When we need to store and manipulate bulk data of the same type, such as the names of all the players in a tennis tournament, or all the marks of students from a test, we use arrays.\n",
        "\n",
        "Arrays are a way to store lots of values, instead of just one, in a single variable. All the values MUST be of the **same type**. You can think of a variable of data type _array_ as being storage space that has lots of separate compartments, like a cabinet full of lots of identically sized drawers, with one thing stored in each drawer.\n",
        "\n",
        "A program can get at all values using the single variable name given to the array. If the array is called 'names', then each name is accessed using the label _names_. The separate compartments are referred to by a number which gives the position or index of where it can be found. So, it is as though all the drawers are lined up in order and each drawer of the cabinet has a number labelling it. To get at a particular drawer, to get a copy out or put something new in, you give the cabinet's name and the number of the drawer.\n",
        "\n",
        "The index position of an array starts at **0**, so **the first position in an array is the 0th position**. Hence the index of a value in an array is one less the position number, and the index of the last value is one less than the total number of values, i.e. the _size_ of the array.\n",
        "\n",
        "Array values (or **elements**), on initialisation, are enclosed in curly brackets with the component values separated by commas."
      ]
    },
    {
      "cell_type": "code",
      "execution_count": null,
      "id": "5c9d8555-76fe-4ed3-99f4-9136f783555a",
      "metadata": {
        "id": "5c9d8555-76fe-4ed3-99f4-9136f783555a",
        "outputId": "b0805b2a-ce34-4064-ed86-3c5df60a890f"
      },
      "outputs": [
        {
          "name": "stdout",
          "output_type": "stream",
          "text": [
            "Red\n",
            "Orange\n",
            "Blue\n",
            "Violet\n"
          ]
        }
      ],
      "source": [
        "/* Demonstrating arrays */\n",
        "\n",
        "String [] colours_of_rainbow = {\"Red\", \"Orange\", \"Yellow\", \"Green\", \"Blue\", \"Indigo\", \"Violet\"};\n",
        "\n",
        "System.out.println(colours_of_rainbow [0]);\n",
        "System.out.println(colours_of_rainbow [1]);\n",
        "System.out.println(colours_of_rainbow [4]);\n",
        "System.out.println(colours_of_rainbow [6]);"
      ]
    },
    {
      "cell_type": "markdown",
      "id": "66239ede-a076-442c-8966-491a621fd7a5",
      "metadata": {
        "id": "66239ede-a076-442c-8966-491a621fd7a5"
      },
      "source": [
        "Q: Write a fragment of code that it declares a variable of type String array called star_wars_films that holds the names of the main 9 films, in order. It should then access the last one: \"The Rise of Skywalker\" and print it.\n",
        "\n",
        "The 9 films are: The Phantom Menace, Attack of the Clones, Revenge of the Sith, A New Hope, The Empire Strikes Back, Return of the Jedi, The Force Awakens, The Last Jedi, The Rise of Skywalker."
      ]
    },
    {
      "cell_type": "code",
      "execution_count": null,
      "id": "991f4136-a3a8-47a0-b004-ece8ec2ee81f",
      "metadata": {
        "id": "991f4136-a3a8-47a0-b004-ece8ec2ee81f",
        "outputId": "25de500e-f099-48c9-b8c1-a6b4f4c1524a"
      },
      "outputs": [
        {
          "name": "stdout",
          "output_type": "stream",
          "text": [
            "The Rise of Skywalker\n"
          ]
        }
      ],
      "source": [
        "/* Demonstrating array of star wars films */\n",
        "\n",
        "String [] star_wars_films = {\"The Phantom Menace\", \"Attack of the Clones\", \"Revenge of the Sith\",\n",
        "                             \"A New Hope\", \"The Empire Strikes Back\", \"Return of the Jedi\",\n",
        "                             \"The Force Awakens\", \"The Last Jedi\", \"The Rise of Skywalker\"};\n",
        "\n",
        "System.out.println(star_wars_films[8]);"
      ]
    },
    {
      "cell_type": "markdown",
      "id": "261f4e00-7366-4180-89ed-2a5820a45900",
      "metadata": {
        "id": "261f4e00-7366-4180-89ed-2a5820a45900"
      },
      "source": [
        "**\n",
        "\n",
        "To access a value in an array without outputting it we simply write:\n",
        "\n",
        "```star_wars_films[8]```\n",
        "\n",
        "and to output it we write:\n",
        "\n",
        "```System.out.println(star_wars_films[8]);```\n",
        "\n",
        "If we wanted to get a copy of a value and store it on its own, we use a String variable called say current_star_wars_film, we write:\n",
        "\n",
        "```String current_star_wars_film = star_wars_films[8]```\n",
        "\n",
        "To change the values stored in specific indexes (e.g. capitalise them), we use assignment statements:"
      ]
    },
    {
      "cell_type": "code",
      "execution_count": null,
      "id": "627d7430-a9ef-4fb2-bf0f-ac6735eeebb5",
      "metadata": {
        "id": "627d7430-a9ef-4fb2-bf0f-ac6735eeebb5",
        "outputId": "fa58e4e0-9efa-4f0a-8207-16e0bf2f5d12"
      },
      "outputs": [
        {
          "name": "stdout",
          "output_type": "stream",
          "text": [
            "RED\n",
            "ORANGE\n",
            "GREEN\n",
            "Blue\n",
            "Indigo\n",
            "Violet\n"
          ]
        }
      ],
      "source": [
        "/* Using assignment statements to change values */\n",
        "\n",
        "colours_of_rainbow[0] = \"RED\";\n",
        "colours_of_rainbow[1] = \"ORANGE\";\n",
        "colours_of_rainbow[2] = \"YELLOW\";\n",
        "colours_of_rainbow[3] = \"GREEN\";\n",
        "System.out.println(colours_of_rainbow [0]);\n",
        "System.out.println(colours_of_rainbow [1]);\n",
        "System.out.println(colours_of_rainbow [3]);\n",
        "System.out.println(colours_of_rainbow [4]);\n",
        "System.out.println(colours_of_rainbow [5]);\n",
        "System.out.println(colours_of_rainbow [6]);"
      ]
    },
    {
      "cell_type": "markdown",
      "id": "22462929-b999-454a-87a9-52dfe02a22aa",
      "metadata": {
        "id": "22462929-b999-454a-87a9-52dfe02a22aa"
      },
      "source": [
        "We can output the elements in an array by assigning them to variables and calling the variables:"
      ]
    },
    {
      "cell_type": "code",
      "execution_count": null,
      "id": "d1291906-385f-4ab0-9725-c37824805ee1",
      "metadata": {
        "id": "d1291906-385f-4ab0-9725-c37824805ee1",
        "outputId": "2027013e-716e-4191-c81f-cc87f83334d6"
      },
      "outputs": [
        {
          "name": "stdout",
          "output_type": "stream",
          "text": [
            "Violet\n",
            "Blue\n",
            "YELLOW\n",
            "RED\n"
          ]
        }
      ],
      "source": [
        "/* Outputting the elements in an array by assigning them to variables */\n",
        "int position = 6;\n",
        "int value = 4;\n",
        "int element = 2;\n",
        "int number = 0;\n",
        "\n",
        "System.out.println(colours_of_rainbow [position]);\n",
        "System.out.println(colours_of_rainbow [value]);\n",
        "System.out.println(colours_of_rainbow [element]);\n",
        "System.out.println(colours_of_rainbow [number]);"
      ]
    },
    {
      "cell_type": "code",
      "execution_count": null,
      "id": "46f55839-b3b6-4808-8416-d584b5f2a481",
      "metadata": {
        "id": "46f55839-b3b6-4808-8416-d584b5f2a481",
        "outputId": "11cd1938-e6ca-45a8-c8ab-ed93620369b4"
      },
      "outputs": [
        {
          "name": "stdout",
          "output_type": "stream",
          "text": [
            "Three times 6 is 18\n"
          ]
        }
      ],
      "source": [
        "/* Demonstrating flexibity of an array of 3 times table */\n",
        "\n",
        "int[] three_times_table = {0,3,6,9,12,15,18,21,24,27,30};\n",
        "\n",
        "int times_number = 6;\n",
        "\n",
        "System.out.println(\"Three times \" + times_number + \" is \" + three_times_table [times_number]);"
      ]
    },
    {
      "cell_type": "markdown",
      "id": "c0e9bf03-66d5-4abe-8b9e-2135c599fb20",
      "metadata": {
        "id": "c0e9bf03-66d5-4abe-8b9e-2135c599fb20"
      },
      "source": [
        "***\n",
        "### **Lookup tables**\n",
        "The above is an example of a **data structure** called a **lookup table**. Precomputed answers to times table problems are stored in the array. Answers can then be looked up using the index to find the right answer.\n",
        "\n",
        "Q: Modify this code to print answers to 9 times table problems up to 9x12, looking up and printing the answer to 9 x 11. Test it works for other values too.\n",
        "\n",
        "HINT: By beginning at 9 x 0, you can obtain the actual 9 x n value without subtracting 1 as in normal indexing."
      ]
    },
    {
      "cell_type": "code",
      "execution_count": null,
      "id": "65fc4193-f922-4efa-8d12-3b3141f54c34",
      "metadata": {
        "id": "65fc4193-f922-4efa-8d12-3b3141f54c34",
        "outputId": "0a5615db-6596-4df4-db73-c368d7b2a6ac"
      },
      "outputs": [
        {
          "name": "stdout",
          "output_type": "stream",
          "text": [
            "9 x 11 = 99\n",
            "9 x 9 = 81\n",
            "9 x 5 = 45\n"
          ]
        }
      ],
      "source": [
        "/* 9 times table */\n",
        "\n",
        "int[] nine_times_table = {0,9,18,27,36,45,54,63,72,81,90,99,108};\n",
        "\n",
        "int times_number = 11;\n",
        "System.out.println(\"9 x \" + times_number + \" = \" + nine_times_table [times_number]);\n",
        "\n",
        "int times_number = 9;\n",
        "System.out.println(\"9 x \" + times_number + \" = \" + nine_times_table [times_number]);\n",
        "\n",
        "int times_number = 5;\n",
        "System.out.println(\"9 x \" + times_number + \" = \" + nine_times_table [times_number]);"
      ]
    },
    {
      "cell_type": "markdown",
      "id": "b9dde45b-7236-4155-87f0-6058970f259f",
      "metadata": {
        "id": "b9dde45b-7236-4155-87f0-6058970f259f"
      },
      "source": [
        "***\n",
        "### **Summary**\n",
        "\n",
        "Array values are, therefore, compound values. They combine lots of simpler values of the same type (e.g. all ints or all Strings) into one new compound value that can be stored in a single variable with a single name.\n",
        "\n",
        "Array elements or values are called by declaring **_arrayName[index]_**. You can think of these as similar to the names of individual variables. An array is therefore more flexible than having lots of separate variables, as we can replace the index by a variable that the program changes. This allows us to process arrays using _for_ loops.\n",
        "***"
      ]
    },
    {
      "cell_type": "markdown",
      "id": "5193fe18-82f9-4cfa-9a36-6d4eb9e2da44",
      "metadata": {
        "id": "5193fe18-82f9-4cfa-9a36-6d4eb9e2da44"
      },
      "source": [
        "# **Arrays and Loops**\n",
        "\n"
      ]
    },
    {
      "cell_type": "markdown",
      "id": "3e60957e-bc12-4006-988a-400907b0832d",
      "metadata": {
        "id": "3e60957e-bc12-4006-988a-400907b0832d"
      },
      "source": [
        "### Declaring the size of an array\n",
        "Arrays are different to the simpler data types we have mainly seen before in that their size and so the amount of space they need varies from array to array. As with records, the space needs to be **explicitly allocated** for an array before it is used. If we initialise an array at the same time as declaring it, then this can be sorted out automatically by the compiler. If not, then it is a good idea to allocate the space at declaration time. \n",
        "\n",
        "We use keyword **new** to do this, with the size of the array in the array declaration square brackets.\n",
        "\n",
        "A typical Array declaration is therefore:\n",
        "\n",
        "```String [] arrayName = new String[100];```\n",
        "\n",
        "This declares a String array called _arrayName_ of size 100 - it allocates enough space in _arrayName_ for an array holding 100 String values. Similarly, for an integer array of size 2,000 we declare\n",
        "\n",
        "```int [] temperatureValues = new int[2000];```\n",
        "\n",
        "This declares an integer array called _temperatureValues_ of size 2,000 and allocates enough space in _temperatureValues_ for an array holding 2,000 integer values.\n",
        "\n",
        "Q: Create an array to hold 5 tennis players in a tournament."
      ]
    },
    {
      "cell_type": "code",
      "execution_count": null,
      "id": "4996ba29-5409-409f-be08-32694689f7cb",
      "metadata": {
        "id": "4996ba29-5409-409f-be08-32694689f7cb",
        "outputId": "bef6feff-867d-4969-8363-99b328863cbc"
      },
      "outputs": [
        {
          "name": "stdout",
          "output_type": "stream",
          "text": [
            "Serena Williams\n",
            "Venus Williams\n",
            "Ashleigh Barty\n",
            "Martina Navratilova\n",
            "Naomi Osaka\n"
          ]
        }
      ],
      "source": [
        "/* Storing the names of 5 players in a tennis tournament and print them */\n",
        "\n",
        "public static void tennisTournament()\n",
        "{\n",
        "    String [] names_of_players = new String[5];\n",
        "    \n",
        "    names_of_players [0] = \"Serena Williams\";\n",
        "    names_of_players [1] = \"Venus Williams\";\n",
        "    names_of_players [2] = \"Ashleigh Barty\";\n",
        "    names_of_players [3] = \"Martina Navratilova\";\n",
        "    names_of_players [4] = \"Naomi Osaka\";\n",
        "    \n",
        "    System.out.println(names_of_players [0]);\n",
        "    System.out.println(names_of_players [1]);\n",
        "    System.out.println(names_of_players [2]);\n",
        "    System.out.println(names_of_players [3]);\n",
        "    System.out.println(names_of_players [4]);\n",
        "    return;\n",
        "}\n",
        "\n",
        "tennisTournament();"
      ]
    },
    {
      "cell_type": "markdown",
      "id": "5756aedd-3199-4e99-bffa-6f8ccea16161",
      "metadata": {
        "id": "5756aedd-3199-4e99-bffa-6f8ccea16161"
      },
      "source": [
        "### Processing arrays with for loops\n",
        "_for_ loops are an obvious way to process each piece of data stored in an array, by doing the same thing at each index position.\n",
        "\n",
        "In the previous example, we had lots of similar lines like this\n",
        "\n",
        "```System.out.println(names_of_players [x]);```\n",
        "\n",
        "They just differ by the position in the array being accessed. That is the sort of situation where it is much better to use a for loop. We can then write it out once surrounded by a loop, instead of lots of times.\n",
        "\n",
        "Q: Create an array to hold 5 tennis players in a tournament using a loop."
      ]
    },
    {
      "cell_type": "code",
      "execution_count": null,
      "id": "5577b5a5-1835-4c9e-be8b-4e04a48bb5b8",
      "metadata": {
        "id": "5577b5a5-1835-4c9e-be8b-4e04a48bb5b8",
        "outputId": "64683840-6148-4839-956d-7d69a90ce055"
      },
      "outputs": [
        {
          "name": "stdout",
          "output_type": "stream",
          "text": [
            "Serena Williams\n",
            "Venus Williams\n",
            "Ashleigh Barty\n",
            "Martina Navratilova\n",
            "Naomi Osaka\n"
          ]
        }
      ],
      "source": [
        "/* Storing the names of 5 players in a tennis tournament and printing them using a loop */\n",
        "\n",
        "public static void tennisTournament2()\n",
        "{\n",
        "    String [] names_of_players = new String[5];\n",
        "    \n",
        "    names_of_players [0] = \"Serena Williams\";\n",
        "    names_of_players [1] = \"Venus Williams\";\n",
        "    names_of_players [2] = \"Ashleigh Barty\";\n",
        "    names_of_players [3] = \"Martina Navratilova\";\n",
        "    names_of_players [4] = \"Naomi Osaka\";\n",
        "    \n",
        "    for(int i = 0; i<5; i++)\n",
        "    {\n",
        "        System.out.println(names_of_players [i]);\n",
        "    }\n",
        "    return;\n",
        " }\n",
        "\n",
        "tennisTournament2();"
      ]
    },
    {
      "cell_type": "markdown",
      "id": "a1ebc585-0a4e-4394-97e9-ac77f4cdc275",
      "metadata": {
        "id": "a1ebc585-0a4e-4394-97e9-ac77f4cdc275"
      },
      "source": [
        "**\n",
        "### Inputting the values into an array\n",
        "The program above hard wires data into the program **:** the names of the players are part of the program. It is more sensible to have the user input the data.\n",
        "\n",
        "Q: Write code that uses an input method to input data into an array and then uses a for loop to allow the user to input all 5 player's names and then prints them."
      ]
    },
    {
      "cell_type": "code",
      "execution_count": null,
      "id": "36100271-7d37-4f24-8c24-124f2f5d6dca",
      "metadata": {
        "id": "36100271-7d37-4f24-8c24-124f2f5d6dca",
        "outputId": "6232bd2f-a575-4e39-e2f3-faa077a0950b"
      },
      "outputs": [
        {
          "name": "stdout",
          "output_type": "stream",
          "text": [
            "What is the next player's name?\n"
          ]
        },
        {
          "name": "stdin",
          "output_type": "stream",
          "text": [
            " Serena Williams\n"
          ]
        },
        {
          "name": "stdout",
          "output_type": "stream",
          "text": [
            "What is the next player's name?\n"
          ]
        },
        {
          "name": "stdin",
          "output_type": "stream",
          "text": [
            " Venus Williams\n"
          ]
        },
        {
          "name": "stdout",
          "output_type": "stream",
          "text": [
            "What is the next player's name?\n"
          ]
        },
        {
          "name": "stdin",
          "output_type": "stream",
          "text": [
            " Ashleigh Barty\n"
          ]
        },
        {
          "name": "stdout",
          "output_type": "stream",
          "text": [
            "What is the next player's name?\n"
          ]
        },
        {
          "name": "stdin",
          "output_type": "stream",
          "text": [
            " Martina Navratilova\n"
          ]
        },
        {
          "name": "stdout",
          "output_type": "stream",
          "text": [
            "What is the next player's name?\n"
          ]
        },
        {
          "name": "stdin",
          "output_type": "stream",
          "text": [
            " Naomi Osaka\n"
          ]
        },
        {
          "name": "stdout",
          "output_type": "stream",
          "text": [
            "The following players are playing this year:\n",
            "Serena Williams\n",
            "Venus Williams\n",
            "Ashleigh Barty\n",
            "Martina Navratilova\n",
            "Naomi Osaka\n"
          ]
        }
      ],
      "source": [
        "/* Allowing a single player's name to be input, returning the player's name typed as the answer */\n",
        "\n",
        "public static String inputString (String message)\n",
        "{\n",
        "       String answer;\n",
        "       Scanner scanner = new Scanner(System.in);\n",
        "\n",
        "       System.out.println(message);\n",
        "       answer = scanner.nextLine();\n",
        "\n",
        "       return answer;\n",
        "}\n",
        "\n",
        "/* Inputting the names of 5 players in a tennis tournament and printing them */\n",
        "\n",
        "public static void tennisTournament3()\n",
        "{\n",
        "    String [] names_of_players = new String[5];\n",
        "    \n",
        "    for(int i = 0; i<5; i++)\n",
        "    {\n",
        "        names_of_players [i] = inputString(\"What is the next player's name?\");\n",
        "    }\n",
        "        \n",
        "    System.out.println(\"The following players are playing this year:\");\n",
        "\n",
        "    for(int i = 0; i<5; i++)\n",
        "    {\n",
        "        System.out.println(names_of_players [i]);\n",
        "    }\n",
        "    return;\n",
        " }\n",
        "\n",
        "tennisTournament3();"
      ]
    },
    {
      "cell_type": "markdown",
      "id": "52608bb0-8246-4657-8f4c-3b67787e9fa8",
      "metadata": {
        "id": "52608bb0-8246-4657-8f4c-3b67787e9fa8"
      },
      "source": [
        "Q: Write code that accomplishes the following task - it should ask for your Top 5 favourite games (note: GAMES not sports), store them in an array and then print them. You must add code to declare an array of a suitable size. You must also add a pair of for loops: one to do input into the array and one to print the contents of the array. The Top 5 should be printed with their position number."
      ]
    },
    {
      "cell_type": "code",
      "execution_count": null,
      "id": "c2cc3e8e-d22f-4355-86f4-19a748ced7f9",
      "metadata": {
        "id": "c2cc3e8e-d22f-4355-86f4-19a748ced7f9",
        "outputId": "5218f347-001c-496b-84c3-5904418676e2"
      },
      "outputs": [
        {
          "name": "stdout",
          "output_type": "stream",
          "text": [
            "What is the name of game 1?\n"
          ]
        },
        {
          "name": "stdin",
          "output_type": "stream",
          "text": [
            " chess\n"
          ]
        },
        {
          "name": "stdout",
          "output_type": "stream",
          "text": [
            "What is the name of game 2?\n"
          ]
        },
        {
          "name": "stdin",
          "output_type": "stream",
          "text": [
            " monopoly\n"
          ]
        },
        {
          "name": "stdout",
          "output_type": "stream",
          "text": [
            "What is the name of game 3?\n"
          ]
        },
        {
          "name": "stdin",
          "output_type": "stream",
          "text": [
            " call of duty\n"
          ]
        },
        {
          "name": "stdout",
          "output_type": "stream",
          "text": [
            "What is the name of game 4?\n"
          ]
        },
        {
          "name": "stdin",
          "output_type": "stream",
          "text": [
            " halo\n"
          ]
        },
        {
          "name": "stdout",
          "output_type": "stream",
          "text": [
            "What is the name of game 5?\n"
          ]
        },
        {
          "name": "stdin",
          "output_type": "stream",
          "text": [
            " fortnite\n"
          ]
        },
        {
          "name": "stdout",
          "output_type": "stream",
          "text": [
            "The top 5 is:\n",
            "1: chess\n",
            "2: monopoly\n",
            "3: call of duty\n",
            "4: halo\n",
            "5: fortnite\n"
          ]
        }
      ],
      "source": [
        "/* Allowing a single game to be input, returning the game typed as the answer */\n",
        "\n",
        "public static String inputString (String message)\n",
        "{\n",
        "       String answer;\n",
        "       Scanner scanner = new Scanner(System.in);\n",
        "\n",
        "       System.out.println(message);\n",
        "       answer = scanner.nextLine();\n",
        "\n",
        "       return answer;\n",
        "}\n",
        "\n",
        "/* Inputting and printing my top 5 favourite games in numbered list */\n",
        "\n",
        "public static void favouriteGames()\n",
        "{\n",
        "    final int NUMBER_OF_GAMES = 5;                   \n",
        "    String [] game = new String[NUMBER_OF_GAMES];    \n",
        "        \n",
        "    for(int i = 0; i<NUMBER_OF_GAMES; i++)\n",
        "    {\n",
        "        game [i] = inputString(\"What is the name of game \" + (i+1) + \"?\");\n",
        "    }\n",
        "        \n",
        "    System.out.println(\"The top \"+ NUMBER_OF_GAMES + \" is:\");\n",
        "\n",
        "    for(int i = 0; i<NUMBER_OF_GAMES; i++)\n",
        "    {\n",
        "        System.out.println((i+1) + \": \" + game [i]);\n",
        "    }\n",
        "    return;\n",
        " }\n",
        "\n",
        "favouriteGames();"
      ]
    },
    {
      "cell_type": "markdown",
      "id": "3bb9af02-deef-4bb4-becf-e71b189542e1",
      "metadata": {
        "id": "3bb9af02-deef-4bb4-becf-e71b189542e1"
      },
      "source": [
        "Note how we achieve numbering from 1 to 5, rather than 0-4, just by printing the value of (i+1) for array position i, rather than i itself.\n",
        "\n",
        "Q: Having successfully programmed the above task, go on to the obvious fact that both filling an array and outputting it are clearly defined tasks that we are likely to need to do more than once. It makes sense, therfore, to create methods to do them. Create a method and split it off to create and fill an array. It takes the size of the required array as an argument and returns the array.\n",
        "\n",
        "Added a call just to test it. The call should store the array returned in a variable (but doesn't then do anything with it)."
      ]
    },
    {
      "cell_type": "code",
      "execution_count": null,
      "id": "0c66f2f4-a81e-48d0-8a80-f39df99d5817",
      "metadata": {
        "id": "0c66f2f4-a81e-48d0-8a80-f39df99d5817",
        "outputId": "76e68c48-7056-441a-8a01-0e296478542b"
      },
      "outputs": [
        {
          "name": "stdout",
          "output_type": "stream",
          "text": [
            "What is the next player's name?\n"
          ]
        },
        {
          "name": "stdin",
          "output_type": "stream",
          "text": [
            " Roger Federer\n"
          ]
        },
        {
          "name": "stdout",
          "output_type": "stream",
          "text": [
            "What is the next player's name?\n"
          ]
        },
        {
          "name": "stdin",
          "output_type": "stream",
          "text": [
            " Rafael Nadal\n"
          ]
        },
        {
          "name": "stdout",
          "output_type": "stream",
          "text": [
            "What is the next player's name?\n"
          ]
        },
        {
          "name": "stdin",
          "output_type": "stream",
          "text": [
            " Novak Djokovic\n"
          ]
        }
      ],
      "source": [
        "/* Creating an array of given size, inputting the names of a given number of players in a tennis tournament, \n",
        "   then creating the array to store and return the array */\n",
        "\n",
        "public static String[] createPlayerArray(int SIZE)\n",
        "{\n",
        "    String [] names_of_players = new String[SIZE];\n",
        "    \n",
        "    for(int i = 0; i<SIZE; i++)\n",
        "    {\n",
        "        names_of_players [i] = inputString(\"What is the next player's name?\");\n",
        "    }\n",
        "    \n",
        "    return names_of_players;\n",
        "}\n",
        "\n",
        "String [] names = createPlayerArray(3);   /* passed 3 as argument, i.e. create an array of 3 names */"
      ]
    },
    {
      "cell_type": "markdown",
      "id": "4e7a029f-0b93-4aae-8df5-29c3fccc7511",
      "metadata": {
        "id": "4e7a029f-0b93-4aae-8df5-29c3fccc7511"
      },
      "source": [
        "Q: Continuing from the above, code a program that calls to the above createPlayerArray method, asks for the size of the array, creates and fills the array"
      ]
    },
    {
      "cell_type": "code",
      "execution_count": null,
      "id": "64806b47-8c24-4a46-8cd5-9153e9e7e417",
      "metadata": {
        "id": "64806b47-8c24-4a46-8cd5-9153e9e7e417",
        "outputId": "710a0155-9fd9-4dfb-cb3d-4db5291dd742"
      },
      "outputs": [
        {
          "name": "stdout",
          "output_type": "stream",
          "text": [
            "How many players are playing?\n"
          ]
        },
        {
          "name": "stdin",
          "output_type": "stream",
          "text": [
            " 3\n"
          ]
        },
        {
          "name": "stdout",
          "output_type": "stream",
          "text": [
            "What is the next player's name?\n"
          ]
        },
        {
          "name": "stdin",
          "output_type": "stream",
          "text": [
            " Serena Williams\n"
          ]
        },
        {
          "name": "stdout",
          "output_type": "stream",
          "text": [
            "What is the next player's name?\n"
          ]
        },
        {
          "name": "stdin",
          "output_type": "stream",
          "text": [
            " Venus Williams\n"
          ]
        },
        {
          "name": "stdout",
          "output_type": "stream",
          "text": [
            "What is the next player's name?\n"
          ]
        },
        {
          "name": "stdin",
          "output_type": "stream",
          "text": [
            " Emma Radukanu\n"
          ]
        },
        {
          "name": "stdout",
          "output_type": "stream",
          "text": [
            "The following players are playing this year:\n",
            "Serena Williams\n",
            "Venus Williams\n",
            "Emma Radukanu\n"
          ]
        }
      ],
      "source": [
        "/* Input the names of a given number of players in a tennis tournament and print them */\n",
        "\n",
        "public static void tennisTournament8()\n",
        "{\n",
        "    final int NUMBER_OF_PLAYERS = inputInt(\"How many players are playing?\");\n",
        "    String [] names_of_players = createPlayerArray(NUMBER_OF_PLAYERS);\n",
        "        \n",
        "    System.out.println(\"The following players are playing this year:\");\n",
        "\n",
        "    for(int i = 0; i<NUMBER_OF_PLAYERS; i++)\n",
        "    {\n",
        "        System.out.println(names_of_players [i]);\n",
        "    }\n",
        "    return;\n",
        " }\n",
        "\n",
        "tennisTournament8();"
      ]
    },
    {
      "cell_type": "markdown",
      "id": "9a13456e-6290-4cf9-ab83-5e8a08ee8d2a",
      "metadata": {
        "id": "9a13456e-6290-4cf9-ab83-5e8a08ee8d2a"
      },
      "source": [
        "Q: Demonstrate further the above task by changing the size of the array."
      ]
    },
    {
      "cell_type": "code",
      "execution_count": null,
      "id": "37b97296-dd9d-4970-b9f8-c60ece263a6d",
      "metadata": {
        "id": "37b97296-dd9d-4970-b9f8-c60ece263a6d",
        "outputId": "467cce9e-a0ba-495d-8f84-6da2c8b909f9"
      },
      "outputs": [
        {
          "name": "stdout",
          "output_type": "stream",
          "text": [
            "How many players are playing?\n"
          ]
        },
        {
          "name": "stdin",
          "output_type": "stream",
          "text": [
            " 6\n"
          ]
        },
        {
          "name": "stdout",
          "output_type": "stream",
          "text": [
            "What is the next player's name?\n"
          ]
        },
        {
          "name": "stdin",
          "output_type": "stream",
          "text": [
            " Roger Federar\n"
          ]
        },
        {
          "name": "stdout",
          "output_type": "stream",
          "text": [
            "What is the next player's name?\n"
          ]
        },
        {
          "name": "stdin",
          "output_type": "stream",
          "text": [
            " Rafael Nadal\n"
          ]
        },
        {
          "name": "stdout",
          "output_type": "stream",
          "text": [
            "What is the next player's name?\n"
          ]
        },
        {
          "name": "stdin",
          "output_type": "stream",
          "text": [
            " Novak Djokovic\n"
          ]
        },
        {
          "name": "stdout",
          "output_type": "stream",
          "text": [
            "What is the next player's name?\n"
          ]
        },
        {
          "name": "stdin",
          "output_type": "stream",
          "text": [
            " Andy Murray\n"
          ]
        },
        {
          "name": "stdout",
          "output_type": "stream",
          "text": [
            "What is the next player's name?\n"
          ]
        },
        {
          "name": "stdin",
          "output_type": "stream",
          "text": [
            " Alexander Zverev\n"
          ]
        },
        {
          "name": "stdout",
          "output_type": "stream",
          "text": [
            "What is the next player's name?\n"
          ]
        },
        {
          "name": "stdin",
          "output_type": "stream",
          "text": [
            " Juan Martin del Potro\n"
          ]
        },
        {
          "name": "stdout",
          "output_type": "stream",
          "text": [
            "The following players are playing this year:\n",
            "Roger Federar\n",
            "Rafael Nadal\n",
            "Novak Djokovic\n",
            "Andy Murray\n",
            "Alexander Zverev\n",
            "Juan Martin del Potro\n"
          ]
        }
      ],
      "source": [
        "/* Changing size of array in above task */\n",
        "\n",
        "public static void tennisTournament9()\n",
        "{\n",
        "    final int NUMBER_OF_PLAYERS = inputInt(\"How many players are playing?\");\n",
        "    String [] names_of_players = createPlayerArray(NUMBER_OF_PLAYERS);\n",
        "        \n",
        "    System.out.println(\"The following players are playing this year:\");\n",
        "\n",
        "    for(int i = 0; i<NUMBER_OF_PLAYERS; i++)\n",
        "    {\n",
        "        System.out.println(names_of_players [i]);\n",
        "    }\n",
        "    return;\n",
        " }\n",
        "\n",
        "tennisTournament9();"
      ]
    },
    {
      "cell_type": "markdown",
      "id": "0af8f55a-0656-4b48-8642-0c5447b33dd6",
      "metadata": {
        "id": "0af8f55a-0656-4b48-8642-0c5447b33dd6"
      },
      "source": [
        "Q: Modify the method further to split off printing an array into its own general method. Complete the code to print an array passed to it as an argument, along with the number of entries to print."
      ]
    },
    {
      "cell_type": "code",
      "execution_count": null,
      "id": "77e06b74-4dee-4297-8dce-14077267d22a",
      "metadata": {
        "id": "77e06b74-4dee-4297-8dce-14077267d22a",
        "outputId": "766a7591-96e8-4bcb-9a7c-482f8ad8c096"
      },
      "outputs": [
        {
          "name": "stdout",
          "output_type": "stream",
          "text": [
            "1:\tSerena\n",
            "2:\tVenus\n"
          ]
        }
      ],
      "source": [
        "/* Splitting off printing an array into its own general method,\n",
        "and then printing the array passed to it as an argument */\n",
        "\n",
        "public static void printArray(int SIZE, String[] a) \n",
        "{\n",
        "    for(int i = 0; i<SIZE; i++)\n",
        "    {\n",
        "       System.out.println(i+1 + \":\\t\" + a[i]);\n",
        "    }\n",
        "    return;\n",
        " }\n",
        "\n",
        "String[] players = {\"Serena\", \"Venus\"};    /* Test Data */\n",
        "printArray(2, players);                    /* Test call */"
      ]
    },
    {
      "cell_type": "markdown",
      "id": "017b4e61-763d-4c16-b692-819e12f47fdb",
      "metadata": {
        "id": "017b4e61-763d-4c16-b692-819e12f47fdb"
      },
      "source": [
        "Q: Modify the code to remove the for loop and replace it with a call to the print array method defined above."
      ]
    },
    {
      "cell_type": "code",
      "execution_count": null,
      "id": "a97b55de-be38-4e4c-a90f-7d342110bac8",
      "metadata": {
        "id": "a97b55de-be38-4e4c-a90f-7d342110bac8",
        "outputId": "2cd67405-5735-47dc-aedc-6aaa1815fbda"
      },
      "outputs": [
        {
          "name": "stdout",
          "output_type": "stream",
          "text": [
            "How many players are playing?\n"
          ]
        },
        {
          "name": "stdin",
          "output_type": "stream",
          "text": [
            " 3\n"
          ]
        },
        {
          "name": "stdout",
          "output_type": "stream",
          "text": [
            "What is the next player's name?\n"
          ]
        },
        {
          "name": "stdin",
          "output_type": "stream",
          "text": [
            " Serena Williams\n"
          ]
        },
        {
          "name": "stdout",
          "output_type": "stream",
          "text": [
            "What is the next player's name?\n"
          ]
        },
        {
          "name": "stdin",
          "output_type": "stream",
          "text": [
            " Venus Williams\n"
          ]
        },
        {
          "name": "stdout",
          "output_type": "stream",
          "text": [
            "What is the next player's name?\n"
          ]
        },
        {
          "name": "stdin",
          "output_type": "stream",
          "text": [
            " Emma Radukanu\n"
          ]
        },
        {
          "name": "stdout",
          "output_type": "stream",
          "text": [
            "The following players are playing this year:\n",
            "1:\tSerena Williams\n",
            "2:\tVenus Williams\n",
            "3:\tEmma Radukanu\n"
          ]
        }
      ],
      "source": [
        "/* Input the names of a given number of players in a tennis tournament and print them */\n",
        "\n",
        "public static void tennisTournament10()\n",
        "{\n",
        "    final int NUMBER_OF_PLAYERS = inputInt(\"How many players are playing?\");\n",
        "    String [] names_of_players = createPlayerArray(NUMBER_OF_PLAYERS);    \n",
        "         \n",
        "    System.out.println(\"The following players are playing this year:\");\n",
        "\n",
        "    printArray(NUMBER_OF_PLAYERS,names_of_players);\n",
        "    return;\n",
        " }\n",
        "\n",
        "tennisTournament10();"
      ]
    },
    {
      "cell_type": "markdown",
      "id": "45d670a3-3392-4791-b583-755a44863131",
      "metadata": {
        "id": "45d670a3-3392-4791-b583-755a44863131"
      },
      "source": [
        "Q: Rewrite your top 5 favourite games code fron the earlier exercise, but now using methods to store them in an array, and print them."
      ]
    },
    {
      "cell_type": "code",
      "execution_count": null,
      "id": "363bf6a2-a6bb-423f-8bd8-bcfe158caa3a",
      "metadata": {
        "id": "363bf6a2-a6bb-423f-8bd8-bcfe158caa3a",
        "outputId": "9bfa9ec8-502d-40c7-e97f-a8e0f751849e"
      },
      "outputs": [
        {
          "name": "stdout",
          "output_type": "stream",
          "text": [
            "What is the name of game 1?\n"
          ]
        },
        {
          "name": "stdin",
          "output_type": "stream",
          "text": [
            " chess\n"
          ]
        },
        {
          "name": "stdout",
          "output_type": "stream",
          "text": [
            "What is the name of game 2?\n"
          ]
        },
        {
          "name": "stdin",
          "output_type": "stream",
          "text": [
            " monopoly\n"
          ]
        },
        {
          "name": "stdout",
          "output_type": "stream",
          "text": [
            "What is the name of game 3?\n"
          ]
        },
        {
          "name": "stdin",
          "output_type": "stream",
          "text": [
            " call of duty\n"
          ]
        },
        {
          "name": "stdout",
          "output_type": "stream",
          "text": [
            "What is the name of game 4?\n"
          ]
        },
        {
          "name": "stdin",
          "output_type": "stream",
          "text": [
            " halo\n"
          ]
        },
        {
          "name": "stdout",
          "output_type": "stream",
          "text": [
            "What is the name of game 5?\n"
          ]
        },
        {
          "name": "stdin",
          "output_type": "stream",
          "text": [
            " fortnite\n"
          ]
        },
        {
          "name": "stdout",
          "output_type": "stream",
          "text": [
            "The top 5 is:\n",
            "5:\tfortnite\n",
            "4:\thalo\n",
            "3:\tcall of duty\n",
            "2:\tmonopoly\n",
            "1:\tchess\n"
          ]
        }
      ],
      "source": [
        "/* Print each entry of an array on a new line in reverse order\n",
        "   Print the array position (but using numbers from 1 not 0) before each entry */\n",
        "\n",
        "public static void printArrayReverse(int SIZE, String[] a) \n",
        "{\n",
        "    for(int i = SIZE-1; i>=0; i--)\n",
        "    {\n",
        "        System.out.println(i+1 + \":\\t\" + a[i]);\n",
        "    }\n",
        "    return;\n",
        " }\n",
        "\n",
        "/* Create an array and fill it\n",
        "   Print the array position before each entry */\n",
        "\n",
        "public static String[] createArray(String message, int SIZE) \n",
        "{\n",
        "    String [] a = new String [SIZE];\n",
        "    \n",
        "    for(int i = 0; i<SIZE; i++)\n",
        "    {\n",
        "        a [i] = inputString(message + (i+1) + \"?\");\n",
        "    }\n",
        "    return a;\n",
        " }\n",
        "\n",
        "/* Input and then print the top 10 games in reverse order */\n",
        "public static void favouriteGames3()\n",
        "{\n",
        "    final int NUMBER_OF_GAMES = 5;\n",
        "    String [] game = createArray(\"What is the name of game \", NUMBER_OF_GAMES);\n",
        "        \n",
        "    System.out.println(\"The top \" + NUMBER_OF_GAMES + \" is:\");\n",
        "\n",
        "    printArrayReverse(NUMBER_OF_GAMES, game);\n",
        "    \n",
        "    return;\n",
        " }\n",
        "\n",
        "favouriteGames3();"
      ]
    },
    {
      "cell_type": "markdown",
      "id": "d4a09ec7-e358-4337-b9c1-1f95b580b819",
      "metadata": {
        "id": "d4a09ec7-e358-4337-b9c1-1f95b580b819"
      },
      "source": [
        "***\n",
        "### **Summary**\n",
        "\n",
        "The storage space for an array must be explicitly allocated, so a size must be given when the array is declared as in:\n",
        "\n",
        "```String [] top_albums = new String[1000];```\n",
        "\n",
        "which allocates 1000 storage spaces in array, *top_albums*. That means it can store 1000 album names. The storage allocation is done by **new** in a similar way to records. With an array, the size of the array, and so space to allocate, must be given. **Once set the size of an array cannot be changed.**\n",
        "\n",
        "We can process arrays using counter-controlled for loops. The for loop just steps through the array, doing what needs to be done on each element of the array. This might be setting values, printing values, or any other action that needs to be done on every element of the array. For example, to set all the names:\n",
        "\n",
        "```\n",
        "    for(int i = 0; i<top_albums.length; i++)\n",
        "    {\n",
        "        top_albums [i] = inputString(\"What is album number\" + i + \"?\");\n",
        "    }\n",
        "```\n",
        "where top_albums.length is the size of the array. We could then print the values in the array out using another for loop:\n",
        "\n",
        "```\n",
        "    System.out.println(\"The following players are playing this year:\");\n",
        "\n",
        "    for(int i = 0; i<top_albums.length; i++)\n",
        "    {\n",
        "        System.out.println(i + \":\\t\" + top_albums [i]);\n",
        "    }\n",
        "```\n",
        "\n",
        "Such a for loop can adapt to the size of the array **if the size is stored in a variable**. We can also split off operations to process an array into a separate method. Such methods can be very general, such as a \"create array\", \"set array\" or \"print array\" method."
      ]
    },
    {
      "cell_type": "code",
      "execution_count": null,
      "id": "ecd70c2f-9b5d-4c24-9786-1f3092e87f98",
      "metadata": {
        "id": "ecd70c2f-9b5d-4c24-9786-1f3092e87f98"
      },
      "outputs": [],
      "source": []
    }
  ],
  "metadata": {
    "kernelspec": {
      "display_name": "Java",
      "language": "java",
      "name": "java"
    },
    "language_info": {
      "codemirror_mode": "java",
      "file_extension": ".jshell",
      "mimetype": "text/x-java-source",
      "name": "Java",
      "pygments_lexer": "java",
      "version": "11.0.8+10-LTS"
    },
    "colab": {
      "provenance": []
    }
  },
  "nbformat": 4,
  "nbformat_minor": 5
}