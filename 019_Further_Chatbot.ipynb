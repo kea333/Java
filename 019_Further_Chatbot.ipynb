{
  "cells": [
    {
      "cell_type": "markdown",
      "id": "87e8d86c-69d0-44f0-8a6d-257cf5728c48",
      "metadata": {
        "id": "87e8d86c-69d0-44f0-8a6d-257cf5728c48"
      },
      "source": [
        "19.\n",
        "# Further Chatbot\n",
        "\n",
        "**Going further on Chatbot**\n",
        "\n",
        "The following series of exercises uses Java program fragments to further build a number of chatbots that atttempt to have a conversation with the person at the terminal, this time utilising the inputString method. The 1st example also uses an _if ... elseif ... else_ conditional:"
      ]
    },
    {
      "cell_type": "code",
      "execution_count": null,
      "id": "4010784b-5147-487e-8cc5-174979d72dc9",
      "metadata": {
        "id": "4010784b-5147-487e-8cc5-174979d72dc9",
        "outputId": "0e87c219-95de-414e-ba99-790a9c6ce57d"
      },
      "outputs": [
        {
          "name": "stdout",
          "output_type": "stream",
          "text": [
            "Which paralympic sports do you like?\n"
          ]
        },
        {
          "name": "stdin",
          "output_type": "stream",
          "text": [
            " wheelchair basketball\n"
          ]
        },
        {
          "name": "stdout",
          "output_type": "stream",
          "text": [
            "I love wheelchair basketball myself.\n",
            "I'm sad David Weir has retired, though he was a racer and not a basketball player.\n",
            "Does Alex Zanardi inspire you?\n"
          ]
        }
      ],
      "source": [
        "/*  Ask for a string with given message\n",
        "    Return the string typed in by the user  */\n",
        "\n",
        "    public static String inputString(String message)\n",
        "    {\n",
        "       Scanner scanner = new Scanner(System.in);\n",
        "       String answer;\n",
        "\n",
        "       System.out.println(message);\n",
        "       answer = scanner.nextLine();\n",
        "   \n",
        "       return answer;\n",
        "    }\n",
        "\n",
        "\n",
        "/* Ask a question about the paralympics and try and say something relevant to the answer */\n",
        "\n",
        "    public static void paralympics ()\n",
        "    { \n",
        "       String ans = inputString(\"Which paralympic sports do you like?\");\n",
        "       \n",
        "       if (ans.contains(\"wheelchair\"))\n",
        "       {\n",
        "           System.out.println(\"I love wheelchair basketball myself.\");\n",
        "           System.out.println(\"I'm sad David Weir has retired, though he was a racer and not a basketball player.\");\n",
        "           System.out.println(\"Does Alex Zanardi inspire you?\");\n",
        "       }\n",
        "       else if (ans.contains(\"cycling\"))\n",
        "       { \n",
        "           System.out.println(\"I thought Kadeena Cox was amazing, winning in two sports. Who most inspired you?\");\n",
        "       }\n",
        "       else\n",
        "       { \n",
        "           System.out.println(\"I didn't see much of that.\");\n",
        "       }\n",
        "\n",
        "       return;\n",
        "        \n",
        "    }\n",
        "\n",
        "paralympics();"
      ]
    },
    {
      "cell_type": "markdown",
      "id": "ea21342b-0a9d-43c3-bf68-e81a5d49e9ea",
      "metadata": {
        "id": "ea21342b-0a9d-43c3-bf68-e81a5d49e9ea"
      },
      "source": [
        "**\n",
        "\n",
        "The next exercise illustrates the use of methods to break up a program into distinct parts, each with a clear purpose."
      ]
    },
    {
      "cell_type": "code",
      "execution_count": null,
      "id": "dbf747da-4eb3-45a6-bd4a-d77a012c6d7d",
      "metadata": {
        "id": "dbf747da-4eb3-45a6-bd4a-d77a012c6d7d",
        "outputId": "783f0bfe-2a6a-4ba7-e301-beeaed820c8e"
      },
      "outputs": [
        {
          "name": "stdout",
          "output_type": "stream",
          "text": [
            "Hello. My name is Chatty. I'm a chatbot.\n",
            "What’s your name?\n"
          ]
        },
        {
          "name": "stdin",
          "output_type": "stream",
          "text": [
            " Kweku\n"
          ]
        },
        {
          "name": "stdout",
          "output_type": "stream",
          "text": [
            "Hi there Kweku. How are you?\n"
          ]
        },
        {
          "name": "stdin",
          "output_type": "stream",
          "text": [
            " fine\n"
          ]
        },
        {
          "name": "stdout",
          "output_type": "stream",
          "text": [
            "I'm glad to hear it Kweku.\n",
            "What subject are you learning?\n"
          ]
        },
        {
          "name": "stdin",
          "output_type": "stream",
          "text": [
            " Data Science and AI\n"
          ]
        },
        {
          "name": "stdout",
          "output_type": "stream",
          "text": [
            "I nearly took Data Science and AI but in the end I went for Robotics.\n",
            "What type of music do you like?\n"
          ]
        },
        {
          "name": "stdin",
          "output_type": "stream",
          "text": [
            " classical, pop, house, reggae, afrobeat\n"
          ]
        },
        {
          "name": "stdout",
          "output_type": "stream",
          "text": [
            "I like classical, pop, house, reggae, afrobeat music too.\n",
            "Do computers worry you?\n"
          ]
        },
        {
          "name": "stdin",
          "output_type": "stream",
          "text": [
            " no\n"
          ]
        },
        {
          "name": "stdout",
          "output_type": "stream",
          "text": [
            "Why do you say no?\n"
          ]
        },
        {
          "name": "stdin",
          "output_type": "stream",
          "text": [
            " because the singularity is nowhere near yet\n"
          ]
        },
        {
          "name": "stdout",
          "output_type": "stream",
          "text": [
            "Really? I think that too!\n",
            "Oops. Thats my phone, I have to go now.  I've enjoyed talking with you.\n"
          ]
        }
      ],
      "source": [
        "/*  A chatbot that says hello, asks questions, receives input,\n",
        "    holds a conversation, and then says goodbye  */\n",
        "\n",
        "/*  Asking for a string with given message and\n",
        "    returning the string typed in by the user  */\n",
        "\n",
        "    public static String inputString(String message)\n",
        "    {\n",
        "       Scanner scanner = new Scanner(System.in);\n",
        "       String answer;\n",
        "\n",
        "       System.out.println(message);\n",
        "       answer = scanner.nextLine();\n",
        "   \n",
        "       return answer;\n",
        "    }\n",
        "\n",
        "/* Printing a greeting (a hello message)  */\n",
        "public static void helloMessage ()\n",
        "{\n",
        "    System.out.println(\"Hello. My name is Chatty. I'm a chatbot.\");\n",
        "    return;\n",
        "}\n",
        "\n",
        "/* Asking a person's name  */\n",
        "public static String askQuestion1name ()\n",
        "{\n",
        "    String name;\n",
        "     \n",
        "    name = inputString(\"What’s your name?\");\n",
        "    return name;\n",
        "}\n",
        "\n",
        "/* Asking how a person, is using their name  */\n",
        "public static void askQuestion2howareyou (String name)\n",
        "{\n",
        "    String howareyou;\n",
        "   \n",
        "    howareyou = inputString(\"Hi there \" + name + \". How are you?\");\n",
        "    System.out.println(\"I'm glad to hear it \" + name + \".\");\n",
        "    return;\n",
        "}\n",
        "\n",
        "/* Asking a person's subject  */\n",
        "public static void askQuestion3subject ()\n",
        "{\n",
        "    String subject;\n",
        "     \n",
        "    subject = inputString(\"What subject are you learning?\");\n",
        "    System.out.println(\"I nearly took \" + subject + \" but in the end I went for Robotics.\");\n",
        "    return;\n",
        "}\n",
        "\n",
        "/* Asking a person's favourite music  */\n",
        "public static void askQuestion4music ()\n",
        "{\n",
        "    String music;\n",
        "     \n",
        "    music = inputString(\"What type of music do you like?\");\n",
        "    System.out.println(\"I like \" + music + \" music too.\");\n",
        "    return;\n",
        "}\n",
        "\n",
        "/* Asking if computers worry them  */\n",
        "public static String askQuestion5worry ()\n",
        "{\n",
        "    String worry;\n",
        "     \n",
        "    worry = inputString(\"Do computers worry you?\");\n",
        "    return worry;\n",
        "}\n",
        "\n",
        "/* Asking why computers are a worry  */\n",
        "public static void askQuestion6whyWorry (String worry)\n",
        "{\n",
        "    String reason;\n",
        "    \n",
        "    reason = inputString(\"Why do you say \" + worry + \"?\");\n",
        "    System.out.println(\"Really? I think that too!\");\n",
        "}\n",
        "\n",
        "/* Combining questions, received inputs, and responding to the answers  */\n",
        "public static void askQuestions ()\n",
        "{\n",
        "    String name;\n",
        "    String worry;\n",
        "    \n",
        "    name = askQuestion1name();\n",
        "    askQuestion2howareyou(name);\n",
        "    askQuestion3subject();\n",
        "    askQuestion4music();\n",
        "    worry = askQuestion5worry();\n",
        "    askQuestion6whyWorry(worry);\n",
        "\n",
        "    return;\n",
        "}\n",
        "\n",
        "/* Printing a goodbye message  */\n",
        "public static void goodbyeMessage ()\n",
        "{\n",
        "    System.out.println(\"Oops. Thats my phone, I have to go now.  I've enjoyed talking with you.\");\n",
        "    return;\n",
        "}\n",
        "\n",
        "/* Putting it all together, A friendly chatbot that greets, holds a conversation and says goodbye  */\n",
        "public static void mychatbot9 ()\n",
        "{\n",
        "    helloMessage();\n",
        "    askQuestions();\n",
        "    goodbyeMessage();\n",
        "    return;\n",
        "}\n",
        "\n",
        "mychatbot9();"
      ]
    },
    {
      "cell_type": "markdown",
      "id": "53c2d07d-c173-4cfd-915b-316279167108",
      "metadata": {
        "id": "53c2d07d-c173-4cfd-915b-316279167108"
      },
      "source": [
        "**\n",
        "\n",
        "The next exercise adds an \" if ... esleif ... else \" conditional to the above example, showing how Java allows us to do different things based on the input:"
      ]
    },
    {
      "cell_type": "code",
      "execution_count": null,
      "id": "f5c8ce11-38b0-46b0-9dfe-3603d6f7e090",
      "metadata": {
        "id": "f5c8ce11-38b0-46b0-9dfe-3603d6f7e090",
        "outputId": "763c444c-4077-4040-df1c-7ca38df8d632"
      },
      "outputs": [
        {
          "name": "stdout",
          "output_type": "stream",
          "text": [
            "Hello. My name is Chatty. I'm a chatbot.\n",
            "What’s your name?\n"
          ]
        },
        {
          "name": "stdin",
          "output_type": "stream",
          "text": [
            " Kweku\n"
          ]
        },
        {
          "name": "stdout",
          "output_type": "stream",
          "text": [
            "Hi there Kweku. How are you?\n"
          ]
        },
        {
          "name": "stdin",
          "output_type": "stream",
          "text": [
            " very fine\n"
          ]
        },
        {
          "name": "stdout",
          "output_type": "stream",
          "text": [
            "I'm glad to hear it Kweku.\n",
            "What subject are you learning?\n"
          ]
        },
        {
          "name": "stdin",
          "output_type": "stream",
          "text": [
            " Data Science and AI\n"
          ]
        },
        {
          "name": "stdout",
          "output_type": "stream",
          "text": [
            "I nearly took Data Science and AI but in the end I went for Robotics.\n",
            "What type of music do you like?\n"
          ]
        },
        {
          "name": "stdin",
          "output_type": "stream",
          "text": [
            " rap\n"
          ]
        },
        {
          "name": "stdout",
          "output_type": "stream",
          "text": [
            "I like rap music too.\n",
            "Tinnie Tempah is brilliant, Eminem is great, Stormzy is just awesome.\n",
            "Do computers worry you?\n"
          ]
        },
        {
          "name": "stdin",
          "output_type": "stream",
          "text": [
            " no\n"
          ]
        },
        {
          "name": "stdout",
          "output_type": "stream",
          "text": [
            "Why do you say no?\n"
          ]
        },
        {
          "name": "stdin",
          "output_type": "stream",
          "text": [
            " because the singularity is most likely a few more decades away\n"
          ]
        },
        {
          "name": "stdout",
          "output_type": "stream",
          "text": [
            "Really? I think that too!\n",
            "Oops. Thats my phone, I have to go now.  I've enjoyed talking with you.\n"
          ]
        }
      ],
      "source": [
        "/*  A chatbot that says hello, asks questions, receives input,\n",
        "    holds a conversation, able to alter response based on input, and then says goodbye  */\n",
        "\n",
        "/*  Asking for a string with given message and\n",
        "    returning the string typed in by the user  */\n",
        "\n",
        "    public static String inputString(String message)\n",
        "    {\n",
        "       Scanner scanner = new Scanner(System.in);\n",
        "       String answer;\n",
        "\n",
        "       System.out.println(message);\n",
        "       answer = scanner.nextLine();\n",
        "   \n",
        "       return answer;\n",
        "    }\n",
        "\n",
        "/* Printing a greeting (a hello message)  */\n",
        "public static void helloMessage ()\n",
        "{\n",
        "    System.out.println(\"Hello. My name is Chatty. I'm a chatbot.\");\n",
        "    return;\n",
        "}\n",
        "\n",
        "/* Asking a person's name  */\n",
        "public static String askQuestion1name ()\n",
        "{\n",
        "    String name;\n",
        "     \n",
        "    name = inputString(\"What’s your name?\");\n",
        "    return name;\n",
        "}\n",
        "\n",
        "/* Asking how a person, is using their name  */\n",
        "public static void askQuestion2howareyou (String name)\n",
        "{\n",
        "    String howareyou;\n",
        "   \n",
        "    howareyou = inputString(\"Hi there \" + name + \". How are you?\");\n",
        "    System.out.println(\"I'm glad to hear it \" + name + \".\");\n",
        "    return;\n",
        "}\n",
        "\n",
        "/* Asking a person's subject  */\n",
        "public static void askQuestion3subject ()\n",
        "{\n",
        "    String subject;\n",
        "     \n",
        "    subject = inputString(\"What subject are you learning?\");\n",
        "    System.out.println(\"I nearly took \" + subject + \" but in the end I went for Robotics.\");\n",
        "    return;\n",
        "}\n",
        "\n",
        "/* Asking a person's favourite music, and responding differently based on different answers  */\n",
        "public static void askQuestion4music ()\n",
        "{\n",
        "    String music;\n",
        "     \n",
        "    music = inputString(\"What type of music do you like?\");\n",
        "    System.out.println(\"I like \" + music + \" music too.\");\n",
        "    \n",
        "       if (music.contains(\"rock\") | music.contains(\"Rock\"))\n",
        "       {\n",
        "           System.out.println(\"I love Queen, and also Guns & Roses.\");\n",
        "       }\n",
        "       else if (music.contains(\"rap\") | music.contains(\"Rap\"))\n",
        "       { \n",
        "           System.out.println(\"Tinnie Tempah is brilliant, Eminem is great, Stormzy is just awesome.\");\n",
        "       }\n",
        "       else\n",
        "       { \n",
        "           System.out.println(\"It's not my favourite but its OK.\");\n",
        "       }\n",
        "    return;\n",
        "}\n",
        "\n",
        "/* Asking if computers worry them  */\n",
        "public static String askQuestion5worry ()\n",
        "{\n",
        "    String worry;\n",
        "     \n",
        "    worry = inputString(\"Do computers worry you?\");\n",
        "    return worry;\n",
        "}\n",
        "\n",
        "/* Asking why computers are a worry  */\n",
        "public static void askQuestion6whyWorry (String worry)\n",
        "{\n",
        "    String reason;\n",
        "    \n",
        "    reason = inputString(\"Why do you say \" + worry + \"?\");\n",
        "    System.out.println(\"Really? I think that too!\");\n",
        "}\n",
        "\n",
        "/* Combining questions, received inputs, and responding to the answers  */\n",
        "public static void askQuestions ()\n",
        "{\n",
        "    String name;\n",
        "    String worry;\n",
        "    \n",
        "    name = askQuestion1name();\n",
        "    askQuestion2howareyou(name);\n",
        "    askQuestion3subject();\n",
        "    askQuestion4music();\n",
        "    worry = askQuestion5worry();\n",
        "    askQuestion6whyWorry(worry);\n",
        "\n",
        "    return;\n",
        "}\n",
        "\n",
        "/* Printing a goodbye message  */\n",
        "public static void goodbyeMessage ()\n",
        "{\n",
        "    System.out.println(\"Oops. Thats my phone, I have to go now.  I've enjoyed talking with you.\");\n",
        "    return;\n",
        "}\n",
        "\n",
        "/* Putting it all together, A friendly chatbot that greets, holds a conversation and says goodbye  */\n",
        "public static void mychatbot10 ()\n",
        "{\n",
        "    helloMessage();\n",
        "    askQuestions();\n",
        "    goodbyeMessage();\n",
        "    return;\n",
        "}\n",
        "\n",
        "mychatbot10();"
      ]
    },
    {
      "cell_type": "code",
      "execution_count": null,
      "id": "4e1d58a5-86c1-461b-969d-109f47fb5aaf",
      "metadata": {
        "id": "4e1d58a5-86c1-461b-969d-109f47fb5aaf"
      },
      "outputs": [],
      "source": []
    }
  ],
  "metadata": {
    "kernelspec": {
      "display_name": "Java",
      "language": "java",
      "name": "java"
    },
    "language_info": {
      "codemirror_mode": "java",
      "file_extension": ".jshell",
      "mimetype": "text/x-java-source",
      "name": "Java",
      "pygments_lexer": "java",
      "version": "11.0.8+10-LTS"
    },
    "colab": {
      "provenance": []
    }
  },
  "nbformat": 4,
  "nbformat_minor": 5
}