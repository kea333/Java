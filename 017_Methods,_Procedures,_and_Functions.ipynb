{
  "cells": [
    {
      "cell_type": "markdown",
      "id": "ffbc287f-1384-4518-a3d4-11b4539c64b1",
      "metadata": {
        "id": "ffbc287f-1384-4518-a3d4-11b4539c64b1"
      },
      "source": [
        "17.\n",
        "# Methods, Procedures, and Functions\n",
        "\n",
        "**Using Methods**\n",
        "\n",
        "The following are simple code fragments that demonstrate Java's use of 'Methods' to accomplish tasks:"
      ]
    },
    {
      "cell_type": "markdown",
      "id": "b2b31f1a-ad38-4d28-994c-9232bd3e1b0b",
      "metadata": {
        "id": "b2b31f1a-ad38-4d28-994c-9232bd3e1b0b"
      },
      "source": [
        "Q0: Demonstrate the use lone break \"n\\\" by writing a program that combines two messages using concatenation:\n",
        "\n",
        "```“Stormzy is the best rapper ever.”```\n",
        "\n",
        "and\n",
        "\n",
        "```\"For A few Dollars More is the best movie ever\"```\n",
        "\n",
        "Each should be concatenated on to the end of fullmessage declared with\n",
        "\n",
        "```String fullmessage = “”;```"
      ]
    },
    {
      "cell_type": "code",
      "execution_count": null,
      "id": "11624056-5ad3-4922-a2d7-be5602aef804",
      "metadata": {
        "id": "11624056-5ad3-4922-a2d7-be5602aef804",
        "outputId": "9650d963-2584-4f64-c907-1e526f5d6b8c"
      },
      "outputs": [
        {
          "name": "stdout",
          "output_type": "stream",
          "text": [
            "\n",
            "Stormzy is the best rapper ever.\n",
            "\n",
            "For A few Dollars More is the best movie ever\n"
          ]
        }
      ],
      "source": [
        "public static void rapAndFilmConcat ()\n",
        "{\n",
        "    String fullmessage = \"\";\n",
        "    String rapmessage = \"Stormzy is the best rapper ever.\";\n",
        "    String filmmessage = \"For A few Dollars More is the best movie ever\";\n",
        "    \n",
        "    fullmessage = fullmessage + \"\\n\" + rapmessage + \"\\n\" + \"\\n\" + filmmessage;\n",
        "    System.out.println(fullmessage);\n",
        "\n",
        "    return;\n",
        "}\n",
        "\n",
        "rapAndFilmConcat();"
      ]
    },
    {
      "cell_type": "markdown",
      "id": "89bca2e8-2ff4-4471-a4bf-31221dc9fc3f",
      "metadata": {
        "id": "89bca2e8-2ff4-4471-a4bf-31221dc9fc3f"
      },
      "source": [
        "Q1: Write a method that declares four variables actor1, actor2, film, director, and assigns values to them. It should then print a concise output that uses all variables when called:"
      ]
    },
    {
      "cell_type": "code",
      "execution_count": null,
      "id": "bad81f40-55e6-44f2-a03e-67c2821fb456",
      "metadata": {
        "id": "bad81f40-55e6-44f2-a03e-67c2821fb456",
        "outputId": "dee26172-facf-41a3-85a4-175139d318d5"
      },
      "outputs": [
        {
          "name": "stdout",
          "output_type": "stream",
          "text": [
            "Bend It Like Beckham was directed by Gurinder Chadha and starred both Parminder Nagra and Keira Knightley.\n"
          ]
        }
      ],
      "source": [
        "/* Method to output concise statement */\n",
        "\n",
        "public static void BendIt()\n",
        "{\n",
        "    String actor1;\n",
        "    String actor2;\n",
        "    String film;\n",
        "    String director;\n",
        "\n",
        "    actor1 = \"Parminder Nagra\";\n",
        "    actor2 = \"Keira Knightley\";\n",
        "    film = \"Bend It Like Beckham\";\n",
        "    director = \"Gurinder Chadha\";\n",
        "\n",
        "    System.out.println(film + \" was directed by \" + director + \" and starred both \" + actor1 + \" and \" + actor2 + \".\");\n",
        "}\n",
        "\n",
        "BendIt();"
      ]
    },
    {
      "cell_type": "markdown",
      "id": "65fea282-c50e-475e-b63e-8f2b214c5e97",
      "metadata": {
        "id": "65fea282-c50e-475e-b63e-8f2b214c5e97"
      },
      "source": [
        "***\n",
        "Procedures are one kind of method.\n",
        "In Java, 'methods' are code that take objects and acts on them to achieve some purpose, while 'functions' are methods that return visible results. The definitions are close but not the same - the results of methods can simply be within the kernel and used subsequently, while the results of functions are immediately visible to the programmer or user. More on this later, but for now its OK to use them interchangeably.\n",
        "\n",
        "Q2: Distinguish between the following 2 program fragments:"
      ]
    },
    {
      "cell_type": "code",
      "execution_count": null,
      "id": "094c433d-c621-4c15-806e-dc89fbc14f38",
      "metadata": {
        "id": "094c433d-c621-4c15-806e-dc89fbc14f38",
        "outputId": "88f8e9bb-d32a-459b-e93d-457d93df3a59"
      },
      "outputs": [
        {
          "name": "stdout",
          "output_type": "stream",
          "text": [
            "Which dream-themed film did Christopher Nolan direct?\n"
          ]
        },
        {
          "name": "stdin",
          "output_type": "stream",
          "text": [
            " inception\n"
          ]
        },
        {
          "name": "stdout",
          "output_type": "stream",
          "text": [
            "So you think it was inception do you?\n"
          ]
        }
      ],
      "source": [
        "/* Firstly */\n",
        "\n",
        "/* Asking a question about Christopher Nolan and echoing back the answer */\n",
        "\n",
        "public static void askAboutFilm ()\n",
        "{\n",
        "    String film;\n",
        "    Scanner scanner = new Scanner(System.in);\n",
        "    \n",
        "    System.out.println(\"Which dream-themed film did Christopher Nolan direct?\");\n",
        "    film = scanner.nextLine();\n",
        "    \n",
        "    System.out.println(\"So you think it was \" + film + \" do you?\");\n",
        "\n",
        "    return;\n",
        "}\n",
        "\n",
        "askAboutFilm();"
      ]
    },
    {
      "cell_type": "code",
      "execution_count": null,
      "id": "c8342d84-db16-4155-ade0-62f0b6fb192a",
      "metadata": {
        "id": "c8342d84-db16-4155-ade0-62f0b6fb192a"
      },
      "outputs": [],
      "source": [
        "/* and secondly */\n",
        "\n",
        "/* Allowing a single film to be input, and returning the film typed as the answer */\n",
        "\n",
        "public static String inputFilm ()\n",
        "{\n",
        "    String film;\n",
        "    Scanner scanner = new Scanner(System.in);\n",
        "\n",
        "    System.out.println(\"Which dream-themed film did Christopher Nolan direct?\");\n",
        "    film = scanner.nextLine();\n",
        "   \n",
        "    return film;\n",
        "}"
      ]
    },
    {
      "cell_type": "markdown",
      "id": "2285ad1b-fbf6-4019-b91f-c07265be904d",
      "metadata": {
        "id": "2285ad1b-fbf6-4019-b91f-c07265be904d"
      },
      "source": [
        "Answer:\n",
        "There are two differences in the method definition. First, in the header line of the 2nd method, the type String is given\n",
        "```public static String inputFilm ()```\n",
        "instead of 'void' in the original. Then the return statement is different\n",
        "```return film;```\n",
        "instead of just\n",
        "```return;```\n",
        "\n",
        "These 2 differences indicate that for the 2nd method, a String is returned by the method as its result. This means the value passed back is whatever value (of type String) is held in variable film when the return command is executed. \n",
        "\n",
        "Unlike the 1st method, running the code in the 2nd method does nothing visible. It is just a method definition. There is no call to it. Therefore, all that happens when run is to compile it and then register it as method for use later, i.e. make it available to other parts of the program so they can call it. The 1st method however is called right after definition."
      ]
    },
    {
      "cell_type": "markdown",
      "id": "ce9a0fd8-a9d0-404d-8577-2b4883b1eaba",
      "metadata": {
        "id": "ce9a0fd8-a9d0-404d-8577-2b4883b1eaba"
      },
      "source": [
        "#### Test-driven Approach\n",
        "It is a good idea to test that each method works as you write them. A good way to do this is to write a test method whose purpose is just to help check that it works. Below is a Test method that calls inputFilm:"
      ]
    },
    {
      "cell_type": "code",
      "execution_count": null,
      "id": "97ce4978-ad0c-42ee-9157-f6d49820ee3c",
      "metadata": {
        "id": "97ce4978-ad0c-42ee-9157-f6d49820ee3c",
        "outputId": "a7048326-eae9-4a5e-815a-eb6624dfbc77"
      },
      "outputs": [
        {
          "name": "stdout",
          "output_type": "stream",
          "text": [
            "Which dream-themed film did Christopher Nolan direct?\n"
          ]
        },
        {
          "name": "stdin",
          "output_type": "stream",
          "text": [
            " inception\n"
          ]
        },
        {
          "name": "stdout",
          "output_type": "stream",
          "text": [
            "The value returned by the method call was: inception\n"
          ]
        }
      ],
      "source": [
        "/* Testing inputFilm method works */\n",
        "\n",
        "public static void TESTinputFilm ()\n",
        "{\n",
        "    String film_input;\n",
        "    \n",
        "    film_input = inputFilm();\n",
        "\n",
        "    System.out.println(\"The value returned by the method call was: \" + film_input);\n",
        "\n",
        "    return;\n",
        "}\n",
        "\n",
        "TESTinputFilm();"
      ]
    },
    {
      "cell_type": "markdown",
      "id": "b2a43ce1-9711-4c4b-ab8f-734124e3cfaa",
      "metadata": {
        "id": "b2a43ce1-9711-4c4b-ab8f-734124e3cfaa"
      },
      "source": [
        "Notice that the call to the method is different in that it is now on the rhs of an assignment, i.e.\n",
        "```film_input = inputFilm();```\n",
        "Its job is to provide the String that will then be stored in the variable called film_input. This is what happens to the value returned. Once it is defined in a program, a method can be called by other methods. Here it is called by our test method TESTinputFilm which we have written just to test inputFilm works before we use it for real."
      ]
    },
    {
      "cell_type": "markdown",
      "id": "3c2621b5-990a-4708-85be-57360b300d9f",
      "metadata": {
        "id": "3c2621b5-990a-4708-85be-57360b300d9f"
      },
      "source": [
        "***\n",
        "**Procedures and Functions :**\n",
        "\n",
        "The method inputFilm returns a value. A method that returns a value is called a _function_. That contrasts with a method that does not return a value, which is called a _procedure_. A procedure call is a _statement_ that just does a job. A function call is an _expression_. Its purpose is to give an answer, and so can be on the right hand side of an assignment.\n",
        "\n",
        "Although functions in Java can only return a single value, this is not a restriction on what a function can do at all, as multiple values can be packages up into a single composite value and that single composite value returned.\n",
        "\n",
        "Q3: Modify the code in Q2a (i.e. askAboutFilm) above so that it does exactly as the original code but does so by calling the method inputFilm to do the input:"
      ]
    },
    {
      "cell_type": "code",
      "execution_count": null,
      "id": "9cd2ce96-5c8d-4e09-99cb-62252a1112b1",
      "metadata": {
        "id": "9cd2ce96-5c8d-4e09-99cb-62252a1112b1",
        "outputId": "724d8a3e-e261-437c-90ce-d71f91d51411"
      },
      "outputs": [
        {
          "name": "stdout",
          "output_type": "stream",
          "text": [
            "Which dream-themed film did Christopher Nolan direct?\n"
          ]
        },
        {
          "name": "stdin",
          "output_type": "stream",
          "text": [
            " inception\n"
          ]
        },
        {
          "name": "stdout",
          "output_type": "stream",
          "text": [
            "So you think it was inception do you?\n"
          ]
        }
      ],
      "source": [
        "/* Allowing a single film to be input, returning the film typed as the answer */\n",
        "\n",
        "public static String inputFilm ()\n",
        "{\n",
        "    String film;\n",
        "    Scanner scanner = new Scanner(System.in);\n",
        "\n",
        "    System.out.println(\"Which dream-themed film did Christopher Nolan direct?\");\n",
        "    film = scanner.nextLine();\n",
        "   \n",
        "    return film;\n",
        "}\n",
        "\n",
        "\n",
        "/* Asking a question about Christopher Nolan and echoing back the answer */\n",
        "\n",
        "public static void askAboutFilm2 ()\n",
        "{\n",
        "    String answer;\n",
        "    \n",
        "    answer = inputFilm ();\n",
        "    \n",
        "    System.out.println(\"So you think it was \" + answer + \" do you?\");\n",
        "    \n",
        "    return;\n",
        "}\n",
        "\n",
        "askAboutFilm2();"
      ]
    },
    {
      "cell_type": "markdown",
      "id": "18479352-45e0-4742-adb4-6ad6ef98e6e9",
      "metadata": {
        "id": "18479352-45e0-4742-adb4-6ad6ef98e6e9"
      },
      "source": [
        "In answwering Q3  we have written the same program in a slightly different way to the original of Q2a, though it does the same thing. We have split off a useful part of the program into a method. That method does a clear job: input a film and return it. Splitting up a program like this is called 'decomposition'. Decomposing programs well into clear methods is a really important part of developing good programming habits. Decomposition is part of 'Computational Thinking', a key problem solving skill that computer scientists learn.\n",
        "\n",
        "Decomposition turns the task of writing a large program into that of writing a series of distinct separate pieces of code (the methods). It allows those separate methods to be tested one at a time to make sure they work, before they are combined into a bigger program.\n",
        "\n",
        "Q4: Write similar code to that in Q3 by editing the program fragment so that it inputs the name of a sport in answer to the question: \"What sport does LeBron James play?\""
      ]
    },
    {
      "cell_type": "code",
      "execution_count": null,
      "id": "03ddac71-e002-4cca-a41e-ee81f01fc074",
      "metadata": {
        "id": "03ddac71-e002-4cca-a41e-ee81f01fc074",
        "outputId": "19809778-284e-4182-9236-184d73de2ce7"
      },
      "outputs": [
        {
          "name": "stdout",
          "output_type": "stream",
          "text": [
            "What sport does LeBron James play?\n"
          ]
        },
        {
          "name": "stdin",
          "output_type": "stream",
          "text": [
            " basketball\n"
          ]
        },
        {
          "name": "stdout",
          "output_type": "stream",
          "text": [
            "You said basketball.\n",
            "The correct answer is Basketball!\n"
          ]
        }
      ],
      "source": [
        "/* Allowing a single sport to be input, in answer to a question\n",
        "   returning the sport typed as the answer */\n",
        "\n",
        "public static String inputSport ()\n",
        "{\n",
        "    String sport;\n",
        "    Scanner scanner = new Scanner(System.in);\n",
        "\n",
        "    System.out.println(\"What sport does LeBron James play?\");\n",
        "    sport = scanner.nextLine();\n",
        "   \n",
        "    return sport;\n",
        "}\n",
        "\n",
        "\n",
        "/* Asking a question about LeBron James and echoing back the answer */\n",
        "\n",
        "public static void askAboutSport ()\n",
        "{\n",
        "    String sport_input = inputSport();\n",
        "        \n",
        "    System.out.println(\"You said \" + sport_input + \".\");\n",
        "    System.out.println(\"The correct answer is Basketball!\");\n",
        "        \n",
        "    return;\n",
        "}\n",
        "\n",
        "askAboutSport();"
      ]
    },
    {
      "cell_type": "markdown",
      "id": "5dfc0dc8-caef-47a9-a69e-4f86c9240ad9",
      "metadata": {
        "id": "5dfc0dc8-caef-47a9-a69e-4f86c9240ad9"
      },
      "source": [
        "Q5: Edit the code in Q4 so that it defines a method inputMusical that inputs the name of a Musical in answer to the question: \"What Hip Hop musical is based on the story of an American founding father?\""
      ]
    },
    {
      "cell_type": "code",
      "execution_count": null,
      "id": "e9902905-5ebc-46b4-a6b1-a26e01fcf88f",
      "metadata": {
        "id": "e9902905-5ebc-46b4-a6b1-a26e01fcf88f",
        "outputId": "dacbbf55-af5f-4f16-fa12-9f0a835ec5d2"
      },
      "outputs": [
        {
          "name": "stdout",
          "output_type": "stream",
          "text": [
            "What Hip Hop musical is based on the story of an American founding father?\n"
          ]
        },
        {
          "name": "stdin",
          "output_type": "stream",
          "text": [
            " hamilton\n"
          ]
        },
        {
          "name": "stdout",
          "output_type": "stream",
          "text": [
            "You said hamilton.\n",
            "The correct answer is Hamilton!\n"
          ]
        }
      ],
      "source": [
        "/* Allowing a single musical to be input in answer to a question\n",
        "   returning the musical typed as the answer */\n",
        "\n",
        "public static String inputMusical ()\n",
        "{\n",
        "    String musical;\n",
        "    Scanner scanner = new Scanner(System.in);\n",
        "\n",
        "    System.out.println(\"What Hip Hop musical is based on the story of an American founding father?\");\n",
        "    musical = scanner.nextLine();\n",
        "    \n",
        "    return musical;\n",
        "}\n",
        "\n",
        "\n",
        "/* Asking a question about a musical and echoing back an answer */\n",
        "public static void askAboutMusical ()\n",
        "{\n",
        "    String musical_input = inputMusical();\n",
        "        \n",
        "    System.out.println(\"You said \" +  musical_input  + \".\");\n",
        "    System.out.println(\"The correct answer is Hamilton!\");\n",
        "        \n",
        "    return;\n",
        "}\n",
        "\n",
        "askAboutMusical();"
      ]
    },
    {
      "cell_type": "markdown",
      "id": "0b0cd260-37b8-4c96-978e-e725db790c69",
      "metadata": {
        "id": "0b0cd260-37b8-4c96-978e-e725db790c69"
      },
      "source": [
        "***\n",
        "**Generalisation**\n",
        "\n",
        "In the above, in answering each different question, we have written a new method. However each method does basically the same thing. It would be better if we could write one method and just reuse it each time we needed it. To do this we need a slightly more general version of the method. One that works in lots of different situations. Doing this is called _generalisation_.\n",
        "\n",
        "To generalise methods, look for what is the same and what is different.\n",
        "\n",
        "Q6: Identify the differences between the above three methods, inputFilm, inputSport and inputMusical.\n",
        "\n",
        "A: The differences between these three input methods are\n",
        "\n",
        "1. the names of things (the method itself and the variables) and\n",
        "2. the question asked (which is a String).\n",
        "\n",
        "Q7: Run the code below and try to work out what it does, and think about HOW it does it. Identify and explain as best you can the differences between the method inputString and the original inputFilm (Q2b) method:"
      ]
    },
    {
      "cell_type": "code",
      "execution_count": null,
      "id": "a1470412-aa1f-46e7-9e79-5b520c5ef673",
      "metadata": {
        "id": "a1470412-aa1f-46e7-9e79-5b520c5ef673",
        "outputId": "91a9c1e7-f193-4490-9f9f-963bd70d7c38"
      },
      "outputs": [
        {
          "name": "stdout",
          "output_type": "stream",
          "text": [
            "Please type anything for me\n"
          ]
        },
        {
          "name": "stdin",
          "output_type": "stream",
          "text": [
            " Memento\n"
          ]
        },
        {
          "name": "stdout",
          "output_type": "stream",
          "text": [
            "The value returned by the method call was: Memento\n"
          ]
        }
      ],
      "source": [
        "/* Allowing a single film to be input, and returning the film typed as the answer */\n",
        "\n",
        "public static String inputString (String message)\n",
        "{\n",
        "       String answer;\n",
        "       Scanner scanner = new Scanner(System.in);\n",
        "\n",
        "       System.out.println(message);\n",
        "       answer = scanner.nextLine();\n",
        "   \n",
        "       return answer;\n",
        "}\n",
        "\n",
        "public static void TESTinputString ()\n",
        "{\n",
        "       String film_input = inputString(\"Please type anything for me\");\n",
        "\n",
        "       System.out.println(\"The value returned by the method call was: \" + film_input);\n",
        "\n",
        "       return;\n",
        "}\n",
        "\n",
        "TESTinputString();"
      ]
    },
    {
      "cell_type": "markdown",
      "id": "68e2f1f2-17b3-4b44-867b-ce2489fc855e",
      "metadata": {
        "id": "68e2f1f2-17b3-4b44-867b-ce2489fc855e"
      },
      "source": [
        "Answer:\n",
        "The key difference is that inputString has a variable declaration (String message) in the brakets of the header line:\n",
        "\n",
        "```public static String inputString (String message)```\n",
        "\n",
        "This declares a variable called message, just like the declarations we have seen before. However, as it is in the header line between the brackets, when the method is called a value is assigned to it automatically. The String value that stored in variable, message, is just the String value from the method call (the result of executing whatever is in the brackets there).\n",
        "\n",
        "Rather than having a fixed question like \"Which dream-themed ...\" printed by the method, it now prints whatever string it is given when called, and so is stored in variable message, i.e. we have\n",
        "\n",
        "```System.out.println(message);```\n",
        "\n",
        "instead of\n",
        "\n",
        "```System.out.println(\"Which dream-themed film did Christopher Nolan direct?\");```\n",
        "\n",
        "Other than that we have just changed the name of the variables to give them more general names to allow for them being called in different ways (eg the more general name,inputString, and general variable name, answer, rather than the specific name, film."
      ]
    },
    {
      "cell_type": "markdown",
      "id": "58e78ba4-5421-45cf-baf6-9959ba3e0abb",
      "metadata": {
        "id": "58e78ba4-5421-45cf-baf6-9959ba3e0abb"
      },
      "source": [
        "**Passing data into a method**\n",
        "\n",
        "The part that changes is the message printed. We have therefore just created a new variable called message to hold that String value in the method until we need it. When we call inputString, we provide a String to be that message by placing it in the brackets of the call. When we call:\n",
        "\n",
        "```inputString(\"Please type anything for me\");```\n",
        "\n",
        "the string \"Please type anything for me\" is passed to the method inputString. The method, on recieving it, stores it in the variable message. How does it know where to store it? It stores it in the variable declared in the brackets of the method definition:\n",
        "\n",
        "```public static String inputString (String message)```\n",
        "\n",
        "So when the method is called and the instructions in that method are executed, the variable called message (on this occasion) holds\n",
        "\n",
        "```\"Please type anything for me\"```\n",
        "\n",
        "That means when the computer gets to, and so executes, the line\n",
        "\n",
        "```System.out.println(message);```\n",
        "\n",
        "the message actually printed is whatever is stored in variable message ie (in this case\n",
        "\n",
        "```\"Please type anything for me\"```"
      ]
    },
    {
      "cell_type": "code",
      "execution_count": null,
      "id": "ff48f638-228c-4829-a5f7-dfa3dae7e234",
      "metadata": {
        "id": "ff48f638-228c-4829-a5f7-dfa3dae7e234",
        "outputId": "23551240-6c62-4bfd-dfc4-7ded3773f0d3"
      },
      "outputs": [
        {
          "name": "stdout",
          "output_type": "stream",
          "text": [
            "Which dream-themed film did Christopher Nolan direct?\n"
          ]
        },
        {
          "name": "stdin",
          "output_type": "stream",
          "text": [
            " inception\n"
          ]
        },
        {
          "name": "stdout",
          "output_type": "stream",
          "text": [
            "So you think it was inception do you?\n"
          ]
        }
      ],
      "source": [
        "/* Allowing a single film to be input, returning the film typed as the answer */ \n",
        "\n",
        "public static String inputString (String message) \n",
        "{ \n",
        "    String answer; Scanner scanner = new Scanner(System.in);\n",
        "    \n",
        "    System.out.println(message);\n",
        "    answer = scanner.nextLine();\n",
        "\n",
        "    return answer;\n",
        "}\n",
        "\n",
        "/* Asking about Christopher Nolan films */\n",
        "\n",
        "public static void askAboutFilm3 () \n",
        "{\n",
        "    String film_input = inputString(\"Which dream-themed film did Christopher Nolan direct?\");\n",
        "    System.out.println(\"So you think it was \" + film_input + \" do you?\");\n",
        "\n",
        "    return;\n",
        "}\n",
        "\n",
        "askAboutFilm3();"
      ]
    },
    {
      "cell_type": "markdown",
      "id": "0cac3d7f-fc0c-468f-9995-0770d72e5291",
      "metadata": {
        "id": "0cac3d7f-fc0c-468f-9995-0770d72e5291"
      },
      "source": [
        "Q8: Modify the code above to now ask all three questions from the exercises above about films, sport and musicals. It should do so each time by calling the same existing method, inputString."
      ]
    },
    {
      "cell_type": "code",
      "execution_count": null,
      "id": "0ce28bf8-8837-46a3-8c2a-3f7ca847d94d",
      "metadata": {
        "id": "0ce28bf8-8837-46a3-8c2a-3f7ca847d94d",
        "outputId": "549081e6-42bd-4618-d998-dbfb6ec31900"
      },
      "outputs": [
        {
          "name": "stdout",
          "output_type": "stream",
          "text": [
            "Which dream-themed film did Christopher Nolan direct?\n"
          ]
        },
        {
          "name": "stdin",
          "output_type": "stream",
          "text": [
            " inception\n"
          ]
        },
        {
          "name": "stdout",
          "output_type": "stream",
          "text": [
            "So you think the film was inception do you?\n",
            "\n",
            "What sport does LeBron James play?\n"
          ]
        },
        {
          "name": "stdin",
          "output_type": "stream",
          "text": [
            " basketball\n"
          ]
        },
        {
          "name": "stdout",
          "output_type": "stream",
          "text": [
            "So you think the sport was basketball do you?\n",
            "\n",
            "What Hip Hop musical is based on the story of an American founding father?\n"
          ]
        },
        {
          "name": "stdin",
          "output_type": "stream",
          "text": [
            " Hamilton\n"
          ]
        },
        {
          "name": "stdout",
          "output_type": "stream",
          "text": [
            "So you think the musical was Hamilton do you?\n",
            "\n"
          ]
        }
      ],
      "source": [
        "/* Asking three different questions about film, sport and musical, echoing back the answers */\n",
        "\n",
        "public static void askThreeQuestions ()\n",
        "{\n",
        "    String film_answer;\n",
        "    String sport_answer;\n",
        "    String musical_answer;\n",
        "    \n",
        "    film_answer = inputString(\"Which dream-themed film did Christopher Nolan direct?\");\n",
        "    System.out.println(\"So you think the film was \" + film_answer + \" do you?\");\n",
        "    System.out.println(\"\");\n",
        "       \n",
        "    sport_answer = inputString(\"What sport does LeBron James play?\");\n",
        "    System.out.println(\"So you think the sport was \" + sport_answer + \" do you?\");\n",
        "    System.out.println(\"\");\n",
        "\n",
        "    musical_answer = inputString(\"What Hip Hop musical is based on the story of an American founding father?\");\n",
        "    System.out.println(\"So you think the musical was \" + musical_answer + \" do you?\");\n",
        "    System.out.println(\"\");\n",
        "       \n",
        "    return;\n",
        "}\n",
        "\n",
        "askThreeQuestions();"
      ]
    },
    {
      "cell_type": "markdown",
      "id": "51591fe0-09f9-4013-863a-a70fdebe4af2",
      "metadata": {
        "id": "51591fe0-09f9-4013-863a-a70fdebe4af2"
      },
      "source": [
        "***\n",
        "**Abstraction**\n",
        "\n",
        "Another advantage of writing methods (whether procedures or functions) is that once written you can forget about the details of how it was done. It can be tricky to remember the details of Scanners in the above, for example, but once we've done it once and package that into our method we can forget. All we need to remember is the method that does it is inputString so we can call it. This is called abstraction which just means hiding details. Here we are hiding the details of how to input a String behind the method name inputString. We are doing one kind of abstraction called procedural abstraction (or functional abstraction). It just means packaging instructions into procedures (or functions) so that we do not then need to worry in future how they work, just what they do overall. Here inputString (somehow) gets a string from the user and returns it. When we write the instruction to call it, we don't care, and don't have to know, how it does it.\n",
        "\n",
        "This makes big programs easier to write as once a method works we can ignore how it works when we use it - we can write a big program by focussing on one part at a time."
      ]
    },
    {
      "cell_type": "code",
      "execution_count": null,
      "id": "a7286a54-a4cd-433b-b86f-bf4150fd9cd6",
      "metadata": {
        "id": "a7286a54-a4cd-433b-b86f-bf4150fd9cd6",
        "outputId": "a950e117-87d9-43ea-89f8-6355fc769561"
      },
      "outputs": [
        {
          "name": "stdout",
          "output_type": "stream",
          "text": [
            "Hello World\n",
            "Hello Kweku\n",
            "Goodbye\n"
          ]
        }
      ],
      "source": [
        "/* Print a given message */\n",
        "\n",
        "public static void print (String message)\n",
        "{\n",
        "       System.out.println(message);\n",
        "\n",
        "}\n",
        "\n",
        "public static void printGreetings ()\n",
        "{\n",
        "    print(\"Hello World\");\n",
        "    print(\"Hello Kweku\");\n",
        "    print(\"Goodbye\");\n",
        "\n",
        "}\n",
        "\n",
        "printGreetings();"
      ]
    },
    {
      "cell_type": "markdown",
      "id": "d278256e-70bd-4c17-b85d-ffbd42d612d6",
      "metadata": {
        "id": "d278256e-70bd-4c17-b85d-ffbd42d612d6"
      },
      "source": [
        "***\n",
        "**In summary**\n",
        "\n",
        "There are several reasons for using methods:\n",
        "- They allow us to break a large program into smaller parts that can each be written separately. This is called **decomposition**. This makes code easier to write and reduces the chance that our programs contain bugs.\n",
        "\n",
        "- This allows us to test each part completely separately. Doing so reduces the chance that the code contains mistakes.\n",
        "\n",
        "- They allow us to avoid duplicating code. We can write one method that contains the code, and then call it whenever we need it. This ensures consistency, and removes the possibility of getting it right in one place but not elsewhere.\n",
        "\n",
        "- They allow us to write a general method that covers several similar jobs that otherwise would need different code.   We replace the parts that are different by variables and supply the different information needed when we call the method. This is called **generalisation**. Again this lessens the likelihood of there being bugs in our programs. We have fewer methods to test.\n",
        "\n",
        "- They allow us to ignore the implementation of the method. Once we have written it and are sure it works, we do not need to think about *how* or *why* it works. This is called **abstraction** This makes the later code easier to write, so it is more likely to be right.\n",
        "\n",
        "- The fact that the way a method is implemented is hidden, means we can change that implementation (ie the code in the definition of the method) for a better implementation. Change it in one place and it changes everywhere for free. This means we are less likely to introduce mistakes when making changes.\n",
        "\n",
        "- All of this also makes code easier to read as we can read and understand it a small part at a time."
      ]
    },
    {
      "cell_type": "code",
      "execution_count": null,
      "id": "ec03c324-be33-4318-9066-14f5912426f6",
      "metadata": {
        "id": "ec03c324-be33-4318-9066-14f5912426f6"
      },
      "outputs": [],
      "source": []
    }
  ],
  "metadata": {
    "kernelspec": {
      "display_name": "Java",
      "language": "java",
      "name": "java"
    },
    "language_info": {
      "codemirror_mode": "java",
      "file_extension": ".jshell",
      "mimetype": "text/x-java-source",
      "name": "Java",
      "pygments_lexer": "java",
      "version": "11.0.8+10-LTS"
    },
    "colab": {
      "provenance": []
    }
  },
  "nbformat": 4,
  "nbformat_minor": 5
}