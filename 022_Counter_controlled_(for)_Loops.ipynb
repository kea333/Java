{
  "cells": [
    {
      "cell_type": "markdown",
      "id": "8a148090-2452-4a1f-ac69-d14b0923017e",
      "metadata": {
        "id": "8a148090-2452-4a1f-ac69-d14b0923017e"
      },
      "source": [
        "22.\n",
        "# Counter-controlled _for_ Loops\n",
        "\n",
        "**_for_ loops** in programming execute tasks **repeatedly**. The command(s) we repeat only have to be written in the program once, even though they an be executed many times. In the next code fragment one particular line tells the code to print **Hello** (rather than something else) multiple times. On its own that line only tells the program to print Hello once, it it is the rest of the code that says do it multiple times."
      ]
    },
    {
      "cell_type": "code",
      "execution_count": null,
      "id": "d0cf56fc-44d5-44b5-945d-d9a62b9cc920",
      "metadata": {
        "id": "d0cf56fc-44d5-44b5-945d-d9a62b9cc920",
        "outputId": "cf96f661-3e1a-4d22-fa25-6f5ad3012b53"
      },
      "outputs": [
        {
          "name": "stdout",
          "output_type": "stream",
          "text": [
            "Hello\n",
            "Hello\n",
            "Hello\n",
            "Hello\n",
            "Hello\n"
          ]
        }
      ],
      "source": [
        "/* Illustrating for loop */\n",
        "\n",
        "for (int i=1; i<=5; i++)\n",
        "{\n",
        "    System.out.println(\"Hello\");\n",
        "}"
      ]
    },
    {
      "cell_type": "code",
      "execution_count": null,
      "id": "0ab52f56-04eb-4931-a84d-daa536c0848c",
      "metadata": {
        "id": "0ab52f56-04eb-4931-a84d-daa536c0848c",
        "outputId": "4f9fc3da-aaa5-43ac-b3a3-1c5bf78c7e7f"
      },
      "outputs": [
        {
          "name": "stdout",
          "output_type": "stream",
          "text": [
            "1\n",
            "2\n",
            "3\n",
            "4\n"
          ]
        }
      ],
      "source": [
        "/* Illustrating for loop */\n",
        "\n",
        "for (int i=1; i<=4; i++)\n",
        "{\n",
        "    System.out.println(i);\n",
        "}"
      ]
    },
    {
      "cell_type": "markdown",
      "id": "a9291e41-e5de-4211-a3ec-6af4568ee415",
      "metadata": {
        "id": "a9291e41-e5de-4211-a3ec-6af4568ee415"
      },
      "source": [
        "### Counter-controlled Repetition\n",
        "\n",
        "The rest of the line after the keyword **for** keeps a counter.\n",
        "\n",
        "Numbers are given in the **for loop** to say\n",
        "- start the count at say 1 and \n",
        "- finish the count at say 5.\n",
        "\n",
        "This makes the above program count 1 2 3 4 5 and then stops, executing the code in the body of the loop (between the curly brackets) each time it counts."
      ]
    },
    {
      "cell_type": "code",
      "execution_count": null,
      "id": "3b42f9dc-fe33-4c69-a615-c8068fd6227d",
      "metadata": {
        "id": "3b42f9dc-fe33-4c69-a615-c8068fd6227d",
        "outputId": "6673e939-eeff-4946-a459-975394cfcd30"
      },
      "outputs": [
        {
          "name": "stdout",
          "output_type": "stream",
          "text": [
            "Goodbye\n",
            "Goodbye\n",
            "Goodbye\n"
          ]
        }
      ],
      "source": [
        "/* Illustrating for loop */\n",
        "\n",
        "for (int i=1; i<=3; i++)\n",
        "{\n",
        "    System.out.println(\"Goodbye\");\n",
        "}"
      ]
    },
    {
      "cell_type": "markdown",
      "id": "b787739c-60a7-437c-b469-28f844019c8b",
      "metadata": {
        "id": "b787739c-60a7-437c-b469-28f844019c8b"
      },
      "source": [
        "Only code inside the loop body (ie between the curly brackets) is repeated the given number of times. Any instructions BEFORE the loop happens once, and any instructions placed AFTER the loop also only happens once:"
      ]
    },
    {
      "cell_type": "code",
      "execution_count": null,
      "id": "2f3eccba-e529-4c44-87ff-c2374586bbc4",
      "metadata": {
        "id": "2f3eccba-e529-4c44-87ff-c2374586bbc4",
        "outputId": "7d88d8b2-6c96-47f1-9ba3-41c03c6737f7"
      },
      "outputs": [
        {
          "name": "stdout",
          "output_type": "stream",
          "text": [
            "Starting List\n",
            "Before the loop so printed once\n",
            "Fly me to the moon\n",
            "Fly me to the moon\n",
            "Fly me to the moon\n",
            "Fly me to the moon\n",
            "Fly me to the moon\n",
            "Fly me to the moon\n",
            "Ending List\n",
            "After the loop so printed once\n"
          ]
        }
      ],
      "source": [
        "/* Illustrating for loop */\n",
        "\n",
        "System.out.println(\"Starting List\");\n",
        "System.out.println(\"Before the loop so printed once\");\n",
        "\n",
        "for (int i=1; i<=6; i++)\n",
        "{\n",
        "    System.out.println(\"Fly me to the moon\");\n",
        "}\n",
        "\n",
        "System.out.println(\"Ending List\");\n",
        "System.out.println(\"After the loop so printed once\");"
      ]
    },
    {
      "cell_type": "code",
      "execution_count": null,
      "id": "7b11084b-3cf9-4f67-a2e1-11f14c62b5a1",
      "metadata": {
        "id": "7b11084b-3cf9-4f67-a2e1-11f14c62b5a1",
        "outputId": "50a06520-22a2-41b0-a56c-c018058c70b6"
      },
      "outputs": [
        {
          "name": "stdout",
          "output_type": "stream",
          "text": [
            "Hello\n",
            "Hello\n",
            "Hello\n",
            "Hello\n",
            "Hello\n",
            "Hello\n"
          ]
        }
      ],
      "source": [
        "/* Illustrating for loop */\n",
        "\n",
        "for (int i=1; i<=3; i++)\n",
        "{\n",
        "    System.out.println(\"Hello\");\n",
        "    System.out.println(\"Hello\");\n",
        "}"
      ]
    },
    {
      "cell_type": "markdown",
      "id": "83594882-5195-4b16-8d21-0807671c83a8",
      "metadata": {
        "id": "83594882-5195-4b16-8d21-0807671c83a8"
      },
      "source": [
        "i<=3 is the loop counter, i++ is the usual increment by 1, i.e. i + 1 and stores the result back in variable i."
      ]
    },
    {
      "cell_type": "code",
      "execution_count": null,
      "id": "4f1900a3-7356-4384-9ecc-12dfe54e4b17",
      "metadata": {
        "id": "4f1900a3-7356-4384-9ecc-12dfe54e4b17",
        "outputId": "61aecec4-c83b-4cca-cbaf-a6fd3a9f9a9d"
      },
      "outputs": [
        {
          "name": "stdout",
          "output_type": "stream",
          "text": [
            "1 THEN\n",
            "2 THEN\n",
            "3 THEN\n"
          ]
        }
      ],
      "source": [
        "/* Illustrating for loop */\n",
        "\n",
        "for (int i=1; i<=3; i++)\n",
        "{\n",
        "    System.out.println(i + \" THEN\");\n",
        "}"
      ]
    },
    {
      "cell_type": "code",
      "execution_count": null,
      "id": "cd7e7529-1432-495d-9fad-52445fd4508b",
      "metadata": {
        "id": "cd7e7529-1432-495d-9fad-52445fd4508b",
        "outputId": "4370f1b7-4da8-47a4-a345-56083f79db30"
      },
      "outputs": [
        {
          "name": "stdout",
          "output_type": "stream",
          "text": [
            "4:\n",
            "5:\n",
            "6:\n",
            "7:\n",
            "8:\n"
          ]
        }
      ],
      "source": [
        "/* Illustrating for loop */\n",
        "\n",
        "for (int i=4; i<=8; i++)\n",
        "{\n",
        "    System.out.println(i + \":\");\n",
        "}"
      ]
    },
    {
      "cell_type": "markdown",
      "id": "51de70c5-f0f4-4f0e-bc0e-edd60d2be9ed",
      "metadata": {
        "id": "51de70c5-f0f4-4f0e-bc0e-edd60d2be9ed"
      },
      "source": [
        "As the loop counter is just a variable, it can be changed to anything we like, e.g. 'counter'. It must be consistent everywhere."
      ]
    },
    {
      "cell_type": "code",
      "execution_count": null,
      "id": "1ee4af0e-d9e9-4caf-925d-98b2af0a0dc9",
      "metadata": {
        "id": "1ee4af0e-d9e9-4caf-925d-98b2af0a0dc9",
        "outputId": "ce7f2b77-40f8-4947-99f5-22eddd55a623"
      },
      "outputs": [
        {
          "name": "stdout",
          "output_type": "stream",
          "text": [
            "1 THEN\n",
            "2 THEN\n",
            "3 THEN\n"
          ]
        }
      ],
      "source": [
        "/* Illustrating for loop */\n",
        "\n",
        "for (int counter=1; counter<=3; counter++)\n",
        "{\n",
        "    System.out.println(counter + \" THEN\");\n",
        "}"
      ]
    },
    {
      "cell_type": "code",
      "execution_count": null,
      "id": "8aa119ec-55d0-47b3-8bc9-96eb7705e3f6",
      "metadata": {
        "id": "8aa119ec-55d0-47b3-8bc9-96eb7705e3f6",
        "outputId": "ba29f48d-f590-4c86-ddba-8d8f5ee09134"
      },
      "outputs": [
        {
          "name": "stdout",
          "output_type": "stream",
          "text": [
            "9\n",
            "18\n",
            "27\n",
            "36\n",
            "45\n",
            "54\n"
          ]
        }
      ],
      "source": [
        "/* Illustrating for loop to print the start of the 9 times table */\n",
        "\n",
        "for (int i=1; i<=6; i++)\n",
        "{\n",
        "    System.out.println(i * 9);\n",
        "}"
      ]
    },
    {
      "cell_type": "markdown",
      "id": "d1fe98f7-2ed2-4390-a4d6-be54300e8520",
      "metadata": {
        "id": "d1fe98f7-2ed2-4390-a4d6-be54300e8520"
      },
      "source": [
        "***\n",
        "### **Counting down**\n",
        "\n",
        "The assignment to the loop counter (i++) can be replaced by any assignment. For example, if the assignment:\n",
        "\n",
        "```i = i - 1;```\n",
        "\n",
        "(which can also be written (i--) is used, a loop will count down."
      ]
    },
    {
      "cell_type": "code",
      "execution_count": null,
      "id": "23dc799d-08d2-400f-a86d-51751d6365ba",
      "metadata": {
        "id": "23dc799d-08d2-400f-a86d-51751d6365ba",
        "outputId": "74088dd5-2a09-4554-b147-ff4112465366"
      },
      "outputs": [
        {
          "name": "stdout",
          "output_type": "stream",
          "text": [
            "7\n",
            "6\n",
            "5\n",
            "4\n",
            "3\n",
            "2\n",
            "1\n",
            "0\n"
          ]
        }
      ],
      "source": [
        "/* Illustrating for loop counting down from 7 to zero */\n",
        "\n",
        "for (int i=7; i>=0; i--)\n",
        "{\n",
        "    System.out.println(i);\n",
        "}"
      ]
    },
    {
      "cell_type": "markdown",
      "id": "81d0d2b2-2c35-4431-8497-1676be8a4e4c",
      "metadata": {
        "id": "81d0d2b2-2c35-4431-8497-1676be8a4e4c"
      },
      "source": [
        "To count down by 2 instead of by 1, just use an assignment that subtracts 2:"
      ]
    },
    {
      "cell_type": "code",
      "execution_count": null,
      "id": "339969b5-040b-41a1-a11f-b31bb520169d",
      "metadata": {
        "id": "339969b5-040b-41a1-a11f-b31bb520169d",
        "outputId": "083a095f-110b-4bde-c957-7d1861512ca2"
      },
      "outputs": [
        {
          "name": "stdout",
          "output_type": "stream",
          "text": [
            "12\n",
            "10\n",
            "8\n",
            "6\n",
            "4\n"
          ]
        }
      ],
      "source": [
        "/* Illustrating for loop counting down from 12 to 4 at intervals of 2 */\n",
        "\n",
        "for (int i=12; i>=4; i = i - 2)\n",
        "{\n",
        "    System.out.println(i);\n",
        "}"
      ]
    },
    {
      "cell_type": "markdown",
      "id": "ebaaff26-f13b-4980-b9b6-e0421bd1df49",
      "metadata": {
        "id": "ebaaff26-f13b-4980-b9b6-e0421bd1df49"
      },
      "source": [
        "### Misconceptions to Avoid\n",
        "\n",
        "Some facts about loops to bear in mind and common misconception that need to be avoided are:\n",
        "\n",
        "1. When the test is evaluated and found to be false, the for loop exits, jumping immediately to the code after the loop. It does NOT execute the body again one more time, when the loop is false. \n",
        "    - The misconception here is that some mistakenly think that once the test is false the loop executes the body one more time, before moving beyond the loop. IT DOES NOT! Watch out for this misconception. \n",
        "    \n",
        "2. The test is only checked at the start of each iteration (i.e. at the start immediately after the counter is initialised and then immediately after each time it is increased).\n",
        "    - The misconception here is that somehow the test allows the loop to stop in the middle of execution as though the test was monitored cosntantly. IT IS NOT!\n",
        "    \n",
        "3. The counter is updated AFTER the body is executed.\n",
        "    - The misconception here is that the counter is changed before the body is entered the first time. IT IS NOT! \n",
        "    \n",
        "4. The loop keeps going repeating the body WHILE the test is true. When the test is false the loop stops.\n",
        "    - The misconception here is to get confused thinking the loop runs until the test is true. IT DOES NOT!"
      ]
    },
    {
      "cell_type": "markdown",
      "id": "f6ac437e-80b0-48f5-acce-9fd6c3b1cc5d",
      "metadata": {
        "id": "f6ac437e-80b0-48f5-acce-9fd6c3b1cc5d"
      },
      "source": [
        "***\n",
        "### **Summary**\n",
        "\n",
        "A **for loop** is a way of repeating the same code some a **fixed** number of times. It starts with the keyword **for** and then has 4 parts:\n",
        "- the **declaration** of a **loop counter** that also **initialises** it to the start of the count\n",
        "- a **test** to see if the counter has finished the count yet\n",
        "- an **assignment** that changes the loop counter\n",
        "- the **body**\n",
        "\n",
        "The **loop counter** is just a variable that keeps count of how many times the loop has so far been repeated when the loop is running. It starts on one number and counts to another number (but not necessarily counting in 1s, nor starting from 1).\n",
        "\n",
        "The **declaration** of the loop counter is just like the declaration of any other variable. It is set to the first number of the count i.e. to initialise it (whether counting up or down). For example\n",
        "\n",
        "```int i = 0;```\n",
        "\n",
        "would start the count from 0. The variable can be named anything appropriate.\n",
        "\n",
        "The **test** is just a boolean expression, similar to the tests in an if statement. The test in a _for_ loop has to be true for the count to continue. When it becomes false at the start of a loop, the loop ends rather than entering the body, and jumps beyond the loop to continue with the rest of the program. For example\n",
        "\n",
        "```i <= 10;```\n",
        "\n",
        "says count until 10, but when the counter gets to 11 (or higher) end the loop and jump to whatever instruction is beyond it.\n",
        "\n",
        "The **assignment** \n",
        "\n",
        "```i = i + 2```\n",
        "\n",
        "implements the loop counter (up or down as appropriate). It executes AFTER the body has executed and before the test. For above example would increase the counter by 2 each time round the loop.\n",
        "\n",
        "The **body** is just any normal block of code inside curly brackets. It is the instructions that are repeated each time the test is executed and found to be true, and before the assignment changes the loop counter. So a body\n",
        "\n",
        "```\n",
        "{\n",
        "    System.out.println(i+ \": I must program single every day.\");\n",
        "}\n",
        "```\n",
        "\n",
        "prints the loop counter, followed by the given statement.\n",
        "  \n",
        "Putting this all together we can get, from the following code, a _for_ loop that prints\n",
        "\n",
        "```1: I must program every single day.```\n",
        "\n",
        "7 times starting with a different number each time and incrementing by 3."
      ]
    },
    {
      "cell_type": "code",
      "execution_count": null,
      "id": "f309924d-a928-49ac-a10f-57ad3fe317bf",
      "metadata": {
        "id": "f309924d-a928-49ac-a10f-57ad3fe317bf",
        "outputId": "945b71e8-e26d-4b85-f464-7cb03f059df2"
      },
      "outputs": [
        {
          "name": "stdout",
          "output_type": "stream",
          "text": [
            "1: I must program every single day.\n",
            "4: I must program every single day.\n",
            "7: I must program every single day.\n",
            "10: I must program every single day.\n",
            "13: I must program every single day.\n",
            "16: I must program every single day.\n",
            "19: I must program every single day.\n"
          ]
        }
      ],
      "source": [
        "/* Illustrating for loop */\n",
        "\n",
        "for (int i=1; i<=21; i = i + 3)\n",
        "{\n",
        "    System.out.println(i+ \": I must program every single day.\");\n",
        "}"
      ]
    },
    {
      "cell_type": "code",
      "execution_count": null,
      "id": "3fc6e16e-fb3c-4fe6-954e-7f730e3b8ef0",
      "metadata": {
        "id": "3fc6e16e-fb3c-4fe6-954e-7f730e3b8ef0"
      },
      "outputs": [],
      "source": []
    }
  ],
  "metadata": {
    "kernelspec": {
      "display_name": "Java",
      "language": "java",
      "name": "java"
    },
    "language_info": {
      "codemirror_mode": "java",
      "file_extension": ".jshell",
      "mimetype": "text/x-java-source",
      "name": "Java",
      "pygments_lexer": "java",
      "version": "11.0.8+10-LTS"
    },
    "colab": {
      "provenance": []
    }
  },
  "nbformat": 4,
  "nbformat_minor": 5
}