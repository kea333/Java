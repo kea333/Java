{
  "cells": [
    {
      "cell_type": "markdown",
      "id": "3865ef4d-a46d-4591-94c8-5c6296fa1c22",
      "metadata": {
        "id": "3865ef4d-a46d-4591-94c8-5c6296fa1c22"
      },
      "source": [
        "26.\n",
        "\n",
        "# Accessor Methods of Types, Classes and Objects\n",
        "\n",
        "This lesson enables us to write simple programs that access records (and objects) only via methods.\n",
        "\n",
        "In Lesson 16, we saw how you can create your own new types using a simplified version of the class mechanism. This allowed you to create a new **compound type** (i.e. a type consisting of values made up of simpler values \"glued together\" in some way) by combining two or more existing types together.\n",
        "\n",
        "The class definition defines the type, with the separate parts called fields. The fields can be of different types and are given a field name in the definition of the type."
      ]
    },
    {
      "cell_type": "code",
      "execution_count": null,
      "id": "57b4c5a6-15ae-44ab-8533-4066d565a5d2",
      "metadata": {
        "id": "57b4c5a6-15ae-44ab-8533-4066d565a5d2"
      },
      "outputs": [],
      "source": [
        "class InspiringLeader\n",
        "{\n",
        "    String name;\n",
        "    int age;\n",
        "}"
      ]
    },
    {
      "cell_type": "markdown",
      "id": "881474ce-b7a9-4de9-88c0-5c066671ff87",
      "metadata": {
        "id": "881474ce-b7a9-4de9-88c0-5c066671ff87"
      },
      "source": [
        "This creates a new **type** (i.e. class in this case) that can then be used in the program like existing types to declare variables. The type created is called InspiringLeader, so after this has been declared the program can create variables, e.g.\n",
        "\n",
        "```InspiringLeader a;```\n",
        "\n",
        "This basically declares an instance of Inspiringleader (hence an object) and store it in a variable called 'a'.\n",
        "\n",
        "The definition says that values of type Inspiringleader will have two parts a name which is a String and an age which is an integer. Thus a variable defined as above will store two values bound together. To get at the constituent parts, we use the field names. Here the field names are name and age so for a variable, a, a.name is used to set and get the *name* from a value of type InspiringLeader. Similarly, a.age is used to set and get the *age* from a value of type InspiringLeader.\n",
        "\n",
        "As the new type includes more than one field, in this case for InspiringLeader of types String and integer, then we can say that the new type is a compound data type."
      ]
    },
    {
      "cell_type": "code",
      "execution_count": null,
      "id": "1c37c70f-de69-49dd-81d7-40742d7f0880",
      "metadata": {
        "id": "1c37c70f-de69-49dd-81d7-40742d7f0880",
        "outputId": "030c2aed-b80b-4915-e2d0-a42042fbf2a8"
      },
      "outputs": [
        {
          "name": "stdout",
          "output_type": "stream",
          "text": [
            "Mohandas Karamchand Gandhi was 78 years old when he died.\n",
            "Nelson Mandela was 95 years old when he died.\n"
          ]
        }
      ],
      "source": [
        "/* Printing stored attributes of the class InspiringLeader */\n",
        "\n",
        "public static void leaders2()\n",
        "{\n",
        "    InspiringLeader mandela = new InspiringLeader(); /* create an instance (object) of Inspiringleader called mandela */\n",
        "    InspiringLeader ghandi = new InspiringLeader();  /* create an instance (object) of Inspiringleader called ghandi */\n",
        "        \n",
        "    mandela.name = \"Nelson Mandela\";                  /* object attribute */\n",
        "    mandela.age = 95;                                 /* object attribute */\n",
        "     \n",
        "    ghandi.name = \"Mohandas Karamchand Gandhi\";       /* object attribute */\n",
        "    ghandi.age = 78;                                  /* object attribute */\n",
        "    \n",
        "    System.out.println(ghandi.name + \" was \" + ghandi.age + \" years old when he died.\");\n",
        "    System.out.println(mandela.name + \" was \" + mandela.age + \" years old when he died.\");\n",
        "\n",
        "    return;\n",
        "}\n",
        "\n",
        "leaders2();"
      ]
    },
    {
      "cell_type": "markdown",
      "id": "4e218bc0-ea88-4c5e-b95e-05251691d51c",
      "metadata": {
        "id": "4e218bc0-ea88-4c5e-b95e-05251691d51c"
      },
      "source": [
        "### Using methods to access records\n",
        "\n",
        "It turns out that it is a really good idea to create methods that access the values of records (either to store values or get the values out). Other methods then use them directly. This means <span style=\"color: red;\"> the dot notation is only used to refer to the fields **in the accessor methods** </span> - and that is the key point.\n",
        "\n",
        "This is good as it means we can change the implementation i.e. change the fields without having to change every place throughout a program (which may be millions of lines long) where we accessed a field.  It is a continuation of the idea of **localisation**. We want to keep the amount of code we need to read as small as possible to understand it. We also want to make sure to make a change that affects the whole program we only need to change a small part of the program. \n",
        "\n",
        "We will see more of this later, but first how do we write methods like this?\n",
        "\n",
        "In the simplest version of doing this we need **two** accessor methods for each field\n",
        "- one to assign a value to the field, and\n",
        "- one to get a copy of the value from the field\n",
        "\n",
        "These methods are just normal methods. There is nothing special about them. \n",
        "\n",
        "There are several styles of programming to do this, however. For the OOP style (object-oriented) revise Lesson 10. We will now look first at a 'functional' style of doing it, where both methods return a value. Later we will see a more 'procedural' style. "
      ]
    },
    {
      "cell_type": "markdown",
      "id": "e0eb90dc-58df-4ad7-815a-bb63e97dc4fe",
      "metadata": {
        "id": "e0eb90dc-58df-4ad7-815a-bb63e97dc4fe"
      },
      "source": [
        "Q: Create a new method to set the name field of records of type InspiringLeader. This requires the record definition above to have been compiled first."
      ]
    },
    {
      "cell_type": "code",
      "execution_count": null,
      "id": "559d6a10-fd04-49b7-ab97-6d9f039043f9",
      "metadata": {
        "id": "559d6a10-fd04-49b7-ab97-6d9f039043f9",
        "outputId": "b1ae6c57-1267-4114-9929-087ee87f4f0f"
      },
      "outputs": [
        {
          "name": "stdout",
          "output_type": "stream",
          "text": [
            "Nelson Mandela\n",
            "Martin Luther King\n"
          ]
        }
      ],
      "source": [
        "/* Given an Inspiring Leader record and a new name, store the name in the record \n",
        "   Return the updated record value */\n",
        "\n",
        "public static InspiringLeader setLeaderName(InspiringLeader ldr, String nm)\n",
        "{\n",
        "    ldr.name = nm;\n",
        "    \n",
        "    return ldr;\n",
        "}\n",
        "\n",
        "\n",
        "/* Print the stored details of some great leaders */\n",
        "\n",
        "public static void leaders3()\n",
        "{\n",
        "    InspiringLeader leader = new InspiringLeader();\n",
        "        \n",
        "    leader = setLeaderName(leader, \"Nelson Mandela\");\n",
        "    System.out.println(leader.name);\n",
        "\n",
        "    leader = setLeaderName(leader, \"Martin Luther King\");\n",
        "    System.out.println(leader.name);\n",
        "\n",
        "    return;\n",
        "}\n",
        "\n",
        "leaders3();"
      ]
    },
    {
      "cell_type": "markdown",
      "id": "a1aeca0a-6289-4e9b-9345-34e6e6ba8d24",
      "metadata": {
        "id": "a1aeca0a-6289-4e9b-9345-34e6e6ba8d24"
      },
      "source": [
        "**\n",
        "\n",
        "The method setLeaderName takes a record value and a String value to store in its name field. What it does is take that record value and create a new record value with the new name in place of the old one. It does this by storing the record value passed in the local variable <span style=\"color: red;\">(the formal parameter)</span> called ldr. It then uses normal assignment of the passed value which has been stored in nm to the name field. Finally, it returns the new record value stored in the variable ldr.\n",
        "\n",
        "Thus\n",
        "```\n",
        "    ldr.name = nm;\n",
        "```\n",
        "is just a normal field assignment to record ldr which is holding the record value. The value being assigned is the new value for the field stored locally in variable nm.\n",
        "\n",
        "The code that uses this method first creates a single new variable called leader that is of type InspiringLeader and so can hold InspiringLeader records.\n",
        "```\n",
        "    InspiringLeader leader = new InspiringLeader();\n",
        "```\n",
        "\n",
        "The next line of the code calls the method. It passes this empty record value that was stored in variable leader as an argument. It gets stored by the method in variable ldr.\n",
        "\n",
        "The second argument is a String \"Nelson Mandela\". This is the value we want the method to store in the name field. It gets initially stored in local variable nm by the method, before being put into the correct field.\n",
        "```\n",
        "    ... setLeaderName(leader, \"Nelson Mandela\");\n",
        "```\n",
        "\n",
        "The method call returns a new record value with the updated name. If we are going to use that value we need to store it somewhere. Actually we want to update the original leader variable, so we store the new record variable back there using assignment:\n",
        "```\n",
        "    leader = setLeaderName(leader, \"Nelson Mandela\");\n",
        "    System.out.println(leader.name);\n",
        "```\n",
        "\n",
        "Once stored we can get at the new name to print it just by accessing the field. (Later we will use a method to do this too).\n",
        "```\n",
        "    System.out.println(leader.name);\n",
        "```\n",
        "\n",
        "We then do the whole thing again but storing a different value this time.\n",
        "```\n",
        "    leader = setLeaderName(leader, \"Martin Luther King\");\n",
        "    System.out.println(leader.name);\n",
        "```"
      ]
    },
    {
      "cell_type": "markdown",
      "id": "d77ccf5b-0164-4c29-bdd3-1d4cf808aedf",
      "metadata": {
        "id": "d77ccf5b-0164-4c29-bdd3-1d4cf808aedf"
      },
      "source": [
        "Q: Modify your code so that it uses setLeaderName to change the value in variable 'leader' a third time to Emmeline Pankhurst so that it now prints\n",
        "\n",
        "```\n",
        "Nelson Mandela\n",
        "Martin Luther King\n",
        "Emmeline Pankhurst\n",
        "```"
      ]
    },
    {
      "cell_type": "code",
      "execution_count": null,
      "id": "25c753c9-0230-4ed7-b954-564ab4ad067a",
      "metadata": {
        "id": "25c753c9-0230-4ed7-b954-564ab4ad067a",
        "outputId": "c7888efc-315c-4c48-83f8-3513ad56003d"
      },
      "outputs": [
        {
          "name": "stdout",
          "output_type": "stream",
          "text": [
            "Nelson Mandela\n",
            "Martin Luther King\n",
            "Emmeline Pankhurst\n"
          ]
        }
      ],
      "source": [
        "/* Set record value and print it, \n",
        "   we just follow the same pattern a third time */\n",
        "\n",
        "\n",
        "public static void leaders4()\n",
        "{\n",
        "    InspiringLeader leader = new InspiringLeader();\n",
        "        \n",
        "    leader = setLeaderName(leader, \"Nelson Mandela\");\n",
        "    System.out.println(leader.name);\n",
        "\n",
        "    leader = setLeaderName(leader, \"Martin Luther King\");\n",
        "    System.out.println(leader.name);\n",
        "    \n",
        "    leader = setLeaderName(leader, \"Emmeline Pankhurst\");\n",
        "    System.out.println(leader.name);\n",
        "\n",
        "    return;\n",
        "}\n",
        "\n",
        "leaders4();"
      ]
    },
    {
      "cell_type": "markdown",
      "id": "f577e29e-fc53-4ece-b27a-c6c13f4c9980",
      "metadata": {
        "id": "f577e29e-fc53-4ece-b27a-c6c13f4c9980"
      },
      "source": [
        "Q: Write a new method called setLeaderAge (by modifying the setLeaderName method) that sets the age field of a Leader record. It should now print\n",
        "\n",
        "```\n",
        "Nelson Mandela: 95\n",
        "Martin Luther King: 39\n",
        "```"
      ]
    },
    {
      "cell_type": "code",
      "execution_count": null,
      "id": "4773d701-ecab-4f1d-a263-fd4fc8ea5dd6",
      "metadata": {
        "id": "4773d701-ecab-4f1d-a263-fd4fc8ea5dd6",
        "outputId": "59be0cb0-fbff-43ef-800b-c1361b2af99b"
      },
      "outputs": [
        {
          "name": "stdout",
          "output_type": "stream",
          "text": [
            "Nelson Mandella: 69\n",
            "Martin Luther King: 39\n"
          ]
        }
      ],
      "source": [
        "/* Update leader age and print it */\n",
        "\n",
        "public static InspiringLeader setLeaderAge(InspiringLeader ldr, int a)\n",
        "{\n",
        "    ldr.age = a;\n",
        "    \n",
        "    return ldr;\n",
        "}\n",
        "\n",
        "\n",
        "// Print the stored details of some great leaders.\n",
        "//\n",
        "public static void leaders5()\n",
        "{\n",
        "    InspiringLeader leader = new InspiringLeader();\n",
        "        \n",
        "    leader = setLeaderName(leader, \"Nelson Mandella\");\n",
        "    leader = setLeaderAge(leader, 69);\n",
        "    System.out.println(leader.name + \": \" + leader.age);\n",
        "\n",
        "    leader = setLeaderName(leader, \"Martin Luther King\");\n",
        "    leader = setLeaderAge(leader, 39);\n",
        "    System.out.println(leader.name + \": \" + leader.age);\n",
        "\n",
        "    return;\n",
        "}\n",
        "\n",
        "leaders5();"
      ]
    },
    {
      "cell_type": "markdown",
      "id": "c0a7e5ee-cdd9-4890-80ff-bf4e12b7da91",
      "metadata": {
        "id": "c0a7e5ee-cdd9-4890-80ff-bf4e12b7da91"
      },
      "source": [
        "### Getting the value from the field of a record\n",
        "\n",
        "Just as we can store a new value in a record field with a method we can also write methods to pull values out of records"
      ]
    },
    {
      "cell_type": "code",
      "execution_count": null,
      "id": "3c37d628-c027-4697-9431-9930da5ccf4b",
      "metadata": {
        "id": "3c37d628-c027-4697-9431-9930da5ccf4b",
        "outputId": "5bcab47d-91ba-41a6-f72c-bfcaf15ac6b8"
      },
      "outputs": [
        {
          "name": "stdout",
          "output_type": "stream",
          "text": [
            "Emmeline Pankhurst\n"
          ]
        }
      ],
      "source": [
        "/* Given a Leader record, return the name stored in the record */\n",
        "\n",
        "public static String getLeaderName(InspiringLeader ldr)\n",
        "{ \n",
        "    return ldr.name;\n",
        "}\n",
        "\n",
        "\n",
        "/* Print the stored details of a great leader */\n",
        "\n",
        "public static void leaders6()\n",
        "{\n",
        "    InspiringLeader leader = new InspiringLeader();\n",
        "        \n",
        "    leader = setLeaderName(leader, \"Emmeline Pankhurst\");\n",
        "    System.out.println(getLeaderName(leader));\n",
        "\n",
        "    return;\n",
        "}\n",
        "\n",
        "leaders6();"
      ]
    },
    {
      "cell_type": "markdown",
      "id": "5b663673-ec2c-4408-a377-30a017c0e074",
      "metadata": {
        "id": "5b663673-ec2c-4408-a377-30a017c0e074"
      },
      "source": [
        "**\n",
        "\n",
        "The new method defined is just given an InspiringLeader record as argument, stores it in local variable ldr and then  pulls out of it using the dot notation the value in the name field.\n",
        "\n",
        "The method that calls it first creates a new record and stores the String \"Emmeline Pankhurst\" in the name field. It then calls this new method, passing it the record as argument. The String \"Emmeline Pankhurst\" is returned by the method and it is passed straight to the println method to print it out."
      ]
    },
    {
      "cell_type": "markdown",
      "id": "7becf8dd-84a5-442b-b6d5-2c046b3bf3a4",
      "metadata": {
        "id": "7becf8dd-84a5-442b-b6d5-2c046b3bf3a4"
      },
      "source": [
        "Q: Write method so that it pulls the age from a record, giving it as an argument."
      ]
    },
    {
      "cell_type": "code",
      "execution_count": null,
      "id": "1e8864ef-782f-48a7-b7f3-55524a472ff6",
      "metadata": {
        "id": "1e8864ef-782f-48a7-b7f3-55524a472ff6",
        "outputId": "c43b0ced-5fae-4e3e-c28c-1a070dafb41e"
      },
      "outputs": [
        {
          "name": "stdout",
          "output_type": "stream",
          "text": [
            "Emmeline Pankhurst: 69\n"
          ]
        }
      ],
      "source": [
        "/* Given a Leader record return the age stored in the record */\n",
        "\n",
        "public static int getLeaderAge(InspiringLeader ldr) \n",
        "{ \n",
        "    return ldr.age;\n",
        "}\n",
        "\n",
        "\n",
        "/* Print the stored details of some inspiring leaders */\n",
        "\n",
        "public static void leaders7()\n",
        "{\n",
        "    InspiringLeader leader = new InspiringLeader();\n",
        "        \n",
        "    leader = setLeaderName(leader, \"Emmeline Pankhurst\");\n",
        "    leader = setLeaderAge(leader, 69);\n",
        "    System.out.println(getLeaderName(leader) + \": \" + getLeaderAge(leader));\n",
        "\n",
        "    return;\n",
        "}\n",
        "\n",
        "leaders7();"
      ]
    },
    {
      "cell_type": "markdown",
      "id": "dbd31fc6-d189-49a8-a9eb-824c6f0b8e09",
      "metadata": {
        "id": "dbd31fc6-d189-49a8-a9eb-824c6f0b8e09"
      },
      "source": [
        "Q: Modify your code so that it prints details about Tarana Burke in a similar way to Emmeline Pankhurst, using methods to store values in the leader record and then print them out using methods. However, the details of Tarana Burke should be stored in a record called metoo."
      ]
    },
    {
      "cell_type": "code",
      "execution_count": null,
      "id": "2a7959c0-a276-416a-8475-1e3e77537702",
      "metadata": {
        "id": "2a7959c0-a276-416a-8475-1e3e77537702",
        "outputId": "8de6c3c4-e74c-4df6-fed6-af2c785e2abd"
      },
      "outputs": [
        {
          "name": "stdout",
          "output_type": "stream",
          "text": [
            "Emmeline Pankhurst: 69\n",
            "Tarana Burke: 46\n"
          ]
        }
      ],
      "source": [
        "/* Print the stored details of some inspiring leaders */\n",
        "\n",
        "public static void leaders8()\n",
        "{\n",
        "    InspiringLeader suffragette = new InspiringLeader();\n",
        "    InspiringLeader metoo = new InspiringLeader();\n",
        "        \n",
        "    suffragette = setLeaderName(suffragette, \"Emmeline Pankhurst\");\n",
        "    suffragette = setLeaderAge(suffragette, 69);\n",
        "    System.out.println(getLeaderName(suffragette) + \": \" + getLeaderAge(suffragette));\n",
        "\n",
        "    metoo = setLeaderName(metoo, \"Tarana Burke\");\n",
        "    metoo = setLeaderAge(metoo, 46);\n",
        "    System.out.println(getLeaderName(metoo) + \": \" + getLeaderAge(metoo));\n",
        "\n",
        "    return;\n",
        "}\n",
        "\n",
        "leaders8();"
      ]
    },
    {
      "cell_type": "markdown",
      "id": "9edb61ac-38f3-4772-aa00-5d21c8e674a0",
      "metadata": {
        "id": "9edb61ac-38f3-4772-aa00-5d21c8e674a0"
      },
      "source": [
        "### Using accessor methods\n",
        "\n",
        "Once accessor methods have been written, any other method should ONLY use accessor methods to access records. By using methods in this way we start to build up a full program in layers. Each layer uses methods from the layer below. Here our bottom implementaiton layer is the class layer. The accessor methods are the next layer that hides (ie abstracts) away the implementation. On top of that we can now write another layer of more useful methods that do things like change a whole record."
      ]
    },
    {
      "cell_type": "markdown",
      "id": "426c4e82-d7f8-4eeb-a169-e6b7c1021b5f",
      "metadata": {
        "id": "426c4e82-d7f8-4eeb-a169-e6b7c1021b5f"
      },
      "source": [
        "Q: Create two new methods called setInspiringLeader and toStringInspiringLeader. The first sets both the name and age of a record. The second returns a String suitable for printing that separates the name and age with a colon."
      ]
    },
    {
      "cell_type": "code",
      "execution_count": null,
      "id": "528cd475-d0d4-4507-b4c2-1a18fa3db085",
      "metadata": {
        "id": "528cd475-d0d4-4507-b4c2-1a18fa3db085",
        "outputId": "361bf0c6-cefc-4f6c-e2a9-2c8e620aa97d"
      },
      "outputs": [
        {
          "name": "stdout",
          "output_type": "stream",
          "text": [
            "Emmeline Pankhurst: 69\n"
          ]
        }
      ],
      "source": [
        "/* Set the name and age for a leader */\n",
        "\n",
        "public static InspiringLeader setInspiringLeader(InspiringLeader ldr, String n, int a)\n",
        "{\n",
        "    ldr = setLeaderName(ldr, n);\n",
        "    ldr = setLeaderAge(ldr, a);\n",
        "    return ldr;\n",
        "}\n",
        "\n",
        "/* Return a string suitsable for printing of the details of a leader */\n",
        "\n",
        "public static String toStringInspiringLeader(InspiringLeader ldr)\n",
        "{\n",
        "    String s = getLeaderName(ldr) + \": \" + getLeaderAge(ldr);\n",
        "    return s;\n",
        "}\n",
        "\n",
        "\n",
        "/* Print the stored details of some great leaders */\n",
        "\n",
        "public static void leaders9()\n",
        "{\n",
        "    InspiringLeader suffragette = new InspiringLeader();\n",
        "        \n",
        "    suffragette = setInspiringLeader(suffragette, \"Emmeline Pankhurst\", 69);\n",
        "    System.out.println(toStringInspiringLeader(suffragette));\n",
        "\n",
        "    return;\n",
        "}\n",
        "\n",
        "leaders9();"
      ]
    },
    {
      "cell_type": "markdown",
      "id": "7952cc93-f17d-4222-84f5-9b3ecc222458",
      "metadata": {
        "id": "7952cc93-f17d-4222-84f5-9b3ecc222458"
      },
      "source": [
        "Q: Pull all the above together, it should include the class definition for the record, methods to set and get values of each field of the record. It should use these methods to create a series of records, store values in them and then print the values. Ultimately it should print: \n",
        "\n",
        "```\n",
        "Nelson Mandela: 95\n",
        "Mohandas Karamchand Gandhi: 78\n",
        "Emmeline Pankhurst: 69\n",
        "Tarana Burke: 46\n",
        "Martin Luther King: 39\n",
        "```\n",
        "\n",
        "Convert it also to a full program that you test locally on your local machine."
      ]
    },
    {
      "cell_type": "code",
      "execution_count": null,
      "id": "6350f0a9-a726-4a21-8f32-19fa731d2b4f",
      "metadata": {
        "id": "6350f0a9-a726-4a21-8f32-19fa731d2b4f",
        "outputId": "4ebe0424-9b79-4883-b9a9-91d2845b0097"
      },
      "outputs": [
        {
          "name": "stdout",
          "output_type": "stream",
          "text": [
            "Nelson Mandela: 95\n",
            "Mohandas Karamchand Gandhi: 78\n",
            "Emmeline Pankhurst: 69\n",
            "Tarana Burke: 46\n",
            "Martin Luther King Jr: 39\n"
          ]
        }
      ],
      "source": [
        "/* class definition, methods to set and get values, and print them */\n",
        "\n",
        "class InspiringLeader\n",
        "{\n",
        "    String name;\n",
        "    int age;\n",
        "}\n",
        "\n",
        "// Given an Inspiring Leader record return the name stored in the record \n",
        "//\n",
        "public static String getLeaderName(InspiringLeader ldr)\n",
        "{ \n",
        "    return ldr.name;\n",
        "}\n",
        "\n",
        "// Given an Inspiring Leader record return the age stored in the record \n",
        "//\n",
        "public static int getLeaderAge(InspiringLeader ldr) \n",
        "{ \n",
        "    return ldr.age;\n",
        "}\n",
        "\n",
        "// Given an Inspiring Leader record and a new name, store the name in the record \n",
        "// Return the updated record value\n",
        "//\n",
        "public static InspiringLeader setLeaderName(InspiringLeader ldr, String nm)\n",
        "{\n",
        "    ldr.name = nm;\n",
        "    \n",
        "    return ldr;\n",
        "}\n",
        "\n",
        "// Given an Inspiring Leader record and a new age, store the age in the record \n",
        "// Return the updated record value\n",
        "//\n",
        "public static InspiringLeader setLeaderAge(InspiringLeader ldr, int a)\n",
        "{\n",
        "    ldr.age = a;\n",
        "    \n",
        "    return ldr;\n",
        "}\n",
        "\n",
        "\n",
        "// Set the name and age for a leader\n",
        "//\n",
        "public static InspiringLeader setInspiringLeader(InspiringLeader ldr, String n, int a)\n",
        "{\n",
        "    ldr = setLeaderName(ldr, n);\n",
        "    ldr = setLeaderAge(ldr, a);\n",
        "    return ldr;\n",
        "}\n",
        "\n",
        "// Return a string suitsable for printing of the details of a leader\n",
        "//\n",
        "public static String toStringInspiringLeader(InspiringLeader ldr)\n",
        "{\n",
        "    String s = getLeaderName(ldr) + \": \" + getLeaderAge(ldr);\n",
        "    return s;\n",
        "}\n",
        "\n",
        "\n",
        "// Print the stored details of some inspiring leaders.\n",
        "//\n",
        "public static void leaders10()\n",
        "{\n",
        "    InspiringLeader apartheid = new InspiringLeader();\n",
        "    InspiringLeader peacefulprotest = new InspiringLeader();\n",
        "    InspiringLeader suffragette = new InspiringLeader();\n",
        "    InspiringLeader metoo = new InspiringLeader();\n",
        "    InspiringLeader civilrights = new InspiringLeader();\n",
        "\n",
        "    apartheid = setInspiringLeader(apartheid, \"Nelson Mandela\", 95);\n",
        "    System.out.println(toStringInspiringLeader(apartheid));\n",
        "\n",
        "    peacefulprotest = setInspiringLeader(peacefulprotest, \"Mohandas Karamchand Gandhi\", 78);\n",
        "    System.out.println(toStringInspiringLeader(peacefulprotest));\n",
        "        \n",
        "    suffragette = setInspiringLeader(suffragette, \"Emmeline Pankhurst\", 69);\n",
        "    System.out.println(toStringInspiringLeader(suffragette));\n",
        "\n",
        "    metoo = setInspiringLeader(metoo, \"Tarana Burke\", 46);\n",
        "    System.out.println(toStringInspiringLeader(metoo));\n",
        "\n",
        "    civilrights = setInspiringLeader(civilrights, \"Martin Luther King Jr\", 39);\n",
        "    System.out.println(toStringInspiringLeader(civilrights));\n",
        "\n",
        "    return;\n",
        "}\n",
        "\n",
        "leaders10();"
      ]
    },
    {
      "cell_type": "markdown",
      "id": "918d380c-4a07-440a-90f3-564da2e34468",
      "metadata": {
        "id": "918d380c-4a07-440a-90f3-564da2e34468"
      },
      "source": [
        "Q: Write a program that stores and prints the details of winners of the Nobel prize for literature. It should use a new type NobelWinner that contains fields for Name and Year. It should access records of this type using accessor records and on top of those write methods to get printable string values and set the details of a new prize winner.\n",
        "\n",
        "The final method should store and print the Nobel Prize winners:\n",
        "\n",
        "```\n",
        "2015: Svetlana Alexievich\n",
        "2016: Bob Dylan\n",
        "2017: Kazuo Ishiguro\n",
        "2018: Olga Tokarczuk\n",
        "```\n",
        "\n",
        "All should be stored in a single record variable called winner that is reused."
      ]
    },
    {
      "cell_type": "code",
      "execution_count": null,
      "id": "432ad91f-e675-4672-a72c-ef18f614abca",
      "metadata": {
        "id": "432ad91f-e675-4672-a72c-ef18f614abca",
        "outputId": "2c3ab05e-9212-4e33-d8cf-42f289a1e41b"
      },
      "outputs": [
        {
          "name": "stdout",
          "output_type": "stream",
          "text": [
            "Svetlana Alexievich: 2015\n",
            "Bob Dylan: 2016\n",
            "Kazuo Ishiguro: 2017\n",
            "Olga Tokarczuk: 2018\n"
          ]
        }
      ],
      "source": [
        "/* Class definition */\n",
        "\n",
        "class NobelWinner\n",
        "{\n",
        "    String name;\n",
        "    int year;\n",
        "}\n",
        "\n",
        "/* Given a Nobel Prize winner record return the name stored in the record */\n",
        "\n",
        "public static String getNobelWinnerName(NobelWinner nw)\n",
        "{ \n",
        "    return nw.name;\n",
        "}\n",
        "\n",
        "/* Given a Nobel Winner record return the year stored in the record */\n",
        "\n",
        "public static int getNobelWinnerYear(NobelWinner nw) \n",
        "{ \n",
        "    return nw.year;\n",
        "}\n",
        "\n",
        "/* Given a Nobel Winner record and a new name, store the name in the record \n",
        "   Return the updated record value */\n",
        "\n",
        "public static NobelWinner setNobelWinnerName(NobelWinner nw, String nm)\n",
        "{\n",
        "    nw.name = nm;\n",
        "    \n",
        "    return nw;\n",
        "}\n",
        "\n",
        "/* Given a Nobel Winner record and a new year, store the year in the record \n",
        "   Return the updated record value */\n",
        "\n",
        "public static NobelWinner setNobelWinnerYear(NobelWinner nw, int y)\n",
        "{\n",
        "    nw.year = y;\n",
        "    \n",
        "    return nw;\n",
        "}\n",
        "\n",
        "\n",
        "/* Set the name and award year for a Nobel prize winner */\n",
        "\n",
        "public static NobelWinner setNobelWinner(NobelWinner nw, String n, int y)\n",
        "{\n",
        "    nw = setNobelWinnerName(nw, n);\n",
        "    nw = setNobelWinnerYear(nw, y);\n",
        "    return nw;\n",
        "}\n",
        "\n",
        "/* Return a string suitsable for printing of the details of a nobel prize winner */\n",
        "\n",
        "public static String toStringNobelWinner(NobelWinner nw)\n",
        "{\n",
        "    String s = getNobelWinnerName(nw) + \": \" + getNobelWinnerYear(nw);\n",
        "    return s;\n",
        "}\n",
        "\n",
        "\n",
        "/* Print the stored details of some Nobel Prize winners for literature */\n",
        "\n",
        "public static void nobel()\n",
        "{\n",
        "    NobelWinner winner = new NobelWinner();\n",
        "\n",
        "    winner = setNobelWinner(winner, \"Svetlana Alexievich\", 2015);\n",
        "    System.out.println(toStringNobelWinner(winner));\n",
        "\n",
        "    winner = setNobelWinner(winner, \"Bob Dylan\", 2016);\n",
        "    System.out.println(toStringNobelWinner(winner));\n",
        "        \n",
        "    winner = setNobelWinner(winner, \"Kazuo Ishiguro\", 2017);\n",
        "    System.out.println(toStringNobelWinner(winner));\n",
        "\n",
        "    winner = setNobelWinner(winner, \"Olga Tokarczuk\", 2018);\n",
        "    System.out.println(toStringNobelWinner(winner));\n",
        "\n",
        "    return;\n",
        "}\n",
        "\n",
        "nobel();"
      ]
    },
    {
      "cell_type": "code",
      "execution_count": null,
      "id": "acdb6073-b984-4083-8196-37d186e27357",
      "metadata": {
        "id": "acdb6073-b984-4083-8196-37d186e27357"
      },
      "outputs": [],
      "source": []
    }
  ],
  "metadata": {
    "kernelspec": {
      "display_name": "Java",
      "language": "java",
      "name": "java"
    },
    "language_info": {
      "codemirror_mode": "java",
      "file_extension": ".jshell",
      "mimetype": "text/x-java-source",
      "name": "Java",
      "pygments_lexer": "java",
      "version": "11.0.8+10-LTS"
    },
    "colab": {
      "provenance": []
    }
  },
  "nbformat": 4,
  "nbformat_minor": 5
}