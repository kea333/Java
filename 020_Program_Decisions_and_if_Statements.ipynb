{
  "cells": [
    {
      "cell_type": "markdown",
      "id": "9323b105-26ae-4457-9e4c-7b2732adbbc9",
      "metadata": {
        "id": "9323b105-26ae-4457-9e4c-7b2732adbbc9"
      },
      "source": [
        "20.\n",
        "# Program Decisions and _if_ Statements\n",
        "\n",
        "Programs often need to be able to make choices to do one thing or another. They can do this using _if_ statements. If statements work by asking true-false questions about values in variables, the answer determines which of two blocks of code are executed. The two blocks are called **branches**. One block of code is executed if the test question is true and the other if it is false."
      ]
    },
    {
      "cell_type": "code",
      "execution_count": null,
      "id": "1a66e458-2369-4bab-a42f-75da09021148",
      "metadata": {
        "id": "1a66e458-2369-4bab-a42f-75da09021148",
        "outputId": "b101bbc4-9eb3-4d76-d537-ce10586cec88"
      },
      "outputs": [
        {
          "name": "stdout",
          "output_type": "stream",
          "text": [
            "Let's get started\n",
            "It was yes!\n",
            "Now we have finished.\n"
          ]
        }
      ],
      "source": [
        "/* Demonstrating if statements */\n",
        "\n",
        "String ans = \"yes\";    \n",
        "\n",
        "System.out.println(\"Let's get started\");\n",
        "\n",
        "if (ans.equals(\"yes\"))\n",
        "{   /* First branch of if statement */\n",
        "    \n",
        "    System.out.println(\"It was yes!\");        \n",
        "}   \n",
        "else\n",
        "{   /* Second branch of if statement */\n",
        "    \n",
        "    System.out.println(\"It wasn't yes!\");\n",
        "}   \n",
        "\n",
        "System.out.println(\"Now we have finished.\");"
      ]
    },
    {
      "cell_type": "markdown",
      "id": "b2d0d407-9c4c-475e-99e6-c3a6765b47e8",
      "metadata": {
        "id": "b2d0d407-9c4c-475e-99e6-c3a6765b47e8"
      },
      "source": [
        "***\n",
        "### Tests\n",
        "Immediately after the keyword _if_ is the **test** of the if statement. In the above example the test was\n",
        "\n",
        "```(ans.equals(\"yes\"))```\n",
        "\n",
        "Each test is surrounded by brackets:\n",
        "```(...)```\n",
        "The one here checks if two strings are EXACTLY the same. The operator **.equals** does this. Here it checks if the String currently held in the variable *ans* is exactly the String \"yes\". It has value true if they are identical and false otherwise."
      ]
    },
    {
      "cell_type": "code",
      "execution_count": null,
      "id": "9821ceda-bead-4aec-89fa-261c52f1205f",
      "metadata": {
        "id": "9821ceda-bead-4aec-89fa-261c52f1205f",
        "outputId": "0a8be20d-31d1-4583-8373-b5f262b1be05"
      },
      "outputs": [
        {
          "name": "stdout",
          "output_type": "stream",
          "text": [
            "You are in different places.\n",
            "I wonder where we will go next?\n"
          ]
        }
      ],
      "source": [
        "/* Demonstrating if statements */\n",
        "\n",
        "String city1 = \"Newcastle\";\n",
        "String city2 = \"Tokyo\";\n",
        "       \n",
        "if (city1.equals(city2))\n",
        "{\n",
        "    System.out.println(\"You are both in the same place.\");        \n",
        "}   \n",
        "else\n",
        "{\n",
        "    System.out.println(\"You are in different places.\");\n",
        "}\n",
        "\n",
        "System.out.println(\"I wonder where we will go next?\")"
      ]
    },
    {
      "cell_type": "markdown",
      "id": "01f1c70c-3733-4214-b5e7-bb3dfa19c907",
      "metadata": {
        "id": "01f1c70c-3733-4214-b5e7-bb3dfa19c907"
      },
      "source": [
        "**\n",
        "\n",
        "**Blocks**<br>\n",
        "We can put as many instructions as we wish between the curly brackets in the branches of if statements. The brackets group the instructions together into a block of code. A block of code is treated like a single instruction - all the statements (ie instructions) in the block are executed in sequence."
      ]
    },
    {
      "cell_type": "code",
      "execution_count": null,
      "id": "21923547-8182-4810-87af-ef2e8cbe0c65",
      "metadata": {
        "id": "21923547-8182-4810-87af-ef2e8cbe0c65",
        "outputId": "d7c40760-e191-478c-92e0-b2b419197a44"
      },
      "outputs": [
        {
          "name": "stdout",
          "output_type": "stream",
          "text": [
            "I still can't find you.\n",
            "We are in different places.\n"
          ]
        }
      ],
      "source": [
        "/* Demonstrating if statements with multiple instructions per block */\n",
        "\n",
        "String city1 = \"Newcastle\";\n",
        "String city2 = \"Tokyo\";\n",
        "      \n",
        "if (city1.equals(city2))\n",
        "{\n",
        "    System.out.println(\"Found you.\");        \n",
        "    System.out.println(\"You are in the same place as me.\");        \n",
        "}   \n",
        "else\n",
        "{\n",
        "    System.out.println(\"I still can't find you.\");\n",
        "    System.out.println(\"We are in different places.\");\n",
        "}"
      ]
    },
    {
      "cell_type": "code",
      "execution_count": null,
      "id": "22bdec11-32ee-4c38-8375-d7cc8b854be0",
      "metadata": {
        "id": "22bdec11-32ee-4c38-8375-d7cc8b854be0",
        "outputId": "473544be-d423-4383-9fdb-447dd1ba055d"
      },
      "outputs": [
        {
          "name": "stdout",
          "output_type": "stream",
          "text": [
            "I still can't find you.\n",
            "We are in different places.\n",
            "Found you.\n",
            "You are in the same place as me.\n"
          ]
        }
      ],
      "source": [
        "/* Demonstrating if statements with multiple instructions per block */\n",
        "\n",
        "String city1 = \"Newcastle\";\n",
        "String city2 = \"Tokyo\";\n",
        "      \n",
        "if (city1.equals(city2))             /* 1st test */\n",
        "{\n",
        "    System.out.println(\"Found you.\");        \n",
        "    System.out.println(\"You are in the same place as me.\");        \n",
        "}   \n",
        "else\n",
        "{\n",
        "    System.out.println(\"I still can't find you.\");\n",
        "    System.out.println(\"We are in different places.\");\n",
        "}\n",
        "\n",
        "String city3 = \"Newcastle\";\n",
        "if (city1.equals(city3))             /* 2nd test */\n",
        "{\n",
        "    System.out.println(\"Found you.\");        \n",
        "    System.out.println(\"You are in the same place as me.\");        \n",
        "}   \n",
        "else\n",
        "{\n",
        "    System.out.println(\"I still can't find you.\");\n",
        "    System.out.println(\"We are in different places.\");\n",
        "}"
      ]
    },
    {
      "cell_type": "code",
      "execution_count": null,
      "id": "a115aa55-94fa-42af-9a4c-3543c492a51a",
      "metadata": {
        "id": "a115aa55-94fa-42af-9a4c-3543c492a51a",
        "outputId": "9e119775-7b2a-4ed5-a392-9f5b8aaae23b"
      },
      "outputs": [
        {
          "name": "stdout",
          "output_type": "stream",
          "text": [
            "Which city is Abena in?\n"
          ]
        },
        {
          "name": "stdin",
          "output_type": "stream",
          "text": [
            " London\n"
          ]
        },
        {
          "name": "stdout",
          "output_type": "stream",
          "text": [
            "Hey Abena, we are in the same city!\n"
          ]
        }
      ],
      "source": [
        "/* Allowing a single string to be input, comparing and printing the given message as prompt */\n",
        "\n",
        "public static String inputString (String message)\n",
        "{\n",
        "       Scanner scanner = new Scanner(System.in);\n",
        "       String answer;\n",
        "\n",
        "       System.out.println(message);\n",
        "       answer = scanner.nextLine();\n",
        "   \n",
        "       return answer;\n",
        "}\n",
        "\n",
        "/* Comparing two cities to see if they are the same */\n",
        "\n",
        "public static void compareCities ()\n",
        "{\n",
        "    String city1 = inputString(\"Which city is Abena in?\");\n",
        "    String city2 = \"London\";\n",
        "\n",
        "    if (city1.equals(city2))\n",
        "    {\n",
        "        System.out.println(\"Hey Abena, we are in the same city!\");        \n",
        "    }   \n",
        "    else\n",
        "    {\n",
        "        System.out.println(\"Ow chaley, we are not in the same city.\");\n",
        "    }   \n",
        "}\n",
        "\n",
        "compareCities();"
      ]
    },
    {
      "cell_type": "code",
      "execution_count": null,
      "id": "eefa4ecf-5bc9-454c-af94-2e76e7aada2f",
      "metadata": {
        "id": "eefa4ecf-5bc9-454c-af94-2e76e7aada2f",
        "outputId": "2fb8bb8e-1cea-40ac-b7f8-ad1c4a182ec5"
      },
      "outputs": [
        {
          "name": "stdout",
          "output_type": "stream",
          "text": [
            "Which city is Kofi in?\n"
          ]
        },
        {
          "name": "stdin",
          "output_type": "stream",
          "text": [
            " Birmingham\n"
          ]
        },
        {
          "name": "stdout",
          "output_type": "stream",
          "text": [
            "Which city is Ama in?\n"
          ]
        },
        {
          "name": "stdin",
          "output_type": "stream",
          "text": [
            " Manchester\n"
          ]
        },
        {
          "name": "stdout",
          "output_type": "stream",
          "text": [
            "Kofi and Ama are apart in different cities.\n"
          ]
        }
      ],
      "source": [
        "/* Allowing two strings to be input, comparing and printing the given message as prompt */\n",
        "\n",
        "public static String inputString (String message)\n",
        "{\n",
        "       Scanner scanner = new Scanner(System.in);\n",
        "       String answer;\n",
        "\n",
        "       System.out.println(message);\n",
        "       answer = scanner.nextLine();\n",
        "   \n",
        "       return answer;\n",
        "}\n",
        "\n",
        "/* Comparing two cities to see if they are the same */\n",
        "\n",
        "public static void compareCities2 ()\n",
        "{\n",
        "    String city1 = inputString(\"Which city is Kofi in?\");\n",
        "    String city2 = inputString(\"Which city is Ama in?\");;\n",
        "\n",
        "    if (city1.equals(city2))\n",
        "    {\n",
        "        System.out.println(\"Kofi and Ama are together in the same city.\");        \n",
        "    }   \n",
        "    else\n",
        "    {\n",
        "        System.out.println(\"Kofi and Ama are apart in different cities.\");\n",
        "    }   \n",
        "}\n",
        "\n",
        "compareCities2();"
      ]
    },
    {
      "cell_type": "code",
      "execution_count": null,
      "id": "e208224a-25bb-498a-907a-9b64d67d39ab",
      "metadata": {
        "id": "e208224a-25bb-498a-907a-9b64d67d39ab",
        "outputId": "6bf2f41b-60ec-410d-a8a4-d7ee2e2e3ba5"
      },
      "outputs": [
        {
          "name": "stdout",
          "output_type": "stream",
          "text": [
            "What is Alicia's favourite colour?\n"
          ]
        },
        {
          "name": "stdin",
          "output_type": "stream",
          "text": [
            " lilac\n"
          ]
        },
        {
          "name": "stdout",
          "output_type": "stream",
          "text": [
            "What is Bob's favourite colour?\n"
          ]
        },
        {
          "name": "stdin",
          "output_type": "stream",
          "text": [
            " black\n"
          ]
        },
        {
          "name": "stdout",
          "output_type": "stream",
          "text": [
            "Ouch! Alicia and Bob like different colours.\n"
          ]
        }
      ],
      "source": [
        "/* Asking for two people's favourite colours and comparing them, saying if they are the same are not */\n",
        "\n",
        "public static void favouriteColours ()\n",
        "{\n",
        "    String colour1 = inputString(\"What is Alicia's favourite colour?\");\n",
        "    String colour2 = inputString(\"What is Bob's favourite colour?\"); \n",
        "    \n",
        "    if (colour1.equals(colour2))\n",
        "    {\n",
        "        System.out.println(\"Yay! Alicia and Bob like the same colour.\");        \n",
        "    }   \n",
        "    else\n",
        "    {\n",
        "        System.out.println(\"Ouch! Alicia and Bob like different colours.\");\n",
        "    }   \n",
        "}\n",
        "\n",
        "favouriteColours();"
      ]
    },
    {
      "cell_type": "markdown",
      "id": "dfae5792-97d9-4134-94bc-d63bce942e48",
      "metadata": {
        "id": "dfae5792-97d9-4134-94bc-d63bce942e48"
      },
      "source": [
        "**\n",
        "\n",
        "The whole if statement, including both branches, is a single statement - that is a single command that just includes sub-commands. One if statement can follow another, just as one print statement can follow another."
      ]
    },
    {
      "cell_type": "code",
      "execution_count": null,
      "id": "1fa36643-7e93-4893-b849-1070f46903d8",
      "metadata": {
        "id": "1fa36643-7e93-4893-b849-1070f46903d8",
        "outputId": "28eac460-b938-47d8-ab61-adaa90c789d8"
      },
      "outputs": [
        {
          "name": "stdout",
          "output_type": "stream",
          "text": [
            "Which city is Kwame in?\n"
          ]
        },
        {
          "name": "stdin",
          "output_type": "stream",
          "text": [
            " Liverpool\n"
          ]
        },
        {
          "name": "stdout",
          "output_type": "stream",
          "text": [
            "Which city is Esi in?\n"
          ]
        },
        {
          "name": "stdin",
          "output_type": "stream",
          "text": [
            " Liverpool\n"
          ]
        },
        {
          "name": "stdout",
          "output_type": "stream",
          "text": [
            "What is Kwame's favourite colour?\n"
          ]
        },
        {
          "name": "stdin",
          "output_type": "stream",
          "text": [
            " red\n"
          ]
        },
        {
          "name": "stdout",
          "output_type": "stream",
          "text": [
            "What is Esi's favourite colour?\n"
          ]
        },
        {
          "name": "stdin",
          "output_type": "stream",
          "text": [
            " aquamarine\n"
          ]
        },
        {
          "name": "stdout",
          "output_type": "stream",
          "text": [
            "Kwame and Esi are in the same city.\n",
            "Kwame and Esi like different colours.\n"
          ]
        }
      ],
      "source": [
        "/* Comparing cities and favourite colours of two people */\n",
        "\n",
        "public static void compareCitiesAndColours ()\n",
        "{\n",
        "    String city1 = inputString(\"Which city is Kwame in?\");\n",
        "    String city2 = inputString(\"Which city is Esi in?\"); \n",
        "    String colour1 = inputString(\"What is Kwame's favourite colour?\");\n",
        "    String colour2 = inputString(\"What is Esi's favourite colour?\"); \n",
        "    \n",
        "    if (city1.equals(city2))\n",
        "    {\n",
        "        System.out.println(\"Kwame and Esi are in the same city.\");        \n",
        "    }   \n",
        "    else\n",
        "    {\n",
        "        System.out.println(\"Kwame and Esi are in different cities.\");\n",
        "    }\n",
        "        \n",
        "    if (colour1.equals(colour2))\n",
        "    {\n",
        "        System.out.println(\"Kwame and Esi like the same colour.\");        \n",
        "    }   \n",
        "    else\n",
        "    {\n",
        "        System.out.println(\"Kwame and Esi like different colours.\");\n",
        "    }   \n",
        "\n",
        "}\n",
        "\n",
        "compareCitiesAndColours();"
      ]
    },
    {
      "cell_type": "markdown",
      "id": "dbff5404-7a02-4c85-94fb-c0874dcef3d0",
      "metadata": {
        "id": "dbff5404-7a02-4c85-94fb-c0874dcef3d0"
      },
      "source": [
        "***\n",
        "###  If-then staircases\n",
        "\n",
        "It is common to have a series of questions about the same thing. This can be done be chaining if statements together. This is called an **if-then staircase**."
      ]
    },
    {
      "cell_type": "code",
      "execution_count": null,
      "id": "40968438-1dc0-4ad4-9c1d-66d2fe689951",
      "metadata": {
        "id": "40968438-1dc0-4ad4-9c1d-66d2fe689951",
        "outputId": "d371dbdb-6705-41f6-9636-2325efc7172f"
      },
      "outputs": [
        {
          "name": "stdout",
          "output_type": "stream",
          "text": [
            "Which city do you want to know about?\n"
          ]
        },
        {
          "name": "stdin",
          "output_type": "stream",
          "text": [
            " Accra\n"
          ]
        },
        {
          "name": "stdout",
          "output_type": "stream",
          "text": [
            "That is the capital of ... Ghana.\n"
          ]
        }
      ],
      "source": [
        "/* Comparing a city with a series of cities and saying which country it is in */\n",
        "\n",
        "public static void capitalOf ()\n",
        "{\n",
        "    String city = inputString(\"Which city do you want to know about?\");\n",
        "    \n",
        "    System.out.print(\"That is the capital of ... \");        \n",
        "     \n",
        "    if (city.equals(\"Tokyo\"))\n",
        "    {\n",
        "        System.out.println(\"Japan.\");        \n",
        "    }\n",
        "    else if (city.equals(\"Accra\"))\n",
        "    {\n",
        "        System.out.println(\"Ghana.\");\n",
        "    }\n",
        "    else if (city.equals(\"Karachi\"))\n",
        "    {\n",
        "        System.out.println(\"Pakistan.\");\n",
        "    }   \n",
        "    else if (city.equals(\"Delhi\"))\n",
        "    {\n",
        "        System.out.println(\"India.\");\n",
        "    }\n",
        "    else if (city.equals(\"Paris\"))\n",
        "    {\n",
        "        System.out.println(\"France.\");\n",
        "    }\n",
        "    else if (city.equals(\"Oslo\"))\n",
        "    {\n",
        "        System.out.println(\"Norway.\");\n",
        "    }\n",
        "    else\n",
        "    {\n",
        "        System.out.println(\"I'm sorry I do not know that city.\");\n",
        "    }   \n",
        "}\n",
        "\n",
        "capitalOf();"
      ]
    },
    {
      "cell_type": "markdown",
      "id": "056357fd-5171-42d0-8405-3938340447eb",
      "metadata": {
        "id": "056357fd-5171-42d0-8405-3938340447eb"
      },
      "source": [
        "**\n",
        "\n",
        "The if-else staircase is just a series of if statements nested inside one another. The second if statement is just in the else branch of the first one. The third is the else branch of the second. What this means is that the code checks each test in turn. When it finds one that matches it jumps to the end beyond the final else in the staircase."
      ]
    },
    {
      "cell_type": "markdown",
      "id": "ecec2fe4-d7a4-44ff-84b1-1d792bb6bd6c",
      "metadata": {
        "id": "ecec2fe4-d7a4-44ff-84b1-1d792bb6bd6c"
      },
      "source": [
        "###  Catch-all Else\n",
        "\n",
        "The final catch-all is the _else_ statement. While there are exceptions to the rule, in general, all our if-else staircases should have such a final else statement. This is good defensive programming as it means that our code deals with situations where something happens that we had not explicitly thought of. Code should always be able to deal sensibly with users mistyping things, for example.\n",
        "***\n",
        "If statements do not have to only have print statements in the branches. They can have any statements. A common pattern is to use an if statement to set a variable for use later. Then it is assigned statements inside the branches. Here the message is printed in a second separate if statement AFTER the first has completed. Boolean flags can be used to indicate a particular kind of result, such as whether the city was found."
      ]
    },
    {
      "cell_type": "code",
      "execution_count": null,
      "id": "5ea2253e-7a38-49c2-8c61-bc70c7a4e34b",
      "metadata": {
        "id": "5ea2253e-7a38-49c2-8c61-bc70c7a4e34b",
        "outputId": "a0cfdd31-f58b-44d6-efcb-513d361aceb4"
      },
      "outputs": [
        {
          "name": "stdout",
          "output_type": "stream",
          "text": [
            "Which city do you want to know about?\n"
          ]
        },
        {
          "name": "stdin",
          "output_type": "stream",
          "text": [
            " Butumagyebu\n"
          ]
        },
        {
          "name": "stdout",
          "output_type": "stream",
          "text": [
            "Awesome! Butumagyebu is the capital of Ketan, a semi-autonomous 'Republic' in Ghana :).\n"
          ]
        }
      ],
      "source": [
        "/* Boolean comparison of a city with a series of cities and saying which country it is in */\n",
        "\n",
        "public static void capitalOf2 ()\n",
        "{\n",
        "    String country = \"\";\n",
        "    String city = \"\";\n",
        "    boolean found = true;        /* Assuming a city will be found */\n",
        "    \n",
        "    city = inputString(\"Which city do you want to know about?\");\n",
        "     \n",
        "    if (city.equals(\"Tokyo\"))\n",
        "    {\n",
        "        country = \"Japan\";        \n",
        "    }   \n",
        "    else if (city.equals(\"Karachi\"))\n",
        "    {\n",
        "        country = \"Pakistan\";\n",
        "    }   \n",
        "    else if (city.equals(\"Delhi\"))\n",
        "    {\n",
        "        country = \"India\";\n",
        "    }\n",
        "    else if (city.equals(\"Butumagyebu\"))\n",
        "    {\n",
        "        country = \"Ketan, a semi-autonomous 'Republic' in Ghana :)\";\n",
        "    }\n",
        "    else if (city.equals(\"Lagos\"))\n",
        "    {\n",
        "        country = \"Nigeria\";\n",
        "    }\n",
        "    else if (city.equals(\"Beijing\"))\n",
        "    {\n",
        "        country = \"China\";\n",
        "    }  \n",
        "    else\n",
        "    {\n",
        "        found = false;          /* changing flag to false if not known */\n",
        "    }\n",
        "\n",
        "    /* Printing answer - here starting a completely new if statement, not part of the above staircase.\n",
        "       It is executed whichever above branch is followed. */\n",
        "    \n",
        "    if (found)\n",
        "    {\n",
        "        System.out.println(\"Awesome! \" + city + \" is the capital of \" + country + \".\");\n",
        "    }\n",
        "    else\n",
        "    {\n",
        "         System.out.println(\"I'm sorry I do not know of \" + city);\n",
        "    }    \n",
        "}\n",
        "\n",
        "capitalOf2();"
      ]
    },
    {
      "cell_type": "code",
      "execution_count": null,
      "id": "05e8f699-272f-4391-8ad1-fe318158e47a",
      "metadata": {
        "id": "05e8f699-272f-4391-8ad1-fe318158e47a",
        "outputId": "c541e7cc-8df1-4ed0-97ae-1a501c661a2d"
      },
      "outputs": [
        {
          "name": "stdout",
          "output_type": "stream",
          "text": [
            "Name a movie.\n"
          ]
        },
        {
          "name": "stdin",
          "output_type": "stream",
          "text": [
            " Equilibrium\n"
          ]
        },
        {
          "name": "stdout",
          "output_type": "stream",
          "text": [
            "Hey I know that. Equilibrium is a Great Sci-Fi film.\n"
          ]
        }
      ],
      "source": [
        "/* Boolean comparison of movie genre with series of titles */\n",
        "\n",
        "public static void kindOfMovie ()\n",
        "{\n",
        "    String kind = \"\";\n",
        "    boolean found = true;\n",
        "    String movie = inputString(\"Name a movie.\");\n",
        "         \n",
        "    if (movie.equals(\"Star Wars\"))\n",
        "    {\n",
        "        kind = \"Science Fiction\";        \n",
        "    }   \n",
        "    else if (movie.equals(\"Alien\"))\n",
        "    {\n",
        "        kind = \"Horror\";        \n",
        "    }   \n",
        "    else if (movie.equals(\"Black Panther\"))\n",
        "    {\n",
        "        kind = \"Superhero\";        \n",
        "    }\n",
        "    else if (movie.equals(\"Equilibrium\"))\n",
        "    {\n",
        "        kind = \"Great Sci-Fi\";        \n",
        "    }\n",
        "    else if (movie.equals(\"The Good, the Bad, and the Ugly\"))\n",
        "    {\n",
        "        kind = \"Spaghetti Western\";        \n",
        "    }\n",
        "    else\n",
        "    {\n",
        "        found = false;             /* changing flag to false if not known */\n",
        "    }\n",
        "    \n",
        "    /* Printing answer */\n",
        "    \n",
        "    if (found)\n",
        "    {\n",
        "        System.out.println(\"Hey I know that. \" + movie + \" is a \" + kind + \" film.\");\n",
        "    }\n",
        "    else\n",
        "    {\n",
        "         System.out.println(\"I'm sorry I do not know of \" + movie);\n",
        "    }    \n",
        "}\n",
        "\n",
        "kindOfMovie();"
      ]
    },
    {
      "cell_type": "markdown",
      "id": "6deef6bb-742b-403c-b5e6-d230d0eea2d0",
      "metadata": {
        "id": "6deef6bb-742b-403c-b5e6-d230d0eea2d0"
      },
      "source": [
        "## **Summary** ##\n",
        "\n",
        "If statements are a way for a program to branch. The decision of which branch is based on a boolean test such as\n",
        "```a.equals(b)```\n",
        "If the 1st test is true, then the first branch is executed. If the 1st test is false and the 2nd test is true, then the second branch is executed. If the 2nd test is false and the 3rd test is true, then the third branch is executed, ad infinitum. So an if statement has the form\n",
        "```\n",
        "if (test1)\n",
        "    branch executed if test1 is true\n",
        "else if (test2)\n",
        "    branch executed if test1 is false but test2 is true\n",
        "else if (test3)\n",
        "    branch executed if test1 is false and test2 is false but test3 is true\n",
        "else\n",
        "    branch executed if all tests are false\n",
        "```\n",
        "The final else which has no test is important as it acts as a catch-all and is executed if none of the tests are true."
      ]
    },
    {
      "cell_type": "code",
      "execution_count": null,
      "id": "334554ed-61ba-4395-91df-f459693dcd0d",
      "metadata": {
        "id": "334554ed-61ba-4395-91df-f459693dcd0d"
      },
      "outputs": [],
      "source": []
    }
  ],
  "metadata": {
    "kernelspec": {
      "display_name": "Java",
      "language": "java",
      "name": "java"
    },
    "language_info": {
      "codemirror_mode": "java",
      "file_extension": ".jshell",
      "mimetype": "text/x-java-source",
      "name": "Java",
      "pygments_lexer": "java",
      "version": "11.0.8+10-LTS"
    },
    "colab": {
      "provenance": []
    }
  },
  "nbformat": 4,
  "nbformat_minor": 5
}