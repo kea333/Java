{
  "cells": [
    {
      "cell_type": "markdown",
      "id": "dc88ae96-4fb9-498d-9f3a-142ab9b1a7a0",
      "metadata": {
        "id": "dc88ae96-4fb9-498d-9f3a-142ab9b1a7a0"
      },
      "source": [
        "18.\n",
        "# Chatbot\n",
        "\n",
        "**Building a Simple Chatbot**\n",
        "\n",
        "The following series of exercises uses Java program fragments to build a number of chatbots that atttempt to have a conversation with the person at the terminal:"
      ]
    },
    {
      "cell_type": "code",
      "execution_count": null,
      "id": "090b50ad-c71d-47e9-a9cd-f4f15c1ba45a",
      "metadata": {
        "id": "090b50ad-c71d-47e9-a9cd-f4f15c1ba45a",
        "outputId": "462474d5-fdd2-4787-b209-e2e187ea729a"
      },
      "outputs": [
        {
          "name": "stdout",
          "output_type": "stream",
          "text": [
            "Hello.\n",
            "Goodbye.\n"
          ]
        }
      ],
      "source": [
        "/* A simple chatbot that says hello and then goodbye */\n",
        "\n",
        "/* Printing a hello message */\n",
        "public static void helloMessage ()\n",
        "{\n",
        "    System.out.println(\"Hello.\");\n",
        "    return;\n",
        "}\n",
        "\n",
        "/* Printing a goodbye a goodbye message */\n",
        "public static void goodbyeMessage ()\n",
        "{\n",
        "    System.out.println(\"Goodbye.\");\n",
        "    return;\n",
        "}\n",
        "\n",
        "/* Combining messages */\n",
        "public static void thischatbot ()\n",
        "{\n",
        "    helloMessage();\n",
        "    goodbyeMessage();\n",
        "    return;\n",
        "}\n",
        "\n",
        "thischatbot();"
      ]
    },
    {
      "cell_type": "code",
      "execution_count": null,
      "id": "d5446951-65d7-4470-8b31-bca149d34652",
      "metadata": {
        "id": "d5446951-65d7-4470-8b31-bca149d34652",
        "outputId": "ef517f7b-bfb3-454b-e56a-84705849ebb6"
      },
      "outputs": [
        {
          "name": "stdout",
          "output_type": "stream",
          "text": [
            "My name is ChatboxNinjaOne.\n",
            "I am friendly.\n",
            "Hello.\n"
          ]
        }
      ],
      "source": [
        "/* A simple chatbot that just introduces itself and says hello... */\n",
        "public static void chatbot1 ()\n",
        "{\n",
        "        System.out.println(\"My name is ChatboxNinjaOne.\");\n",
        "        System.out.println(\"I am friendly.\");\n",
        "        System.out.println(\"Hello.\");\n",
        "        return;\n",
        "}\n",
        "\n",
        "chatbot1();"
      ]
    },
    {
      "cell_type": "markdown",
      "id": "3c5af3e1-ad88-4f28-91e3-a7b801580856",
      "metadata": {
        "id": "3c5af3e1-ad88-4f28-91e3-a7b801580856"
      },
      "source": [
        "**\n",
        "\n",
        "Procedures and methods can be called from inside other methods/procedures. This enables structuring of programs into smaller parts where each does a separate thing, and can be executed all at once to do the entire set. This is vital when writing large programs, with the added benefit of testing each separately (i.e. test-driven approach to software development).\n",
        "***"
      ]
    },
    {
      "cell_type": "code",
      "execution_count": null,
      "id": "73c84385-2458-4973-84d9-7d6e07dab470",
      "metadata": {
        "id": "73c84385-2458-4973-84d9-7d6e07dab470",
        "outputId": "19a0b0c0-9bb0-4eae-9586-a7ee6cf35b14"
      },
      "outputs": [
        {
          "name": "stdout",
          "output_type": "stream",
          "text": [
            "Hello\n",
            "Goodbye\n"
          ]
        }
      ],
      "source": [
        "/* A simple chatbot that says hello...and then goodbye */\n",
        "\n",
        "/* Saying 'goodbye'  */\n",
        "public static void goodbyeMessage ()\n",
        "{\n",
        "        System.out.println(\"Goodbye\");\n",
        "        return;\n",
        "}\n",
        "\n",
        "/* Saying 'hello'  */\n",
        "public static void helloMessage ()\n",
        "{\n",
        "        System.out.println(\"Hello\");\n",
        "        return;\n",
        "}\n",
        "\n",
        "/* Combining the two, execution is in the order called, not the order defined  */\n",
        "public static void chatbot2 ()\n",
        "{\n",
        "        helloMessage();\n",
        "        goodbyeMessage();\n",
        "        return;\n",
        "}\n",
        "\n",
        "chatbot2();"
      ]
    },
    {
      "cell_type": "code",
      "execution_count": null,
      "id": "4fd15dfa-35e9-4af6-9c61-03e9f404f379",
      "metadata": {
        "id": "4fd15dfa-35e9-4af6-9c61-03e9f404f379",
        "outputId": "fb396302-d288-44ce-a4ed-7c78e62569b9"
      },
      "outputs": [
        {
          "name": "stdout",
          "output_type": "stream",
          "text": [
            "Hello Again :\n",
            "So what have you been up to?\n",
            "Oh I see, that's very interesting.\n",
            "Sayōnara.\n"
          ]
        }
      ],
      "source": [
        "/* A simple chatbot getting friendly */\n",
        "\n",
        "/* Ending conversation  */\n",
        "public static void endChat()\n",
        "{\n",
        "        System.out.println(\"Sayōnara.\");\n",
        "        return;\n",
        "}\n",
        "\n",
        "/* Beginning conversation  */\n",
        "public static void helloAgainMessage()\n",
        "{\n",
        "        System.out.println(\"Hello Again :\");\n",
        "        return;\n",
        "}\n",
        "\n",
        "/* Conversation start  */\n",
        "public static void startChat()\n",
        "{\n",
        "        System.out.println(\"So what have you been up to?\");\n",
        "        return;\n",
        "}\n",
        "                           \n",
        "/* Conversation continued  */\n",
        "public static void continueChat()\n",
        "{\n",
        "        System.out.println(\"Oh I see, that's very interesting.\");\n",
        "        return;\n",
        "}\n",
        "\n",
        "/* Combining all, execution is in the order called, not the order defined  */\n",
        "public static void chatbot3()\n",
        "{\n",
        "        helloAgainMessage();\n",
        "        startChat();\n",
        "        continueChat();\n",
        "        endChat();\n",
        "        return;\n",
        "}\n",
        "\n",
        "chatbot3();"
      ]
    },
    {
      "cell_type": "markdown",
      "id": "52b43a53-3a57-47f7-8ab2-fd7e90bd2a40",
      "metadata": {
        "id": "52b43a53-3a57-47f7-8ab2-fd7e90bd2a40"
      },
      "source": [
        "**\n",
        "\n",
        "The following exercise illustrates the creation of a scanner object from the Scanner class, which then receives input and passes that input to a 'yourname' variable, i.e. receives whatever the user types next and up to them pressing the ENTER key:"
      ]
    },
    {
      "cell_type": "code",
      "execution_count": null,
      "id": "208b443d-b93f-4d49-8a80-4c2074074ac9",
      "metadata": {
        "id": "208b443d-b93f-4d49-8a80-4c2074074ac9",
        "outputId": "68c469b2-0bd7-460e-897e-08dea96ae44d"
      },
      "outputs": [
        {
          "name": "stdout",
          "output_type": "stream",
          "text": [
            "What's your name?\n"
          ]
        },
        {
          "name": "stdin",
          "output_type": "stream",
          "text": [
            " Kweku\n"
          ]
        },
        {
          "name": "stdout",
          "output_type": "stream",
          "text": [
            "So your name is Kweku!\n"
          ]
        }
      ],
      "source": [
        "/* A simple chatbot asking a question, taking input, and replying with your input  */\n",
        "\n",
        "public static void askQuestion0()\n",
        "{\n",
        "    String yourname;\n",
        "    Scanner scanner = new Scanner(System.in);\n",
        "    \n",
        "    System.out.println(\"What's your name?\");\n",
        "    yourname = scanner.nextLine();\n",
        "    \n",
        "    System.out.println(\"So your name is \" + yourname + \"!\");\n",
        "\n",
        "    return;\n",
        "}\n",
        "\n",
        "askQuestion0();"
      ]
    },
    {
      "cell_type": "code",
      "execution_count": null,
      "id": "9c3d89c7-ccca-4621-9bcf-4a73330c03cd",
      "metadata": {
        "id": "9c3d89c7-ccca-4621-9bcf-4a73330c03cd",
        "outputId": "f98bda40-3caf-4e8c-94c0-bd5df222c8cb"
      },
      "outputs": [
        {
          "name": "stdout",
          "output_type": "stream",
          "text": [
            "What's your name?\n"
          ]
        },
        {
          "name": "stdin",
          "output_type": "stream",
          "text": [
            " Kweku\n"
          ]
        },
        {
          "name": "stdout",
          "output_type": "stream",
          "text": [
            "What's your favourite colour?\n"
          ]
        },
        {
          "name": "stdin",
          "output_type": "stream",
          "text": [
            " blue\n"
          ]
        },
        {
          "name": "stdout",
          "output_type": "stream",
          "text": [
            "Your name is Kweku and you like the colour blue.\n"
          ]
        }
      ],
      "source": [
        "/* Chatbot asking two questions, taking inputs, and replying with your inputs  */\n",
        "\n",
        "public static void askQuestion1 ()\n",
        "{\n",
        "    String name;\n",
        "    String colour;\n",
        "    Scanner scanner = new Scanner(System.in);\n",
        "    \n",
        "    System.out.println(\"What's your name?\");\n",
        "    name = scanner.nextLine();\n",
        "\n",
        "    System.out.println(\"What's your favourite colour?\");\n",
        "    colour = scanner.nextLine();\n",
        "\n",
        "    System.out.println(\"Your name is \" + name + \" and you like the colour \" + colour + \".\");\n",
        "\n",
        "    return;\n",
        "}\n",
        "\n",
        "askQuestion1();"
      ]
    },
    {
      "cell_type": "code",
      "execution_count": null,
      "id": "902978ed-d068-4bdb-84e9-45b616355c9b",
      "metadata": {
        "id": "902978ed-d068-4bdb-84e9-45b616355c9b",
        "outputId": "d8f547d8-8dc2-489c-afd0-b7518f3ddabf"
      },
      "outputs": [
        {
          "name": "stdout",
          "output_type": "stream",
          "text": [
            "What's your friend's name?\n"
          ]
        },
        {
          "name": "stdin",
          "output_type": "stream",
          "text": [
            " Rachel\n"
          ]
        },
        {
          "name": "stdout",
          "output_type": "stream",
          "text": [
            "What is your friend's eye colour?\n"
          ]
        },
        {
          "name": "stdin",
          "output_type": "stream",
          "text": [
            " brown\n"
          ]
        },
        {
          "name": "stdout",
          "output_type": "stream",
          "text": [
            "What is your friend's hair colour?\n"
          ]
        },
        {
          "name": "stdin",
          "output_type": "stream",
          "text": [
            " black\n"
          ]
        },
        {
          "name": "stdout",
          "output_type": "stream",
          "text": [
            "What is your friend's favourite colour?\n"
          ]
        },
        {
          "name": "stdin",
          "output_type": "stream",
          "text": [
            " red\n"
          ]
        },
        {
          "name": "stdout",
          "output_type": "stream",
          "text": [
            "How would you describe her?\n"
          ]
        },
        {
          "name": "stdin",
          "output_type": "stream",
          "text": [
            " very beautiful\n"
          ]
        },
        {
          "name": "stdout",
          "output_type": "stream",
          "text": [
            "Great. So Rachel has brown eyes and black hair, likes the colour red and is very beautiful.\n"
          ]
        }
      ],
      "source": [
        "/* Chatbot asking multiple questions, taking inputs, and replying with your inputs  */\n",
        "\n",
        "public static void askQuestion2 ()\n",
        "{\n",
        "    String friendName;\n",
        "    String eyeColour;\n",
        "    String hairColour;\n",
        "    String favouriteColour;\n",
        "    String description;\n",
        "    Scanner scanner = new Scanner(System.in);\n",
        "    \n",
        "    System.out.println(\"What's your friend's name?\");\n",
        "    friendName = scanner.nextLine();\n",
        "\n",
        "    System.out.println(\"What is your friend's eye colour?\");\n",
        "    eyeColour = scanner.nextLine();\n",
        "    \n",
        "    System.out.println(\"What is your friend's hair colour?\");\n",
        "    hairColour = scanner.nextLine();\n",
        "    \n",
        "    System.out.println(\"What is your friend's favourite colour?\");\n",
        "    favouriteColour = scanner.nextLine();\n",
        "    \n",
        "    System.out.println(\"How would you describe her?\");\n",
        "    description = scanner.nextLine();\n",
        "\n",
        "    System.out.println(\"Great. So \" + friendName + \" has \" + eyeColour + \" eyes and \" + hairColour + \" hair, \" + \"likes the colour \" + favouriteColour + \" and is \" + description + \".\");\n",
        "\n",
        "    return;\n",
        "}\n",
        "\n",
        "askQuestion2();"
      ]
    },
    {
      "cell_type": "code",
      "execution_count": null,
      "id": "3782edae-ae38-411d-8862-b35a6af304db",
      "metadata": {
        "id": "3782edae-ae38-411d-8862-b35a6af304db"
      },
      "outputs": [],
      "source": []
    }
  ],
  "metadata": {
    "kernelspec": {
      "display_name": "Java",
      "language": "java",
      "name": "java"
    },
    "language_info": {
      "codemirror_mode": "java",
      "file_extension": ".jshell",
      "mimetype": "text/x-java-source",
      "name": "Java",
      "pygments_lexer": "java",
      "version": "11.0.8+10-LTS"
    },
    "colab": {
      "provenance": []
    }
  },
  "nbformat": 4,
  "nbformat_minor": 5
}